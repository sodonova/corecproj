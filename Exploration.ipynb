{
 "cells": [
  {
   "cell_type": "markdown",
   "id": "496fa872",
   "metadata": {},
   "source": [
    "# Average East Fitness Usage"
   ]
  },
  {
   "cell_type": "code",
   "execution_count": 4,
   "id": "a5aedddc",
   "metadata": {},
   "outputs": [
    {
     "name": "stdout",
     "output_type": "stream",
     "text": [
      "11/12/2021  12:28 PM            25,200 usage_data.csv\n",
      "11/12/2021  12:28 PM            48,067 usage_data_20.csv\n",
      "11/12/2021  12:28 PM           234,891 usage_data_week_11_1.csv\n"
     ]
    }
   ],
   "source": [
    "# on windows\n",
    "!dir | find \"data\""
   ]
  },
  {
   "cell_type": "code",
   "execution_count": 5,
   "id": "453f9731",
   "metadata": {},
   "outputs": [
    {
     "name": "stderr",
     "output_type": "stream",
     "text": [
      "'ls' is not recognized as an internal or external command,\n",
      "operable program or batch file.\n"
     ]
    }
   ],
   "source": [
    "# on linux\n",
    "!ls | grep \"data\""
   ]
  },
  {
   "cell_type": "code",
   "execution_count": 6,
   "id": "11ec88cf",
   "metadata": {
    "scrolled": true
   },
   "outputs": [
    {
     "data": {
      "text/html": [
       "        <script type=\"text/javascript\">\n",
       "        window.PlotlyConfig = {MathJaxConfig: 'local'};\n",
       "        if (window.MathJax) {MathJax.Hub.Config({SVG: {font: \"STIX-Web\"}});}\n",
       "        if (typeof require !== 'undefined') {\n",
       "        require.undef(\"plotly\");\n",
       "        requirejs.config({\n",
       "            paths: {\n",
       "                'plotly': ['https://cdn.plot.ly/plotly-2.4.2.min']\n",
       "            }\n",
       "        });\n",
       "        require(['plotly'], function(Plotly) {\n",
       "            window._Plotly = Plotly;\n",
       "        });\n",
       "        }\n",
       "        </script>\n",
       "        "
      ]
     },
     "metadata": {},
     "output_type": "display_data"
    },
    {
     "data": {
      "text/html": [
       "<div>\n",
       "<style scoped>\n",
       "    .dataframe tbody tr th:only-of-type {\n",
       "        vertical-align: middle;\n",
       "    }\n",
       "\n",
       "    .dataframe tbody tr th {\n",
       "        vertical-align: top;\n",
       "    }\n",
       "\n",
       "    .dataframe thead th {\n",
       "        text-align: right;\n",
       "    }\n",
       "</style>\n",
       "<table border=\"1\" class=\"dataframe\">\n",
       "  <thead>\n",
       "    <tr style=\"text-align: right;\">\n",
       "      <th></th>\n",
       "      <th>name</th>\n",
       "      <th>current_capacity</th>\n",
       "      <th>total_capacity</th>\n",
       "      <th>percent_capacity</th>\n",
       "      <th>date_time</th>\n",
       "    </tr>\n",
       "  </thead>\n",
       "  <tbody>\n",
       "    <tr>\n",
       "      <th>0</th>\n",
       "      <td>Upper Track (4th Floor)</td>\n",
       "      <td>0.0</td>\n",
       "      <td>100.0</td>\n",
       "      <td>0.0</td>\n",
       "      <td>1.635758e+09</td>\n",
       "    </tr>\n",
       "    <tr>\n",
       "      <th>1</th>\n",
       "      <td>Faculty/Staff Workout Area</td>\n",
       "      <td>0.0</td>\n",
       "      <td>50.0</td>\n",
       "      <td>0.0</td>\n",
       "      <td>1.635758e+09</td>\n",
       "    </tr>\n",
       "    <tr>\n",
       "      <th>2</th>\n",
       "      <td>Upper Fitness</td>\n",
       "      <td>1.0</td>\n",
       "      <td>100.0</td>\n",
       "      <td>1.0</td>\n",
       "      <td>1.635758e+09</td>\n",
       "    </tr>\n",
       "    <tr>\n",
       "      <th>3</th>\n",
       "      <td>Upper Gym</td>\n",
       "      <td>29.0</td>\n",
       "      <td>100.0</td>\n",
       "      <td>29.0</td>\n",
       "      <td>1.635758e+09</td>\n",
       "    </tr>\n",
       "    <tr>\n",
       "      <th>4</th>\n",
       "      <td>MAC Court (Cardio)</td>\n",
       "      <td>1.0</td>\n",
       "      <td>100.0</td>\n",
       "      <td>1.0</td>\n",
       "      <td>1.635758e+09</td>\n",
       "    </tr>\n",
       "  </tbody>\n",
       "</table>\n",
       "</div>"
      ],
      "text/plain": [
       "                          name  current_capacity  total_capacity  \\\n",
       "0      Upper Track (4th Floor)               0.0           100.0   \n",
       "1  Faculty/Staff Workout Area                0.0            50.0   \n",
       "2               Upper Fitness                1.0           100.0   \n",
       "3                    Upper Gym              29.0           100.0   \n",
       "4           MAC Court (Cardio)               1.0           100.0   \n",
       "\n",
       "   percent_capacity     date_time  \n",
       "0               0.0  1.635758e+09  \n",
       "1               0.0  1.635758e+09  \n",
       "2               1.0  1.635758e+09  \n",
       "3              29.0  1.635758e+09  \n",
       "4               1.0  1.635758e+09  "
      ]
     },
     "execution_count": 6,
     "metadata": {},
     "output_type": "execute_result"
    }
   ],
   "source": [
    "import pandas as pd\n",
    "import plotly.express as px\n",
    "import numpy as np\n",
    "import matplotlib.pyplot as plt\n",
    "import cufflinks as cf\n",
    "\n",
    "cf.go_offline()\n",
    "\n",
    "df = pd.read_csv(\"usage_data_week_11_1.csv\", index_col=0)\n",
    "df.head()"
   ]
  },
  {
   "cell_type": "code",
   "execution_count": 7,
   "id": "a756939d",
   "metadata": {
    "scrolled": false
   },
   "outputs": [
    {
     "data": {
      "text/html": [
       "<div>\n",
       "<style scoped>\n",
       "    .dataframe tbody tr th:only-of-type {\n",
       "        vertical-align: middle;\n",
       "    }\n",
       "\n",
       "    .dataframe tbody tr th {\n",
       "        vertical-align: top;\n",
       "    }\n",
       "\n",
       "    .dataframe thead th {\n",
       "        text-align: right;\n",
       "    }\n",
       "</style>\n",
       "<table border=\"1\" class=\"dataframe\">\n",
       "  <thead>\n",
       "    <tr style=\"text-align: right;\">\n",
       "      <th></th>\n",
       "      <th>name</th>\n",
       "      <th>current_capacity</th>\n",
       "      <th>total_capacity</th>\n",
       "      <th>percent_capacity</th>\n",
       "      <th>date_time</th>\n",
       "    </tr>\n",
       "  </thead>\n",
       "  <tbody>\n",
       "    <tr>\n",
       "      <th>3</th>\n",
       "      <td>Upper Gym</td>\n",
       "      <td>0.0</td>\n",
       "      <td>100.0</td>\n",
       "      <td>29.0</td>\n",
       "      <td>2021-11-01 04:05:07.539876608-05:00</td>\n",
       "    </tr>\n",
       "    <tr>\n",
       "      <th>31</th>\n",
       "      <td>Upper Gym</td>\n",
       "      <td>29.0</td>\n",
       "      <td>100.0</td>\n",
       "      <td>29.0</td>\n",
       "      <td>2021-11-01 05:05:07.283586816-05:00</td>\n",
       "    </tr>\n",
       "    <tr>\n",
       "      <th>59</th>\n",
       "      <td>Upper Gym</td>\n",
       "      <td>0.0</td>\n",
       "      <td>100.0</td>\n",
       "      <td>0.0</td>\n",
       "      <td>2021-11-01 06:05:07.473886464-05:00</td>\n",
       "    </tr>\n",
       "    <tr>\n",
       "      <th>87</th>\n",
       "      <td>Upper Gym</td>\n",
       "      <td>1.0</td>\n",
       "      <td>100.0</td>\n",
       "      <td>1.0</td>\n",
       "      <td>2021-11-01 07:05:10.592350464-05:00</td>\n",
       "    </tr>\n",
       "    <tr>\n",
       "      <th>115</th>\n",
       "      <td>Upper Gym</td>\n",
       "      <td>0.0</td>\n",
       "      <td>100.0</td>\n",
       "      <td>0.0</td>\n",
       "      <td>2021-11-01 08:05:07.798438144-05:00</td>\n",
       "    </tr>\n",
       "    <tr>\n",
       "      <th>...</th>\n",
       "      <td>...</td>\n",
       "      <td>...</td>\n",
       "      <td>...</td>\n",
       "      <td>...</td>\n",
       "      <td>...</td>\n",
       "    </tr>\n",
       "    <tr>\n",
       "      <th>4119</th>\n",
       "      <td>Upper Gym</td>\n",
       "      <td>42.0</td>\n",
       "      <td>100.0</td>\n",
       "      <td>42.0</td>\n",
       "      <td>2021-11-08 19:05:08.199793152-05:00</td>\n",
       "    </tr>\n",
       "    <tr>\n",
       "      <th>4147</th>\n",
       "      <td>Upper Gym</td>\n",
       "      <td>51.0</td>\n",
       "      <td>100.0</td>\n",
       "      <td>51.0</td>\n",
       "      <td>2021-11-08 20:05:10.278596608-05:00</td>\n",
       "    </tr>\n",
       "    <tr>\n",
       "      <th>4175</th>\n",
       "      <td>Upper Gym</td>\n",
       "      <td>56.0</td>\n",
       "      <td>100.0</td>\n",
       "      <td>57.0</td>\n",
       "      <td>2021-11-08 21:05:07.871051520-05:00</td>\n",
       "    </tr>\n",
       "    <tr>\n",
       "      <th>4203</th>\n",
       "      <td>Upper Gym</td>\n",
       "      <td>42.0</td>\n",
       "      <td>100.0</td>\n",
       "      <td>42.0</td>\n",
       "      <td>2021-11-08 22:05:07.597391360-05:00</td>\n",
       "    </tr>\n",
       "    <tr>\n",
       "      <th>4231</th>\n",
       "      <td>Upper Gym</td>\n",
       "      <td>39.0</td>\n",
       "      <td>100.0</td>\n",
       "      <td>39.0</td>\n",
       "      <td>2021-11-08 23:05:07.785157376-05:00</td>\n",
       "    </tr>\n",
       "  </tbody>\n",
       "</table>\n",
       "<p>152 rows × 5 columns</p>\n",
       "</div>"
      ],
      "text/plain": [
       "           name  current_capacity  total_capacity  percent_capacity  \\\n",
       "3     Upper Gym               0.0           100.0              29.0   \n",
       "31    Upper Gym              29.0           100.0              29.0   \n",
       "59    Upper Gym               0.0           100.0               0.0   \n",
       "87    Upper Gym               1.0           100.0               1.0   \n",
       "115   Upper Gym               0.0           100.0               0.0   \n",
       "...         ...               ...             ...               ...   \n",
       "4119  Upper Gym              42.0           100.0              42.0   \n",
       "4147  Upper Gym              51.0           100.0              51.0   \n",
       "4175  Upper Gym              56.0           100.0              57.0   \n",
       "4203  Upper Gym              42.0           100.0              42.0   \n",
       "4231  Upper Gym              39.0           100.0              39.0   \n",
       "\n",
       "                               date_time  \n",
       "3    2021-11-01 04:05:07.539876608-05:00  \n",
       "31   2021-11-01 05:05:07.283586816-05:00  \n",
       "59   2021-11-01 06:05:07.473886464-05:00  \n",
       "87   2021-11-01 07:05:10.592350464-05:00  \n",
       "115  2021-11-01 08:05:07.798438144-05:00  \n",
       "...                                  ...  \n",
       "4119 2021-11-08 19:05:08.199793152-05:00  \n",
       "4147 2021-11-08 20:05:10.278596608-05:00  \n",
       "4175 2021-11-08 21:05:07.871051520-05:00  \n",
       "4203 2021-11-08 22:05:07.597391360-05:00  \n",
       "4231 2021-11-08 23:05:07.785157376-05:00  \n",
       "\n",
       "[152 rows x 5 columns]"
      ]
     },
     "execution_count": 7,
     "metadata": {},
     "output_type": "execute_result"
    }
   ],
   "source": [
    "# Initialize pandas datetime object from UTC epoch seconds recorded\n",
    "df.loc[:, 'date_time'] = pd.to_datetime(df.loc[:,'date_time'],unit=\"s\",utc=True)\n",
    "df.loc[:, 'date_time'] = df.date_time.dt.tz_convert('EST')\n",
    "\n",
    "# corec isn't open at 4, same data as the previous day\n",
    "df.loc[df.date_time.dt.hour == 4, 'current_capacity'] = 0  \n",
    "# encoded wrong\n",
    "df = df.reset_index(drop=True)\n",
    "\n",
    "df.loc[(df.name == 'Upper Gym'),:]"
   ]
  },
  {
   "cell_type": "code",
   "execution_count": 8,
   "id": "5236ca4e",
   "metadata": {},
   "outputs": [
    {
     "data": {
      "text/html": [
       "<div>\n",
       "<style scoped>\n",
       "    .dataframe tbody tr th:only-of-type {\n",
       "        vertical-align: middle;\n",
       "    }\n",
       "\n",
       "    .dataframe tbody tr th {\n",
       "        vertical-align: top;\n",
       "    }\n",
       "\n",
       "    .dataframe thead th {\n",
       "        text-align: right;\n",
       "    }\n",
       "</style>\n",
       "<table border=\"1\" class=\"dataframe\">\n",
       "  <thead>\n",
       "    <tr style=\"text-align: right;\">\n",
       "      <th></th>\n",
       "      <th>name</th>\n",
       "      <th>current_capacity</th>\n",
       "      <th>total_capacity</th>\n",
       "      <th>percent_capacity</th>\n",
       "      <th>date_time</th>\n",
       "      <th>hour</th>\n",
       "      <th>day</th>\n",
       "      <th>weekday</th>\n",
       "      <th>weekday_name</th>\n",
       "    </tr>\n",
       "  </thead>\n",
       "  <tbody>\n",
       "    <tr>\n",
       "      <th>20</th>\n",
       "      <td>East Fitness (Strength Equipment)</td>\n",
       "      <td>0.0</td>\n",
       "      <td>300.0</td>\n",
       "      <td>3.0</td>\n",
       "      <td>2021-11-01 04:05:07.539876608-05:00</td>\n",
       "      <td>4</td>\n",
       "      <td>1</td>\n",
       "      <td>0</td>\n",
       "      <td>Monday</td>\n",
       "    </tr>\n",
       "    <tr>\n",
       "      <th>48</th>\n",
       "      <td>East Fitness (Strength Equipment)</td>\n",
       "      <td>9.0</td>\n",
       "      <td>300.0</td>\n",
       "      <td>3.0</td>\n",
       "      <td>2021-11-01 05:05:07.283586816-05:00</td>\n",
       "      <td>5</td>\n",
       "      <td>1</td>\n",
       "      <td>0</td>\n",
       "      <td>Monday</td>\n",
       "    </tr>\n",
       "    <tr>\n",
       "      <th>76</th>\n",
       "      <td>East Fitness (Strength Equipment)</td>\n",
       "      <td>37.0</td>\n",
       "      <td>300.0</td>\n",
       "      <td>13.0</td>\n",
       "      <td>2021-11-01 06:05:07.473886464-05:00</td>\n",
       "      <td>6</td>\n",
       "      <td>1</td>\n",
       "      <td>0</td>\n",
       "      <td>Monday</td>\n",
       "    </tr>\n",
       "    <tr>\n",
       "      <th>104</th>\n",
       "      <td>East Fitness (Strength Equipment)</td>\n",
       "      <td>40.0</td>\n",
       "      <td>300.0</td>\n",
       "      <td>14.0</td>\n",
       "      <td>2021-11-01 07:05:10.592350464-05:00</td>\n",
       "      <td>7</td>\n",
       "      <td>1</td>\n",
       "      <td>0</td>\n",
       "      <td>Monday</td>\n",
       "    </tr>\n",
       "    <tr>\n",
       "      <th>132</th>\n",
       "      <td>East Fitness (Strength Equipment)</td>\n",
       "      <td>49.0</td>\n",
       "      <td>300.0</td>\n",
       "      <td>17.0</td>\n",
       "      <td>2021-11-01 08:05:07.798438144-05:00</td>\n",
       "      <td>8</td>\n",
       "      <td>1</td>\n",
       "      <td>0</td>\n",
       "      <td>Monday</td>\n",
       "    </tr>\n",
       "  </tbody>\n",
       "</table>\n",
       "</div>"
      ],
      "text/plain": [
       "                                  name  current_capacity  total_capacity  \\\n",
       "20   East Fitness (Strength Equipment)               0.0           300.0   \n",
       "48   East Fitness (Strength Equipment)               9.0           300.0   \n",
       "76   East Fitness (Strength Equipment)              37.0           300.0   \n",
       "104  East Fitness (Strength Equipment)              40.0           300.0   \n",
       "132  East Fitness (Strength Equipment)              49.0           300.0   \n",
       "\n",
       "     percent_capacity                           date_time  hour  day  weekday  \\\n",
       "20                3.0 2021-11-01 04:05:07.539876608-05:00     4    1        0   \n",
       "48                3.0 2021-11-01 05:05:07.283586816-05:00     5    1        0   \n",
       "76               13.0 2021-11-01 06:05:07.473886464-05:00     6    1        0   \n",
       "104              14.0 2021-11-01 07:05:10.592350464-05:00     7    1        0   \n",
       "132              17.0 2021-11-01 08:05:07.798438144-05:00     8    1        0   \n",
       "\n",
       "    weekday_name  \n",
       "20        Monday  \n",
       "48        Monday  \n",
       "76        Monday  \n",
       "104       Monday  \n",
       "132       Monday  "
      ]
     },
     "execution_count": 8,
     "metadata": {},
     "output_type": "execute_result"
    }
   ],
   "source": [
    "eastdf = df.loc[df[\"name\"] == 'East Fitness (Strength Equipment)'].copy()\n",
    "eastdf.loc[:,'hour'] = eastdf.date_time.dt.hour\n",
    "eastdf.loc[:,'day'] = eastdf.date_time.dt.day\n",
    "eastdf.loc[:,'weekday'] = eastdf.date_time.dt.weekday\n",
    "eastdf.loc[:,'weekday_name'] = eastdf.date_time.dt.day_name()\n",
    "\n",
    "\n",
    "eastdf.head()"
   ]
  },
  {
   "cell_type": "code",
   "execution_count": 9,
   "id": "5ed74235",
   "metadata": {},
   "outputs": [
    {
     "data": {
      "text/plain": [
       "<AxesSubplot:xlabel='weekday'>"
      ]
     },
     "execution_count": 9,
     "metadata": {},
     "output_type": "execute_result"
    },
    {
     "data": {
      "image/png": "[encoded data removed]",
      "text/plain": [
       "<Figure size 432x288 with 1 Axes>"
      ]
     },
     "metadata": {
      "needs_background": "light"
     },
     "output_type": "display_data"
    }
   ],
   "source": [
    "weekday = eastdf.groupby('weekday').median().reset_index()\n",
    "weekday.plot(x='weekday', y='current_capacity')"
   ]
  },
  {
   "cell_type": "code",
   "execution_count": 10,
   "id": "f3cb5760",
   "metadata": {
    "scrolled": true
   },
   "outputs": [
    {
     "data": {
      "image/png": "[encoded data removed]",
      "text/plain": [
       "<Figure size 432x288 with 1 Axes>"
      ]
     },
     "metadata": {
      "needs_background": "light"
     },
     "output_type": "display_data"
    }
   ],
   "source": [
    "plot = eastdf.boxplot('current_capacity',by='weekday')\n",
    "plot = plot.set_xticklabels([\"Mon\",\"Tue\",\"Wed\",\"Thr\",\"Fri\",\"Sat\",\"Sun\"])"
   ]
  },
  {
   "cell_type": "code",
   "execution_count": 11,
   "id": "5bcc4919",
   "metadata": {},
   "outputs": [
    {
     "data": {
      "text/plain": [
       "<AxesSubplot:title={'center':'current_capacity'}, xlabel='hour'>"
      ]
     },
     "execution_count": 11,
     "metadata": {},
     "output_type": "execute_result"
    },
    {
     "data": {
      "image/png": "[encoded data removed]",
      "text/plain": [
       "<Figure size 432x288 with 1 Axes>"
      ]
     },
     "metadata": {
      "needs_background": "light"
     },
     "output_type": "display_data"
    }
   ],
   "source": [
    "# hour = eastdf.groupby('hour')\n",
    "# hour.plot(x='hour', y='current_capacity')\n",
    "eastdf.boxplot('current_capacity',by='hour')"
   ]
  },
  {
   "cell_type": "code",
   "execution_count": 12,
   "id": "4b1ff3f1",
   "metadata": {},
   "outputs": [
    {
     "data": {
      "application/vnd.plotly.v1+json": {
       "config": {
        "plotlyServerURL": "https://plot.ly"
       },
       "data": [
        {
         "line": {
          "color": "rgba(226, 74, 51, 1.0)",
          "dash": "solid",
          "shape": "linear",
          "width": 1.3
         },
         "mode": "lines+markers",
         "name": "current_capacity",
         "text": "",
         "type": "scatter",
         "x": [
          "2021-11-01 04:05:07.539876608-05:00",
          "2021-11-01 05:05:07.283586816-05:00",
          "2021-11-01 06:05:07.473886464-05:00",
          "2021-11-01 07:05:10.592350464-05:00",
          "2021-11-01 08:05:07.798438144-05:00",
          "2021-11-01 09:05:06.930284544-05:00",
          "2021-11-01 10:05:06.730136064-05:00",
          "2021-11-01 11:05:06.894756864-05:00",
          "2021-11-01 12:05:06.778987264-05:00",
          "2021-11-01 13:05:06.733580800-05:00",
          "2021-11-01 14:05:07.257554688-05:00",
          "2021-11-01 15:05:08.373758464-05:00",
          "2021-11-01 16:05:07.387731968-05:00",
          "2021-11-01 17:05:07.229135872-05:00",
          "2021-11-01 18:05:07.353704192-05:00",
          "2021-11-01 19:05:07.094849792-05:00",
          "2021-11-01 20:05:06.834904320-05:00",
          "2021-11-01 21:05:07.123281664-05:00",
          "2021-11-01 22:05:07.902600704-05:00",
          "2021-11-02 04:05:06.917066752-05:00",
          "2021-11-02 05:05:06.570050560-05:00",
          "2021-11-02 06:05:06.520819712-05:00",
          "2021-11-02 07:05:06.665588992-05:00",
          "2021-11-02 08:05:07.294544128-05:00",
          "2021-11-02 09:05:06.608755712-05:00",
          "2021-11-02 10:05:07.026846464-05:00",
          "2021-11-02 11:05:07.280164096-05:00",
          "2021-11-02 12:05:06.970390784-05:00",
          "2021-11-02 13:05:06.903886592-05:00",
          "2021-11-02 14:05:07.382248448-05:00",
          "2021-11-02 15:05:07.634172928-05:00",
          "2021-11-02 16:05:07.483437568-05:00",
          "2021-11-02 17:05:06.651982080-05:00",
          "2021-11-02 18:05:06.804243712-05:00",
          "2021-11-02 19:05:07.149441024-05:00",
          "2021-11-02 20:05:07.214006272-05:00",
          "2021-11-02 21:05:06.965925888-05:00",
          "2021-11-02 22:05:09.876024064-05:00",
          "2021-11-03 04:05:08.631915008-05:00",
          "2021-11-03 05:05:07.320007168-05:00",
          "2021-11-03 06:05:07.155592960-05:00",
          "2021-11-03 07:05:06.728827648-05:00",
          "2021-11-03 08:05:06.894033920-05:00",
          "2021-11-03 09:05:07.415271168-05:00",
          "2021-11-03 10:05:07.599998976-05:00",
          "2021-11-03 11:05:06.932211456-05:00",
          "2021-11-03 12:05:07.012600832-05:00",
          "2021-11-03 13:05:07.310945536-05:00",
          "2021-11-03 14:05:07.048492288-05:00",
          "2021-11-03 15:05:06.860897536-05:00",
          "2021-11-03 16:05:09.774579712-05:00",
          "2021-11-03 17:05:06.530479872-05:00",
          "2021-11-03 18:05:06.745958400-05:00",
          "2021-11-03 19:05:07.998330624-05:00",
          "2021-11-03 20:05:07.334008064-05:00",
          "2021-11-03 21:05:07.802955520-05:00",
          "2021-11-03 22:05:07.286757632-05:00",
          "2021-11-04 04:05:07.255447552-05:00",
          "2021-11-04 05:05:07.020968960-05:00",
          "2021-11-04 06:05:06.813147136-05:00",
          "2021-11-04 07:05:07.325139456-05:00",
          "2021-11-04 08:05:06.572851200-05:00",
          "2021-11-04 09:05:07.369242368-05:00",
          "2021-11-04 10:05:07.015595264-05:00",
          "2021-11-04 11:05:07.065130240-05:00",
          "2021-11-04 12:05:06.922606592-05:00",
          "2021-11-04 13:05:06.586775040-05:00",
          "2021-11-04 14:05:07.994463488-05:00",
          "2021-11-04 15:05:07.695080448-05:00",
          "2021-11-04 16:05:06.761616128-05:00",
          "2021-11-04 17:05:06.835035136-05:00",
          "2021-11-04 18:05:06.721310720-05:00",
          "2021-11-04 19:05:06.945941504-05:00",
          "2021-11-04 20:05:07.242341888-05:00",
          "2021-11-04 21:05:07.009565440-05:00",
          "2021-11-04 22:05:06.937311488-05:00",
          "2021-11-05 04:05:08.306945536-05:00",
          "2021-11-05 05:05:07.168435712-05:00",
          "2021-11-05 06:05:06.880559360-05:00",
          "2021-11-05 07:05:07.333539584-05:00",
          "2021-11-05 08:05:07.370384896-05:00",
          "2021-11-05 09:05:08.620326656-05:00",
          "2021-11-05 10:05:06.498119936-05:00",
          "2021-11-05 11:05:07.421735168-05:00",
          "2021-11-05 12:05:07.062894080-05:00",
          "2021-11-05 13:05:06.833586432-05:00",
          "2021-11-05 14:05:06.951030528-05:00",
          "2021-11-05 15:05:07.289526528-05:00",
          "2021-11-05 16:05:06.866111744-05:00",
          "2021-11-05 17:05:07.007454208-05:00",
          "2021-11-05 18:05:07.581816832-05:00",
          "2021-11-05 19:05:07.761609216-05:00",
          "2021-11-05 20:05:07.147636224-05:00",
          "2021-11-05 21:05:07.371607040-05:00",
          "2021-11-05 22:05:06.827217152-05:00",
          "2021-11-06 04:05:09.280331008-05:00",
          "2021-11-06 05:05:06.630336256-05:00",
          "2021-11-06 06:05:06.701984512-05:00",
          "2021-11-06 07:05:07.257540352-05:00",
          "2021-11-06 08:05:07.183721728-05:00",
          "2021-11-06 09:05:07.328672768-05:00",
          "2021-11-06 10:05:06.830691072-05:00",
          "2021-11-06 11:05:07.735953664-05:00",
          "2021-11-06 12:05:06.598551040-05:00",
          "2021-11-06 13:05:07.106703616-05:00",
          "2021-11-06 14:05:06.733968128-05:00",
          "2021-11-06 15:05:07.386978304-05:00",
          "2021-11-06 16:05:06.854473984-05:00",
          "2021-11-06 17:05:07.214420992-05:00",
          "2021-11-06 18:05:07.263240192-05:00",
          "2021-11-06 19:05:09.120076288-05:00",
          "2021-11-06 20:05:06.782848512-05:00",
          "2021-11-06 21:05:08.716771840-05:00",
          "2021-11-06 22:05:08.308654336-05:00",
          "2021-11-07 05:05:08.092950016-05:00",
          "2021-11-07 06:05:06.902335488-05:00",
          "2021-11-07 07:05:07.421212416-05:00",
          "2021-11-07 08:05:07.697420544-05:00",
          "2021-11-07 09:05:06.503002880-05:00",
          "2021-11-07 10:05:07.128076288-05:00",
          "2021-11-07 11:05:06.605932288-05:00",
          "2021-11-07 12:05:06.677302784-05:00",
          "2021-11-07 13:05:06.462185472-05:00",
          "2021-11-07 14:05:07.482628608-05:00",
          "2021-11-07 15:05:07.891970048-05:00",
          "2021-11-07 16:05:06.909557760-05:00",
          "2021-11-07 17:05:06.797207296-05:00",
          "2021-11-07 18:05:07.155593728-05:00",
          "2021-11-07 19:05:07.603543552-05:00",
          "2021-11-07 20:05:06.729434624-05:00",
          "2021-11-07 21:05:07.158727424-05:00",
          "2021-11-07 22:05:07.266214400-05:00",
          "2021-11-07 23:05:07.453774080-05:00",
          "2021-11-08 05:05:06.997000704-05:00",
          "2021-11-08 06:05:07.465590016-05:00",
          "2021-11-08 07:05:06.421606400-05:00",
          "2021-11-08 08:05:07.527194624-05:00",
          "2021-11-08 09:05:07.091159552-05:00",
          "2021-11-08 10:05:06.647118080-05:00",
          "2021-11-08 11:05:06.939401472-05:00",
          "2021-11-08 12:05:07.398587648-05:00",
          "2021-11-08 13:05:06.828845568-05:00",
          "2021-11-08 14:05:07.236062208-05:00",
          "2021-11-08 15:05:07.358586368-05:00",
          "2021-11-08 16:05:08.788407552-05:00",
          "2021-11-08 17:05:07.812335104-05:00",
          "2021-11-08 18:05:08.335282688-05:00",
          "2021-11-08 19:05:08.199793152-05:00",
          "2021-11-08 20:05:10.278596608-05:00",
          "2021-11-08 21:05:07.871051520-05:00",
          "2021-11-08 22:05:07.597391360-05:00",
          "2021-11-08 23:05:07.785157376-05:00"
         ],
         "y": [
          0,
          9,
          37,
          40,
          49,
          29,
          29,
          41,
          35,
          37,
          54,
          50,
          57,
          77,
          64,
          58,
          47,
          46,
          46,
          0,
          46,
          20,
          32,
          27,
          19,
          31,
          35,
          30,
          30,
          30,
          30,
          30,
          63,
          65,
          63,
          63,
          67,
          67,
          0,
          18,
          38,
          38,
          34,
          33,
          36,
          34,
          34,
          23,
          33,
          68,
          60,
          57,
          46,
          44,
          48,
          51,
          35,
          0,
          73,
          25,
          34,
          25,
          32,
          24,
          33,
          27,
          43,
          41,
          35,
          43,
          53,
          53,
          49,
          37,
          24,
          44,
          0,
          44,
          18,
          28,
          28,
          30,
          36,
          49,
          37,
          41,
          37,
          37,
          37,
          57,
          57,
          59,
          31,
          34,
          31,
          0,
          23,
          23,
          23,
          2,
          14,
          39,
          24,
          23,
          19,
          20,
          21,
          37,
          33,
          28,
          14,
          21,
          32,
          15,
          15,
          15,
          15,
          15,
          15,
          15,
          16,
          49,
          28,
          23,
          35,
          31,
          30,
          37,
          40,
          31,
          23,
          20,
          27,
          27,
          27,
          25,
          37,
          41,
          37,
          33,
          44,
          39,
          28,
          38,
          48,
          81,
          68,
          85,
          72,
          67,
          57,
          53
         ]
        }
       ],
       "layout": {
        "legend": {
         "bgcolor": "#FFFFFF",
         "font": {
          "color": "#666666"
         }
        },
        "paper_bgcolor": "#FFFFFF",
        "plot_bgcolor": "#E5E5E5",
        "template": {
         "data": {
          "bar": [
           {
            "error_x": {
             "color": "#2a3f5f"
            },
            "error_y": {
             "color": "#2a3f5f"
            },
            "marker": {
             "line": {
              "color": "#E5ECF6",
              "width": 0.5
             },
             "pattern": {
              "fillmode": "overlay",
              "size": 10,
              "solidity": 0.2
             }
            },
            "type": "bar"
           }
          ],
          "barpolar": [
           {
            "marker": {
             "line": {
              "color": "#E5ECF6",
              "width": 0.5
             },
             "pattern": {
              "fillmode": "overlay",
              "size": 10,
              "solidity": 0.2
             }
            },
            "type": "barpolar"
           }
          ],
          "carpet": [
           {
            "aaxis": {
             "endlinecolor": "#2a3f5f",
             "gridcolor": "white",
             "linecolor": "white",
             "minorgridcolor": "white",
             "startlinecolor": "#2a3f5f"
            },
            "baxis": {
             "endlinecolor": "#2a3f5f",
             "gridcolor": "white",
             "linecolor": "white",
             "minorgridcolor": "white",
             "startlinecolor": "#2a3f5f"
            },
            "type": "carpet"
           }
          ],
          "choropleth": [
           {
            "colorbar": {
             "outlinewidth": 0,
             "ticks": ""
            },
            "type": "choropleth"
           }
          ],
          "contour": [
           {
            "colorbar": {
             "outlinewidth": 0,
             "ticks": ""
            },
            "colorscale": [
             [
              0,
              "#0d0887"
             ],
             [
              0.1111111111111111,
              "#46039f"
             ],
             [
              0.2222222222222222,
              "#7201a8"
             ],
             [
              0.3333333333333333,
              "#9c179e"
             ],
             [
              0.4444444444444444,
              "#bd3786"
             ],
             [
              0.5555555555555556,
              "#d8576b"
             ],
             [
              0.6666666666666666,
              "#ed7953"
             ],
             [
              0.7777777777777778,
              "#fb9f3a"
             ],
             [
              0.8888888888888888,
              "#fdca26"
             ],
             [
              1,
              "#f0f921"
             ]
            ],
            "type": "contour"
           }
          ],
          "contourcarpet": [
           {
            "colorbar": {
             "outlinewidth": 0,
             "ticks": ""
            },
            "type": "contourcarpet"
           }
          ],
          "heatmap": [
           {
            "colorbar": {
             "outlinewidth": 0,
             "ticks": ""
            },
            "colorscale": [
             [
              0,
              "#0d0887"
             ],
             [
              0.1111111111111111,
              "#46039f"
             ],
             [
              0.2222222222222222,
              "#7201a8"
             ],
             [
              0.3333333333333333,
              "#9c179e"
             ],
             [
              0.4444444444444444,
              "#bd3786"
             ],
             [
              0.5555555555555556,
              "#d8576b"
             ],
             [
              0.6666666666666666,
              "#ed7953"
             ],
             [
              0.7777777777777778,
              "#fb9f3a"
             ],
             [
              0.8888888888888888,
              "#fdca26"
             ],
             [
              1,
              "#f0f921"
             ]
            ],
            "type": "heatmap"
           }
          ],
          "heatmapgl": [
           {
            "colorbar": {
             "outlinewidth": 0,
             "ticks": ""
            },
            "colorscale": [
             [
              0,
              "#0d0887"
             ],
             [
              0.1111111111111111,
              "#46039f"
             ],
             [
              0.2222222222222222,
              "#7201a8"
             ],
             [
              0.3333333333333333,
              "#9c179e"
             ],
             [
              0.4444444444444444,
              "#bd3786"
             ],
             [
              0.5555555555555556,
              "#d8576b"
             ],
             [
              0.6666666666666666,
              "#ed7953"
             ],
             [
              0.7777777777777778,
              "#fb9f3a"
             ],
             [
              0.8888888888888888,
              "#fdca26"
             ],
             [
              1,
              "#f0f921"
             ]
            ],
            "type": "heatmapgl"
           }
          ],
          "histogram": [
           {
            "marker": {
             "pattern": {
              "fillmode": "overlay",
              "size": 10,
              "solidity": 0.2
             }
            },
            "type": "histogram"
           }
          ],
          "histogram2d": [
           {
            "colorbar": {
             "outlinewidth": 0,
             "ticks": ""
            },
            "colorscale": [
             [
              0,
              "#0d0887"
             ],
             [
              0.1111111111111111,
              "#46039f"
             ],
             [
              0.2222222222222222,
              "#7201a8"
             ],
             [
              0.3333333333333333,
              "#9c179e"
             ],
             [
              0.4444444444444444,
              "#bd3786"
             ],
             [
              0.5555555555555556,
              "#d8576b"
             ],
             [
              0.6666666666666666,
              "#ed7953"
             ],
             [
              0.7777777777777778,
              "#fb9f3a"
             ],
             [
              0.8888888888888888,
              "#fdca26"
             ],
             [
              1,
              "#f0f921"
             ]
            ],
            "type": "histogram2d"
           }
          ],
          "histogram2dcontour": [
           {
            "colorbar": {
             "outlinewidth": 0,
             "ticks": ""
            },
            "colorscale": [
             [
              0,
              "#0d0887"
             ],
             [
              0.1111111111111111,
              "#46039f"
             ],
             [
              0.2222222222222222,
              "#7201a8"
             ],
             [
              0.3333333333333333,
              "#9c179e"
             ],
             [
              0.4444444444444444,
              "#bd3786"
             ],
             [
              0.5555555555555556,
              "#d8576b"
             ],
             [
              0.6666666666666666,
              "#ed7953"
             ],
             [
              0.7777777777777778,
              "#fb9f3a"
             ],
             [
              0.8888888888888888,
              "#fdca26"
             ],
             [
              1,
              "#f0f921"
             ]
            ],
            "type": "histogram2dcontour"
           }
          ],
          "mesh3d": [
           {
            "colorbar": {
             "outlinewidth": 0,
             "ticks": ""
            },
            "type": "mesh3d"
           }
          ],
          "parcoords": [
           {
            "line": {
             "colorbar": {
              "outlinewidth": 0,
              "ticks": ""
             }
            },
            "type": "parcoords"
           }
          ],
          "pie": [
           {
            "automargin": true,
            "type": "pie"
           }
          ],
          "scatter": [
           {
            "marker": {
             "colorbar": {
              "outlinewidth": 0,
              "ticks": ""
             }
            },
            "type": "scatter"
           }
          ],
          "scatter3d": [
           {
            "line": {
             "colorbar": {
              "outlinewidth": 0,
              "ticks": ""
             }
            },
            "marker": {
             "colorbar": {
              "outlinewidth": 0,
              "ticks": ""
             }
            },
            "type": "scatter3d"
           }
          ],
          "scattercarpet": [
           {
            "marker": {
             "colorbar": {
              "outlinewidth": 0,
              "ticks": ""
             }
            },
            "type": "scattercarpet"
           }
          ],
          "scattergeo": [
           {
            "marker": {
             "colorbar": {
              "outlinewidth": 0,
              "ticks": ""
             }
            },
            "type": "scattergeo"
           }
          ],
          "scattergl": [
           {
            "marker": {
             "colorbar": {
              "outlinewidth": 0,
              "ticks": ""
             }
            },
            "type": "scattergl"
           }
          ],
          "scattermapbox": [
           {
            "marker": {
             "colorbar": {
              "outlinewidth": 0,
              "ticks": ""
             }
            },
            "type": "scattermapbox"
           }
          ],
          "scatterpolar": [
           {
            "marker": {
             "colorbar": {
              "outlinewidth": 0,
              "ticks": ""
             }
            },
            "type": "scatterpolar"
           }
          ],
          "scatterpolargl": [
           {
            "marker": {
             "colorbar": {
              "outlinewidth": 0,
              "ticks": ""
             }
            },
            "type": "scatterpolargl"
           }
          ],
          "scatterternary": [
           {
            "marker": {
             "colorbar": {
              "outlinewidth": 0,
              "ticks": ""
             }
            },
            "type": "scatterternary"
           }
          ],
          "surface": [
           {
            "colorbar": {
             "outlinewidth": 0,
             "ticks": ""
            },
            "colorscale": [
             [
              0,
              "#0d0887"
             ],
             [
              0.1111111111111111,
              "#46039f"
             ],
             [
              0.2222222222222222,
              "#7201a8"
             ],
             [
              0.3333333333333333,
              "#9c179e"
             ],
             [
              0.4444444444444444,
              "#bd3786"
             ],
             [
              0.5555555555555556,
              "#d8576b"
             ],
             [
              0.6666666666666666,
              "#ed7953"
             ],
             [
              0.7777777777777778,
              "#fb9f3a"
             ],
             [
              0.8888888888888888,
              "#fdca26"
             ],
             [
              1,
              "#f0f921"
             ]
            ],
            "type": "surface"
           }
          ],
          "table": [
           {
            "cells": {
             "fill": {
              "color": "#EBF0F8"
             },
             "line": {
              "color": "white"
             }
            },
            "header": {
             "fill": {
              "color": "#C8D4E3"
             },
             "line": {
              "color": "white"
             }
            },
            "type": "table"
           }
          ]
         },
         "layout": {
          "annotationdefaults": {
           "arrowcolor": "#2a3f5f",
           "arrowhead": 0,
           "arrowwidth": 1
          },
          "autotypenumbers": "strict",
          "coloraxis": {
           "colorbar": {
            "outlinewidth": 0,
            "ticks": ""
           }
          },
          "colorscale": {
           "diverging": [
            [
             0,
             "#8e0152"
            ],
            [
             0.1,
             "#c51b7d"
            ],
            [
             0.2,
             "#de77ae"
            ],
            [
             0.3,
             "#f1b6da"
            ],
            [
             0.4,
             "#fde0ef"
            ],
            [
             0.5,
             "#f7f7f7"
            ],
            [
             0.6,
             "#e6f5d0"
            ],
            [
             0.7,
             "#b8e186"
            ],
            [
             0.8,
             "#7fbc41"
            ],
            [
             0.9,
             "#4d9221"
            ],
            [
             1,
             "#276419"
            ]
           ],
           "sequential": [
            [
             0,
             "#0d0887"
            ],
            [
             0.1111111111111111,
             "#46039f"
            ],
            [
             0.2222222222222222,
             "#7201a8"
            ],
            [
             0.3333333333333333,
             "#9c179e"
            ],
            [
             0.4444444444444444,
             "#bd3786"
            ],
            [
             0.5555555555555556,
             "#d8576b"
            ],
            [
             0.6666666666666666,
             "#ed7953"
            ],
            [
             0.7777777777777778,
             "#fb9f3a"
            ],
            [
             0.8888888888888888,
             "#fdca26"
            ],
            [
             1,
             "#f0f921"
            ]
           ],
           "sequentialminus": [
            [
             0,
             "#0d0887"
            ],
            [
             0.1111111111111111,
             "#46039f"
            ],
            [
             0.2222222222222222,
             "#7201a8"
            ],
            [
             0.3333333333333333,
             "#9c179e"
            ],
            [
             0.4444444444444444,
             "#bd3786"
            ],
            [
             0.5555555555555556,
             "#d8576b"
            ],
            [
             0.6666666666666666,
             "#ed7953"
            ],
            [
             0.7777777777777778,
             "#fb9f3a"
            ],
            [
             0.8888888888888888,
             "#fdca26"
            ],
            [
             1,
             "#f0f921"
            ]
           ]
          },
          "colorway": [
           "#636efa",
           "#EF553B",
           "#00cc96",
           "#ab63fa",
           "#FFA15A",
           "#19d3f3",
           "#FF6692",
           "#B6E880",
           "#FF97FF",
           "#FECB52"
          ],
          "font": {
           "color": "#2a3f5f"
          },
          "geo": {
           "bgcolor": "white",
           "lakecolor": "white",
           "landcolor": "#E5ECF6",
           "showlakes": true,
           "showland": true,
           "subunitcolor": "white"
          },
          "hoverlabel": {
           "align": "left"
          },
          "hovermode": "closest",
          "mapbox": {
           "style": "light"
          },
          "paper_bgcolor": "white",
          "plot_bgcolor": "#E5ECF6",
          "polar": {
           "angularaxis": {
            "gridcolor": "white",
            "linecolor": "white",
            "ticks": ""
           },
           "bgcolor": "#E5ECF6",
           "radialaxis": {
            "gridcolor": "white",
            "linecolor": "white",
            "ticks": ""
           }
          },
          "scene": {
           "xaxis": {
            "backgroundcolor": "#E5ECF6",
            "gridcolor": "white",
            "gridwidth": 2,
            "linecolor": "white",
            "showbackground": true,
            "ticks": "",
            "zerolinecolor": "white"
           },
           "yaxis": {
            "backgroundcolor": "#E5ECF6",
            "gridcolor": "white",
            "gridwidth": 2,
            "linecolor": "white",
            "showbackground": true,
            "ticks": "",
            "zerolinecolor": "white"
           },
           "zaxis": {
            "backgroundcolor": "#E5ECF6",
            "gridcolor": "white",
            "gridwidth": 2,
            "linecolor": "white",
            "showbackground": true,
            "ticks": "",
            "zerolinecolor": "white"
           }
          },
          "shapedefaults": {
           "line": {
            "color": "#2a3f5f"
           }
          },
          "ternary": {
           "aaxis": {
            "gridcolor": "white",
            "linecolor": "white",
            "ticks": ""
           },
           "baxis": {
            "gridcolor": "white",
            "linecolor": "white",
            "ticks": ""
           },
           "bgcolor": "#E5ECF6",
           "caxis": {
            "gridcolor": "white",
            "linecolor": "white",
            "ticks": ""
           }
          },
          "title": {
           "x": 0.05
          },
          "xaxis": {
           "automargin": true,
           "gridcolor": "white",
           "linecolor": "white",
           "ticks": "",
           "title": {
            "standoff": 15
           },
           "zerolinecolor": "white",
           "zerolinewidth": 2
          },
          "yaxis": {
           "automargin": true,
           "gridcolor": "white",
           "linecolor": "white",
           "ticks": "",
           "title": {
            "standoff": 15
           },
           "zerolinecolor": "white",
           "zerolinewidth": 2
          }
         }
        },
        "title": {
         "font": {
          "color": "#151516"
         }
        },
        "xaxis": {
         "gridcolor": "#F6F6F6",
         "showgrid": true,
         "tickfont": {
          "color": "#666666"
         },
         "title": {
          "font": {
           "color": "#666666"
          },
          "text": ""
         },
         "zerolinecolor": "#F6F6F6"
        },
        "yaxis": {
         "gridcolor": "#F6F6F6",
         "showgrid": true,
         "tickfont": {
          "color": "#666666"
         },
         "title": {
          "font": {
           "color": "#666666"
          },
          "text": ""
         },
         "zerolinecolor": "#F6F6F6"
        }
       }
      },
      "text/html": [
       "<div>                            <div id=\"4c099aa1-59f8-4ab1-9999-5c769347cd64\" class=\"plotly-graph-div\" style=\"height:525px; width:100%;\"></div>            <script type=\"text/javascript\">                require([\"plotly\"], function(Plotly) {                    window.PLOTLYENV=window.PLOTLYENV || {};                                    if (document.getElementById(\"4c099aa1-59f8-4ab1-9999-5c769347cd64\")) {                    Plotly.newPlot(                        \"4c099aa1-59f8-4ab1-9999-5c769347cd64\",                        [{\"line\":{\"color\":\"rgba(226, 74, 51, 1.0)\",\"dash\":\"solid\",\"shape\":\"linear\",\"width\":1.3},\"mode\":\"lines+markers\",\"name\":\"current_capacity\",\"text\":\"\",\"type\":\"scatter\",\"x\":[\"2021-11-01 04:05:07.539876608-05:00\",\"2021-11-01 05:05:07.283586816-05:00\",\"2021-11-01 06:05:07.473886464-05:00\",\"2021-11-01 07:05:10.592350464-05:00\",\"2021-11-01 08:05:07.798438144-05:00\",\"2021-11-01 09:05:06.930284544-05:00\",\"2021-11-01 10:05:06.730136064-05:00\",\"2021-11-01 11:05:06.894756864-05:00\",\"2021-11-01 12:05:06.778987264-05:00\",\"2021-11-01 13:05:06.733580800-05:00\",\"2021-11-01 14:05:07.257554688-05:00\",\"2021-11-01 15:05:08.373758464-05:00\",\"2021-11-01 16:05:07.387731968-05:00\",\"2021-11-01 17:05:07.229135872-05:00\",\"2021-11-01 18:05:07.353704192-05:00\",\"2021-11-01 19:05:07.094849792-05:00\",\"2021-11-01 20:05:06.834904320-05:00\",\"2021-11-01 21:05:07.123281664-05:00\",\"2021-11-01 22:05:07.902600704-05:00\",\"2021-11-02 04:05:06.917066752-05:00\",\"2021-11-02 05:05:06.570050560-05:00\",\"2021-11-02 06:05:06.520819712-05:00\",\"2021-11-02 07:05:06.665588992-05:00\",\"2021-11-02 08:05:07.294544128-05:00\",\"2021-11-02 09:05:06.608755712-05:00\",\"2021-11-02 10:05:07.026846464-05:00\",\"2021-11-02 11:05:07.280164096-05:00\",\"2021-11-02 12:05:06.970390784-05:00\",\"2021-11-02 13:05:06.903886592-05:00\",\"2021-11-02 14:05:07.382248448-05:00\",\"2021-11-02 15:05:07.634172928-05:00\",\"2021-11-02 16:05:07.483437568-05:00\",\"2021-11-02 17:05:06.651982080-05:00\",\"2021-11-02 18:05:06.804243712-05:00\",\"2021-11-02 19:05:07.149441024-05:00\",\"2021-11-02 20:05:07.214006272-05:00\",\"2021-11-02 21:05:06.965925888-05:00\",\"2021-11-02 22:05:09.876024064-05:00\",\"2021-11-03 04:05:08.631915008-05:00\",\"2021-11-03 05:05:07.320007168-05:00\",\"2021-11-03 06:05:07.155592960-05:00\",\"2021-11-03 07:05:06.728827648-05:00\",\"2021-11-03 08:05:06.894033920-05:00\",\"2021-11-03 09:05:07.415271168-05:00\",\"2021-11-03 10:05:07.599998976-05:00\",\"2021-11-03 11:05:06.932211456-05:00\",\"2021-11-03 12:05:07.012600832-05:00\",\"2021-11-03 13:05:07.310945536-05:00\",\"2021-11-03 14:05:07.048492288-05:00\",\"2021-11-03 15:05:06.860897536-05:00\",\"2021-11-03 16:05:09.774579712-05:00\",\"2021-11-03 17:05:06.530479872-05:00\",\"2021-11-03 18:05:06.745958400-05:00\",\"2021-11-03 19:05:07.998330624-05:00\",\"2021-11-03 20:05:07.334008064-05:00\",\"2021-11-03 21:05:07.802955520-05:00\",\"2021-11-03 22:05:07.286757632-05:00\",\"2021-11-04 04:05:07.255447552-05:00\",\"2021-11-04 05:05:07.020968960-05:00\",\"2021-11-04 06:05:06.813147136-05:00\",\"2021-11-04 07:05:07.325139456-05:00\",\"2021-11-04 08:05:06.572851200-05:00\",\"2021-11-04 09:05:07.369242368-05:00\",\"2021-11-04 10:05:07.015595264-05:00\",\"2021-11-04 11:05:07.065130240-05:00\",\"2021-11-04 12:05:06.922606592-05:00\",\"2021-11-04 13:05:06.586775040-05:00\",\"2021-11-04 14:05:07.994463488-05:00\",\"2021-11-04 15:05:07.695080448-05:00\",\"2021-11-04 16:05:06.761616128-05:00\",\"2021-11-04 17:05:06.835035136-05:00\",\"2021-11-04 18:05:06.721310720-05:00\",\"2021-11-04 19:05:06.945941504-05:00\",\"2021-11-04 20:05:07.242341888-05:00\",\"2021-11-04 21:05:07.009565440-05:00\",\"2021-11-04 22:05:06.937311488-05:00\",\"2021-11-05 04:05:08.306945536-05:00\",\"2021-11-05 05:05:07.168435712-05:00\",\"2021-11-05 06:05:06.880559360-05:00\",\"2021-11-05 07:05:07.333539584-05:00\",\"2021-11-05 08:05:07.370384896-05:00\",\"2021-11-05 09:05:08.620326656-05:00\",\"2021-11-05 10:05:06.498119936-05:00\",\"2021-11-05 11:05:07.421735168-05:00\",\"2021-11-05 12:05:07.062894080-05:00\",\"2021-11-05 13:05:06.833586432-05:00\",\"2021-11-05 14:05:06.951030528-05:00\",\"2021-11-05 15:05:07.289526528-05:00\",\"2021-11-05 16:05:06.866111744-05:00\",\"2021-11-05 17:05:07.007454208-05:00\",\"2021-11-05 18:05:07.581816832-05:00\",\"2021-11-05 19:05:07.761609216-05:00\",\"2021-11-05 20:05:07.147636224-05:00\",\"2021-11-05 21:05:07.371607040-05:00\",\"2021-11-05 22:05:06.827217152-05:00\",\"2021-11-06 04:05:09.280331008-05:00\",\"2021-11-06 05:05:06.630336256-05:00\",\"2021-11-06 06:05:06.701984512-05:00\",\"2021-11-06 07:05:07.257540352-05:00\",\"2021-11-06 08:05:07.183721728-05:00\",\"2021-11-06 09:05:07.328672768-05:00\",\"2021-11-06 10:05:06.830691072-05:00\",\"2021-11-06 11:05:07.735953664-05:00\",\"2021-11-06 12:05:06.598551040-05:00\",\"2021-11-06 13:05:07.106703616-05:00\",\"2021-11-06 14:05:06.733968128-05:00\",\"2021-11-06 15:05:07.386978304-05:00\",\"2021-11-06 16:05:06.854473984-05:00\",\"2021-11-06 17:05:07.214420992-05:00\",\"2021-11-06 18:05:07.263240192-05:00\",\"2021-11-06 19:05:09.120076288-05:00\",\"2021-11-06 20:05:06.782848512-05:00\",\"2021-11-06 21:05:08.716771840-05:00\",\"2021-11-06 22:05:08.308654336-05:00\",\"2021-11-07 05:05:08.092950016-05:00\",\"2021-11-07 06:05:06.902335488-05:00\",\"2021-11-07 07:05:07.421212416-05:00\",\"2021-11-07 08:05:07.697420544-05:00\",\"2021-11-07 09:05:06.503002880-05:00\",\"2021-11-07 10:05:07.128076288-05:00\",\"2021-11-07 11:05:06.605932288-05:00\",\"2021-11-07 12:05:06.677302784-05:00\",\"2021-11-07 13:05:06.462185472-05:00\",\"2021-11-07 14:05:07.482628608-05:00\",\"2021-11-07 15:05:07.891970048-05:00\",\"2021-11-07 16:05:06.909557760-05:00\",\"2021-11-07 17:05:06.797207296-05:00\",\"2021-11-07 18:05:07.155593728-05:00\",\"2021-11-07 19:05:07.603543552-05:00\",\"2021-11-07 20:05:06.729434624-05:00\",\"2021-11-07 21:05:07.158727424-05:00\",\"2021-11-07 22:05:07.266214400-05:00\",\"2021-11-07 23:05:07.453774080-05:00\",\"2021-11-08 05:05:06.997000704-05:00\",\"2021-11-08 06:05:07.465590016-05:00\",\"2021-11-08 07:05:06.421606400-05:00\",\"2021-11-08 08:05:07.527194624-05:00\",\"2021-11-08 09:05:07.091159552-05:00\",\"2021-11-08 10:05:06.647118080-05:00\",\"2021-11-08 11:05:06.939401472-05:00\",\"2021-11-08 12:05:07.398587648-05:00\",\"2021-11-08 13:05:06.828845568-05:00\",\"2021-11-08 14:05:07.236062208-05:00\",\"2021-11-08 15:05:07.358586368-05:00\",\"2021-11-08 16:05:08.788407552-05:00\",\"2021-11-08 17:05:07.812335104-05:00\",\"2021-11-08 18:05:08.335282688-05:00\",\"2021-11-08 19:05:08.199793152-05:00\",\"2021-11-08 20:05:10.278596608-05:00\",\"2021-11-08 21:05:07.871051520-05:00\",\"2021-11-08 22:05:07.597391360-05:00\",\"2021-11-08 23:05:07.785157376-05:00\"],\"y\":[0.0,9.0,37.0,40.0,49.0,29.0,29.0,41.0,35.0,37.0,54.0,50.0,57.0,77.0,64.0,58.0,47.0,46.0,46.0,0.0,46.0,20.0,32.0,27.0,19.0,31.0,35.0,30.0,30.0,30.0,30.0,30.0,63.0,65.0,63.0,63.0,67.0,67.0,0.0,18.0,38.0,38.0,34.0,33.0,36.0,34.0,34.0,23.0,33.0,68.0,60.0,57.0,46.0,44.0,48.0,51.0,35.0,0.0,73.0,25.0,34.0,25.0,32.0,24.0,33.0,27.0,43.0,41.0,35.0,43.0,53.0,53.0,49.0,37.0,24.0,44.0,0.0,44.0,18.0,28.0,28.0,30.0,36.0,49.0,37.0,41.0,37.0,37.0,37.0,57.0,57.0,59.0,31.0,34.0,31.0,0.0,23.0,23.0,23.0,2.0,14.0,39.0,24.0,23.0,19.0,20.0,21.0,37.0,33.0,28.0,14.0,21.0,32.0,15.0,15.0,15.0,15.0,15.0,15.0,15.0,16.0,49.0,28.0,23.0,35.0,31.0,30.0,37.0,40.0,31.0,23.0,20.0,27.0,27.0,27.0,25.0,37.0,41.0,37.0,33.0,44.0,39.0,28.0,38.0,48.0,81.0,68.0,85.0,72.0,67.0,57.0,53.0]}],                        {\"legend\":{\"bgcolor\":\"#FFFFFF\",\"font\":{\"color\":\"#666666\"}},\"paper_bgcolor\":\"#FFFFFF\",\"plot_bgcolor\":\"#E5E5E5\",\"template\":{\"data\":{\"bar\":[{\"error_x\":{\"color\":\"#2a3f5f\"},\"error_y\":{\"color\":\"#2a3f5f\"},\"marker\":{\"line\":{\"color\":\"#E5ECF6\",\"width\":0.5},\"pattern\":{\"fillmode\":\"overlay\",\"size\":10,\"solidity\":0.2}},\"type\":\"bar\"}],\"barpolar\":[{\"marker\":{\"line\":{\"color\":\"#E5ECF6\",\"width\":0.5},\"pattern\":{\"fillmode\":\"overlay\",\"size\":10,\"solidity\":0.2}},\"type\":\"barpolar\"}],\"carpet\":[{\"aaxis\":{\"endlinecolor\":\"#2a3f5f\",\"gridcolor\":\"white\",\"linecolor\":\"white\",\"minorgridcolor\":\"white\",\"startlinecolor\":\"#2a3f5f\"},\"baxis\":{\"endlinecolor\":\"#2a3f5f\",\"gridcolor\":\"white\",\"linecolor\":\"white\",\"minorgridcolor\":\"white\",\"startlinecolor\":\"#2a3f5f\"},\"type\":\"carpet\"}],\"choropleth\":[{\"colorbar\":{\"outlinewidth\":0,\"ticks\":\"\"},\"type\":\"choropleth\"}],\"contour\":[{\"colorbar\":{\"outlinewidth\":0,\"ticks\":\"\"},\"colorscale\":[[0.0,\"#0d0887\"],[0.1111111111111111,\"#46039f\"],[0.2222222222222222,\"#7201a8\"],[0.3333333333333333,\"#9c179e\"],[0.4444444444444444,\"#bd3786\"],[0.5555555555555556,\"#d8576b\"],[0.6666666666666666,\"#ed7953\"],[0.7777777777777778,\"#fb9f3a\"],[0.8888888888888888,\"#fdca26\"],[1.0,\"#f0f921\"]],\"type\":\"contour\"}],\"contourcarpet\":[{\"colorbar\":{\"outlinewidth\":0,\"ticks\":\"\"},\"type\":\"contourcarpet\"}],\"heatmap\":[{\"colorbar\":{\"outlinewidth\":0,\"ticks\":\"\"},\"colorscale\":[[0.0,\"#0d0887\"],[0.1111111111111111,\"#46039f\"],[0.2222222222222222,\"#7201a8\"],[0.3333333333333333,\"#9c179e\"],[0.4444444444444444,\"#bd3786\"],[0.5555555555555556,\"#d8576b\"],[0.6666666666666666,\"#ed7953\"],[0.7777777777777778,\"#fb9f3a\"],[0.8888888888888888,\"#fdca26\"],[1.0,\"#f0f921\"]],\"type\":\"heatmap\"}],\"heatmapgl\":[{\"colorbar\":{\"outlinewidth\":0,\"ticks\":\"\"},\"colorscale\":[[0.0,\"#0d0887\"],[0.1111111111111111,\"#46039f\"],[0.2222222222222222,\"#7201a8\"],[0.3333333333333333,\"#9c179e\"],[0.4444444444444444,\"#bd3786\"],[0.5555555555555556,\"#d8576b\"],[0.6666666666666666,\"#ed7953\"],[0.7777777777777778,\"#fb9f3a\"],[0.8888888888888888,\"#fdca26\"],[1.0,\"#f0f921\"]],\"type\":\"heatmapgl\"}],\"histogram\":[{\"marker\":{\"pattern\":{\"fillmode\":\"overlay\",\"size\":10,\"solidity\":0.2}},\"type\":\"histogram\"}],\"histogram2d\":[{\"colorbar\":{\"outlinewidth\":0,\"ticks\":\"\"},\"colorscale\":[[0.0,\"#0d0887\"],[0.1111111111111111,\"#46039f\"],[0.2222222222222222,\"#7201a8\"],[0.3333333333333333,\"#9c179e\"],[0.4444444444444444,\"#bd3786\"],[0.5555555555555556,\"#d8576b\"],[0.6666666666666666,\"#ed7953\"],[0.7777777777777778,\"#fb9f3a\"],[0.8888888888888888,\"#fdca26\"],[1.0,\"#f0f921\"]],\"type\":\"histogram2d\"}],\"histogram2dcontour\":[{\"colorbar\":{\"outlinewidth\":0,\"ticks\":\"\"},\"colorscale\":[[0.0,\"#0d0887\"],[0.1111111111111111,\"#46039f\"],[0.2222222222222222,\"#7201a8\"],[0.3333333333333333,\"#9c179e\"],[0.4444444444444444,\"#bd3786\"],[0.5555555555555556,\"#d8576b\"],[0.6666666666666666,\"#ed7953\"],[0.7777777777777778,\"#fb9f3a\"],[0.8888888888888888,\"#fdca26\"],[1.0,\"#f0f921\"]],\"type\":\"histogram2dcontour\"}],\"mesh3d\":[{\"colorbar\":{\"outlinewidth\":0,\"ticks\":\"\"},\"type\":\"mesh3d\"}],\"parcoords\":[{\"line\":{\"colorbar\":{\"outlinewidth\":0,\"ticks\":\"\"}},\"type\":\"parcoords\"}],\"pie\":[{\"automargin\":true,\"type\":\"pie\"}],\"scatter\":[{\"marker\":{\"colorbar\":{\"outlinewidth\":0,\"ticks\":\"\"}},\"type\":\"scatter\"}],\"scatter3d\":[{\"line\":{\"colorbar\":{\"outlinewidth\":0,\"ticks\":\"\"}},\"marker\":{\"colorbar\":{\"outlinewidth\":0,\"ticks\":\"\"}},\"type\":\"scatter3d\"}],\"scattercarpet\":[{\"marker\":{\"colorbar\":{\"outlinewidth\":0,\"ticks\":\"\"}},\"type\":\"scattercarpet\"}],\"scattergeo\":[{\"marker\":{\"colorbar\":{\"outlinewidth\":0,\"ticks\":\"\"}},\"type\":\"scattergeo\"}],\"scattergl\":[{\"marker\":{\"colorbar\":{\"outlinewidth\":0,\"ticks\":\"\"}},\"type\":\"scattergl\"}],\"scattermapbox\":[{\"marker\":{\"colorbar\":{\"outlinewidth\":0,\"ticks\":\"\"}},\"type\":\"scattermapbox\"}],\"scatterpolar\":[{\"marker\":{\"colorbar\":{\"outlinewidth\":0,\"ticks\":\"\"}},\"type\":\"scatterpolar\"}],\"scatterpolargl\":[{\"marker\":{\"colorbar\":{\"outlinewidth\":0,\"ticks\":\"\"}},\"type\":\"scatterpolargl\"}],\"scatterternary\":[{\"marker\":{\"colorbar\":{\"outlinewidth\":0,\"ticks\":\"\"}},\"type\":\"scatterternary\"}],\"surface\":[{\"colorbar\":{\"outlinewidth\":0,\"ticks\":\"\"},\"colorscale\":[[0.0,\"#0d0887\"],[0.1111111111111111,\"#46039f\"],[0.2222222222222222,\"#7201a8\"],[0.3333333333333333,\"#9c179e\"],[0.4444444444444444,\"#bd3786\"],[0.5555555555555556,\"#d8576b\"],[0.6666666666666666,\"#ed7953\"],[0.7777777777777778,\"#fb9f3a\"],[0.8888888888888888,\"#fdca26\"],[1.0,\"#f0f921\"]],\"type\":\"surface\"}],\"table\":[{\"cells\":{\"fill\":{\"color\":\"#EBF0F8\"},\"line\":{\"color\":\"white\"}},\"header\":{\"fill\":{\"color\":\"#C8D4E3\"},\"line\":{\"color\":\"white\"}},\"type\":\"table\"}]},\"layout\":{\"annotationdefaults\":{\"arrowcolor\":\"#2a3f5f\",\"arrowhead\":0,\"arrowwidth\":1},\"autotypenumbers\":\"strict\",\"coloraxis\":{\"colorbar\":{\"outlinewidth\":0,\"ticks\":\"\"}},\"colorscale\":{\"diverging\":[[0,\"#8e0152\"],[0.1,\"#c51b7d\"],[0.2,\"#de77ae\"],[0.3,\"#f1b6da\"],[0.4,\"#fde0ef\"],[0.5,\"#f7f7f7\"],[0.6,\"#e6f5d0\"],[0.7,\"#b8e186\"],[0.8,\"#7fbc41\"],[0.9,\"#4d9221\"],[1,\"#276419\"]],\"sequential\":[[0.0,\"#0d0887\"],[0.1111111111111111,\"#46039f\"],[0.2222222222222222,\"#7201a8\"],[0.3333333333333333,\"#9c179e\"],[0.4444444444444444,\"#bd3786\"],[0.5555555555555556,\"#d8576b\"],[0.6666666666666666,\"#ed7953\"],[0.7777777777777778,\"#fb9f3a\"],[0.8888888888888888,\"#fdca26\"],[1.0,\"#f0f921\"]],\"sequentialminus\":[[0.0,\"#0d0887\"],[0.1111111111111111,\"#46039f\"],[0.2222222222222222,\"#7201a8\"],[0.3333333333333333,\"#9c179e\"],[0.4444444444444444,\"#bd3786\"],[0.5555555555555556,\"#d8576b\"],[0.6666666666666666,\"#ed7953\"],[0.7777777777777778,\"#fb9f3a\"],[0.8888888888888888,\"#fdca26\"],[1.0,\"#f0f921\"]]},\"colorway\":[\"#636efa\",\"#EF553B\",\"#00cc96\",\"#ab63fa\",\"#FFA15A\",\"#19d3f3\",\"#FF6692\",\"#B6E880\",\"#FF97FF\",\"#FECB52\"],\"font\":{\"color\":\"#2a3f5f\"},\"geo\":{\"bgcolor\":\"white\",\"lakecolor\":\"white\",\"landcolor\":\"#E5ECF6\",\"showlakes\":true,\"showland\":true,\"subunitcolor\":\"white\"},\"hoverlabel\":{\"align\":\"left\"},\"hovermode\":\"closest\",\"mapbox\":{\"style\":\"light\"},\"paper_bgcolor\":\"white\",\"plot_bgcolor\":\"#E5ECF6\",\"polar\":{\"angularaxis\":{\"gridcolor\":\"white\",\"linecolor\":\"white\",\"ticks\":\"\"},\"bgcolor\":\"#E5ECF6\",\"radialaxis\":{\"gridcolor\":\"white\",\"linecolor\":\"white\",\"ticks\":\"\"}},\"scene\":{\"xaxis\":{\"backgroundcolor\":\"#E5ECF6\",\"gridcolor\":\"white\",\"gridwidth\":2,\"linecolor\":\"white\",\"showbackground\":true,\"ticks\":\"\",\"zerolinecolor\":\"white\"},\"yaxis\":{\"backgroundcolor\":\"#E5ECF6\",\"gridcolor\":\"white\",\"gridwidth\":2,\"linecolor\":\"white\",\"showbackground\":true,\"ticks\":\"\",\"zerolinecolor\":\"white\"},\"zaxis\":{\"backgroundcolor\":\"#E5ECF6\",\"gridcolor\":\"white\",\"gridwidth\":2,\"linecolor\":\"white\",\"showbackground\":true,\"ticks\":\"\",\"zerolinecolor\":\"white\"}},\"shapedefaults\":{\"line\":{\"color\":\"#2a3f5f\"}},\"ternary\":{\"aaxis\":{\"gridcolor\":\"white\",\"linecolor\":\"white\",\"ticks\":\"\"},\"baxis\":{\"gridcolor\":\"white\",\"linecolor\":\"white\",\"ticks\":\"\"},\"bgcolor\":\"#E5ECF6\",\"caxis\":{\"gridcolor\":\"white\",\"linecolor\":\"white\",\"ticks\":\"\"}},\"title\":{\"x\":0.05},\"xaxis\":{\"automargin\":true,\"gridcolor\":\"white\",\"linecolor\":\"white\",\"ticks\":\"\",\"title\":{\"standoff\":15},\"zerolinecolor\":\"white\",\"zerolinewidth\":2},\"yaxis\":{\"automargin\":true,\"gridcolor\":\"white\",\"linecolor\":\"white\",\"ticks\":\"\",\"title\":{\"standoff\":15},\"zerolinecolor\":\"white\",\"zerolinewidth\":2}}},\"title\":{\"font\":{\"color\":\"#151516\"}},\"xaxis\":{\"gridcolor\":\"#F6F6F6\",\"showgrid\":true,\"tickfont\":{\"color\":\"#666666\"},\"title\":{\"font\":{\"color\":\"#666666\"},\"text\":\"\"},\"zerolinecolor\":\"#F6F6F6\"},\"yaxis\":{\"gridcolor\":\"#F6F6F6\",\"showgrid\":true,\"tickfont\":{\"color\":\"#666666\"},\"title\":{\"font\":{\"color\":\"#666666\"},\"text\":\"\"},\"zerolinecolor\":\"#F6F6F6\"}},                        {\"responsive\": true}                    ).then(function(){\n",
       "                            \n",
       "var gd = document.getElementById('4c099aa1-59f8-4ab1-9999-5c769347cd64');\n",
       "var x = new MutationObserver(function (mutations, observer) {{\n",
       "        var display = window.getComputedStyle(gd).display;\n",
       "        if (!display || display === 'none') {{\n",
       "            console.log([gd, 'removed!']);\n",
       "            Plotly.purge(gd);\n",
       "            observer.disconnect();\n",
       "        }}\n",
       "}});\n",
       "\n",
       "// Listen for the removal of the full notebook cells\n",
       "var notebookContainer = gd.closest('#notebook-container');\n",
       "if (notebookContainer) {{\n",
       "    x.observe(notebookContainer, {childList: true});\n",
       "}}\n",
       "\n",
       "// Listen for the clearing of the current output cell\n",
       "var outputEl = gd.closest('.output');\n",
       "if (outputEl) {{\n",
       "    x.observe(outputEl, {childList: true});\n",
       "}}\n",
       "\n",
       "                        })                };                });            </script>        </div>"
      ]
     },
     "metadata": {},
     "output_type": "display_data"
    }
   ],
   "source": [
    "fig = eastdf.iplot(kind='scatter',\n",
    "                     x = 'date_time',\n",
    "                     y = 'current_capacity',\n",
    "                     asFigure=True)\n",
    "fig.update_traces(mode='lines+markers')"
   ]
  },
  {
   "cell_type": "code",
   "execution_count": 13,
   "id": "d87ed8d3",
   "metadata": {},
   "outputs": [
    {
     "data": {
      "application/vnd.plotly.v1+json": {
       "config": {
        "plotlyServerURL": "https://plot.ly"
       },
       "data": [
        {
         "marker": {
          "color": [
           "rgba(226, 74, 51, 1.0)",
           "rgba(62, 111, 176, 1.0)",
           "rgba(132, 118, 202, 1.0)",
           "rgba(101, 101, 101, 1.0)",
           "rgba(251, 193, 94, 1.0)",
           "rgba(142, 186, 66, 1.0)",
           "rgba(255, 181, 184, 1.0)",
           "rgba(255, 181, 184, 0.9616438356164383)",
           "rgba(226, 74, 51, 0.9616438356164383)",
           "rgba(62, 111, 176, 0.9616438356164383)",
           "rgba(132, 118, 202, 0.9616438356164383)",
           "rgba(101, 101, 101, 0.9616438356164383)",
           "rgba(251, 193, 94, 0.9616438356164383)",
           "rgba(142, 186, 66, 0.9616438356164383)",
           "rgba(142, 186, 66, 0.9232876712328766)",
           "rgba(255, 181, 184, 0.9232876712328766)",
           "rgba(226, 74, 51, 0.9232876712328766)",
           "rgba(62, 111, 176, 0.9232876712328766)",
           "rgba(132, 118, 202, 0.9232876712328766)",
           "rgba(101, 101, 101, 0.9232876712328766)",
           "rgba(251, 193, 94, 0.9232876712328766)",
           "rgba(251, 193, 94, 0.8849315068493151)",
           "rgba(142, 186, 66, 0.8849315068493151)",
           "rgba(255, 181, 184, 0.8849315068493151)",
           "rgba(226, 74, 51, 0.8849315068493151)",
           "rgba(62, 111, 176, 0.8849315068493151)",
           "rgba(132, 118, 202, 0.8849315068493151)",
           "rgba(101, 101, 101, 0.8849315068493151)",
           "rgba(101, 101, 101, 0.8465753424657534)",
           "rgba(251, 193, 94, 0.8465753424657534)",
           "rgba(142, 186, 66, 0.8465753424657534)",
           "rgba(255, 181, 184, 0.8465753424657534)",
           "rgba(226, 74, 51, 0.8465753424657534)",
           "rgba(62, 111, 176, 0.8465753424657534)",
           "rgba(132, 118, 202, 0.8465753424657534)",
           "rgba(132, 118, 202, 0.8082191780821917)",
           "rgba(101, 101, 101, 0.8082191780821917)",
           "rgba(251, 193, 94, 0.8082191780821917)",
           "rgba(142, 186, 66, 0.8082191780821917)",
           "rgba(255, 181, 184, 0.8082191780821917)",
           "rgba(226, 74, 51, 0.8082191780821917)",
           "rgba(62, 111, 176, 0.8082191780821917)",
           "rgba(62, 111, 176, 0.76986301369863)",
           "rgba(132, 118, 202, 0.76986301369863)",
           "rgba(101, 101, 101, 0.76986301369863)",
           "rgba(251, 193, 94, 0.76986301369863)",
           "rgba(142, 186, 66, 0.76986301369863)",
           "rgba(255, 181, 184, 0.76986301369863)",
           "rgba(226, 74, 51, 0.76986301369863)",
           "rgba(226, 74, 51, 0.7315068493150685)",
           "rgba(62, 111, 176, 0.7315068493150685)",
           "rgba(132, 118, 202, 0.7315068493150685)",
           "rgba(101, 101, 101, 0.7315068493150685)",
           "rgba(251, 193, 94, 0.7315068493150685)",
           "rgba(142, 186, 66, 0.7315068493150685)",
           "rgba(255, 181, 184, 0.7315068493150685)",
           "rgba(255, 181, 184, 0.6931506849315068)",
           "rgba(226, 74, 51, 0.6931506849315068)",
           "rgba(62, 111, 176, 0.6931506849315068)",
           "rgba(132, 118, 202, 0.6931506849315068)",
           "rgba(101, 101, 101, 0.6931506849315068)",
           "rgba(251, 193, 94, 0.6931506849315068)",
           "rgba(142, 186, 66, 0.6931506849315068)",
           "rgba(142, 186, 66, 0.6547945205479451)",
           "rgba(255, 181, 184, 0.6547945205479451)",
           "rgba(226, 74, 51, 0.6547945205479451)",
           "rgba(62, 111, 176, 0.6547945205479451)",
           "rgba(132, 118, 202, 0.6547945205479451)",
           "rgba(101, 101, 101, 0.6547945205479451)",
           "rgba(251, 193, 94, 0.6547945205479451)",
           "rgba(251, 193, 94, 0.6164383561643834)",
           "rgba(142, 186, 66, 0.6164383561643834)",
           "rgba(255, 181, 184, 0.6164383561643834)",
           "rgba(226, 74, 51, 0.6164383561643834)",
           "rgba(62, 111, 176, 0.6164383561643834)",
           "rgba(132, 118, 202, 0.6164383561643834)",
           "rgba(101, 101, 101, 0.6164383561643834)",
           "rgba(101, 101, 101, 0.5780821917808219)",
           "rgba(251, 193, 94, 0.5780821917808219)",
           "rgba(142, 186, 66, 0.5780821917808219)",
           "rgba(255, 181, 184, 0.5780821917808219)",
           "rgba(226, 74, 51, 0.5780821917808219)",
           "rgba(62, 111, 176, 0.5780821917808219)",
           "rgba(132, 118, 202, 0.5780821917808219)",
           "rgba(132, 118, 202, 0.5397260273972602)",
           "rgba(101, 101, 101, 0.5397260273972602)",
           "rgba(251, 193, 94, 0.5397260273972602)",
           "rgba(142, 186, 66, 0.5397260273972602)",
           "rgba(255, 181, 184, 0.5397260273972602)",
           "rgba(226, 74, 51, 0.5397260273972602)",
           "rgba(62, 111, 176, 0.5397260273972602)",
           "rgba(62, 111, 176, 0.5013698630136985)",
           "rgba(132, 118, 202, 0.5013698630136985)",
           "rgba(101, 101, 101, 0.5013698630136985)",
           "rgba(251, 193, 94, 0.5013698630136985)",
           "rgba(142, 186, 66, 0.5013698630136985)",
           "rgba(255, 181, 184, 0.5013698630136985)",
           "rgba(226, 74, 51, 0.5013698630136985)",
           "rgba(226, 74, 51, 0.4630136986301368)",
           "rgba(62, 111, 176, 0.4630136986301368)",
           "rgba(132, 118, 202, 0.4630136986301368)",
           "rgba(101, 101, 101, 0.4630136986301368)",
           "rgba(251, 193, 94, 0.4630136986301368)",
           "rgba(142, 186, 66, 0.4630136986301368)",
           "rgba(255, 181, 184, 0.4630136986301368)",
           "rgba(255, 181, 184, 0.4246575342465753)",
           "rgba(226, 74, 51, 0.4246575342465753)",
           "rgba(62, 111, 176, 0.4246575342465753)",
           "rgba(132, 118, 202, 0.4246575342465753)",
           "rgba(101, 101, 101, 0.4246575342465753)",
           "rgba(251, 193, 94, 0.4246575342465753)",
           "rgba(142, 186, 66, 0.4246575342465753)",
           "rgba(142, 186, 66, 0.3863013698630136)",
           "rgba(255, 181, 184, 0.3863013698630136)",
           "rgba(226, 74, 51, 0.3863013698630136)",
           "rgba(62, 111, 176, 0.3863013698630136)",
           "rgba(132, 118, 202, 0.3863013698630136)",
           "rgba(101, 101, 101, 0.3863013698630136)",
           "rgba(251, 193, 94, 0.3863013698630136)",
           "rgba(251, 193, 94, 0.3479452054794519)",
           "rgba(142, 186, 66, 0.3479452054794519)",
           "rgba(255, 181, 184, 0.3479452054794519)",
           "rgba(226, 74, 51, 0.3479452054794519)",
           "rgba(62, 111, 176, 0.3479452054794519)",
           "rgba(132, 118, 202, 0.3479452054794519)",
           "rgba(101, 101, 101, 0.3479452054794519)",
           "rgba(101, 101, 101, 0.3095890410958902)",
           "rgba(251, 193, 94, 0.3095890410958902)",
           "rgba(142, 186, 66, 0.3095890410958902)",
           "rgba(255, 181, 184, 0.3095890410958902)",
           "rgba(226, 74, 51, 0.3095890410958902)",
           "rgba(62, 111, 176, 0.3095890410958902)",
           "rgba(132, 118, 202, 0.3095890410958902)",
           "rgba(132, 118, 202, 0.2712328767123287)",
           "rgba(101, 101, 101, 0.2712328767123287)",
           "rgba(251, 193, 94, 0.2712328767123287)",
           "rgba(142, 186, 66, 0.2712328767123287)",
           "rgba(255, 181, 184, 0.2712328767123287)",
           "rgba(226, 74, 51, 0.2712328767123287)",
           "rgba(62, 111, 176, 0.2712328767123287)",
           "rgba(62, 111, 176, 0.232876712328767)",
           "rgba(132, 118, 202, 0.232876712328767)",
           "rgba(101, 101, 101, 0.232876712328767)",
           "rgba(251, 193, 94, 0.232876712328767)",
           "rgba(142, 186, 66, 0.232876712328767)",
           "rgba(255, 181, 184, 0.232876712328767)"
          ],
          "opacity": 0.8,
          "size": [
           12,
           12,
           12,
           12,
           12,
           12,
           12,
           12,
           12,
           12,
           12,
           12,
           12,
           12,
           12,
           12,
           12,
           12,
           12,
           12,
           12,
           12,
           12,
           12,
           12,
           12,
           12,
           12,
           12,
           12,
           12,
           12,
           12,
           12,
           12,
           12,
           12,
           12,
           12,
           12,
           12,
           12,
           12,
           12,
           12,
           12,
           12,
           12,
           12,
           12,
           12,
           12,
           12,
           12,
           12,
           12,
           12,
           12,
           12,
           12,
           12,
           12,
           12,
           12,
           12,
           12,
           12,
           12,
           12,
           12,
           12,
           12,
           12,
           12,
           12,
           12,
           12,
           12,
           12,
           12,
           12,
           12,
           12,
           12,
           12,
           12,
           12,
           12,
           12,
           12,
           12,
           12,
           12,
           12,
           12,
           12,
           12,
           12,
           12,
           12,
           12,
           12,
           12,
           12,
           12,
           12,
           12,
           12,
           12,
           12,
           12,
           12,
           12,
           12,
           12,
           12,
           12,
           12,
           12,
           12,
           12,
           12,
           12,
           12,
           12,
           12,
           12,
           12,
           12,
           12,
           12,
           12,
           12,
           12,
           12,
           12,
           12,
           12,
           12,
           12,
           12,
           12,
           12,
           12,
           12,
           12
          ],
          "symbol": "circle"
         },
         "mode": "markers",
         "text": [
          "0",
          "1",
          "2",
          "3",
          "4",
          "5",
          "6",
          "7",
          "8",
          "9",
          "10",
          "11",
          "12",
          "13",
          "14",
          "15",
          "16",
          "17",
          "18",
          "19",
          "20",
          "21",
          "22",
          "23",
          "24",
          "25",
          "26",
          "27",
          "28",
          "29",
          "30",
          "31",
          "32",
          "33",
          "34",
          "35",
          "36",
          "37",
          "38",
          "39",
          "40",
          "41",
          "42",
          "43",
          "44",
          "45",
          "46",
          "47",
          "48",
          "49",
          "50",
          "51",
          "52",
          "53",
          "54",
          "55",
          "56",
          "57",
          "58",
          "59",
          "60",
          "61",
          "62",
          "63",
          "64",
          "65",
          "66",
          "67",
          "68",
          "69",
          "70",
          "71",
          "72",
          "73",
          "74",
          "75",
          "76",
          "77",
          "78",
          "79",
          "80",
          "81",
          "82",
          "83",
          "84",
          "85",
          "86",
          "87",
          "88",
          "89",
          "90",
          "91",
          "92",
          "93",
          "94",
          "95",
          "96",
          "97",
          "98",
          "99",
          "100",
          "101",
          "102",
          "103",
          "104",
          "105",
          "106",
          "107",
          "108",
          "109",
          "110",
          "111",
          "112",
          "113",
          "114",
          "115",
          "116",
          "117",
          "118",
          "119",
          "120",
          "121",
          "122",
          "123",
          "124",
          "125",
          "126",
          "127",
          "128",
          "129",
          "130",
          "131",
          "132",
          "133",
          "134",
          "135",
          "136",
          "137",
          "138",
          "139",
          "140",
          "141",
          "142",
          "143",
          "144",
          "145"
         ],
         "type": "scatter3d",
         "x": [
          5,
          6,
          7,
          8,
          9,
          10,
          11,
          12,
          13,
          14,
          15,
          16,
          17,
          18,
          19,
          20,
          21,
          22,
          5,
          6,
          7,
          8,
          9,
          10,
          11,
          12,
          13,
          14,
          15,
          16,
          17,
          18,
          19,
          20,
          21,
          22,
          5,
          6,
          7,
          8,
          9,
          10,
          11,
          12,
          13,
          14,
          15,
          16,
          17,
          18,
          19,
          20,
          21,
          22,
          5,
          6,
          7,
          8,
          9,
          10,
          11,
          12,
          13,
          14,
          15,
          16,
          17,
          18,
          19,
          20,
          21,
          22,
          5,
          6,
          7,
          8,
          9,
          10,
          11,
          12,
          13,
          14,
          15,
          16,
          17,
          18,
          19,
          20,
          21,
          22,
          5,
          6,
          7,
          8,
          9,
          10,
          11,
          12,
          13,
          14,
          15,
          16,
          17,
          18,
          19,
          20,
          21,
          22,
          5,
          6,
          7,
          8,
          9,
          10,
          11,
          12,
          13,
          14,
          15,
          16,
          17,
          18,
          19,
          20,
          21,
          22,
          23,
          5,
          6,
          7,
          8,
          9,
          10,
          11,
          12,
          13,
          14,
          15,
          16,
          17,
          18,
          19,
          20,
          21,
          22,
          23
         ],
         "y": [
          0,
          0,
          0,
          0,
          0,
          0,
          0,
          0,
          0,
          0,
          0,
          0,
          0,
          0,
          0,
          0,
          0,
          0,
          1,
          1,
          1,
          1,
          1,
          1,
          1,
          1,
          1,
          1,
          1,
          1,
          1,
          1,
          1,
          1,
          1,
          1,
          2,
          2,
          2,
          2,
          2,
          2,
          2,
          2,
          2,
          2,
          2,
          2,
          2,
          2,
          2,
          2,
          2,
          2,
          3,
          3,
          3,
          3,
          3,
          3,
          3,
          3,
          3,
          3,
          3,
          3,
          3,
          3,
          3,
          3,
          3,
          3,
          4,
          4,
          4,
          4,
          4,
          4,
          4,
          4,
          4,
          4,
          4,
          4,
          4,
          4,
          4,
          4,
          4,
          4,
          5,
          5,
          5,
          5,
          5,
          5,
          5,
          5,
          5,
          5,
          5,
          5,
          5,
          5,
          5,
          5,
          5,
          5,
          6,
          6,
          6,
          6,
          6,
          6,
          6,
          6,
          6,
          6,
          6,
          6,
          6,
          6,
          6,
          6,
          6,
          6,
          6,
          0,
          0,
          0,
          0,
          0,
          0,
          0,
          0,
          0,
          0,
          0,
          0,
          0,
          0,
          0,
          0,
          0,
          0,
          0
         ],
         "z": [
          9,
          37,
          40,
          49,
          29,
          29,
          41,
          35,
          37,
          54,
          50,
          57,
          77,
          64,
          58,
          47,
          46,
          46,
          46,
          20,
          32,
          27,
          19,
          31,
          35,
          30,
          30,
          30,
          30,
          30,
          63,
          65,
          63,
          63,
          67,
          67,
          18,
          38,
          38,
          34,
          33,
          36,
          34,
          34,
          23,
          33,
          68,
          60,
          57,
          46,
          44,
          48,
          51,
          35,
          73,
          25,
          34,
          25,
          32,
          24,
          33,
          27,
          43,
          41,
          35,
          43,
          53,
          53,
          49,
          37,
          24,
          44,
          44,
          18,
          28,
          28,
          30,
          36,
          49,
          37,
          41,
          37,
          37,
          37,
          57,
          57,
          59,
          31,
          34,
          31,
          23,
          23,
          23,
          2,
          14,
          39,
          24,
          23,
          19,
          20,
          21,
          37,
          33,
          28,
          14,
          21,
          32,
          15,
          15,
          15,
          15,
          15,
          15,
          15,
          16,
          49,
          28,
          23,
          35,
          31,
          30,
          37,
          40,
          31,
          23,
          20,
          27,
          27,
          27,
          25,
          37,
          41,
          37,
          33,
          44,
          39,
          28,
          38,
          48,
          81,
          68,
          85,
          72,
          67,
          57,
          53
         ]
        }
       ],
       "layout": {
        "legend": {
         "bgcolor": "#FFFFFF",
         "font": {
          "color": "#666666"
         }
        },
        "paper_bgcolor": "#FFFFFF",
        "plot_bgcolor": "#E5E5E5",
        "scene": {
         "xaxis": {
          "gridcolor": "#F6F6F6",
          "showgrid": true,
          "tickfont": {
           "color": "#666666"
          },
          "title": {
           "font": {
            "color": "#666666"
           },
           "text": ""
          },
          "zerolinecolor": "#F6F6F6"
         },
         "yaxis": {
          "gridcolor": "#F6F6F6",
          "showgrid": true,
          "tickfont": {
           "color": "#666666"
          },
          "title": {
           "font": {
            "color": "#666666"
           },
           "text": ""
          },
          "zerolinecolor": "#F6F6F6"
         },
         "zaxis": {
          "gridcolor": "#F6F6F6",
          "showgrid": true,
          "tickfont": {
           "color": "#666666"
          },
          "title": {
           "font": {
            "color": "#666666"
           },
           "text": ""
          },
          "zerolinecolor": "#F6F6F6"
         }
        },
        "template": {
         "data": {
          "bar": [
           {
            "error_x": {
             "color": "#2a3f5f"
            },
            "error_y": {
             "color": "#2a3f5f"
            },
            "marker": {
             "line": {
              "color": "#E5ECF6",
              "width": 0.5
             },
             "pattern": {
              "fillmode": "overlay",
              "size": 10,
              "solidity": 0.2
             }
            },
            "type": "bar"
           }
          ],
          "barpolar": [
           {
            "marker": {
             "line": {
              "color": "#E5ECF6",
              "width": 0.5
             },
             "pattern": {
              "fillmode": "overlay",
              "size": 10,
              "solidity": 0.2
             }
            },
            "type": "barpolar"
           }
          ],
          "carpet": [
           {
            "aaxis": {
             "endlinecolor": "#2a3f5f",
             "gridcolor": "white",
             "linecolor": "white",
             "minorgridcolor": "white",
             "startlinecolor": "#2a3f5f"
            },
            "baxis": {
             "endlinecolor": "#2a3f5f",
             "gridcolor": "white",
             "linecolor": "white",
             "minorgridcolor": "white",
             "startlinecolor": "#2a3f5f"
            },
            "type": "carpet"
           }
          ],
          "choropleth": [
           {
            "colorbar": {
             "outlinewidth": 0,
             "ticks": ""
            },
            "type": "choropleth"
           }
          ],
          "contour": [
           {
            "colorbar": {
             "outlinewidth": 0,
             "ticks": ""
            },
            "colorscale": [
             [
              0,
              "#0d0887"
             ],
             [
              0.1111111111111111,
              "#46039f"
             ],
             [
              0.2222222222222222,
              "#7201a8"
             ],
             [
              0.3333333333333333,
              "#9c179e"
             ],
             [
              0.4444444444444444,
              "#bd3786"
             ],
             [
              0.5555555555555556,
              "#d8576b"
             ],
             [
              0.6666666666666666,
              "#ed7953"
             ],
             [
              0.7777777777777778,
              "#fb9f3a"
             ],
             [
              0.8888888888888888,
              "#fdca26"
             ],
             [
              1,
              "#f0f921"
             ]
            ],
            "type": "contour"
           }
          ],
          "contourcarpet": [
           {
            "colorbar": {
             "outlinewidth": 0,
             "ticks": ""
            },
            "type": "contourcarpet"
           }
          ],
          "heatmap": [
           {
            "colorbar": {
             "outlinewidth": 0,
             "ticks": ""
            },
            "colorscale": [
             [
              0,
              "#0d0887"
             ],
             [
              0.1111111111111111,
              "#46039f"
             ],
             [
              0.2222222222222222,
              "#7201a8"
             ],
             [
              0.3333333333333333,
              "#9c179e"
             ],
             [
              0.4444444444444444,
              "#bd3786"
             ],
             [
              0.5555555555555556,
              "#d8576b"
             ],
             [
              0.6666666666666666,
              "#ed7953"
             ],
             [
              0.7777777777777778,
              "#fb9f3a"
             ],
             [
              0.8888888888888888,
              "#fdca26"
             ],
             [
              1,
              "#f0f921"
             ]
            ],
            "type": "heatmap"
           }
          ],
          "heatmapgl": [
           {
            "colorbar": {
             "outlinewidth": 0,
             "ticks": ""
            },
            "colorscale": [
             [
              0,
              "#0d0887"
             ],
             [
              0.1111111111111111,
              "#46039f"
             ],
             [
              0.2222222222222222,
              "#7201a8"
             ],
             [
              0.3333333333333333,
              "#9c179e"
             ],
             [
              0.4444444444444444,
              "#bd3786"
             ],
             [
              0.5555555555555556,
              "#d8576b"
             ],
             [
              0.6666666666666666,
              "#ed7953"
             ],
             [
              0.7777777777777778,
              "#fb9f3a"
             ],
             [
              0.8888888888888888,
              "#fdca26"
             ],
             [
              1,
              "#f0f921"
             ]
            ],
            "type": "heatmapgl"
           }
          ],
          "histogram": [
           {
            "marker": {
             "pattern": {
              "fillmode": "overlay",
              "size": 10,
              "solidity": 0.2
             }
            },
            "type": "histogram"
           }
          ],
          "histogram2d": [
           {
            "colorbar": {
             "outlinewidth": 0,
             "ticks": ""
            },
            "colorscale": [
             [
              0,
              "#0d0887"
             ],
             [
              0.1111111111111111,
              "#46039f"
             ],
             [
              0.2222222222222222,
              "#7201a8"
             ],
             [
              0.3333333333333333,
              "#9c179e"
             ],
             [
              0.4444444444444444,
              "#bd3786"
             ],
             [
              0.5555555555555556,
              "#d8576b"
             ],
             [
              0.6666666666666666,
              "#ed7953"
             ],
             [
              0.7777777777777778,
              "#fb9f3a"
             ],
             [
              0.8888888888888888,
              "#fdca26"
             ],
             [
              1,
              "#f0f921"
             ]
            ],
            "type": "histogram2d"
           }
          ],
          "histogram2dcontour": [
           {
            "colorbar": {
             "outlinewidth": 0,
             "ticks": ""
            },
            "colorscale": [
             [
              0,
              "#0d0887"
             ],
             [
              0.1111111111111111,
              "#46039f"
             ],
             [
              0.2222222222222222,
              "#7201a8"
             ],
             [
              0.3333333333333333,
              "#9c179e"
             ],
             [
              0.4444444444444444,
              "#bd3786"
             ],
             [
              0.5555555555555556,
              "#d8576b"
             ],
             [
              0.6666666666666666,
              "#ed7953"
             ],
             [
              0.7777777777777778,
              "#fb9f3a"
             ],
             [
              0.8888888888888888,
              "#fdca26"
             ],
             [
              1,
              "#f0f921"
             ]
            ],
            "type": "histogram2dcontour"
           }
          ],
          "mesh3d": [
           {
            "colorbar": {
             "outlinewidth": 0,
             "ticks": ""
            },
            "type": "mesh3d"
           }
          ],
          "parcoords": [
           {
            "line": {
             "colorbar": {
              "outlinewidth": 0,
              "ticks": ""
             }
            },
            "type": "parcoords"
           }
          ],
          "pie": [
           {
            "automargin": true,
            "type": "pie"
           }
          ],
          "scatter": [
           {
            "marker": {
             "colorbar": {
              "outlinewidth": 0,
              "ticks": ""
             }
            },
            "type": "scatter"
           }
          ],
          "scatter3d": [
           {
            "line": {
             "colorbar": {
              "outlinewidth": 0,
              "ticks": ""
             }
            },
            "marker": {
             "colorbar": {
              "outlinewidth": 0,
              "ticks": ""
             }
            },
            "type": "scatter3d"
           }
          ],
          "scattercarpet": [
           {
            "marker": {
             "colorbar": {
              "outlinewidth": 0,
              "ticks": ""
             }
            },
            "type": "scattercarpet"
           }
          ],
          "scattergeo": [
           {
            "marker": {
             "colorbar": {
              "outlinewidth": 0,
              "ticks": ""
             }
            },
            "type": "scattergeo"
           }
          ],
          "scattergl": [
           {
            "marker": {
             "colorbar": {
              "outlinewidth": 0,
              "ticks": ""
             }
            },
            "type": "scattergl"
           }
          ],
          "scattermapbox": [
           {
            "marker": {
             "colorbar": {
              "outlinewidth": 0,
              "ticks": ""
             }
            },
            "type": "scattermapbox"
           }
          ],
          "scatterpolar": [
           {
            "marker": {
             "colorbar": {
              "outlinewidth": 0,
              "ticks": ""
             }
            },
            "type": "scatterpolar"
           }
          ],
          "scatterpolargl": [
           {
            "marker": {
             "colorbar": {
              "outlinewidth": 0,
              "ticks": ""
             }
            },
            "type": "scatterpolargl"
           }
          ],
          "scatterternary": [
           {
            "marker": {
             "colorbar": {
              "outlinewidth": 0,
              "ticks": ""
             }
            },
            "type": "scatterternary"
           }
          ],
          "surface": [
           {
            "colorbar": {
             "outlinewidth": 0,
             "ticks": ""
            },
            "colorscale": [
             [
              0,
              "#0d0887"
             ],
             [
              0.1111111111111111,
              "#46039f"
             ],
             [
              0.2222222222222222,
              "#7201a8"
             ],
             [
              0.3333333333333333,
              "#9c179e"
             ],
             [
              0.4444444444444444,
              "#bd3786"
             ],
             [
              0.5555555555555556,
              "#d8576b"
             ],
             [
              0.6666666666666666,
              "#ed7953"
             ],
             [
              0.7777777777777778,
              "#fb9f3a"
             ],
             [
              0.8888888888888888,
              "#fdca26"
             ],
             [
              1,
              "#f0f921"
             ]
            ],
            "type": "surface"
           }
          ],
          "table": [
           {
            "cells": {
             "fill": {
              "color": "#EBF0F8"
             },
             "line": {
              "color": "white"
             }
            },
            "header": {
             "fill": {
              "color": "#C8D4E3"
             },
             "line": {
              "color": "white"
             }
            },
            "type": "table"
           }
          ]
         },
         "layout": {
          "annotationdefaults": {
           "arrowcolor": "#2a3f5f",
           "arrowhead": 0,
           "arrowwidth": 1
          },
          "autotypenumbers": "strict",
          "coloraxis": {
           "colorbar": {
            "outlinewidth": 0,
            "ticks": ""
           }
          },
          "colorscale": {
           "diverging": [
            [
             0,
             "#8e0152"
            ],
            [
             0.1,
             "#c51b7d"
            ],
            [
             0.2,
             "#de77ae"
            ],
            [
             0.3,
             "#f1b6da"
            ],
            [
             0.4,
             "#fde0ef"
            ],
            [
             0.5,
             "#f7f7f7"
            ],
            [
             0.6,
             "#e6f5d0"
            ],
            [
             0.7,
             "#b8e186"
            ],
            [
             0.8,
             "#7fbc41"
            ],
            [
             0.9,
             "#4d9221"
            ],
            [
             1,
             "#276419"
            ]
           ],
           "sequential": [
            [
             0,
             "#0d0887"
            ],
            [
             0.1111111111111111,
             "#46039f"
            ],
            [
             0.2222222222222222,
             "#7201a8"
            ],
            [
             0.3333333333333333,
             "#9c179e"
            ],
            [
             0.4444444444444444,
             "#bd3786"
            ],
            [
             0.5555555555555556,
             "#d8576b"
            ],
            [
             0.6666666666666666,
             "#ed7953"
            ],
            [
             0.7777777777777778,
             "#fb9f3a"
            ],
            [
             0.8888888888888888,
             "#fdca26"
            ],
            [
             1,
             "#f0f921"
            ]
           ],
           "sequentialminus": [
            [
             0,
             "#0d0887"
            ],
            [
             0.1111111111111111,
             "#46039f"
            ],
            [
             0.2222222222222222,
             "#7201a8"
            ],
            [
             0.3333333333333333,
             "#9c179e"
            ],
            [
             0.4444444444444444,
             "#bd3786"
            ],
            [
             0.5555555555555556,
             "#d8576b"
            ],
            [
             0.6666666666666666,
             "#ed7953"
            ],
            [
             0.7777777777777778,
             "#fb9f3a"
            ],
            [
             0.8888888888888888,
             "#fdca26"
            ],
            [
             1,
             "#f0f921"
            ]
           ]
          },
          "colorway": [
           "#636efa",
           "#EF553B",
           "#00cc96",
           "#ab63fa",
           "#FFA15A",
           "#19d3f3",
           "#FF6692",
           "#B6E880",
           "#FF97FF",
           "#FECB52"
          ],
          "font": {
           "color": "#2a3f5f"
          },
          "geo": {
           "bgcolor": "white",
           "lakecolor": "white",
           "landcolor": "#E5ECF6",
           "showlakes": true,
           "showland": true,
           "subunitcolor": "white"
          },
          "hoverlabel": {
           "align": "left"
          },
          "hovermode": "closest",
          "mapbox": {
           "style": "light"
          },
          "paper_bgcolor": "white",
          "plot_bgcolor": "#E5ECF6",
          "polar": {
           "angularaxis": {
            "gridcolor": "white",
            "linecolor": "white",
            "ticks": ""
           },
           "bgcolor": "#E5ECF6",
           "radialaxis": {
            "gridcolor": "white",
            "linecolor": "white",
            "ticks": ""
           }
          },
          "scene": {
           "xaxis": {
            "backgroundcolor": "#E5ECF6",
            "gridcolor": "white",
            "gridwidth": 2,
            "linecolor": "white",
            "showbackground": true,
            "ticks": "",
            "zerolinecolor": "white"
           },
           "yaxis": {
            "backgroundcolor": "#E5ECF6",
            "gridcolor": "white",
            "gridwidth": 2,
            "linecolor": "white",
            "showbackground": true,
            "ticks": "",
            "zerolinecolor": "white"
           },
           "zaxis": {
            "backgroundcolor": "#E5ECF6",
            "gridcolor": "white",
            "gridwidth": 2,
            "linecolor": "white",
            "showbackground": true,
            "ticks": "",
            "zerolinecolor": "white"
           }
          },
          "shapedefaults": {
           "line": {
            "color": "#2a3f5f"
           }
          },
          "ternary": {
           "aaxis": {
            "gridcolor": "white",
            "linecolor": "white",
            "ticks": ""
           },
           "baxis": {
            "gridcolor": "white",
            "linecolor": "white",
            "ticks": ""
           },
           "bgcolor": "#E5ECF6",
           "caxis": {
            "gridcolor": "white",
            "linecolor": "white",
            "ticks": ""
           }
          },
          "title": {
           "x": 0.05
          },
          "xaxis": {
           "automargin": true,
           "gridcolor": "white",
           "linecolor": "white",
           "ticks": "",
           "title": {
            "standoff": 15
           },
           "zerolinecolor": "white",
           "zerolinewidth": 2
          },
          "yaxis": {
           "automargin": true,
           "gridcolor": "white",
           "linecolor": "white",
           "ticks": "",
           "title": {
            "standoff": 15
           },
           "zerolinecolor": "white",
           "zerolinewidth": 2
          }
         }
        },
        "title": {
         "font": {
          "color": "#151516"
         }
        }
       }
      },
      "text/html": [
       "<div>                            <div id=\"9b8918ab-fd05-4335-b52d-8b75dddffe3f\" class=\"plotly-graph-div\" style=\"height:525px; width:100%;\"></div>            <script type=\"text/javascript\">                require([\"plotly\"], function(Plotly) {                    window.PLOTLYENV=window.PLOTLYENV || {};                                    if (document.getElementById(\"9b8918ab-fd05-4335-b52d-8b75dddffe3f\")) {                    Plotly.newPlot(                        \"9b8918ab-fd05-4335-b52d-8b75dddffe3f\",                        [{\"marker\":{\"color\":[\"rgba(226, 74, 51, 1.0)\",\"rgba(62, 111, 176, 1.0)\",\"rgba(132, 118, 202, 1.0)\",\"rgba(101, 101, 101, 1.0)\",\"rgba(251, 193, 94, 1.0)\",\"rgba(142, 186, 66, 1.0)\",\"rgba(255, 181, 184, 1.0)\",\"rgba(255, 181, 184, 0.9616438356164383)\",\"rgba(226, 74, 51, 0.9616438356164383)\",\"rgba(62, 111, 176, 0.9616438356164383)\",\"rgba(132, 118, 202, 0.9616438356164383)\",\"rgba(101, 101, 101, 0.9616438356164383)\",\"rgba(251, 193, 94, 0.9616438356164383)\",\"rgba(142, 186, 66, 0.9616438356164383)\",\"rgba(142, 186, 66, 0.9232876712328766)\",\"rgba(255, 181, 184, 0.9232876712328766)\",\"rgba(226, 74, 51, 0.9232876712328766)\",\"rgba(62, 111, 176, 0.9232876712328766)\",\"rgba(132, 118, 202, 0.9232876712328766)\",\"rgba(101, 101, 101, 0.9232876712328766)\",\"rgba(251, 193, 94, 0.9232876712328766)\",\"rgba(251, 193, 94, 0.8849315068493151)\",\"rgba(142, 186, 66, 0.8849315068493151)\",\"rgba(255, 181, 184, 0.8849315068493151)\",\"rgba(226, 74, 51, 0.8849315068493151)\",\"rgba(62, 111, 176, 0.8849315068493151)\",\"rgba(132, 118, 202, 0.8849315068493151)\",\"rgba(101, 101, 101, 0.8849315068493151)\",\"rgba(101, 101, 101, 0.8465753424657534)\",\"rgba(251, 193, 94, 0.8465753424657534)\",\"rgba(142, 186, 66, 0.8465753424657534)\",\"rgba(255, 181, 184, 0.8465753424657534)\",\"rgba(226, 74, 51, 0.8465753424657534)\",\"rgba(62, 111, 176, 0.8465753424657534)\",\"rgba(132, 118, 202, 0.8465753424657534)\",\"rgba(132, 118, 202, 0.8082191780821917)\",\"rgba(101, 101, 101, 0.8082191780821917)\",\"rgba(251, 193, 94, 0.8082191780821917)\",\"rgba(142, 186, 66, 0.8082191780821917)\",\"rgba(255, 181, 184, 0.8082191780821917)\",\"rgba(226, 74, 51, 0.8082191780821917)\",\"rgba(62, 111, 176, 0.8082191780821917)\",\"rgba(62, 111, 176, 0.76986301369863)\",\"rgba(132, 118, 202, 0.76986301369863)\",\"rgba(101, 101, 101, 0.76986301369863)\",\"rgba(251, 193, 94, 0.76986301369863)\",\"rgba(142, 186, 66, 0.76986301369863)\",\"rgba(255, 181, 184, 0.76986301369863)\",\"rgba(226, 74, 51, 0.76986301369863)\",\"rgba(226, 74, 51, 0.7315068493150685)\",\"rgba(62, 111, 176, 0.7315068493150685)\",\"rgba(132, 118, 202, 0.7315068493150685)\",\"rgba(101, 101, 101, 0.7315068493150685)\",\"rgba(251, 193, 94, 0.7315068493150685)\",\"rgba(142, 186, 66, 0.7315068493150685)\",\"rgba(255, 181, 184, 0.7315068493150685)\",\"rgba(255, 181, 184, 0.6931506849315068)\",\"rgba(226, 74, 51, 0.6931506849315068)\",\"rgba(62, 111, 176, 0.6931506849315068)\",\"rgba(132, 118, 202, 0.6931506849315068)\",\"rgba(101, 101, 101, 0.6931506849315068)\",\"rgba(251, 193, 94, 0.6931506849315068)\",\"rgba(142, 186, 66, 0.6931506849315068)\",\"rgba(142, 186, 66, 0.6547945205479451)\",\"rgba(255, 181, 184, 0.6547945205479451)\",\"rgba(226, 74, 51, 0.6547945205479451)\",\"rgba(62, 111, 176, 0.6547945205479451)\",\"rgba(132, 118, 202, 0.6547945205479451)\",\"rgba(101, 101, 101, 0.6547945205479451)\",\"rgba(251, 193, 94, 0.6547945205479451)\",\"rgba(251, 193, 94, 0.6164383561643834)\",\"rgba(142, 186, 66, 0.6164383561643834)\",\"rgba(255, 181, 184, 0.6164383561643834)\",\"rgba(226, 74, 51, 0.6164383561643834)\",\"rgba(62, 111, 176, 0.6164383561643834)\",\"rgba(132, 118, 202, 0.6164383561643834)\",\"rgba(101, 101, 101, 0.6164383561643834)\",\"rgba(101, 101, 101, 0.5780821917808219)\",\"rgba(251, 193, 94, 0.5780821917808219)\",\"rgba(142, 186, 66, 0.5780821917808219)\",\"rgba(255, 181, 184, 0.5780821917808219)\",\"rgba(226, 74, 51, 0.5780821917808219)\",\"rgba(62, 111, 176, 0.5780821917808219)\",\"rgba(132, 118, 202, 0.5780821917808219)\",\"rgba(132, 118, 202, 0.5397260273972602)\",\"rgba(101, 101, 101, 0.5397260273972602)\",\"rgba(251, 193, 94, 0.5397260273972602)\",\"rgba(142, 186, 66, 0.5397260273972602)\",\"rgba(255, 181, 184, 0.5397260273972602)\",\"rgba(226, 74, 51, 0.5397260273972602)\",\"rgba(62, 111, 176, 0.5397260273972602)\",\"rgba(62, 111, 176, 0.5013698630136985)\",\"rgba(132, 118, 202, 0.5013698630136985)\",\"rgba(101, 101, 101, 0.5013698630136985)\",\"rgba(251, 193, 94, 0.5013698630136985)\",\"rgba(142, 186, 66, 0.5013698630136985)\",\"rgba(255, 181, 184, 0.5013698630136985)\",\"rgba(226, 74, 51, 0.5013698630136985)\",\"rgba(226, 74, 51, 0.4630136986301368)\",\"rgba(62, 111, 176, 0.4630136986301368)\",\"rgba(132, 118, 202, 0.4630136986301368)\",\"rgba(101, 101, 101, 0.4630136986301368)\",\"rgba(251, 193, 94, 0.4630136986301368)\",\"rgba(142, 186, 66, 0.4630136986301368)\",\"rgba(255, 181, 184, 0.4630136986301368)\",\"rgba(255, 181, 184, 0.4246575342465753)\",\"rgba(226, 74, 51, 0.4246575342465753)\",\"rgba(62, 111, 176, 0.4246575342465753)\",\"rgba(132, 118, 202, 0.4246575342465753)\",\"rgba(101, 101, 101, 0.4246575342465753)\",\"rgba(251, 193, 94, 0.4246575342465753)\",\"rgba(142, 186, 66, 0.4246575342465753)\",\"rgba(142, 186, 66, 0.3863013698630136)\",\"rgba(255, 181, 184, 0.3863013698630136)\",\"rgba(226, 74, 51, 0.3863013698630136)\",\"rgba(62, 111, 176, 0.3863013698630136)\",\"rgba(132, 118, 202, 0.3863013698630136)\",\"rgba(101, 101, 101, 0.3863013698630136)\",\"rgba(251, 193, 94, 0.3863013698630136)\",\"rgba(251, 193, 94, 0.3479452054794519)\",\"rgba(142, 186, 66, 0.3479452054794519)\",\"rgba(255, 181, 184, 0.3479452054794519)\",\"rgba(226, 74, 51, 0.3479452054794519)\",\"rgba(62, 111, 176, 0.3479452054794519)\",\"rgba(132, 118, 202, 0.3479452054794519)\",\"rgba(101, 101, 101, 0.3479452054794519)\",\"rgba(101, 101, 101, 0.3095890410958902)\",\"rgba(251, 193, 94, 0.3095890410958902)\",\"rgba(142, 186, 66, 0.3095890410958902)\",\"rgba(255, 181, 184, 0.3095890410958902)\",\"rgba(226, 74, 51, 0.3095890410958902)\",\"rgba(62, 111, 176, 0.3095890410958902)\",\"rgba(132, 118, 202, 0.3095890410958902)\",\"rgba(132, 118, 202, 0.2712328767123287)\",\"rgba(101, 101, 101, 0.2712328767123287)\",\"rgba(251, 193, 94, 0.2712328767123287)\",\"rgba(142, 186, 66, 0.2712328767123287)\",\"rgba(255, 181, 184, 0.2712328767123287)\",\"rgba(226, 74, 51, 0.2712328767123287)\",\"rgba(62, 111, 176, 0.2712328767123287)\",\"rgba(62, 111, 176, 0.232876712328767)\",\"rgba(132, 118, 202, 0.232876712328767)\",\"rgba(101, 101, 101, 0.232876712328767)\",\"rgba(251, 193, 94, 0.232876712328767)\",\"rgba(142, 186, 66, 0.232876712328767)\",\"rgba(255, 181, 184, 0.232876712328767)\"],\"opacity\":0.8,\"size\":[12,12,12,12,12,12,12,12,12,12,12,12,12,12,12,12,12,12,12,12,12,12,12,12,12,12,12,12,12,12,12,12,12,12,12,12,12,12,12,12,12,12,12,12,12,12,12,12,12,12,12,12,12,12,12,12,12,12,12,12,12,12,12,12,12,12,12,12,12,12,12,12,12,12,12,12,12,12,12,12,12,12,12,12,12,12,12,12,12,12,12,12,12,12,12,12,12,12,12,12,12,12,12,12,12,12,12,12,12,12,12,12,12,12,12,12,12,12,12,12,12,12,12,12,12,12,12,12,12,12,12,12,12,12,12,12,12,12,12,12,12,12,12,12,12,12],\"symbol\":\"circle\"},\"mode\":\"markers\",\"text\":[\"0\",\"1\",\"2\",\"3\",\"4\",\"5\",\"6\",\"7\",\"8\",\"9\",\"10\",\"11\",\"12\",\"13\",\"14\",\"15\",\"16\",\"17\",\"18\",\"19\",\"20\",\"21\",\"22\",\"23\",\"24\",\"25\",\"26\",\"27\",\"28\",\"29\",\"30\",\"31\",\"32\",\"33\",\"34\",\"35\",\"36\",\"37\",\"38\",\"39\",\"40\",\"41\",\"42\",\"43\",\"44\",\"45\",\"46\",\"47\",\"48\",\"49\",\"50\",\"51\",\"52\",\"53\",\"54\",\"55\",\"56\",\"57\",\"58\",\"59\",\"60\",\"61\",\"62\",\"63\",\"64\",\"65\",\"66\",\"67\",\"68\",\"69\",\"70\",\"71\",\"72\",\"73\",\"74\",\"75\",\"76\",\"77\",\"78\",\"79\",\"80\",\"81\",\"82\",\"83\",\"84\",\"85\",\"86\",\"87\",\"88\",\"89\",\"90\",\"91\",\"92\",\"93\",\"94\",\"95\",\"96\",\"97\",\"98\",\"99\",\"100\",\"101\",\"102\",\"103\",\"104\",\"105\",\"106\",\"107\",\"108\",\"109\",\"110\",\"111\",\"112\",\"113\",\"114\",\"115\",\"116\",\"117\",\"118\",\"119\",\"120\",\"121\",\"122\",\"123\",\"124\",\"125\",\"126\",\"127\",\"128\",\"129\",\"130\",\"131\",\"132\",\"133\",\"134\",\"135\",\"136\",\"137\",\"138\",\"139\",\"140\",\"141\",\"142\",\"143\",\"144\",\"145\"],\"type\":\"scatter3d\",\"x\":[5,6,7,8,9,10,11,12,13,14,15,16,17,18,19,20,21,22,5,6,7,8,9,10,11,12,13,14,15,16,17,18,19,20,21,22,5,6,7,8,9,10,11,12,13,14,15,16,17,18,19,20,21,22,5,6,7,8,9,10,11,12,13,14,15,16,17,18,19,20,21,22,5,6,7,8,9,10,11,12,13,14,15,16,17,18,19,20,21,22,5,6,7,8,9,10,11,12,13,14,15,16,17,18,19,20,21,22,5,6,7,8,9,10,11,12,13,14,15,16,17,18,19,20,21,22,23,5,6,7,8,9,10,11,12,13,14,15,16,17,18,19,20,21,22,23],\"y\":[0,0,0,0,0,0,0,0,0,0,0,0,0,0,0,0,0,0,1,1,1,1,1,1,1,1,1,1,1,1,1,1,1,1,1,1,2,2,2,2,2,2,2,2,2,2,2,2,2,2,2,2,2,2,3,3,3,3,3,3,3,3,3,3,3,3,3,3,3,3,3,3,4,4,4,4,4,4,4,4,4,4,4,4,4,4,4,4,4,4,5,5,5,5,5,5,5,5,5,5,5,5,5,5,5,5,5,5,6,6,6,6,6,6,6,6,6,6,6,6,6,6,6,6,6,6,6,0,0,0,0,0,0,0,0,0,0,0,0,0,0,0,0,0,0,0],\"z\":[9.0,37.0,40.0,49.0,29.0,29.0,41.0,35.0,37.0,54.0,50.0,57.0,77.0,64.0,58.0,47.0,46.0,46.0,46.0,20.0,32.0,27.0,19.0,31.0,35.0,30.0,30.0,30.0,30.0,30.0,63.0,65.0,63.0,63.0,67.0,67.0,18.0,38.0,38.0,34.0,33.0,36.0,34.0,34.0,23.0,33.0,68.0,60.0,57.0,46.0,44.0,48.0,51.0,35.0,73.0,25.0,34.0,25.0,32.0,24.0,33.0,27.0,43.0,41.0,35.0,43.0,53.0,53.0,49.0,37.0,24.0,44.0,44.0,18.0,28.0,28.0,30.0,36.0,49.0,37.0,41.0,37.0,37.0,37.0,57.0,57.0,59.0,31.0,34.0,31.0,23.0,23.0,23.0,2.0,14.0,39.0,24.0,23.0,19.0,20.0,21.0,37.0,33.0,28.0,14.0,21.0,32.0,15.0,15.0,15.0,15.0,15.0,15.0,15.0,16.0,49.0,28.0,23.0,35.0,31.0,30.0,37.0,40.0,31.0,23.0,20.0,27.0,27.0,27.0,25.0,37.0,41.0,37.0,33.0,44.0,39.0,28.0,38.0,48.0,81.0,68.0,85.0,72.0,67.0,57.0,53.0]}],                        {\"legend\":{\"bgcolor\":\"#FFFFFF\",\"font\":{\"color\":\"#666666\"}},\"paper_bgcolor\":\"#FFFFFF\",\"plot_bgcolor\":\"#E5E5E5\",\"scene\":{\"xaxis\":{\"gridcolor\":\"#F6F6F6\",\"showgrid\":true,\"tickfont\":{\"color\":\"#666666\"},\"title\":{\"font\":{\"color\":\"#666666\"},\"text\":\"\"},\"zerolinecolor\":\"#F6F6F6\"},\"yaxis\":{\"gridcolor\":\"#F6F6F6\",\"showgrid\":true,\"tickfont\":{\"color\":\"#666666\"},\"title\":{\"font\":{\"color\":\"#666666\"},\"text\":\"\"},\"zerolinecolor\":\"#F6F6F6\"},\"zaxis\":{\"gridcolor\":\"#F6F6F6\",\"showgrid\":true,\"tickfont\":{\"color\":\"#666666\"},\"title\":{\"font\":{\"color\":\"#666666\"},\"text\":\"\"},\"zerolinecolor\":\"#F6F6F6\"}},\"template\":{\"data\":{\"bar\":[{\"error_x\":{\"color\":\"#2a3f5f\"},\"error_y\":{\"color\":\"#2a3f5f\"},\"marker\":{\"line\":{\"color\":\"#E5ECF6\",\"width\":0.5},\"pattern\":{\"fillmode\":\"overlay\",\"size\":10,\"solidity\":0.2}},\"type\":\"bar\"}],\"barpolar\":[{\"marker\":{\"line\":{\"color\":\"#E5ECF6\",\"width\":0.5},\"pattern\":{\"fillmode\":\"overlay\",\"size\":10,\"solidity\":0.2}},\"type\":\"barpolar\"}],\"carpet\":[{\"aaxis\":{\"endlinecolor\":\"#2a3f5f\",\"gridcolor\":\"white\",\"linecolor\":\"white\",\"minorgridcolor\":\"white\",\"startlinecolor\":\"#2a3f5f\"},\"baxis\":{\"endlinecolor\":\"#2a3f5f\",\"gridcolor\":\"white\",\"linecolor\":\"white\",\"minorgridcolor\":\"white\",\"startlinecolor\":\"#2a3f5f\"},\"type\":\"carpet\"}],\"choropleth\":[{\"colorbar\":{\"outlinewidth\":0,\"ticks\":\"\"},\"type\":\"choropleth\"}],\"contour\":[{\"colorbar\":{\"outlinewidth\":0,\"ticks\":\"\"},\"colorscale\":[[0.0,\"#0d0887\"],[0.1111111111111111,\"#46039f\"],[0.2222222222222222,\"#7201a8\"],[0.3333333333333333,\"#9c179e\"],[0.4444444444444444,\"#bd3786\"],[0.5555555555555556,\"#d8576b\"],[0.6666666666666666,\"#ed7953\"],[0.7777777777777778,\"#fb9f3a\"],[0.8888888888888888,\"#fdca26\"],[1.0,\"#f0f921\"]],\"type\":\"contour\"}],\"contourcarpet\":[{\"colorbar\":{\"outlinewidth\":0,\"ticks\":\"\"},\"type\":\"contourcarpet\"}],\"heatmap\":[{\"colorbar\":{\"outlinewidth\":0,\"ticks\":\"\"},\"colorscale\":[[0.0,\"#0d0887\"],[0.1111111111111111,\"#46039f\"],[0.2222222222222222,\"#7201a8\"],[0.3333333333333333,\"#9c179e\"],[0.4444444444444444,\"#bd3786\"],[0.5555555555555556,\"#d8576b\"],[0.6666666666666666,\"#ed7953\"],[0.7777777777777778,\"#fb9f3a\"],[0.8888888888888888,\"#fdca26\"],[1.0,\"#f0f921\"]],\"type\":\"heatmap\"}],\"heatmapgl\":[{\"colorbar\":{\"outlinewidth\":0,\"ticks\":\"\"},\"colorscale\":[[0.0,\"#0d0887\"],[0.1111111111111111,\"#46039f\"],[0.2222222222222222,\"#7201a8\"],[0.3333333333333333,\"#9c179e\"],[0.4444444444444444,\"#bd3786\"],[0.5555555555555556,\"#d8576b\"],[0.6666666666666666,\"#ed7953\"],[0.7777777777777778,\"#fb9f3a\"],[0.8888888888888888,\"#fdca26\"],[1.0,\"#f0f921\"]],\"type\":\"heatmapgl\"}],\"histogram\":[{\"marker\":{\"pattern\":{\"fillmode\":\"overlay\",\"size\":10,\"solidity\":0.2}},\"type\":\"histogram\"}],\"histogram2d\":[{\"colorbar\":{\"outlinewidth\":0,\"ticks\":\"\"},\"colorscale\":[[0.0,\"#0d0887\"],[0.1111111111111111,\"#46039f\"],[0.2222222222222222,\"#7201a8\"],[0.3333333333333333,\"#9c179e\"],[0.4444444444444444,\"#bd3786\"],[0.5555555555555556,\"#d8576b\"],[0.6666666666666666,\"#ed7953\"],[0.7777777777777778,\"#fb9f3a\"],[0.8888888888888888,\"#fdca26\"],[1.0,\"#f0f921\"]],\"type\":\"histogram2d\"}],\"histogram2dcontour\":[{\"colorbar\":{\"outlinewidth\":0,\"ticks\":\"\"},\"colorscale\":[[0.0,\"#0d0887\"],[0.1111111111111111,\"#46039f\"],[0.2222222222222222,\"#7201a8\"],[0.3333333333333333,\"#9c179e\"],[0.4444444444444444,\"#bd3786\"],[0.5555555555555556,\"#d8576b\"],[0.6666666666666666,\"#ed7953\"],[0.7777777777777778,\"#fb9f3a\"],[0.8888888888888888,\"#fdca26\"],[1.0,\"#f0f921\"]],\"type\":\"histogram2dcontour\"}],\"mesh3d\":[{\"colorbar\":{\"outlinewidth\":0,\"ticks\":\"\"},\"type\":\"mesh3d\"}],\"parcoords\":[{\"line\":{\"colorbar\":{\"outlinewidth\":0,\"ticks\":\"\"}},\"type\":\"parcoords\"}],\"pie\":[{\"automargin\":true,\"type\":\"pie\"}],\"scatter\":[{\"marker\":{\"colorbar\":{\"outlinewidth\":0,\"ticks\":\"\"}},\"type\":\"scatter\"}],\"scatter3d\":[{\"line\":{\"colorbar\":{\"outlinewidth\":0,\"ticks\":\"\"}},\"marker\":{\"colorbar\":{\"outlinewidth\":0,\"ticks\":\"\"}},\"type\":\"scatter3d\"}],\"scattercarpet\":[{\"marker\":{\"colorbar\":{\"outlinewidth\":0,\"ticks\":\"\"}},\"type\":\"scattercarpet\"}],\"scattergeo\":[{\"marker\":{\"colorbar\":{\"outlinewidth\":0,\"ticks\":\"\"}},\"type\":\"scattergeo\"}],\"scattergl\":[{\"marker\":{\"colorbar\":{\"outlinewidth\":0,\"ticks\":\"\"}},\"type\":\"scattergl\"}],\"scattermapbox\":[{\"marker\":{\"colorbar\":{\"outlinewidth\":0,\"ticks\":\"\"}},\"type\":\"scattermapbox\"}],\"scatterpolar\":[{\"marker\":{\"colorbar\":{\"outlinewidth\":0,\"ticks\":\"\"}},\"type\":\"scatterpolar\"}],\"scatterpolargl\":[{\"marker\":{\"colorbar\":{\"outlinewidth\":0,\"ticks\":\"\"}},\"type\":\"scatterpolargl\"}],\"scatterternary\":[{\"marker\":{\"colorbar\":{\"outlinewidth\":0,\"ticks\":\"\"}},\"type\":\"scatterternary\"}],\"surface\":[{\"colorbar\":{\"outlinewidth\":0,\"ticks\":\"\"},\"colorscale\":[[0.0,\"#0d0887\"],[0.1111111111111111,\"#46039f\"],[0.2222222222222222,\"#7201a8\"],[0.3333333333333333,\"#9c179e\"],[0.4444444444444444,\"#bd3786\"],[0.5555555555555556,\"#d8576b\"],[0.6666666666666666,\"#ed7953\"],[0.7777777777777778,\"#fb9f3a\"],[0.8888888888888888,\"#fdca26\"],[1.0,\"#f0f921\"]],\"type\":\"surface\"}],\"table\":[{\"cells\":{\"fill\":{\"color\":\"#EBF0F8\"},\"line\":{\"color\":\"white\"}},\"header\":{\"fill\":{\"color\":\"#C8D4E3\"},\"line\":{\"color\":\"white\"}},\"type\":\"table\"}]},\"layout\":{\"annotationdefaults\":{\"arrowcolor\":\"#2a3f5f\",\"arrowhead\":0,\"arrowwidth\":1},\"autotypenumbers\":\"strict\",\"coloraxis\":{\"colorbar\":{\"outlinewidth\":0,\"ticks\":\"\"}},\"colorscale\":{\"diverging\":[[0,\"#8e0152\"],[0.1,\"#c51b7d\"],[0.2,\"#de77ae\"],[0.3,\"#f1b6da\"],[0.4,\"#fde0ef\"],[0.5,\"#f7f7f7\"],[0.6,\"#e6f5d0\"],[0.7,\"#b8e186\"],[0.8,\"#7fbc41\"],[0.9,\"#4d9221\"],[1,\"#276419\"]],\"sequential\":[[0.0,\"#0d0887\"],[0.1111111111111111,\"#46039f\"],[0.2222222222222222,\"#7201a8\"],[0.3333333333333333,\"#9c179e\"],[0.4444444444444444,\"#bd3786\"],[0.5555555555555556,\"#d8576b\"],[0.6666666666666666,\"#ed7953\"],[0.7777777777777778,\"#fb9f3a\"],[0.8888888888888888,\"#fdca26\"],[1.0,\"#f0f921\"]],\"sequentialminus\":[[0.0,\"#0d0887\"],[0.1111111111111111,\"#46039f\"],[0.2222222222222222,\"#7201a8\"],[0.3333333333333333,\"#9c179e\"],[0.4444444444444444,\"#bd3786\"],[0.5555555555555556,\"#d8576b\"],[0.6666666666666666,\"#ed7953\"],[0.7777777777777778,\"#fb9f3a\"],[0.8888888888888888,\"#fdca26\"],[1.0,\"#f0f921\"]]},\"colorway\":[\"#636efa\",\"#EF553B\",\"#00cc96\",\"#ab63fa\",\"#FFA15A\",\"#19d3f3\",\"#FF6692\",\"#B6E880\",\"#FF97FF\",\"#FECB52\"],\"font\":{\"color\":\"#2a3f5f\"},\"geo\":{\"bgcolor\":\"white\",\"lakecolor\":\"white\",\"landcolor\":\"#E5ECF6\",\"showlakes\":true,\"showland\":true,\"subunitcolor\":\"white\"},\"hoverlabel\":{\"align\":\"left\"},\"hovermode\":\"closest\",\"mapbox\":{\"style\":\"light\"},\"paper_bgcolor\":\"white\",\"plot_bgcolor\":\"#E5ECF6\",\"polar\":{\"angularaxis\":{\"gridcolor\":\"white\",\"linecolor\":\"white\",\"ticks\":\"\"},\"bgcolor\":\"#E5ECF6\",\"radialaxis\":{\"gridcolor\":\"white\",\"linecolor\":\"white\",\"ticks\":\"\"}},\"scene\":{\"xaxis\":{\"backgroundcolor\":\"#E5ECF6\",\"gridcolor\":\"white\",\"gridwidth\":2,\"linecolor\":\"white\",\"showbackground\":true,\"ticks\":\"\",\"zerolinecolor\":\"white\"},\"yaxis\":{\"backgroundcolor\":\"#E5ECF6\",\"gridcolor\":\"white\",\"gridwidth\":2,\"linecolor\":\"white\",\"showbackground\":true,\"ticks\":\"\",\"zerolinecolor\":\"white\"},\"zaxis\":{\"backgroundcolor\":\"#E5ECF6\",\"gridcolor\":\"white\",\"gridwidth\":2,\"linecolor\":\"white\",\"showbackground\":true,\"ticks\":\"\",\"zerolinecolor\":\"white\"}},\"shapedefaults\":{\"line\":{\"color\":\"#2a3f5f\"}},\"ternary\":{\"aaxis\":{\"gridcolor\":\"white\",\"linecolor\":\"white\",\"ticks\":\"\"},\"baxis\":{\"gridcolor\":\"white\",\"linecolor\":\"white\",\"ticks\":\"\"},\"bgcolor\":\"#E5ECF6\",\"caxis\":{\"gridcolor\":\"white\",\"linecolor\":\"white\",\"ticks\":\"\"}},\"title\":{\"x\":0.05},\"xaxis\":{\"automargin\":true,\"gridcolor\":\"white\",\"linecolor\":\"white\",\"ticks\":\"\",\"title\":{\"standoff\":15},\"zerolinecolor\":\"white\",\"zerolinewidth\":2},\"yaxis\":{\"automargin\":true,\"gridcolor\":\"white\",\"linecolor\":\"white\",\"ticks\":\"\",\"title\":{\"standoff\":15},\"zerolinecolor\":\"white\",\"zerolinewidth\":2}}},\"title\":{\"font\":{\"color\":\"#151516\"}}},                        {\"responsive\": true}                    ).then(function(){\n",
       "                            \n",
       "var gd = document.getElementById('9b8918ab-fd05-4335-b52d-8b75dddffe3f');\n",
       "var x = new MutationObserver(function (mutations, observer) {{\n",
       "        var display = window.getComputedStyle(gd).display;\n",
       "        if (!display || display === 'none') {{\n",
       "            console.log([gd, 'removed!']);\n",
       "            Plotly.purge(gd);\n",
       "            observer.disconnect();\n",
       "        }}\n",
       "}});\n",
       "\n",
       "// Listen for the removal of the full notebook cells\n",
       "var notebookContainer = gd.closest('#notebook-container');\n",
       "if (notebookContainer) {{\n",
       "    x.observe(notebookContainer, {childList: true});\n",
       "}}\n",
       "\n",
       "// Listen for the clearing of the current output cell\n",
       "var outputEl = gd.closest('.output');\n",
       "if (outputEl) {{\n",
       "    x.observe(outputEl, {childList: true});\n",
       "}}\n",
       "\n",
       "                        })                };                });            </script>        </div>"
      ]
     },
     "metadata": {},
     "output_type": "display_data"
    }
   ],
   "source": [
    "eastdf = eastdf.loc[eastdf.hour != 4,:]\n",
    "eastdf.iplot(kind='scatter3d', x='hour', y = 'weekday', z='current_capacity', asFigure=True)\n",
    "\n",
    "\n"
   ]
  },
  {
   "cell_type": "code",
   "execution_count": 14,
   "id": "e05a942f",
   "metadata": {},
   "outputs": [],
   "source": [
    "# separate train test\n",
    "from sklearn.model_selection import train_test_split\n",
    "train, test = train_test_split(eastdf.copy(), random_state=0)\n",
    "test.sort_values(by='date_time', inplace = True)\n",
    "train.sort_values(by='date_time', inplace = True)"
   ]
  },
  {
   "cell_type": "code",
   "execution_count": 15,
   "id": "0756ad7c",
   "metadata": {},
   "outputs": [
    {
     "name": "stdout",
     "output_type": "stream",
     "text": [
      "[37.         39.33333333 45.66666667 53.33333333 15.66666667 32.33333333\n",
      " 35.33333333 37.66666667 37.33333333 59.         21.         34.\n",
      " 30.33333333 30.33333333 44.33333333 52.66666667 45.66666667 29.\n",
      " 35.         37.66666667 31.         24.66666667 31.         39.\n",
      " 47.66666667 27.         25.66666667 18.66666667 28.         25.66666667\n",
      " 14.66666667 31.66666667 34.         39.66666667 63.33333333 53.33333333\n",
      " 55.33333333]\n",
      "Score on train 0.7201746388758861\n",
      "Score on test 0.3492226698421165\n"
     ]
    }
   ],
   "source": [
    "from sklearn.neighbors import KNeighborsRegressor\n",
    "regressor = KNeighborsRegressor(n_neighbors = 3)\n",
    "fitdf = train.loc[:,['weekday', 'hour']].copy()\n",
    "regressor.fit(fitdf, train.loc[:,'current_capacity'])\n",
    "predicted_train = []\n",
    "predicted_train = regressor.predict(fitdf)\n",
    "# for i in range(len(predicted)):\n",
    "#     print(train.current_capacity.to_list()[i], predicted_train[i])\n",
    "# regressor.score(test.loc[:,['weekday','hour']], test.loc[:,'current_capacity'])\n",
    "test_predict = regressor.predict(test.loc[:,['weekday','hour']])\n",
    "print(test_predict)\n",
    "test['predicted'] = pd.Series(test_predict, index = test.index)\n",
    "print('Score on train',regressor.score(fitdf, train.current_capacity))\n",
    "print('Score on test',regressor.score(test.loc[:,['weekday','hour']], test.current_capacity))"
   ]
  },
  {
   "cell_type": "markdown",
   "id": "ad97fe4d",
   "metadata": {},
   "source": [
    "Using regressor.score, which is bigger is better, 1.0 best. If it predicted the mean every time it would get a 0.0, so we're 0.3 better than an average."
   ]
  },
  {
   "cell_type": "code",
   "execution_count": 16,
   "id": "c88d17bc",
   "metadata": {},
   "outputs": [
    {
     "data": {
      "application/vnd.plotly.v1+json": {
       "config": {
        "plotlyServerURL": "https://plot.ly"
       },
       "data": [
        {
         "hovertemplate": "hour=%{x}<br>weekday=%{y}<br>predicted=%{z}<extra></extra>",
         "legendgroup": "",
         "marker": {
          "color": "#636efa",
          "symbol": "circle"
         },
         "mode": "markers",
         "name": "",
         "scene": "scene",
         "showlegend": false,
         "type": "scatter3d",
         "x": [
          7,
          12,
          13,
          21,
          5,
          9,
          11,
          13,
          14,
          20,
          6,
          9,
          12,
          13,
          14,
          19,
          20,
          5,
          13,
          14,
          22,
          9,
          11,
          16,
          17,
          22,
          5,
          6,
          13,
          20,
          9,
          13,
          16,
          8,
          20,
          21,
          22
         ],
         "y": [
          0,
          0,
          0,
          0,
          1,
          1,
          1,
          1,
          1,
          1,
          2,
          2,
          2,
          2,
          2,
          2,
          2,
          3,
          3,
          3,
          3,
          4,
          4,
          4,
          4,
          4,
          5,
          5,
          5,
          5,
          6,
          6,
          6,
          0,
          0,
          0,
          0
         ],
         "z": [
          37,
          39.333333333333336,
          45.666666666666664,
          53.333333333333336,
          15.666666666666666,
          32.333333333333336,
          35.333333333333336,
          37.666666666666664,
          37.333333333333336,
          59,
          21,
          34,
          30.333333333333332,
          30.333333333333332,
          44.333333333333336,
          52.666666666666664,
          45.666666666666664,
          29,
          35,
          37.666666666666664,
          31,
          24.666666666666668,
          31,
          39,
          47.666666666666664,
          27,
          25.666666666666668,
          18.666666666666668,
          28,
          25.666666666666668,
          14.666666666666666,
          31.666666666666668,
          34,
          39.666666666666664,
          63.333333333333336,
          53.333333333333336,
          55.333333333333336
         ]
        }
       ],
       "layout": {
        "legend": {
         "tracegroupgap": 0
        },
        "margin": {
         "t": 60
        },
        "scene": {
         "domain": {
          "x": [
           0,
           1
          ],
          "y": [
           0,
           1
          ]
         },
         "xaxis": {
          "title": {
           "text": "hour"
          }
         },
         "yaxis": {
          "title": {
           "text": "weekday"
          }
         },
         "zaxis": {
          "title": {
           "text": "predicted"
          }
         }
        },
        "template": {
         "data": {
          "bar": [
           {
            "error_x": {
             "color": "#2a3f5f"
            },
            "error_y": {
             "color": "#2a3f5f"
            },
            "marker": {
             "line": {
              "color": "#E5ECF6",
              "width": 0.5
             },
             "pattern": {
              "fillmode": "overlay",
              "size": 10,
              "solidity": 0.2
             }
            },
            "type": "bar"
           }
          ],
          "barpolar": [
           {
            "marker": {
             "line": {
              "color": "#E5ECF6",
              "width": 0.5
             },
             "pattern": {
              "fillmode": "overlay",
              "size": 10,
              "solidity": 0.2
             }
            },
            "type": "barpolar"
           }
          ],
          "carpet": [
           {
            "aaxis": {
             "endlinecolor": "#2a3f5f",
             "gridcolor": "white",
             "linecolor": "white",
             "minorgridcolor": "white",
             "startlinecolor": "#2a3f5f"
            },
            "baxis": {
             "endlinecolor": "#2a3f5f",
             "gridcolor": "white",
             "linecolor": "white",
             "minorgridcolor": "white",
             "startlinecolor": "#2a3f5f"
            },
            "type": "carpet"
           }
          ],
          "choropleth": [
           {
            "colorbar": {
             "outlinewidth": 0,
             "ticks": ""
            },
            "type": "choropleth"
           }
          ],
          "contour": [
           {
            "colorbar": {
             "outlinewidth": 0,
             "ticks": ""
            },
            "colorscale": [
             [
              0,
              "#0d0887"
             ],
             [
              0.1111111111111111,
              "#46039f"
             ],
             [
              0.2222222222222222,
              "#7201a8"
             ],
             [
              0.3333333333333333,
              "#9c179e"
             ],
             [
              0.4444444444444444,
              "#bd3786"
             ],
             [
              0.5555555555555556,
              "#d8576b"
             ],
             [
              0.6666666666666666,
              "#ed7953"
             ],
             [
              0.7777777777777778,
              "#fb9f3a"
             ],
             [
              0.8888888888888888,
              "#fdca26"
             ],
             [
              1,
              "#f0f921"
             ]
            ],
            "type": "contour"
           }
          ],
          "contourcarpet": [
           {
            "colorbar": {
             "outlinewidth": 0,
             "ticks": ""
            },
            "type": "contourcarpet"
           }
          ],
          "heatmap": [
           {
            "colorbar": {
             "outlinewidth": 0,
             "ticks": ""
            },
            "colorscale": [
             [
              0,
              "#0d0887"
             ],
             [
              0.1111111111111111,
              "#46039f"
             ],
             [
              0.2222222222222222,
              "#7201a8"
             ],
             [
              0.3333333333333333,
              "#9c179e"
             ],
             [
              0.4444444444444444,
              "#bd3786"
             ],
             [
              0.5555555555555556,
              "#d8576b"
             ],
             [
              0.6666666666666666,
              "#ed7953"
             ],
             [
              0.7777777777777778,
              "#fb9f3a"
             ],
             [
              0.8888888888888888,
              "#fdca26"
             ],
             [
              1,
              "#f0f921"
             ]
            ],
            "type": "heatmap"
           }
          ],
          "heatmapgl": [
           {
            "colorbar": {
             "outlinewidth": 0,
             "ticks": ""
            },
            "colorscale": [
             [
              0,
              "#0d0887"
             ],
             [
              0.1111111111111111,
              "#46039f"
             ],
             [
              0.2222222222222222,
              "#7201a8"
             ],
             [
              0.3333333333333333,
              "#9c179e"
             ],
             [
              0.4444444444444444,
              "#bd3786"
             ],
             [
              0.5555555555555556,
              "#d8576b"
             ],
             [
              0.6666666666666666,
              "#ed7953"
             ],
             [
              0.7777777777777778,
              "#fb9f3a"
             ],
             [
              0.8888888888888888,
              "#fdca26"
             ],
             [
              1,
              "#f0f921"
             ]
            ],
            "type": "heatmapgl"
           }
          ],
          "histogram": [
           {
            "marker": {
             "pattern": {
              "fillmode": "overlay",
              "size": 10,
              "solidity": 0.2
             }
            },
            "type": "histogram"
           }
          ],
          "histogram2d": [
           {
            "colorbar": {
             "outlinewidth": 0,
             "ticks": ""
            },
            "colorscale": [
             [
              0,
              "#0d0887"
             ],
             [
              0.1111111111111111,
              "#46039f"
             ],
             [
              0.2222222222222222,
              "#7201a8"
             ],
             [
              0.3333333333333333,
              "#9c179e"
             ],
             [
              0.4444444444444444,
              "#bd3786"
             ],
             [
              0.5555555555555556,
              "#d8576b"
             ],
             [
              0.6666666666666666,
              "#ed7953"
             ],
             [
              0.7777777777777778,
              "#fb9f3a"
             ],
             [
              0.8888888888888888,
              "#fdca26"
             ],
             [
              1,
              "#f0f921"
             ]
            ],
            "type": "histogram2d"
           }
          ],
          "histogram2dcontour": [
           {
            "colorbar": {
             "outlinewidth": 0,
             "ticks": ""
            },
            "colorscale": [
             [
              0,
              "#0d0887"
             ],
             [
              0.1111111111111111,
              "#46039f"
             ],
             [
              0.2222222222222222,
              "#7201a8"
             ],
             [
              0.3333333333333333,
              "#9c179e"
             ],
             [
              0.4444444444444444,
              "#bd3786"
             ],
             [
              0.5555555555555556,
              "#d8576b"
             ],
             [
              0.6666666666666666,
              "#ed7953"
             ],
             [
              0.7777777777777778,
              "#fb9f3a"
             ],
             [
              0.8888888888888888,
              "#fdca26"
             ],
             [
              1,
              "#f0f921"
             ]
            ],
            "type": "histogram2dcontour"
           }
          ],
          "mesh3d": [
           {
            "colorbar": {
             "outlinewidth": 0,
             "ticks": ""
            },
            "type": "mesh3d"
           }
          ],
          "parcoords": [
           {
            "line": {
             "colorbar": {
              "outlinewidth": 0,
              "ticks": ""
             }
            },
            "type": "parcoords"
           }
          ],
          "pie": [
           {
            "automargin": true,
            "type": "pie"
           }
          ],
          "scatter": [
           {
            "marker": {
             "colorbar": {
              "outlinewidth": 0,
              "ticks": ""
             }
            },
            "type": "scatter"
           }
          ],
          "scatter3d": [
           {
            "line": {
             "colorbar": {
              "outlinewidth": 0,
              "ticks": ""
             }
            },
            "marker": {
             "colorbar": {
              "outlinewidth": 0,
              "ticks": ""
             }
            },
            "type": "scatter3d"
           }
          ],
          "scattercarpet": [
           {
            "marker": {
             "colorbar": {
              "outlinewidth": 0,
              "ticks": ""
             }
            },
            "type": "scattercarpet"
           }
          ],
          "scattergeo": [
           {
            "marker": {
             "colorbar": {
              "outlinewidth": 0,
              "ticks": ""
             }
            },
            "type": "scattergeo"
           }
          ],
          "scattergl": [
           {
            "marker": {
             "colorbar": {
              "outlinewidth": 0,
              "ticks": ""
             }
            },
            "type": "scattergl"
           }
          ],
          "scattermapbox": [
           {
            "marker": {
             "colorbar": {
              "outlinewidth": 0,
              "ticks": ""
             }
            },
            "type": "scattermapbox"
           }
          ],
          "scatterpolar": [
           {
            "marker": {
             "colorbar": {
              "outlinewidth": 0,
              "ticks": ""
             }
            },
            "type": "scatterpolar"
           }
          ],
          "scatterpolargl": [
           {
            "marker": {
             "colorbar": {
              "outlinewidth": 0,
              "ticks": ""
             }
            },
            "type": "scatterpolargl"
           }
          ],
          "scatterternary": [
           {
            "marker": {
             "colorbar": {
              "outlinewidth": 0,
              "ticks": ""
             }
            },
            "type": "scatterternary"
           }
          ],
          "surface": [
           {
            "colorbar": {
             "outlinewidth": 0,
             "ticks": ""
            },
            "colorscale": [
             [
              0,
              "#0d0887"
             ],
             [
              0.1111111111111111,
              "#46039f"
             ],
             [
              0.2222222222222222,
              "#7201a8"
             ],
             [
              0.3333333333333333,
              "#9c179e"
             ],
             [
              0.4444444444444444,
              "#bd3786"
             ],
             [
              0.5555555555555556,
              "#d8576b"
             ],
             [
              0.6666666666666666,
              "#ed7953"
             ],
             [
              0.7777777777777778,
              "#fb9f3a"
             ],
             [
              0.8888888888888888,
              "#fdca26"
             ],
             [
              1,
              "#f0f921"
             ]
            ],
            "type": "surface"
           }
          ],
          "table": [
           {
            "cells": {
             "fill": {
              "color": "#EBF0F8"
             },
             "line": {
              "color": "white"
             }
            },
            "header": {
             "fill": {
              "color": "#C8D4E3"
             },
             "line": {
              "color": "white"
             }
            },
            "type": "table"
           }
          ]
         },
         "layout": {
          "annotationdefaults": {
           "arrowcolor": "#2a3f5f",
           "arrowhead": 0,
           "arrowwidth": 1
          },
          "autotypenumbers": "strict",
          "coloraxis": {
           "colorbar": {
            "outlinewidth": 0,
            "ticks": ""
           }
          },
          "colorscale": {
           "diverging": [
            [
             0,
             "#8e0152"
            ],
            [
             0.1,
             "#c51b7d"
            ],
            [
             0.2,
             "#de77ae"
            ],
            [
             0.3,
             "#f1b6da"
            ],
            [
             0.4,
             "#fde0ef"
            ],
            [
             0.5,
             "#f7f7f7"
            ],
            [
             0.6,
             "#e6f5d0"
            ],
            [
             0.7,
             "#b8e186"
            ],
            [
             0.8,
             "#7fbc41"
            ],
            [
             0.9,
             "#4d9221"
            ],
            [
             1,
             "#276419"
            ]
           ],
           "sequential": [
            [
             0,
             "#0d0887"
            ],
            [
             0.1111111111111111,
             "#46039f"
            ],
            [
             0.2222222222222222,
             "#7201a8"
            ],
            [
             0.3333333333333333,
             "#9c179e"
            ],
            [
             0.4444444444444444,
             "#bd3786"
            ],
            [
             0.5555555555555556,
             "#d8576b"
            ],
            [
             0.6666666666666666,
             "#ed7953"
            ],
            [
             0.7777777777777778,
             "#fb9f3a"
            ],
            [
             0.8888888888888888,
             "#fdca26"
            ],
            [
             1,
             "#f0f921"
            ]
           ],
           "sequentialminus": [
            [
             0,
             "#0d0887"
            ],
            [
             0.1111111111111111,
             "#46039f"
            ],
            [
             0.2222222222222222,
             "#7201a8"
            ],
            [
             0.3333333333333333,
             "#9c179e"
            ],
            [
             0.4444444444444444,
             "#bd3786"
            ],
            [
             0.5555555555555556,
             "#d8576b"
            ],
            [
             0.6666666666666666,
             "#ed7953"
            ],
            [
             0.7777777777777778,
             "#fb9f3a"
            ],
            [
             0.8888888888888888,
             "#fdca26"
            ],
            [
             1,
             "#f0f921"
            ]
           ]
          },
          "colorway": [
           "#636efa",
           "#EF553B",
           "#00cc96",
           "#ab63fa",
           "#FFA15A",
           "#19d3f3",
           "#FF6692",
           "#B6E880",
           "#FF97FF",
           "#FECB52"
          ],
          "font": {
           "color": "#2a3f5f"
          },
          "geo": {
           "bgcolor": "white",
           "lakecolor": "white",
           "landcolor": "#E5ECF6",
           "showlakes": true,
           "showland": true,
           "subunitcolor": "white"
          },
          "hoverlabel": {
           "align": "left"
          },
          "hovermode": "closest",
          "mapbox": {
           "style": "light"
          },
          "paper_bgcolor": "white",
          "plot_bgcolor": "#E5ECF6",
          "polar": {
           "angularaxis": {
            "gridcolor": "white",
            "linecolor": "white",
            "ticks": ""
           },
           "bgcolor": "#E5ECF6",
           "radialaxis": {
            "gridcolor": "white",
            "linecolor": "white",
            "ticks": ""
           }
          },
          "scene": {
           "xaxis": {
            "backgroundcolor": "#E5ECF6",
            "gridcolor": "white",
            "gridwidth": 2,
            "linecolor": "white",
            "showbackground": true,
            "ticks": "",
            "zerolinecolor": "white"
           },
           "yaxis": {
            "backgroundcolor": "#E5ECF6",
            "gridcolor": "white",
            "gridwidth": 2,
            "linecolor": "white",
            "showbackground": true,
            "ticks": "",
            "zerolinecolor": "white"
           },
           "zaxis": {
            "backgroundcolor": "#E5ECF6",
            "gridcolor": "white",
            "gridwidth": 2,
            "linecolor": "white",
            "showbackground": true,
            "ticks": "",
            "zerolinecolor": "white"
           }
          },
          "shapedefaults": {
           "line": {
            "color": "#2a3f5f"
           }
          },
          "ternary": {
           "aaxis": {
            "gridcolor": "white",
            "linecolor": "white",
            "ticks": ""
           },
           "baxis": {
            "gridcolor": "white",
            "linecolor": "white",
            "ticks": ""
           },
           "bgcolor": "#E5ECF6",
           "caxis": {
            "gridcolor": "white",
            "linecolor": "white",
            "ticks": ""
           }
          },
          "title": {
           "x": 0.05
          },
          "xaxis": {
           "automargin": true,
           "gridcolor": "white",
           "linecolor": "white",
           "ticks": "",
           "title": {
            "standoff": 15
           },
           "zerolinecolor": "white",
           "zerolinewidth": 2
          },
          "yaxis": {
           "automargin": true,
           "gridcolor": "white",
           "linecolor": "white",
           "ticks": "",
           "title": {
            "standoff": 15
           },
           "zerolinecolor": "white",
           "zerolinewidth": 2
          }
         }
        }
       }
      },
      "text/html": [
       "<div>                            <div id=\"e0fa9dc4-93cf-4108-9c70-56519f9e9b28\" class=\"plotly-graph-div\" style=\"height:525px; width:100%;\"></div>            <script type=\"text/javascript\">                require([\"plotly\"], function(Plotly) {                    window.PLOTLYENV=window.PLOTLYENV || {};                                    if (document.getElementById(\"e0fa9dc4-93cf-4108-9c70-56519f9e9b28\")) {                    Plotly.newPlot(                        \"e0fa9dc4-93cf-4108-9c70-56519f9e9b28\",                        [{\"hovertemplate\":\"hour=%{x}<br>weekday=%{y}<br>predicted=%{z}<extra></extra>\",\"legendgroup\":\"\",\"marker\":{\"color\":\"#636efa\",\"symbol\":\"circle\"},\"mode\":\"markers\",\"name\":\"\",\"scene\":\"scene\",\"showlegend\":false,\"type\":\"scatter3d\",\"x\":[7,12,13,21,5,9,11,13,14,20,6,9,12,13,14,19,20,5,13,14,22,9,11,16,17,22,5,6,13,20,9,13,16,8,20,21,22],\"y\":[0,0,0,0,1,1,1,1,1,1,2,2,2,2,2,2,2,3,3,3,3,4,4,4,4,4,5,5,5,5,6,6,6,0,0,0,0],\"z\":[37.0,39.333333333333336,45.666666666666664,53.333333333333336,15.666666666666666,32.333333333333336,35.333333333333336,37.666666666666664,37.333333333333336,59.0,21.0,34.0,30.333333333333332,30.333333333333332,44.333333333333336,52.666666666666664,45.666666666666664,29.0,35.0,37.666666666666664,31.0,24.666666666666668,31.0,39.0,47.666666666666664,27.0,25.666666666666668,18.666666666666668,28.0,25.666666666666668,14.666666666666666,31.666666666666668,34.0,39.666666666666664,63.333333333333336,53.333333333333336,55.333333333333336]}],                        {\"legend\":{\"tracegroupgap\":0},\"margin\":{\"t\":60},\"scene\":{\"domain\":{\"x\":[0.0,1.0],\"y\":[0.0,1.0]},\"xaxis\":{\"title\":{\"text\":\"hour\"}},\"yaxis\":{\"title\":{\"text\":\"weekday\"}},\"zaxis\":{\"title\":{\"text\":\"predicted\"}}},\"template\":{\"data\":{\"bar\":[{\"error_x\":{\"color\":\"#2a3f5f\"},\"error_y\":{\"color\":\"#2a3f5f\"},\"marker\":{\"line\":{\"color\":\"#E5ECF6\",\"width\":0.5},\"pattern\":{\"fillmode\":\"overlay\",\"size\":10,\"solidity\":0.2}},\"type\":\"bar\"}],\"barpolar\":[{\"marker\":{\"line\":{\"color\":\"#E5ECF6\",\"width\":0.5},\"pattern\":{\"fillmode\":\"overlay\",\"size\":10,\"solidity\":0.2}},\"type\":\"barpolar\"}],\"carpet\":[{\"aaxis\":{\"endlinecolor\":\"#2a3f5f\",\"gridcolor\":\"white\",\"linecolor\":\"white\",\"minorgridcolor\":\"white\",\"startlinecolor\":\"#2a3f5f\"},\"baxis\":{\"endlinecolor\":\"#2a3f5f\",\"gridcolor\":\"white\",\"linecolor\":\"white\",\"minorgridcolor\":\"white\",\"startlinecolor\":\"#2a3f5f\"},\"type\":\"carpet\"}],\"choropleth\":[{\"colorbar\":{\"outlinewidth\":0,\"ticks\":\"\"},\"type\":\"choropleth\"}],\"contour\":[{\"colorbar\":{\"outlinewidth\":0,\"ticks\":\"\"},\"colorscale\":[[0.0,\"#0d0887\"],[0.1111111111111111,\"#46039f\"],[0.2222222222222222,\"#7201a8\"],[0.3333333333333333,\"#9c179e\"],[0.4444444444444444,\"#bd3786\"],[0.5555555555555556,\"#d8576b\"],[0.6666666666666666,\"#ed7953\"],[0.7777777777777778,\"#fb9f3a\"],[0.8888888888888888,\"#fdca26\"],[1.0,\"#f0f921\"]],\"type\":\"contour\"}],\"contourcarpet\":[{\"colorbar\":{\"outlinewidth\":0,\"ticks\":\"\"},\"type\":\"contourcarpet\"}],\"heatmap\":[{\"colorbar\":{\"outlinewidth\":0,\"ticks\":\"\"},\"colorscale\":[[0.0,\"#0d0887\"],[0.1111111111111111,\"#46039f\"],[0.2222222222222222,\"#7201a8\"],[0.3333333333333333,\"#9c179e\"],[0.4444444444444444,\"#bd3786\"],[0.5555555555555556,\"#d8576b\"],[0.6666666666666666,\"#ed7953\"],[0.7777777777777778,\"#fb9f3a\"],[0.8888888888888888,\"#fdca26\"],[1.0,\"#f0f921\"]],\"type\":\"heatmap\"}],\"heatmapgl\":[{\"colorbar\":{\"outlinewidth\":0,\"ticks\":\"\"},\"colorscale\":[[0.0,\"#0d0887\"],[0.1111111111111111,\"#46039f\"],[0.2222222222222222,\"#7201a8\"],[0.3333333333333333,\"#9c179e\"],[0.4444444444444444,\"#bd3786\"],[0.5555555555555556,\"#d8576b\"],[0.6666666666666666,\"#ed7953\"],[0.7777777777777778,\"#fb9f3a\"],[0.8888888888888888,\"#fdca26\"],[1.0,\"#f0f921\"]],\"type\":\"heatmapgl\"}],\"histogram\":[{\"marker\":{\"pattern\":{\"fillmode\":\"overlay\",\"size\":10,\"solidity\":0.2}},\"type\":\"histogram\"}],\"histogram2d\":[{\"colorbar\":{\"outlinewidth\":0,\"ticks\":\"\"},\"colorscale\":[[0.0,\"#0d0887\"],[0.1111111111111111,\"#46039f\"],[0.2222222222222222,\"#7201a8\"],[0.3333333333333333,\"#9c179e\"],[0.4444444444444444,\"#bd3786\"],[0.5555555555555556,\"#d8576b\"],[0.6666666666666666,\"#ed7953\"],[0.7777777777777778,\"#fb9f3a\"],[0.8888888888888888,\"#fdca26\"],[1.0,\"#f0f921\"]],\"type\":\"histogram2d\"}],\"histogram2dcontour\":[{\"colorbar\":{\"outlinewidth\":0,\"ticks\":\"\"},\"colorscale\":[[0.0,\"#0d0887\"],[0.1111111111111111,\"#46039f\"],[0.2222222222222222,\"#7201a8\"],[0.3333333333333333,\"#9c179e\"],[0.4444444444444444,\"#bd3786\"],[0.5555555555555556,\"#d8576b\"],[0.6666666666666666,\"#ed7953\"],[0.7777777777777778,\"#fb9f3a\"],[0.8888888888888888,\"#fdca26\"],[1.0,\"#f0f921\"]],\"type\":\"histogram2dcontour\"}],\"mesh3d\":[{\"colorbar\":{\"outlinewidth\":0,\"ticks\":\"\"},\"type\":\"mesh3d\"}],\"parcoords\":[{\"line\":{\"colorbar\":{\"outlinewidth\":0,\"ticks\":\"\"}},\"type\":\"parcoords\"}],\"pie\":[{\"automargin\":true,\"type\":\"pie\"}],\"scatter\":[{\"marker\":{\"colorbar\":{\"outlinewidth\":0,\"ticks\":\"\"}},\"type\":\"scatter\"}],\"scatter3d\":[{\"line\":{\"colorbar\":{\"outlinewidth\":0,\"ticks\":\"\"}},\"marker\":{\"colorbar\":{\"outlinewidth\":0,\"ticks\":\"\"}},\"type\":\"scatter3d\"}],\"scattercarpet\":[{\"marker\":{\"colorbar\":{\"outlinewidth\":0,\"ticks\":\"\"}},\"type\":\"scattercarpet\"}],\"scattergeo\":[{\"marker\":{\"colorbar\":{\"outlinewidth\":0,\"ticks\":\"\"}},\"type\":\"scattergeo\"}],\"scattergl\":[{\"marker\":{\"colorbar\":{\"outlinewidth\":0,\"ticks\":\"\"}},\"type\":\"scattergl\"}],\"scattermapbox\":[{\"marker\":{\"colorbar\":{\"outlinewidth\":0,\"ticks\":\"\"}},\"type\":\"scattermapbox\"}],\"scatterpolar\":[{\"marker\":{\"colorbar\":{\"outlinewidth\":0,\"ticks\":\"\"}},\"type\":\"scatterpolar\"}],\"scatterpolargl\":[{\"marker\":{\"colorbar\":{\"outlinewidth\":0,\"ticks\":\"\"}},\"type\":\"scatterpolargl\"}],\"scatterternary\":[{\"marker\":{\"colorbar\":{\"outlinewidth\":0,\"ticks\":\"\"}},\"type\":\"scatterternary\"}],\"surface\":[{\"colorbar\":{\"outlinewidth\":0,\"ticks\":\"\"},\"colorscale\":[[0.0,\"#0d0887\"],[0.1111111111111111,\"#46039f\"],[0.2222222222222222,\"#7201a8\"],[0.3333333333333333,\"#9c179e\"],[0.4444444444444444,\"#bd3786\"],[0.5555555555555556,\"#d8576b\"],[0.6666666666666666,\"#ed7953\"],[0.7777777777777778,\"#fb9f3a\"],[0.8888888888888888,\"#fdca26\"],[1.0,\"#f0f921\"]],\"type\":\"surface\"}],\"table\":[{\"cells\":{\"fill\":{\"color\":\"#EBF0F8\"},\"line\":{\"color\":\"white\"}},\"header\":{\"fill\":{\"color\":\"#C8D4E3\"},\"line\":{\"color\":\"white\"}},\"type\":\"table\"}]},\"layout\":{\"annotationdefaults\":{\"arrowcolor\":\"#2a3f5f\",\"arrowhead\":0,\"arrowwidth\":1},\"autotypenumbers\":\"strict\",\"coloraxis\":{\"colorbar\":{\"outlinewidth\":0,\"ticks\":\"\"}},\"colorscale\":{\"diverging\":[[0,\"#8e0152\"],[0.1,\"#c51b7d\"],[0.2,\"#de77ae\"],[0.3,\"#f1b6da\"],[0.4,\"#fde0ef\"],[0.5,\"#f7f7f7\"],[0.6,\"#e6f5d0\"],[0.7,\"#b8e186\"],[0.8,\"#7fbc41\"],[0.9,\"#4d9221\"],[1,\"#276419\"]],\"sequential\":[[0.0,\"#0d0887\"],[0.1111111111111111,\"#46039f\"],[0.2222222222222222,\"#7201a8\"],[0.3333333333333333,\"#9c179e\"],[0.4444444444444444,\"#bd3786\"],[0.5555555555555556,\"#d8576b\"],[0.6666666666666666,\"#ed7953\"],[0.7777777777777778,\"#fb9f3a\"],[0.8888888888888888,\"#fdca26\"],[1.0,\"#f0f921\"]],\"sequentialminus\":[[0.0,\"#0d0887\"],[0.1111111111111111,\"#46039f\"],[0.2222222222222222,\"#7201a8\"],[0.3333333333333333,\"#9c179e\"],[0.4444444444444444,\"#bd3786\"],[0.5555555555555556,\"#d8576b\"],[0.6666666666666666,\"#ed7953\"],[0.7777777777777778,\"#fb9f3a\"],[0.8888888888888888,\"#fdca26\"],[1.0,\"#f0f921\"]]},\"colorway\":[\"#636efa\",\"#EF553B\",\"#00cc96\",\"#ab63fa\",\"#FFA15A\",\"#19d3f3\",\"#FF6692\",\"#B6E880\",\"#FF97FF\",\"#FECB52\"],\"font\":{\"color\":\"#2a3f5f\"},\"geo\":{\"bgcolor\":\"white\",\"lakecolor\":\"white\",\"landcolor\":\"#E5ECF6\",\"showlakes\":true,\"showland\":true,\"subunitcolor\":\"white\"},\"hoverlabel\":{\"align\":\"left\"},\"hovermode\":\"closest\",\"mapbox\":{\"style\":\"light\"},\"paper_bgcolor\":\"white\",\"plot_bgcolor\":\"#E5ECF6\",\"polar\":{\"angularaxis\":{\"gridcolor\":\"white\",\"linecolor\":\"white\",\"ticks\":\"\"},\"bgcolor\":\"#E5ECF6\",\"radialaxis\":{\"gridcolor\":\"white\",\"linecolor\":\"white\",\"ticks\":\"\"}},\"scene\":{\"xaxis\":{\"backgroundcolor\":\"#E5ECF6\",\"gridcolor\":\"white\",\"gridwidth\":2,\"linecolor\":\"white\",\"showbackground\":true,\"ticks\":\"\",\"zerolinecolor\":\"white\"},\"yaxis\":{\"backgroundcolor\":\"#E5ECF6\",\"gridcolor\":\"white\",\"gridwidth\":2,\"linecolor\":\"white\",\"showbackground\":true,\"ticks\":\"\",\"zerolinecolor\":\"white\"},\"zaxis\":{\"backgroundcolor\":\"#E5ECF6\",\"gridcolor\":\"white\",\"gridwidth\":2,\"linecolor\":\"white\",\"showbackground\":true,\"ticks\":\"\",\"zerolinecolor\":\"white\"}},\"shapedefaults\":{\"line\":{\"color\":\"#2a3f5f\"}},\"ternary\":{\"aaxis\":{\"gridcolor\":\"white\",\"linecolor\":\"white\",\"ticks\":\"\"},\"baxis\":{\"gridcolor\":\"white\",\"linecolor\":\"white\",\"ticks\":\"\"},\"bgcolor\":\"#E5ECF6\",\"caxis\":{\"gridcolor\":\"white\",\"linecolor\":\"white\",\"ticks\":\"\"}},\"title\":{\"x\":0.05},\"xaxis\":{\"automargin\":true,\"gridcolor\":\"white\",\"linecolor\":\"white\",\"ticks\":\"\",\"title\":{\"standoff\":15},\"zerolinecolor\":\"white\",\"zerolinewidth\":2},\"yaxis\":{\"automargin\":true,\"gridcolor\":\"white\",\"linecolor\":\"white\",\"ticks\":\"\",\"title\":{\"standoff\":15},\"zerolinecolor\":\"white\",\"zerolinewidth\":2}}}},                        {\"responsive\": true}                    ).then(function(){\n",
       "                            \n",
       "var gd = document.getElementById('e0fa9dc4-93cf-4108-9c70-56519f9e9b28');\n",
       "var x = new MutationObserver(function (mutations, observer) {{\n",
       "        var display = window.getComputedStyle(gd).display;\n",
       "        if (!display || display === 'none') {{\n",
       "            console.log([gd, 'removed!']);\n",
       "            Plotly.purge(gd);\n",
       "            observer.disconnect();\n",
       "        }}\n",
       "}});\n",
       "\n",
       "// Listen for the removal of the full notebook cells\n",
       "var notebookContainer = gd.closest('#notebook-container');\n",
       "if (notebookContainer) {{\n",
       "    x.observe(notebookContainer, {childList: true});\n",
       "}}\n",
       "\n",
       "// Listen for the clearing of the current output cell\n",
       "var outputEl = gd.closest('.output');\n",
       "if (outputEl) {{\n",
       "    x.observe(outputEl, {childList: true});\n",
       "}}\n",
       "\n",
       "                        })                };                });            </script>        </div>"
      ]
     },
     "metadata": {},
     "output_type": "display_data"
    }
   ],
   "source": [
    "px.scatter_3d(test, x='hour', y='weekday', z='predicted')"
   ]
  },
  {
   "cell_type": "code",
   "execution_count": 17,
   "id": "d652a12c",
   "metadata": {},
   "outputs": [
    {
     "data": {
      "application/vnd.plotly.v1+json": {
       "config": {
        "plotlyServerURL": "https://plot.ly"
       },
       "data": [
        {
         "hovertemplate": "hour=%{x}<br>weekday=%{y}<br>current_capacity=%{z}<extra></extra>",
         "legendgroup": "",
         "marker": {
          "color": "#636efa",
          "symbol": "circle"
         },
         "mode": "markers",
         "name": "",
         "scene": "scene",
         "showlegend": false,
         "type": "scatter3d",
         "x": [
          7,
          12,
          13,
          21,
          5,
          9,
          11,
          13,
          14,
          20,
          6,
          9,
          12,
          13,
          14,
          19,
          20,
          5,
          13,
          14,
          22,
          9,
          11,
          16,
          17,
          22,
          5,
          6,
          13,
          20,
          9,
          13,
          16,
          8,
          20,
          21,
          22
         ],
         "y": [
          0,
          0,
          0,
          0,
          1,
          1,
          1,
          1,
          1,
          1,
          2,
          2,
          2,
          2,
          2,
          2,
          2,
          3,
          3,
          3,
          3,
          4,
          4,
          4,
          4,
          4,
          5,
          5,
          5,
          5,
          6,
          6,
          6,
          0,
          0,
          0,
          0
         ],
         "z": [
          40,
          35,
          37,
          46,
          46,
          19,
          35,
          30,
          30,
          63,
          38,
          33,
          34,
          23,
          33,
          44,
          48,
          73,
          43,
          41,
          44,
          30,
          49,
          37,
          57,
          31,
          23,
          23,
          19,
          21,
          15,
          28,
          31,
          37,
          72,
          67,
          57
         ]
        }
       ],
       "layout": {
        "legend": {
         "tracegroupgap": 0
        },
        "margin": {
         "t": 60
        },
        "scene": {
         "domain": {
          "x": [
           0,
           1
          ],
          "y": [
           0,
           1
          ]
         },
         "xaxis": {
          "title": {
           "text": "hour"
          }
         },
         "yaxis": {
          "title": {
           "text": "weekday"
          }
         },
         "zaxis": {
          "title": {
           "text": "current_capacity"
          }
         }
        },
        "template": {
         "data": {
          "bar": [
           {
            "error_x": {
             "color": "#2a3f5f"
            },
            "error_y": {
             "color": "#2a3f5f"
            },
            "marker": {
             "line": {
              "color": "#E5ECF6",
              "width": 0.5
             },
             "pattern": {
              "fillmode": "overlay",
              "size": 10,
              "solidity": 0.2
             }
            },
            "type": "bar"
           }
          ],
          "barpolar": [
           {
            "marker": {
             "line": {
              "color": "#E5ECF6",
              "width": 0.5
             },
             "pattern": {
              "fillmode": "overlay",
              "size": 10,
              "solidity": 0.2
             }
            },
            "type": "barpolar"
           }
          ],
          "carpet": [
           {
            "aaxis": {
             "endlinecolor": "#2a3f5f",
             "gridcolor": "white",
             "linecolor": "white",
             "minorgridcolor": "white",
             "startlinecolor": "#2a3f5f"
            },
            "baxis": {
             "endlinecolor": "#2a3f5f",
             "gridcolor": "white",
             "linecolor": "white",
             "minorgridcolor": "white",
             "startlinecolor": "#2a3f5f"
            },
            "type": "carpet"
           }
          ],
          "choropleth": [
           {
            "colorbar": {
             "outlinewidth": 0,
             "ticks": ""
            },
            "type": "choropleth"
           }
          ],
          "contour": [
           {
            "colorbar": {
             "outlinewidth": 0,
             "ticks": ""
            },
            "colorscale": [
             [
              0,
              "#0d0887"
             ],
             [
              0.1111111111111111,
              "#46039f"
             ],
             [
              0.2222222222222222,
              "#7201a8"
             ],
             [
              0.3333333333333333,
              "#9c179e"
             ],
             [
              0.4444444444444444,
              "#bd3786"
             ],
             [
              0.5555555555555556,
              "#d8576b"
             ],
             [
              0.6666666666666666,
              "#ed7953"
             ],
             [
              0.7777777777777778,
              "#fb9f3a"
             ],
             [
              0.8888888888888888,
              "#fdca26"
             ],
             [
              1,
              "#f0f921"
             ]
            ],
            "type": "contour"
           }
          ],
          "contourcarpet": [
           {
            "colorbar": {
             "outlinewidth": 0,
             "ticks": ""
            },
            "type": "contourcarpet"
           }
          ],
          "heatmap": [
           {
            "colorbar": {
             "outlinewidth": 0,
             "ticks": ""
            },
            "colorscale": [
             [
              0,
              "#0d0887"
             ],
             [
              0.1111111111111111,
              "#46039f"
             ],
             [
              0.2222222222222222,
              "#7201a8"
             ],
             [
              0.3333333333333333,
              "#9c179e"
             ],
             [
              0.4444444444444444,
              "#bd3786"
             ],
             [
              0.5555555555555556,
              "#d8576b"
             ],
             [
              0.6666666666666666,
              "#ed7953"
             ],
             [
              0.7777777777777778,
              "#fb9f3a"
             ],
             [
              0.8888888888888888,
              "#fdca26"
             ],
             [
              1,
              "#f0f921"
             ]
            ],
            "type": "heatmap"
           }
          ],
          "heatmapgl": [
           {
            "colorbar": {
             "outlinewidth": 0,
             "ticks": ""
            },
            "colorscale": [
             [
              0,
              "#0d0887"
             ],
             [
              0.1111111111111111,
              "#46039f"
             ],
             [
              0.2222222222222222,
              "#7201a8"
             ],
             [
              0.3333333333333333,
              "#9c179e"
             ],
             [
              0.4444444444444444,
              "#bd3786"
             ],
             [
              0.5555555555555556,
              "#d8576b"
             ],
             [
              0.6666666666666666,
              "#ed7953"
             ],
             [
              0.7777777777777778,
              "#fb9f3a"
             ],
             [
              0.8888888888888888,
              "#fdca26"
             ],
             [
              1,
              "#f0f921"
             ]
            ],
            "type": "heatmapgl"
           }
          ],
          "histogram": [
           {
            "marker": {
             "pattern": {
              "fillmode": "overlay",
              "size": 10,
              "solidity": 0.2
             }
            },
            "type": "histogram"
           }
          ],
          "histogram2d": [
           {
            "colorbar": {
             "outlinewidth": 0,
             "ticks": ""
            },
            "colorscale": [
             [
              0,
              "#0d0887"
             ],
             [
              0.1111111111111111,
              "#46039f"
             ],
             [
              0.2222222222222222,
              "#7201a8"
             ],
             [
              0.3333333333333333,
              "#9c179e"
             ],
             [
              0.4444444444444444,
              "#bd3786"
             ],
             [
              0.5555555555555556,
              "#d8576b"
             ],
             [
              0.6666666666666666,
              "#ed7953"
             ],
             [
              0.7777777777777778,
              "#fb9f3a"
             ],
             [
              0.8888888888888888,
              "#fdca26"
             ],
             [
              1,
              "#f0f921"
             ]
            ],
            "type": "histogram2d"
           }
          ],
          "histogram2dcontour": [
           {
            "colorbar": {
             "outlinewidth": 0,
             "ticks": ""
            },
            "colorscale": [
             [
              0,
              "#0d0887"
             ],
             [
              0.1111111111111111,
              "#46039f"
             ],
             [
              0.2222222222222222,
              "#7201a8"
             ],
             [
              0.3333333333333333,
              "#9c179e"
             ],
             [
              0.4444444444444444,
              "#bd3786"
             ],
             [
              0.5555555555555556,
              "#d8576b"
             ],
             [
              0.6666666666666666,
              "#ed7953"
             ],
             [
              0.7777777777777778,
              "#fb9f3a"
             ],
             [
              0.8888888888888888,
              "#fdca26"
             ],
             [
              1,
              "#f0f921"
             ]
            ],
            "type": "histogram2dcontour"
           }
          ],
          "mesh3d": [
           {
            "colorbar": {
             "outlinewidth": 0,
             "ticks": ""
            },
            "type": "mesh3d"
           }
          ],
          "parcoords": [
           {
            "line": {
             "colorbar": {
              "outlinewidth": 0,
              "ticks": ""
             }
            },
            "type": "parcoords"
           }
          ],
          "pie": [
           {
            "automargin": true,
            "type": "pie"
           }
          ],
          "scatter": [
           {
            "marker": {
             "colorbar": {
              "outlinewidth": 0,
              "ticks": ""
             }
            },
            "type": "scatter"
           }
          ],
          "scatter3d": [
           {
            "line": {
             "colorbar": {
              "outlinewidth": 0,
              "ticks": ""
             }
            },
            "marker": {
             "colorbar": {
              "outlinewidth": 0,
              "ticks": ""
             }
            },
            "type": "scatter3d"
           }
          ],
          "scattercarpet": [
           {
            "marker": {
             "colorbar": {
              "outlinewidth": 0,
              "ticks": ""
             }
            },
            "type": "scattercarpet"
           }
          ],
          "scattergeo": [
           {
            "marker": {
             "colorbar": {
              "outlinewidth": 0,
              "ticks": ""
             }
            },
            "type": "scattergeo"
           }
          ],
          "scattergl": [
           {
            "marker": {
             "colorbar": {
              "outlinewidth": 0,
              "ticks": ""
             }
            },
            "type": "scattergl"
           }
          ],
          "scattermapbox": [
           {
            "marker": {
             "colorbar": {
              "outlinewidth": 0,
              "ticks": ""
             }
            },
            "type": "scattermapbox"
           }
          ],
          "scatterpolar": [
           {
            "marker": {
             "colorbar": {
              "outlinewidth": 0,
              "ticks": ""
             }
            },
            "type": "scatterpolar"
           }
          ],
          "scatterpolargl": [
           {
            "marker": {
             "colorbar": {
              "outlinewidth": 0,
              "ticks": ""
             }
            },
            "type": "scatterpolargl"
           }
          ],
          "scatterternary": [
           {
            "marker": {
             "colorbar": {
              "outlinewidth": 0,
              "ticks": ""
             }
            },
            "type": "scatterternary"
           }
          ],
          "surface": [
           {
            "colorbar": {
             "outlinewidth": 0,
             "ticks": ""
            },
            "colorscale": [
             [
              0,
              "#0d0887"
             ],
             [
              0.1111111111111111,
              "#46039f"
             ],
             [
              0.2222222222222222,
              "#7201a8"
             ],
             [
              0.3333333333333333,
              "#9c179e"
             ],
             [
              0.4444444444444444,
              "#bd3786"
             ],
             [
              0.5555555555555556,
              "#d8576b"
             ],
             [
              0.6666666666666666,
              "#ed7953"
             ],
             [
              0.7777777777777778,
              "#fb9f3a"
             ],
             [
              0.8888888888888888,
              "#fdca26"
             ],
             [
              1,
              "#f0f921"
             ]
            ],
            "type": "surface"
           }
          ],
          "table": [
           {
            "cells": {
             "fill": {
              "color": "#EBF0F8"
             },
             "line": {
              "color": "white"
             }
            },
            "header": {
             "fill": {
              "color": "#C8D4E3"
             },
             "line": {
              "color": "white"
             }
            },
            "type": "table"
           }
          ]
         },
         "layout": {
          "annotationdefaults": {
           "arrowcolor": "#2a3f5f",
           "arrowhead": 0,
           "arrowwidth": 1
          },
          "autotypenumbers": "strict",
          "coloraxis": {
           "colorbar": {
            "outlinewidth": 0,
            "ticks": ""
           }
          },
          "colorscale": {
           "diverging": [
            [
             0,
             "#8e0152"
            ],
            [
             0.1,
             "#c51b7d"
            ],
            [
             0.2,
             "#de77ae"
            ],
            [
             0.3,
             "#f1b6da"
            ],
            [
             0.4,
             "#fde0ef"
            ],
            [
             0.5,
             "#f7f7f7"
            ],
            [
             0.6,
             "#e6f5d0"
            ],
            [
             0.7,
             "#b8e186"
            ],
            [
             0.8,
             "#7fbc41"
            ],
            [
             0.9,
             "#4d9221"
            ],
            [
             1,
             "#276419"
            ]
           ],
           "sequential": [
            [
             0,
             "#0d0887"
            ],
            [
             0.1111111111111111,
             "#46039f"
            ],
            [
             0.2222222222222222,
             "#7201a8"
            ],
            [
             0.3333333333333333,
             "#9c179e"
            ],
            [
             0.4444444444444444,
             "#bd3786"
            ],
            [
             0.5555555555555556,
             "#d8576b"
            ],
            [
             0.6666666666666666,
             "#ed7953"
            ],
            [
             0.7777777777777778,
             "#fb9f3a"
            ],
            [
             0.8888888888888888,
             "#fdca26"
            ],
            [
             1,
             "#f0f921"
            ]
           ],
           "sequentialminus": [
            [
             0,
             "#0d0887"
            ],
            [
             0.1111111111111111,
             "#46039f"
            ],
            [
             0.2222222222222222,
             "#7201a8"
            ],
            [
             0.3333333333333333,
             "#9c179e"
            ],
            [
             0.4444444444444444,
             "#bd3786"
            ],
            [
             0.5555555555555556,
             "#d8576b"
            ],
            [
             0.6666666666666666,
             "#ed7953"
            ],
            [
             0.7777777777777778,
             "#fb9f3a"
            ],
            [
             0.8888888888888888,
             "#fdca26"
            ],
            [
             1,
             "#f0f921"
            ]
           ]
          },
          "colorway": [
           "#636efa",
           "#EF553B",
           "#00cc96",
           "#ab63fa",
           "#FFA15A",
           "#19d3f3",
           "#FF6692",
           "#B6E880",
           "#FF97FF",
           "#FECB52"
          ],
          "font": {
           "color": "#2a3f5f"
          },
          "geo": {
           "bgcolor": "white",
           "lakecolor": "white",
           "landcolor": "#E5ECF6",
           "showlakes": true,
           "showland": true,
           "subunitcolor": "white"
          },
          "hoverlabel": {
           "align": "left"
          },
          "hovermode": "closest",
          "mapbox": {
           "style": "light"
          },
          "paper_bgcolor": "white",
          "plot_bgcolor": "#E5ECF6",
          "polar": {
           "angularaxis": {
            "gridcolor": "white",
            "linecolor": "white",
            "ticks": ""
           },
           "bgcolor": "#E5ECF6",
           "radialaxis": {
            "gridcolor": "white",
            "linecolor": "white",
            "ticks": ""
           }
          },
          "scene": {
           "xaxis": {
            "backgroundcolor": "#E5ECF6",
            "gridcolor": "white",
            "gridwidth": 2,
            "linecolor": "white",
            "showbackground": true,
            "ticks": "",
            "zerolinecolor": "white"
           },
           "yaxis": {
            "backgroundcolor": "#E5ECF6",
            "gridcolor": "white",
            "gridwidth": 2,
            "linecolor": "white",
            "showbackground": true,
            "ticks": "",
            "zerolinecolor": "white"
           },
           "zaxis": {
            "backgroundcolor": "#E5ECF6",
            "gridcolor": "white",
            "gridwidth": 2,
            "linecolor": "white",
            "showbackground": true,
            "ticks": "",
            "zerolinecolor": "white"
           }
          },
          "shapedefaults": {
           "line": {
            "color": "#2a3f5f"
           }
          },
          "ternary": {
           "aaxis": {
            "gridcolor": "white",
            "linecolor": "white",
            "ticks": ""
           },
           "baxis": {
            "gridcolor": "white",
            "linecolor": "white",
            "ticks": ""
           },
           "bgcolor": "#E5ECF6",
           "caxis": {
            "gridcolor": "white",
            "linecolor": "white",
            "ticks": ""
           }
          },
          "title": {
           "x": 0.05
          },
          "xaxis": {
           "automargin": true,
           "gridcolor": "white",
           "linecolor": "white",
           "ticks": "",
           "title": {
            "standoff": 15
           },
           "zerolinecolor": "white",
           "zerolinewidth": 2
          },
          "yaxis": {
           "automargin": true,
           "gridcolor": "white",
           "linecolor": "white",
           "ticks": "",
           "title": {
            "standoff": 15
           },
           "zerolinecolor": "white",
           "zerolinewidth": 2
          }
         }
        }
       }
      },
      "text/html": [
       "<div>                            <div id=\"0c81e2e6-d1a5-4864-a9a0-d3f21f6538be\" class=\"plotly-graph-div\" style=\"height:525px; width:100%;\"></div>            <script type=\"text/javascript\">                require([\"plotly\"], function(Plotly) {                    window.PLOTLYENV=window.PLOTLYENV || {};                                    if (document.getElementById(\"0c81e2e6-d1a5-4864-a9a0-d3f21f6538be\")) {                    Plotly.newPlot(                        \"0c81e2e6-d1a5-4864-a9a0-d3f21f6538be\",                        [{\"hovertemplate\":\"hour=%{x}<br>weekday=%{y}<br>current_capacity=%{z}<extra></extra>\",\"legendgroup\":\"\",\"marker\":{\"color\":\"#636efa\",\"symbol\":\"circle\"},\"mode\":\"markers\",\"name\":\"\",\"scene\":\"scene\",\"showlegend\":false,\"type\":\"scatter3d\",\"x\":[7,12,13,21,5,9,11,13,14,20,6,9,12,13,14,19,20,5,13,14,22,9,11,16,17,22,5,6,13,20,9,13,16,8,20,21,22],\"y\":[0,0,0,0,1,1,1,1,1,1,2,2,2,2,2,2,2,3,3,3,3,4,4,4,4,4,5,5,5,5,6,6,6,0,0,0,0],\"z\":[40.0,35.0,37.0,46.0,46.0,19.0,35.0,30.0,30.0,63.0,38.0,33.0,34.0,23.0,33.0,44.0,48.0,73.0,43.0,41.0,44.0,30.0,49.0,37.0,57.0,31.0,23.0,23.0,19.0,21.0,15.0,28.0,31.0,37.0,72.0,67.0,57.0]}],                        {\"legend\":{\"tracegroupgap\":0},\"margin\":{\"t\":60},\"scene\":{\"domain\":{\"x\":[0.0,1.0],\"y\":[0.0,1.0]},\"xaxis\":{\"title\":{\"text\":\"hour\"}},\"yaxis\":{\"title\":{\"text\":\"weekday\"}},\"zaxis\":{\"title\":{\"text\":\"current_capacity\"}}},\"template\":{\"data\":{\"bar\":[{\"error_x\":{\"color\":\"#2a3f5f\"},\"error_y\":{\"color\":\"#2a3f5f\"},\"marker\":{\"line\":{\"color\":\"#E5ECF6\",\"width\":0.5},\"pattern\":{\"fillmode\":\"overlay\",\"size\":10,\"solidity\":0.2}},\"type\":\"bar\"}],\"barpolar\":[{\"marker\":{\"line\":{\"color\":\"#E5ECF6\",\"width\":0.5},\"pattern\":{\"fillmode\":\"overlay\",\"size\":10,\"solidity\":0.2}},\"type\":\"barpolar\"}],\"carpet\":[{\"aaxis\":{\"endlinecolor\":\"#2a3f5f\",\"gridcolor\":\"white\",\"linecolor\":\"white\",\"minorgridcolor\":\"white\",\"startlinecolor\":\"#2a3f5f\"},\"baxis\":{\"endlinecolor\":\"#2a3f5f\",\"gridcolor\":\"white\",\"linecolor\":\"white\",\"minorgridcolor\":\"white\",\"startlinecolor\":\"#2a3f5f\"},\"type\":\"carpet\"}],\"choropleth\":[{\"colorbar\":{\"outlinewidth\":0,\"ticks\":\"\"},\"type\":\"choropleth\"}],\"contour\":[{\"colorbar\":{\"outlinewidth\":0,\"ticks\":\"\"},\"colorscale\":[[0.0,\"#0d0887\"],[0.1111111111111111,\"#46039f\"],[0.2222222222222222,\"#7201a8\"],[0.3333333333333333,\"#9c179e\"],[0.4444444444444444,\"#bd3786\"],[0.5555555555555556,\"#d8576b\"],[0.6666666666666666,\"#ed7953\"],[0.7777777777777778,\"#fb9f3a\"],[0.8888888888888888,\"#fdca26\"],[1.0,\"#f0f921\"]],\"type\":\"contour\"}],\"contourcarpet\":[{\"colorbar\":{\"outlinewidth\":0,\"ticks\":\"\"},\"type\":\"contourcarpet\"}],\"heatmap\":[{\"colorbar\":{\"outlinewidth\":0,\"ticks\":\"\"},\"colorscale\":[[0.0,\"#0d0887\"],[0.1111111111111111,\"#46039f\"],[0.2222222222222222,\"#7201a8\"],[0.3333333333333333,\"#9c179e\"],[0.4444444444444444,\"#bd3786\"],[0.5555555555555556,\"#d8576b\"],[0.6666666666666666,\"#ed7953\"],[0.7777777777777778,\"#fb9f3a\"],[0.8888888888888888,\"#fdca26\"],[1.0,\"#f0f921\"]],\"type\":\"heatmap\"}],\"heatmapgl\":[{\"colorbar\":{\"outlinewidth\":0,\"ticks\":\"\"},\"colorscale\":[[0.0,\"#0d0887\"],[0.1111111111111111,\"#46039f\"],[0.2222222222222222,\"#7201a8\"],[0.3333333333333333,\"#9c179e\"],[0.4444444444444444,\"#bd3786\"],[0.5555555555555556,\"#d8576b\"],[0.6666666666666666,\"#ed7953\"],[0.7777777777777778,\"#fb9f3a\"],[0.8888888888888888,\"#fdca26\"],[1.0,\"#f0f921\"]],\"type\":\"heatmapgl\"}],\"histogram\":[{\"marker\":{\"pattern\":{\"fillmode\":\"overlay\",\"size\":10,\"solidity\":0.2}},\"type\":\"histogram\"}],\"histogram2d\":[{\"colorbar\":{\"outlinewidth\":0,\"ticks\":\"\"},\"colorscale\":[[0.0,\"#0d0887\"],[0.1111111111111111,\"#46039f\"],[0.2222222222222222,\"#7201a8\"],[0.3333333333333333,\"#9c179e\"],[0.4444444444444444,\"#bd3786\"],[0.5555555555555556,\"#d8576b\"],[0.6666666666666666,\"#ed7953\"],[0.7777777777777778,\"#fb9f3a\"],[0.8888888888888888,\"#fdca26\"],[1.0,\"#f0f921\"]],\"type\":\"histogram2d\"}],\"histogram2dcontour\":[{\"colorbar\":{\"outlinewidth\":0,\"ticks\":\"\"},\"colorscale\":[[0.0,\"#0d0887\"],[0.1111111111111111,\"#46039f\"],[0.2222222222222222,\"#7201a8\"],[0.3333333333333333,\"#9c179e\"],[0.4444444444444444,\"#bd3786\"],[0.5555555555555556,\"#d8576b\"],[0.6666666666666666,\"#ed7953\"],[0.7777777777777778,\"#fb9f3a\"],[0.8888888888888888,\"#fdca26\"],[1.0,\"#f0f921\"]],\"type\":\"histogram2dcontour\"}],\"mesh3d\":[{\"colorbar\":{\"outlinewidth\":0,\"ticks\":\"\"},\"type\":\"mesh3d\"}],\"parcoords\":[{\"line\":{\"colorbar\":{\"outlinewidth\":0,\"ticks\":\"\"}},\"type\":\"parcoords\"}],\"pie\":[{\"automargin\":true,\"type\":\"pie\"}],\"scatter\":[{\"marker\":{\"colorbar\":{\"outlinewidth\":0,\"ticks\":\"\"}},\"type\":\"scatter\"}],\"scatter3d\":[{\"line\":{\"colorbar\":{\"outlinewidth\":0,\"ticks\":\"\"}},\"marker\":{\"colorbar\":{\"outlinewidth\":0,\"ticks\":\"\"}},\"type\":\"scatter3d\"}],\"scattercarpet\":[{\"marker\":{\"colorbar\":{\"outlinewidth\":0,\"ticks\":\"\"}},\"type\":\"scattercarpet\"}],\"scattergeo\":[{\"marker\":{\"colorbar\":{\"outlinewidth\":0,\"ticks\":\"\"}},\"type\":\"scattergeo\"}],\"scattergl\":[{\"marker\":{\"colorbar\":{\"outlinewidth\":0,\"ticks\":\"\"}},\"type\":\"scattergl\"}],\"scattermapbox\":[{\"marker\":{\"colorbar\":{\"outlinewidth\":0,\"ticks\":\"\"}},\"type\":\"scattermapbox\"}],\"scatterpolar\":[{\"marker\":{\"colorbar\":{\"outlinewidth\":0,\"ticks\":\"\"}},\"type\":\"scatterpolar\"}],\"scatterpolargl\":[{\"marker\":{\"colorbar\":{\"outlinewidth\":0,\"ticks\":\"\"}},\"type\":\"scatterpolargl\"}],\"scatterternary\":[{\"marker\":{\"colorbar\":{\"outlinewidth\":0,\"ticks\":\"\"}},\"type\":\"scatterternary\"}],\"surface\":[{\"colorbar\":{\"outlinewidth\":0,\"ticks\":\"\"},\"colorscale\":[[0.0,\"#0d0887\"],[0.1111111111111111,\"#46039f\"],[0.2222222222222222,\"#7201a8\"],[0.3333333333333333,\"#9c179e\"],[0.4444444444444444,\"#bd3786\"],[0.5555555555555556,\"#d8576b\"],[0.6666666666666666,\"#ed7953\"],[0.7777777777777778,\"#fb9f3a\"],[0.8888888888888888,\"#fdca26\"],[1.0,\"#f0f921\"]],\"type\":\"surface\"}],\"table\":[{\"cells\":{\"fill\":{\"color\":\"#EBF0F8\"},\"line\":{\"color\":\"white\"}},\"header\":{\"fill\":{\"color\":\"#C8D4E3\"},\"line\":{\"color\":\"white\"}},\"type\":\"table\"}]},\"layout\":{\"annotationdefaults\":{\"arrowcolor\":\"#2a3f5f\",\"arrowhead\":0,\"arrowwidth\":1},\"autotypenumbers\":\"strict\",\"coloraxis\":{\"colorbar\":{\"outlinewidth\":0,\"ticks\":\"\"}},\"colorscale\":{\"diverging\":[[0,\"#8e0152\"],[0.1,\"#c51b7d\"],[0.2,\"#de77ae\"],[0.3,\"#f1b6da\"],[0.4,\"#fde0ef\"],[0.5,\"#f7f7f7\"],[0.6,\"#e6f5d0\"],[0.7,\"#b8e186\"],[0.8,\"#7fbc41\"],[0.9,\"#4d9221\"],[1,\"#276419\"]],\"sequential\":[[0.0,\"#0d0887\"],[0.1111111111111111,\"#46039f\"],[0.2222222222222222,\"#7201a8\"],[0.3333333333333333,\"#9c179e\"],[0.4444444444444444,\"#bd3786\"],[0.5555555555555556,\"#d8576b\"],[0.6666666666666666,\"#ed7953\"],[0.7777777777777778,\"#fb9f3a\"],[0.8888888888888888,\"#fdca26\"],[1.0,\"#f0f921\"]],\"sequentialminus\":[[0.0,\"#0d0887\"],[0.1111111111111111,\"#46039f\"],[0.2222222222222222,\"#7201a8\"],[0.3333333333333333,\"#9c179e\"],[0.4444444444444444,\"#bd3786\"],[0.5555555555555556,\"#d8576b\"],[0.6666666666666666,\"#ed7953\"],[0.7777777777777778,\"#fb9f3a\"],[0.8888888888888888,\"#fdca26\"],[1.0,\"#f0f921\"]]},\"colorway\":[\"#636efa\",\"#EF553B\",\"#00cc96\",\"#ab63fa\",\"#FFA15A\",\"#19d3f3\",\"#FF6692\",\"#B6E880\",\"#FF97FF\",\"#FECB52\"],\"font\":{\"color\":\"#2a3f5f\"},\"geo\":{\"bgcolor\":\"white\",\"lakecolor\":\"white\",\"landcolor\":\"#E5ECF6\",\"showlakes\":true,\"showland\":true,\"subunitcolor\":\"white\"},\"hoverlabel\":{\"align\":\"left\"},\"hovermode\":\"closest\",\"mapbox\":{\"style\":\"light\"},\"paper_bgcolor\":\"white\",\"plot_bgcolor\":\"#E5ECF6\",\"polar\":{\"angularaxis\":{\"gridcolor\":\"white\",\"linecolor\":\"white\",\"ticks\":\"\"},\"bgcolor\":\"#E5ECF6\",\"radialaxis\":{\"gridcolor\":\"white\",\"linecolor\":\"white\",\"ticks\":\"\"}},\"scene\":{\"xaxis\":{\"backgroundcolor\":\"#E5ECF6\",\"gridcolor\":\"white\",\"gridwidth\":2,\"linecolor\":\"white\",\"showbackground\":true,\"ticks\":\"\",\"zerolinecolor\":\"white\"},\"yaxis\":{\"backgroundcolor\":\"#E5ECF6\",\"gridcolor\":\"white\",\"gridwidth\":2,\"linecolor\":\"white\",\"showbackground\":true,\"ticks\":\"\",\"zerolinecolor\":\"white\"},\"zaxis\":{\"backgroundcolor\":\"#E5ECF6\",\"gridcolor\":\"white\",\"gridwidth\":2,\"linecolor\":\"white\",\"showbackground\":true,\"ticks\":\"\",\"zerolinecolor\":\"white\"}},\"shapedefaults\":{\"line\":{\"color\":\"#2a3f5f\"}},\"ternary\":{\"aaxis\":{\"gridcolor\":\"white\",\"linecolor\":\"white\",\"ticks\":\"\"},\"baxis\":{\"gridcolor\":\"white\",\"linecolor\":\"white\",\"ticks\":\"\"},\"bgcolor\":\"#E5ECF6\",\"caxis\":{\"gridcolor\":\"white\",\"linecolor\":\"white\",\"ticks\":\"\"}},\"title\":{\"x\":0.05},\"xaxis\":{\"automargin\":true,\"gridcolor\":\"white\",\"linecolor\":\"white\",\"ticks\":\"\",\"title\":{\"standoff\":15},\"zerolinecolor\":\"white\",\"zerolinewidth\":2},\"yaxis\":{\"automargin\":true,\"gridcolor\":\"white\",\"linecolor\":\"white\",\"ticks\":\"\",\"title\":{\"standoff\":15},\"zerolinecolor\":\"white\",\"zerolinewidth\":2}}}},                        {\"responsive\": true}                    ).then(function(){\n",
       "                            \n",
       "var gd = document.getElementById('0c81e2e6-d1a5-4864-a9a0-d3f21f6538be');\n",
       "var x = new MutationObserver(function (mutations, observer) {{\n",
       "        var display = window.getComputedStyle(gd).display;\n",
       "        if (!display || display === 'none') {{\n",
       "            console.log([gd, 'removed!']);\n",
       "            Plotly.purge(gd);\n",
       "            observer.disconnect();\n",
       "        }}\n",
       "}});\n",
       "\n",
       "// Listen for the removal of the full notebook cells\n",
       "var notebookContainer = gd.closest('#notebook-container');\n",
       "if (notebookContainer) {{\n",
       "    x.observe(notebookContainer, {childList: true});\n",
       "}}\n",
       "\n",
       "// Listen for the clearing of the current output cell\n",
       "var outputEl = gd.closest('.output');\n",
       "if (outputEl) {{\n",
       "    x.observe(outputEl, {childList: true});\n",
       "}}\n",
       "\n",
       "                        })                };                });            </script>        </div>"
      ]
     },
     "metadata": {},
     "output_type": "display_data"
    }
   ],
   "source": [
    "px.scatter_3d(test, x='hour', y='weekday', z='current_capacity')"
   ]
  },
  {
   "cell_type": "code",
   "execution_count": 18,
   "id": "f18c6a24",
   "metadata": {},
   "outputs": [
    {
     "data": {
      "application/vnd.plotly.v1+json": {
       "config": {
        "plotlyServerURL": "https://plot.ly"
       },
       "data": [
        {
         "hovertemplate": "variable=current_capacity<br>date_time=%{x}<br>value=%{y}<extra></extra>",
         "legendgroup": "current_capacity",
         "line": {
          "color": "#636efa",
          "dash": "solid"
         },
         "marker": {
          "symbol": "circle"
         },
         "mode": "lines",
         "name": "current_capacity",
         "orientation": "v",
         "showlegend": true,
         "type": "scatter",
         "x": [
          "2021-11-01T07:05:10.592350-05:00",
          "2021-11-01T12:05:06.778987-05:00",
          "2021-11-01T13:05:06.733580-05:00",
          "2021-11-01T21:05:07.123281-05:00",
          "2021-11-02T05:05:06.570050-05:00",
          "2021-11-02T09:05:06.608755-05:00",
          "2021-11-02T11:05:07.280164-05:00",
          "2021-11-02T13:05:06.903886-05:00",
          "2021-11-02T14:05:07.382248-05:00",
          "2021-11-02T20:05:07.214006-05:00",
          "2021-11-03T06:05:07.155592-05:00",
          "2021-11-03T09:05:07.415271-05:00",
          "2021-11-03T12:05:07.012600-05:00",
          "2021-11-03T13:05:07.310945-05:00",
          "2021-11-03T14:05:07.048492-05:00",
          "2021-11-03T19:05:07.998330-05:00",
          "2021-11-03T20:05:07.334008-05:00",
          "2021-11-04T05:05:07.020968-05:00",
          "2021-11-04T13:05:06.586775-05:00",
          "2021-11-04T14:05:07.994463-05:00",
          "2021-11-04T22:05:06.937311-05:00",
          "2021-11-05T09:05:08.620326-05:00",
          "2021-11-05T11:05:07.421735-05:00",
          "2021-11-05T16:05:06.866111-05:00",
          "2021-11-05T17:05:07.007454-05:00",
          "2021-11-05T22:05:06.827217-05:00",
          "2021-11-06T05:05:06.630336-05:00",
          "2021-11-06T06:05:06.701984-05:00",
          "2021-11-06T13:05:07.106703-05:00",
          "2021-11-06T20:05:06.782848-05:00",
          "2021-11-07T09:05:06.503002-05:00",
          "2021-11-07T13:05:06.462185-05:00",
          "2021-11-07T16:05:06.909557-05:00",
          "2021-11-08T08:05:07.527194-05:00",
          "2021-11-08T20:05:10.278596-05:00",
          "2021-11-08T21:05:07.871051-05:00",
          "2021-11-08T22:05:07.597391-05:00"
         ],
         "xaxis": "x",
         "y": [
          40,
          35,
          37,
          46,
          46,
          19,
          35,
          30,
          30,
          63,
          38,
          33,
          34,
          23,
          33,
          44,
          48,
          73,
          43,
          41,
          44,
          30,
          49,
          37,
          57,
          31,
          23,
          23,
          19,
          21,
          15,
          28,
          31,
          37,
          72,
          67,
          57
         ],
         "yaxis": "y"
        },
        {
         "hovertemplate": "variable=predicted<br>date_time=%{x}<br>value=%{y}<extra></extra>",
         "legendgroup": "predicted",
         "line": {
          "color": "#EF553B",
          "dash": "solid"
         },
         "marker": {
          "symbol": "circle"
         },
         "mode": "lines",
         "name": "predicted",
         "orientation": "v",
         "showlegend": true,
         "type": "scatter",
         "x": [
          "2021-11-01T07:05:10.592350-05:00",
          "2021-11-01T12:05:06.778987-05:00",
          "2021-11-01T13:05:06.733580-05:00",
          "2021-11-01T21:05:07.123281-05:00",
          "2021-11-02T05:05:06.570050-05:00",
          "2021-11-02T09:05:06.608755-05:00",
          "2021-11-02T11:05:07.280164-05:00",
          "2021-11-02T13:05:06.903886-05:00",
          "2021-11-02T14:05:07.382248-05:00",
          "2021-11-02T20:05:07.214006-05:00",
          "2021-11-03T06:05:07.155592-05:00",
          "2021-11-03T09:05:07.415271-05:00",
          "2021-11-03T12:05:07.012600-05:00",
          "2021-11-03T13:05:07.310945-05:00",
          "2021-11-03T14:05:07.048492-05:00",
          "2021-11-03T19:05:07.998330-05:00",
          "2021-11-03T20:05:07.334008-05:00",
          "2021-11-04T05:05:07.020968-05:00",
          "2021-11-04T13:05:06.586775-05:00",
          "2021-11-04T14:05:07.994463-05:00",
          "2021-11-04T22:05:06.937311-05:00",
          "2021-11-05T09:05:08.620326-05:00",
          "2021-11-05T11:05:07.421735-05:00",
          "2021-11-05T16:05:06.866111-05:00",
          "2021-11-05T17:05:07.007454-05:00",
          "2021-11-05T22:05:06.827217-05:00",
          "2021-11-06T05:05:06.630336-05:00",
          "2021-11-06T06:05:06.701984-05:00",
          "2021-11-06T13:05:07.106703-05:00",
          "2021-11-06T20:05:06.782848-05:00",
          "2021-11-07T09:05:06.503002-05:00",
          "2021-11-07T13:05:06.462185-05:00",
          "2021-11-07T16:05:06.909557-05:00",
          "2021-11-08T08:05:07.527194-05:00",
          "2021-11-08T20:05:10.278596-05:00",
          "2021-11-08T21:05:07.871051-05:00",
          "2021-11-08T22:05:07.597391-05:00"
         ],
         "xaxis": "x",
         "y": [
          37,
          39.333333333333336,
          45.666666666666664,
          53.333333333333336,
          15.666666666666666,
          32.333333333333336,
          35.333333333333336,
          37.666666666666664,
          37.333333333333336,
          59,
          21,
          34,
          30.333333333333332,
          30.333333333333332,
          44.333333333333336,
          52.666666666666664,
          45.666666666666664,
          29,
          35,
          37.666666666666664,
          31,
          24.666666666666668,
          31,
          39,
          47.666666666666664,
          27,
          25.666666666666668,
          18.666666666666668,
          28,
          25.666666666666668,
          14.666666666666666,
          31.666666666666668,
          34,
          39.666666666666664,
          63.333333333333336,
          53.333333333333336,
          55.333333333333336
         ],
         "yaxis": "y"
        }
       ],
       "layout": {
        "legend": {
         "title": {
          "text": "variable"
         },
         "tracegroupgap": 0
        },
        "margin": {
         "t": 60
        },
        "template": {
         "data": {
          "bar": [
           {
            "error_x": {
             "color": "#2a3f5f"
            },
            "error_y": {
             "color": "#2a3f5f"
            },
            "marker": {
             "line": {
              "color": "#E5ECF6",
              "width": 0.5
             },
             "pattern": {
              "fillmode": "overlay",
              "size": 10,
              "solidity": 0.2
             }
            },
            "type": "bar"
           }
          ],
          "barpolar": [
           {
            "marker": {
             "line": {
              "color": "#E5ECF6",
              "width": 0.5
             },
             "pattern": {
              "fillmode": "overlay",
              "size": 10,
              "solidity": 0.2
             }
            },
            "type": "barpolar"
           }
          ],
          "carpet": [
           {
            "aaxis": {
             "endlinecolor": "#2a3f5f",
             "gridcolor": "white",
             "linecolor": "white",
             "minorgridcolor": "white",
             "startlinecolor": "#2a3f5f"
            },
            "baxis": {
             "endlinecolor": "#2a3f5f",
             "gridcolor": "white",
             "linecolor": "white",
             "minorgridcolor": "white",
             "startlinecolor": "#2a3f5f"
            },
            "type": "carpet"
           }
          ],
          "choropleth": [
           {
            "colorbar": {
             "outlinewidth": 0,
             "ticks": ""
            },
            "type": "choropleth"
           }
          ],
          "contour": [
           {
            "colorbar": {
             "outlinewidth": 0,
             "ticks": ""
            },
            "colorscale": [
             [
              0,
              "#0d0887"
             ],
             [
              0.1111111111111111,
              "#46039f"
             ],
             [
              0.2222222222222222,
              "#7201a8"
             ],
             [
              0.3333333333333333,
              "#9c179e"
             ],
             [
              0.4444444444444444,
              "#bd3786"
             ],
             [
              0.5555555555555556,
              "#d8576b"
             ],
             [
              0.6666666666666666,
              "#ed7953"
             ],
             [
              0.7777777777777778,
              "#fb9f3a"
             ],
             [
              0.8888888888888888,
              "#fdca26"
             ],
             [
              1,
              "#f0f921"
             ]
            ],
            "type": "contour"
           }
          ],
          "contourcarpet": [
           {
            "colorbar": {
             "outlinewidth": 0,
             "ticks": ""
            },
            "type": "contourcarpet"
           }
          ],
          "heatmap": [
           {
            "colorbar": {
             "outlinewidth": 0,
             "ticks": ""
            },
            "colorscale": [
             [
              0,
              "#0d0887"
             ],
             [
              0.1111111111111111,
              "#46039f"
             ],
             [
              0.2222222222222222,
              "#7201a8"
             ],
             [
              0.3333333333333333,
              "#9c179e"
             ],
             [
              0.4444444444444444,
              "#bd3786"
             ],
             [
              0.5555555555555556,
              "#d8576b"
             ],
             [
              0.6666666666666666,
              "#ed7953"
             ],
             [
              0.7777777777777778,
              "#fb9f3a"
             ],
             [
              0.8888888888888888,
              "#fdca26"
             ],
             [
              1,
              "#f0f921"
             ]
            ],
            "type": "heatmap"
           }
          ],
          "heatmapgl": [
           {
            "colorbar": {
             "outlinewidth": 0,
             "ticks": ""
            },
            "colorscale": [
             [
              0,
              "#0d0887"
             ],
             [
              0.1111111111111111,
              "#46039f"
             ],
             [
              0.2222222222222222,
              "#7201a8"
             ],
             [
              0.3333333333333333,
              "#9c179e"
             ],
             [
              0.4444444444444444,
              "#bd3786"
             ],
             [
              0.5555555555555556,
              "#d8576b"
             ],
             [
              0.6666666666666666,
              "#ed7953"
             ],
             [
              0.7777777777777778,
              "#fb9f3a"
             ],
             [
              0.8888888888888888,
              "#fdca26"
             ],
             [
              1,
              "#f0f921"
             ]
            ],
            "type": "heatmapgl"
           }
          ],
          "histogram": [
           {
            "marker": {
             "pattern": {
              "fillmode": "overlay",
              "size": 10,
              "solidity": 0.2
             }
            },
            "type": "histogram"
           }
          ],
          "histogram2d": [
           {
            "colorbar": {
             "outlinewidth": 0,
             "ticks": ""
            },
            "colorscale": [
             [
              0,
              "#0d0887"
             ],
             [
              0.1111111111111111,
              "#46039f"
             ],
             [
              0.2222222222222222,
              "#7201a8"
             ],
             [
              0.3333333333333333,
              "#9c179e"
             ],
             [
              0.4444444444444444,
              "#bd3786"
             ],
             [
              0.5555555555555556,
              "#d8576b"
             ],
             [
              0.6666666666666666,
              "#ed7953"
             ],
             [
              0.7777777777777778,
              "#fb9f3a"
             ],
             [
              0.8888888888888888,
              "#fdca26"
             ],
             [
              1,
              "#f0f921"
             ]
            ],
            "type": "histogram2d"
           }
          ],
          "histogram2dcontour": [
           {
            "colorbar": {
             "outlinewidth": 0,
             "ticks": ""
            },
            "colorscale": [
             [
              0,
              "#0d0887"
             ],
             [
              0.1111111111111111,
              "#46039f"
             ],
             [
              0.2222222222222222,
              "#7201a8"
             ],
             [
              0.3333333333333333,
              "#9c179e"
             ],
             [
              0.4444444444444444,
              "#bd3786"
             ],
             [
              0.5555555555555556,
              "#d8576b"
             ],
             [
              0.6666666666666666,
              "#ed7953"
             ],
             [
              0.7777777777777778,
              "#fb9f3a"
             ],
             [
              0.8888888888888888,
              "#fdca26"
             ],
             [
              1,
              "#f0f921"
             ]
            ],
            "type": "histogram2dcontour"
           }
          ],
          "mesh3d": [
           {
            "colorbar": {
             "outlinewidth": 0,
             "ticks": ""
            },
            "type": "mesh3d"
           }
          ],
          "parcoords": [
           {
            "line": {
             "colorbar": {
              "outlinewidth": 0,
              "ticks": ""
             }
            },
            "type": "parcoords"
           }
          ],
          "pie": [
           {
            "automargin": true,
            "type": "pie"
           }
          ],
          "scatter": [
           {
            "marker": {
             "colorbar": {
              "outlinewidth": 0,
              "ticks": ""
             }
            },
            "type": "scatter"
           }
          ],
          "scatter3d": [
           {
            "line": {
             "colorbar": {
              "outlinewidth": 0,
              "ticks": ""
             }
            },
            "marker": {
             "colorbar": {
              "outlinewidth": 0,
              "ticks": ""
             }
            },
            "type": "scatter3d"
           }
          ],
          "scattercarpet": [
           {
            "marker": {
             "colorbar": {
              "outlinewidth": 0,
              "ticks": ""
             }
            },
            "type": "scattercarpet"
           }
          ],
          "scattergeo": [
           {
            "marker": {
             "colorbar": {
              "outlinewidth": 0,
              "ticks": ""
             }
            },
            "type": "scattergeo"
           }
          ],
          "scattergl": [
           {
            "marker": {
             "colorbar": {
              "outlinewidth": 0,
              "ticks": ""
             }
            },
            "type": "scattergl"
           }
          ],
          "scattermapbox": [
           {
            "marker": {
             "colorbar": {
              "outlinewidth": 0,
              "ticks": ""
             }
            },
            "type": "scattermapbox"
           }
          ],
          "scatterpolar": [
           {
            "marker": {
             "colorbar": {
              "outlinewidth": 0,
              "ticks": ""
             }
            },
            "type": "scatterpolar"
           }
          ],
          "scatterpolargl": [
           {
            "marker": {
             "colorbar": {
              "outlinewidth": 0,
              "ticks": ""
             }
            },
            "type": "scatterpolargl"
           }
          ],
          "scatterternary": [
           {
            "marker": {
             "colorbar": {
              "outlinewidth": 0,
              "ticks": ""
             }
            },
            "type": "scatterternary"
           }
          ],
          "surface": [
           {
            "colorbar": {
             "outlinewidth": 0,
             "ticks": ""
            },
            "colorscale": [
             [
              0,
              "#0d0887"
             ],
             [
              0.1111111111111111,
              "#46039f"
             ],
             [
              0.2222222222222222,
              "#7201a8"
             ],
             [
              0.3333333333333333,
              "#9c179e"
             ],
             [
              0.4444444444444444,
              "#bd3786"
             ],
             [
              0.5555555555555556,
              "#d8576b"
             ],
             [
              0.6666666666666666,
              "#ed7953"
             ],
             [
              0.7777777777777778,
              "#fb9f3a"
             ],
             [
              0.8888888888888888,
              "#fdca26"
             ],
             [
              1,
              "#f0f921"
             ]
            ],
            "type": "surface"
           }
          ],
          "table": [
           {
            "cells": {
             "fill": {
              "color": "#EBF0F8"
             },
             "line": {
              "color": "white"
             }
            },
            "header": {
             "fill": {
              "color": "#C8D4E3"
             },
             "line": {
              "color": "white"
             }
            },
            "type": "table"
           }
          ]
         },
         "layout": {
          "annotationdefaults": {
           "arrowcolor": "#2a3f5f",
           "arrowhead": 0,
           "arrowwidth": 1
          },
          "autotypenumbers": "strict",
          "coloraxis": {
           "colorbar": {
            "outlinewidth": 0,
            "ticks": ""
           }
          },
          "colorscale": {
           "diverging": [
            [
             0,
             "#8e0152"
            ],
            [
             0.1,
             "#c51b7d"
            ],
            [
             0.2,
             "#de77ae"
            ],
            [
             0.3,
             "#f1b6da"
            ],
            [
             0.4,
             "#fde0ef"
            ],
            [
             0.5,
             "#f7f7f7"
            ],
            [
             0.6,
             "#e6f5d0"
            ],
            [
             0.7,
             "#b8e186"
            ],
            [
             0.8,
             "#7fbc41"
            ],
            [
             0.9,
             "#4d9221"
            ],
            [
             1,
             "#276419"
            ]
           ],
           "sequential": [
            [
             0,
             "#0d0887"
            ],
            [
             0.1111111111111111,
             "#46039f"
            ],
            [
             0.2222222222222222,
             "#7201a8"
            ],
            [
             0.3333333333333333,
             "#9c179e"
            ],
            [
             0.4444444444444444,
             "#bd3786"
            ],
            [
             0.5555555555555556,
             "#d8576b"
            ],
            [
             0.6666666666666666,
             "#ed7953"
            ],
            [
             0.7777777777777778,
             "#fb9f3a"
            ],
            [
             0.8888888888888888,
             "#fdca26"
            ],
            [
             1,
             "#f0f921"
            ]
           ],
           "sequentialminus": [
            [
             0,
             "#0d0887"
            ],
            [
             0.1111111111111111,
             "#46039f"
            ],
            [
             0.2222222222222222,
             "#7201a8"
            ],
            [
             0.3333333333333333,
             "#9c179e"
            ],
            [
             0.4444444444444444,
             "#bd3786"
            ],
            [
             0.5555555555555556,
             "#d8576b"
            ],
            [
             0.6666666666666666,
             "#ed7953"
            ],
            [
             0.7777777777777778,
             "#fb9f3a"
            ],
            [
             0.8888888888888888,
             "#fdca26"
            ],
            [
             1,
             "#f0f921"
            ]
           ]
          },
          "colorway": [
           "#636efa",
           "#EF553B",
           "#00cc96",
           "#ab63fa",
           "#FFA15A",
           "#19d3f3",
           "#FF6692",
           "#B6E880",
           "#FF97FF",
           "#FECB52"
          ],
          "font": {
           "color": "#2a3f5f"
          },
          "geo": {
           "bgcolor": "white",
           "lakecolor": "white",
           "landcolor": "#E5ECF6",
           "showlakes": true,
           "showland": true,
           "subunitcolor": "white"
          },
          "hoverlabel": {
           "align": "left"
          },
          "hovermode": "closest",
          "mapbox": {
           "style": "light"
          },
          "paper_bgcolor": "white",
          "plot_bgcolor": "#E5ECF6",
          "polar": {
           "angularaxis": {
            "gridcolor": "white",
            "linecolor": "white",
            "ticks": ""
           },
           "bgcolor": "#E5ECF6",
           "radialaxis": {
            "gridcolor": "white",
            "linecolor": "white",
            "ticks": ""
           }
          },
          "scene": {
           "xaxis": {
            "backgroundcolor": "#E5ECF6",
            "gridcolor": "white",
            "gridwidth": 2,
            "linecolor": "white",
            "showbackground": true,
            "ticks": "",
            "zerolinecolor": "white"
           },
           "yaxis": {
            "backgroundcolor": "#E5ECF6",
            "gridcolor": "white",
            "gridwidth": 2,
            "linecolor": "white",
            "showbackground": true,
            "ticks": "",
            "zerolinecolor": "white"
           },
           "zaxis": {
            "backgroundcolor": "#E5ECF6",
            "gridcolor": "white",
            "gridwidth": 2,
            "linecolor": "white",
            "showbackground": true,
            "ticks": "",
            "zerolinecolor": "white"
           }
          },
          "shapedefaults": {
           "line": {
            "color": "#2a3f5f"
           }
          },
          "ternary": {
           "aaxis": {
            "gridcolor": "white",
            "linecolor": "white",
            "ticks": ""
           },
           "baxis": {
            "gridcolor": "white",
            "linecolor": "white",
            "ticks": ""
           },
           "bgcolor": "#E5ECF6",
           "caxis": {
            "gridcolor": "white",
            "linecolor": "white",
            "ticks": ""
           }
          },
          "title": {
           "x": 0.05
          },
          "xaxis": {
           "automargin": true,
           "gridcolor": "white",
           "linecolor": "white",
           "ticks": "",
           "title": {
            "standoff": 15
           },
           "zerolinecolor": "white",
           "zerolinewidth": 2
          },
          "yaxis": {
           "automargin": true,
           "gridcolor": "white",
           "linecolor": "white",
           "ticks": "",
           "title": {
            "standoff": 15
           },
           "zerolinecolor": "white",
           "zerolinewidth": 2
          }
         }
        },
        "xaxis": {
         "anchor": "y",
         "domain": [
          0,
          1
         ],
         "title": {
          "text": "date_time"
         }
        },
        "yaxis": {
         "anchor": "x",
         "domain": [
          0,
          1
         ],
         "title": {
          "text": "value"
         }
        }
       }
      },
      "text/html": [
       "<div>                            <div id=\"e72da831-b64c-47d6-b955-14eb384d8abc\" class=\"plotly-graph-div\" style=\"height:525px; width:100%;\"></div>            <script type=\"text/javascript\">                require([\"plotly\"], function(Plotly) {                    window.PLOTLYENV=window.PLOTLYENV || {};                                    if (document.getElementById(\"e72da831-b64c-47d6-b955-14eb384d8abc\")) {                    Plotly.newPlot(                        \"e72da831-b64c-47d6-b955-14eb384d8abc\",                        [{\"hovertemplate\":\"variable=current_capacity<br>date_time=%{x}<br>value=%{y}<extra></extra>\",\"legendgroup\":\"current_capacity\",\"line\":{\"color\":\"#636efa\",\"dash\":\"solid\"},\"marker\":{\"symbol\":\"circle\"},\"mode\":\"lines\",\"name\":\"current_capacity\",\"orientation\":\"v\",\"showlegend\":true,\"type\":\"scatter\",\"x\":[\"2021-11-01T07:05:10.592350-05:00\",\"2021-11-01T12:05:06.778987-05:00\",\"2021-11-01T13:05:06.733580-05:00\",\"2021-11-01T21:05:07.123281-05:00\",\"2021-11-02T05:05:06.570050-05:00\",\"2021-11-02T09:05:06.608755-05:00\",\"2021-11-02T11:05:07.280164-05:00\",\"2021-11-02T13:05:06.903886-05:00\",\"2021-11-02T14:05:07.382248-05:00\",\"2021-11-02T20:05:07.214006-05:00\",\"2021-11-03T06:05:07.155592-05:00\",\"2021-11-03T09:05:07.415271-05:00\",\"2021-11-03T12:05:07.012600-05:00\",\"2021-11-03T13:05:07.310945-05:00\",\"2021-11-03T14:05:07.048492-05:00\",\"2021-11-03T19:05:07.998330-05:00\",\"2021-11-03T20:05:07.334008-05:00\",\"2021-11-04T05:05:07.020968-05:00\",\"2021-11-04T13:05:06.586775-05:00\",\"2021-11-04T14:05:07.994463-05:00\",\"2021-11-04T22:05:06.937311-05:00\",\"2021-11-05T09:05:08.620326-05:00\",\"2021-11-05T11:05:07.421735-05:00\",\"2021-11-05T16:05:06.866111-05:00\",\"2021-11-05T17:05:07.007454-05:00\",\"2021-11-05T22:05:06.827217-05:00\",\"2021-11-06T05:05:06.630336-05:00\",\"2021-11-06T06:05:06.701984-05:00\",\"2021-11-06T13:05:07.106703-05:00\",\"2021-11-06T20:05:06.782848-05:00\",\"2021-11-07T09:05:06.503002-05:00\",\"2021-11-07T13:05:06.462185-05:00\",\"2021-11-07T16:05:06.909557-05:00\",\"2021-11-08T08:05:07.527194-05:00\",\"2021-11-08T20:05:10.278596-05:00\",\"2021-11-08T21:05:07.871051-05:00\",\"2021-11-08T22:05:07.597391-05:00\"],\"xaxis\":\"x\",\"y\":[40.0,35.0,37.0,46.0,46.0,19.0,35.0,30.0,30.0,63.0,38.0,33.0,34.0,23.0,33.0,44.0,48.0,73.0,43.0,41.0,44.0,30.0,49.0,37.0,57.0,31.0,23.0,23.0,19.0,21.0,15.0,28.0,31.0,37.0,72.0,67.0,57.0],\"yaxis\":\"y\"},{\"hovertemplate\":\"variable=predicted<br>date_time=%{x}<br>value=%{y}<extra></extra>\",\"legendgroup\":\"predicted\",\"line\":{\"color\":\"#EF553B\",\"dash\":\"solid\"},\"marker\":{\"symbol\":\"circle\"},\"mode\":\"lines\",\"name\":\"predicted\",\"orientation\":\"v\",\"showlegend\":true,\"type\":\"scatter\",\"x\":[\"2021-11-01T07:05:10.592350-05:00\",\"2021-11-01T12:05:06.778987-05:00\",\"2021-11-01T13:05:06.733580-05:00\",\"2021-11-01T21:05:07.123281-05:00\",\"2021-11-02T05:05:06.570050-05:00\",\"2021-11-02T09:05:06.608755-05:00\",\"2021-11-02T11:05:07.280164-05:00\",\"2021-11-02T13:05:06.903886-05:00\",\"2021-11-02T14:05:07.382248-05:00\",\"2021-11-02T20:05:07.214006-05:00\",\"2021-11-03T06:05:07.155592-05:00\",\"2021-11-03T09:05:07.415271-05:00\",\"2021-11-03T12:05:07.012600-05:00\",\"2021-11-03T13:05:07.310945-05:00\",\"2021-11-03T14:05:07.048492-05:00\",\"2021-11-03T19:05:07.998330-05:00\",\"2021-11-03T20:05:07.334008-05:00\",\"2021-11-04T05:05:07.020968-05:00\",\"2021-11-04T13:05:06.586775-05:00\",\"2021-11-04T14:05:07.994463-05:00\",\"2021-11-04T22:05:06.937311-05:00\",\"2021-11-05T09:05:08.620326-05:00\",\"2021-11-05T11:05:07.421735-05:00\",\"2021-11-05T16:05:06.866111-05:00\",\"2021-11-05T17:05:07.007454-05:00\",\"2021-11-05T22:05:06.827217-05:00\",\"2021-11-06T05:05:06.630336-05:00\",\"2021-11-06T06:05:06.701984-05:00\",\"2021-11-06T13:05:07.106703-05:00\",\"2021-11-06T20:05:06.782848-05:00\",\"2021-11-07T09:05:06.503002-05:00\",\"2021-11-07T13:05:06.462185-05:00\",\"2021-11-07T16:05:06.909557-05:00\",\"2021-11-08T08:05:07.527194-05:00\",\"2021-11-08T20:05:10.278596-05:00\",\"2021-11-08T21:05:07.871051-05:00\",\"2021-11-08T22:05:07.597391-05:00\"],\"xaxis\":\"x\",\"y\":[37.0,39.333333333333336,45.666666666666664,53.333333333333336,15.666666666666666,32.333333333333336,35.333333333333336,37.666666666666664,37.333333333333336,59.0,21.0,34.0,30.333333333333332,30.333333333333332,44.333333333333336,52.666666666666664,45.666666666666664,29.0,35.0,37.666666666666664,31.0,24.666666666666668,31.0,39.0,47.666666666666664,27.0,25.666666666666668,18.666666666666668,28.0,25.666666666666668,14.666666666666666,31.666666666666668,34.0,39.666666666666664,63.333333333333336,53.333333333333336,55.333333333333336],\"yaxis\":\"y\"}],                        {\"legend\":{\"title\":{\"text\":\"variable\"},\"tracegroupgap\":0},\"margin\":{\"t\":60},\"template\":{\"data\":{\"bar\":[{\"error_x\":{\"color\":\"#2a3f5f\"},\"error_y\":{\"color\":\"#2a3f5f\"},\"marker\":{\"line\":{\"color\":\"#E5ECF6\",\"width\":0.5},\"pattern\":{\"fillmode\":\"overlay\",\"size\":10,\"solidity\":0.2}},\"type\":\"bar\"}],\"barpolar\":[{\"marker\":{\"line\":{\"color\":\"#E5ECF6\",\"width\":0.5},\"pattern\":{\"fillmode\":\"overlay\",\"size\":10,\"solidity\":0.2}},\"type\":\"barpolar\"}],\"carpet\":[{\"aaxis\":{\"endlinecolor\":\"#2a3f5f\",\"gridcolor\":\"white\",\"linecolor\":\"white\",\"minorgridcolor\":\"white\",\"startlinecolor\":\"#2a3f5f\"},\"baxis\":{\"endlinecolor\":\"#2a3f5f\",\"gridcolor\":\"white\",\"linecolor\":\"white\",\"minorgridcolor\":\"white\",\"startlinecolor\":\"#2a3f5f\"},\"type\":\"carpet\"}],\"choropleth\":[{\"colorbar\":{\"outlinewidth\":0,\"ticks\":\"\"},\"type\":\"choropleth\"}],\"contour\":[{\"colorbar\":{\"outlinewidth\":0,\"ticks\":\"\"},\"colorscale\":[[0.0,\"#0d0887\"],[0.1111111111111111,\"#46039f\"],[0.2222222222222222,\"#7201a8\"],[0.3333333333333333,\"#9c179e\"],[0.4444444444444444,\"#bd3786\"],[0.5555555555555556,\"#d8576b\"],[0.6666666666666666,\"#ed7953\"],[0.7777777777777778,\"#fb9f3a\"],[0.8888888888888888,\"#fdca26\"],[1.0,\"#f0f921\"]],\"type\":\"contour\"}],\"contourcarpet\":[{\"colorbar\":{\"outlinewidth\":0,\"ticks\":\"\"},\"type\":\"contourcarpet\"}],\"heatmap\":[{\"colorbar\":{\"outlinewidth\":0,\"ticks\":\"\"},\"colorscale\":[[0.0,\"#0d0887\"],[0.1111111111111111,\"#46039f\"],[0.2222222222222222,\"#7201a8\"],[0.3333333333333333,\"#9c179e\"],[0.4444444444444444,\"#bd3786\"],[0.5555555555555556,\"#d8576b\"],[0.6666666666666666,\"#ed7953\"],[0.7777777777777778,\"#fb9f3a\"],[0.8888888888888888,\"#fdca26\"],[1.0,\"#f0f921\"]],\"type\":\"heatmap\"}],\"heatmapgl\":[{\"colorbar\":{\"outlinewidth\":0,\"ticks\":\"\"},\"colorscale\":[[0.0,\"#0d0887\"],[0.1111111111111111,\"#46039f\"],[0.2222222222222222,\"#7201a8\"],[0.3333333333333333,\"#9c179e\"],[0.4444444444444444,\"#bd3786\"],[0.5555555555555556,\"#d8576b\"],[0.6666666666666666,\"#ed7953\"],[0.7777777777777778,\"#fb9f3a\"],[0.8888888888888888,\"#fdca26\"],[1.0,\"#f0f921\"]],\"type\":\"heatmapgl\"}],\"histogram\":[{\"marker\":{\"pattern\":{\"fillmode\":\"overlay\",\"size\":10,\"solidity\":0.2}},\"type\":\"histogram\"}],\"histogram2d\":[{\"colorbar\":{\"outlinewidth\":0,\"ticks\":\"\"},\"colorscale\":[[0.0,\"#0d0887\"],[0.1111111111111111,\"#46039f\"],[0.2222222222222222,\"#7201a8\"],[0.3333333333333333,\"#9c179e\"],[0.4444444444444444,\"#bd3786\"],[0.5555555555555556,\"#d8576b\"],[0.6666666666666666,\"#ed7953\"],[0.7777777777777778,\"#fb9f3a\"],[0.8888888888888888,\"#fdca26\"],[1.0,\"#f0f921\"]],\"type\":\"histogram2d\"}],\"histogram2dcontour\":[{\"colorbar\":{\"outlinewidth\":0,\"ticks\":\"\"},\"colorscale\":[[0.0,\"#0d0887\"],[0.1111111111111111,\"#46039f\"],[0.2222222222222222,\"#7201a8\"],[0.3333333333333333,\"#9c179e\"],[0.4444444444444444,\"#bd3786\"],[0.5555555555555556,\"#d8576b\"],[0.6666666666666666,\"#ed7953\"],[0.7777777777777778,\"#fb9f3a\"],[0.8888888888888888,\"#fdca26\"],[1.0,\"#f0f921\"]],\"type\":\"histogram2dcontour\"}],\"mesh3d\":[{\"colorbar\":{\"outlinewidth\":0,\"ticks\":\"\"},\"type\":\"mesh3d\"}],\"parcoords\":[{\"line\":{\"colorbar\":{\"outlinewidth\":0,\"ticks\":\"\"}},\"type\":\"parcoords\"}],\"pie\":[{\"automargin\":true,\"type\":\"pie\"}],\"scatter\":[{\"marker\":{\"colorbar\":{\"outlinewidth\":0,\"ticks\":\"\"}},\"type\":\"scatter\"}],\"scatter3d\":[{\"line\":{\"colorbar\":{\"outlinewidth\":0,\"ticks\":\"\"}},\"marker\":{\"colorbar\":{\"outlinewidth\":0,\"ticks\":\"\"}},\"type\":\"scatter3d\"}],\"scattercarpet\":[{\"marker\":{\"colorbar\":{\"outlinewidth\":0,\"ticks\":\"\"}},\"type\":\"scattercarpet\"}],\"scattergeo\":[{\"marker\":{\"colorbar\":{\"outlinewidth\":0,\"ticks\":\"\"}},\"type\":\"scattergeo\"}],\"scattergl\":[{\"marker\":{\"colorbar\":{\"outlinewidth\":0,\"ticks\":\"\"}},\"type\":\"scattergl\"}],\"scattermapbox\":[{\"marker\":{\"colorbar\":{\"outlinewidth\":0,\"ticks\":\"\"}},\"type\":\"scattermapbox\"}],\"scatterpolar\":[{\"marker\":{\"colorbar\":{\"outlinewidth\":0,\"ticks\":\"\"}},\"type\":\"scatterpolar\"}],\"scatterpolargl\":[{\"marker\":{\"colorbar\":{\"outlinewidth\":0,\"ticks\":\"\"}},\"type\":\"scatterpolargl\"}],\"scatterternary\":[{\"marker\":{\"colorbar\":{\"outlinewidth\":0,\"ticks\":\"\"}},\"type\":\"scatterternary\"}],\"surface\":[{\"colorbar\":{\"outlinewidth\":0,\"ticks\":\"\"},\"colorscale\":[[0.0,\"#0d0887\"],[0.1111111111111111,\"#46039f\"],[0.2222222222222222,\"#7201a8\"],[0.3333333333333333,\"#9c179e\"],[0.4444444444444444,\"#bd3786\"],[0.5555555555555556,\"#d8576b\"],[0.6666666666666666,\"#ed7953\"],[0.7777777777777778,\"#fb9f3a\"],[0.8888888888888888,\"#fdca26\"],[1.0,\"#f0f921\"]],\"type\":\"surface\"}],\"table\":[{\"cells\":{\"fill\":{\"color\":\"#EBF0F8\"},\"line\":{\"color\":\"white\"}},\"header\":{\"fill\":{\"color\":\"#C8D4E3\"},\"line\":{\"color\":\"white\"}},\"type\":\"table\"}]},\"layout\":{\"annotationdefaults\":{\"arrowcolor\":\"#2a3f5f\",\"arrowhead\":0,\"arrowwidth\":1},\"autotypenumbers\":\"strict\",\"coloraxis\":{\"colorbar\":{\"outlinewidth\":0,\"ticks\":\"\"}},\"colorscale\":{\"diverging\":[[0,\"#8e0152\"],[0.1,\"#c51b7d\"],[0.2,\"#de77ae\"],[0.3,\"#f1b6da\"],[0.4,\"#fde0ef\"],[0.5,\"#f7f7f7\"],[0.6,\"#e6f5d0\"],[0.7,\"#b8e186\"],[0.8,\"#7fbc41\"],[0.9,\"#4d9221\"],[1,\"#276419\"]],\"sequential\":[[0.0,\"#0d0887\"],[0.1111111111111111,\"#46039f\"],[0.2222222222222222,\"#7201a8\"],[0.3333333333333333,\"#9c179e\"],[0.4444444444444444,\"#bd3786\"],[0.5555555555555556,\"#d8576b\"],[0.6666666666666666,\"#ed7953\"],[0.7777777777777778,\"#fb9f3a\"],[0.8888888888888888,\"#fdca26\"],[1.0,\"#f0f921\"]],\"sequentialminus\":[[0.0,\"#0d0887\"],[0.1111111111111111,\"#46039f\"],[0.2222222222222222,\"#7201a8\"],[0.3333333333333333,\"#9c179e\"],[0.4444444444444444,\"#bd3786\"],[0.5555555555555556,\"#d8576b\"],[0.6666666666666666,\"#ed7953\"],[0.7777777777777778,\"#fb9f3a\"],[0.8888888888888888,\"#fdca26\"],[1.0,\"#f0f921\"]]},\"colorway\":[\"#636efa\",\"#EF553B\",\"#00cc96\",\"#ab63fa\",\"#FFA15A\",\"#19d3f3\",\"#FF6692\",\"#B6E880\",\"#FF97FF\",\"#FECB52\"],\"font\":{\"color\":\"#2a3f5f\"},\"geo\":{\"bgcolor\":\"white\",\"lakecolor\":\"white\",\"landcolor\":\"#E5ECF6\",\"showlakes\":true,\"showland\":true,\"subunitcolor\":\"white\"},\"hoverlabel\":{\"align\":\"left\"},\"hovermode\":\"closest\",\"mapbox\":{\"style\":\"light\"},\"paper_bgcolor\":\"white\",\"plot_bgcolor\":\"#E5ECF6\",\"polar\":{\"angularaxis\":{\"gridcolor\":\"white\",\"linecolor\":\"white\",\"ticks\":\"\"},\"bgcolor\":\"#E5ECF6\",\"radialaxis\":{\"gridcolor\":\"white\",\"linecolor\":\"white\",\"ticks\":\"\"}},\"scene\":{\"xaxis\":{\"backgroundcolor\":\"#E5ECF6\",\"gridcolor\":\"white\",\"gridwidth\":2,\"linecolor\":\"white\",\"showbackground\":true,\"ticks\":\"\",\"zerolinecolor\":\"white\"},\"yaxis\":{\"backgroundcolor\":\"#E5ECF6\",\"gridcolor\":\"white\",\"gridwidth\":2,\"linecolor\":\"white\",\"showbackground\":true,\"ticks\":\"\",\"zerolinecolor\":\"white\"},\"zaxis\":{\"backgroundcolor\":\"#E5ECF6\",\"gridcolor\":\"white\",\"gridwidth\":2,\"linecolor\":\"white\",\"showbackground\":true,\"ticks\":\"\",\"zerolinecolor\":\"white\"}},\"shapedefaults\":{\"line\":{\"color\":\"#2a3f5f\"}},\"ternary\":{\"aaxis\":{\"gridcolor\":\"white\",\"linecolor\":\"white\",\"ticks\":\"\"},\"baxis\":{\"gridcolor\":\"white\",\"linecolor\":\"white\",\"ticks\":\"\"},\"bgcolor\":\"#E5ECF6\",\"caxis\":{\"gridcolor\":\"white\",\"linecolor\":\"white\",\"ticks\":\"\"}},\"title\":{\"x\":0.05},\"xaxis\":{\"automargin\":true,\"gridcolor\":\"white\",\"linecolor\":\"white\",\"ticks\":\"\",\"title\":{\"standoff\":15},\"zerolinecolor\":\"white\",\"zerolinewidth\":2},\"yaxis\":{\"automargin\":true,\"gridcolor\":\"white\",\"linecolor\":\"white\",\"ticks\":\"\",\"title\":{\"standoff\":15},\"zerolinecolor\":\"white\",\"zerolinewidth\":2}}},\"xaxis\":{\"anchor\":\"y\",\"domain\":[0.0,1.0],\"title\":{\"text\":\"date_time\"}},\"yaxis\":{\"anchor\":\"x\",\"domain\":[0.0,1.0],\"title\":{\"text\":\"value\"}}},                        {\"responsive\": true}                    ).then(function(){\n",
       "                            \n",
       "var gd = document.getElementById('e72da831-b64c-47d6-b955-14eb384d8abc');\n",
       "var x = new MutationObserver(function (mutations, observer) {{\n",
       "        var display = window.getComputedStyle(gd).display;\n",
       "        if (!display || display === 'none') {{\n",
       "            console.log([gd, 'removed!']);\n",
       "            Plotly.purge(gd);\n",
       "            observer.disconnect();\n",
       "        }}\n",
       "}});\n",
       "\n",
       "// Listen for the removal of the full notebook cells\n",
       "var notebookContainer = gd.closest('#notebook-container');\n",
       "if (notebookContainer) {{\n",
       "    x.observe(notebookContainer, {childList: true});\n",
       "}}\n",
       "\n",
       "// Listen for the clearing of the current output cell\n",
       "var outputEl = gd.closest('.output');\n",
       "if (outputEl) {{\n",
       "    x.observe(outputEl, {childList: true});\n",
       "}}\n",
       "\n",
       "                        })                };                });            </script>        </div>"
      ]
     },
     "metadata": {},
     "output_type": "display_data"
    }
   ],
   "source": [
    "px.line(test, x='date_time', y=['current_capacity','predicted'])"
   ]
  },
  {
   "cell_type": "code",
   "execution_count": 19,
   "id": "2c4fbed5",
   "metadata": {
    "slideshow": {
     "slide_type": "subslide"
    }
   },
   "outputs": [
    {
     "data": {
      "text/plain": [
       "array([44.33333333])"
      ]
     },
     "execution_count": 19,
     "metadata": {},
     "output_type": "execute_result"
    }
   ],
   "source": [
    "from datetime import datetime as dt\n",
    "dt_now = dt.now()\n",
    "now = pd.DataFrame({'weekday':[dt_now.weekday()], 'hour':[dt_now.hour + 1]})\n",
    "regressor.predict(now)"
   ]
  },
  {
   "cell_type": "markdown",
   "id": "ba4e496c",
   "metadata": {},
   "source": [
    "## below are attempts to plot side by sid 3d plots\n",
    "(and surface contour plots)\n",
    "\n",
    "As far as I can tell, you need to use real plotly, not express, which can be harder to use (you need to pass list-likes instead of column names, for example)"
   ]
  },
  {
   "cell_type": "code",
   "execution_count": 20,
   "id": "a9f5897b",
   "metadata": {},
   "outputs": [],
   "source": [
    "# fig = go.Figure(data=[go.Surface(z=test.current_capacity),y=test.hour,x=test.weekday])\n",
    "# fig.update_layout(title='Mt Bruno Elevation', autosize=True,\n",
    "#                   width=500, height=500,\n",
    "#                   margin=dict(l=65, r=50, b=65, t=90))\n",
    "# fig.show()"
   ]
  },
  {
   "cell_type": "code",
   "execution_count": 21,
   "id": "412f2e8b",
   "metadata": {},
   "outputs": [
    {
     "data": {
      "text/plain": [
       "plotly.graph_objs._scatter3d.Scatter3d"
      ]
     },
     "execution_count": 21,
     "metadata": {},
     "output_type": "execute_result"
    }
   ],
   "source": [
    "from plotly import subplots\n",
    "import plotly.graph_objs as go\n",
    "type(go.Scatter3d(x=[1,2,3], y=[2,1,2], z=[2,1,2]))"
   ]
  },
  {
   "cell_type": "code",
   "execution_count": 22,
   "id": "d87d4a65",
   "metadata": {
    "scrolled": true
   },
   "outputs": [
    {
     "ename": "ValueError",
     "evalue": "\n    Invalid element(s) received for the 'data' property of \n        Invalid elements include: [Figure({\n    'data': [{'hovertemplate': 'hour=%{x}<br>weekday=%{y}<br>predicted=%{z}<extra></extra>',\n              'legendgroup': '',\n              'marker': {'color': '#636efa', 'symbol': 'circle'},\n              'mode': 'markers',\n              'name': '',\n              'scene': 'scene',\n              'showlegend': False,\n              'type': 'scatter3d',\n              'x': array([ 7, 12, 13, 21,  5,  9, 11, 13, 14, 20,  6,  9, 12, 13, 14, 19, 20,  5,\n                          13, 14, 22,  9, 11, 16, 17, 22,  5,  6, 13, 20,  9, 13, 16,  8, 20, 21,\n                          22], dtype=int64),\n              'y': array([0, 0, 0, 0, 1, 1, 1, 1, 1, 1, 2, 2, 2, 2, 2, 2, 2, 3, 3, 3, 3, 4, 4, 4,\n                          4, 4, 5, 5, 5, 5, 6, 6, 6, 0, 0, 0, 0], dtype=int64),\n              'z': array([37.        , 39.33333333, 45.66666667, 53.33333333, 15.66666667,\n                          32.33333333, 35.33333333, 37.66666667, 37.33333333, 59.        ,\n                          21.        , 34.        , 30.33333333, 30.33333333, 44.33333333,\n                          52.66666667, 45.66666667, 29.        , 35.        , 37.66666667,\n                          31.        , 24.66666667, 31.        , 39.        , 47.66666667,\n                          27.        , 25.66666667, 18.66666667, 28.        , 25.66666667,\n                          14.66666667, 31.66666667, 34.        , 39.66666667, 63.33333333,\n                          53.33333333, 55.33333333])}],\n    'layout': {'legend': {'tracegroupgap': 0},\n               'margin': {'t': 60},\n               'scene': {'domain': {'x': [0.0, 1.0], 'y': [0.0, 1.0]},\n                         'xaxis': {'title': {'text': 'hour'}},\n                         'yaxis': {'title': {'text': 'weekday'}},\n                         'zaxis': {'title': {'text': 'predicted'}}},\n               'template': '...'}\n})]\n\n    The 'data' property is a tuple of trace instances\n    that may be specified as:\n      - A list or tuple of trace instances\n        (e.g. [Scatter(...), Bar(...)])\n      - A single trace instance\n        (e.g. Scatter(...), Bar(...), etc.)\n      - A list or tuple of dicts of string/value properties where:\n        - The 'type' property specifies the trace type\n            One of: ['bar', 'barpolar', 'box', 'candlestick',\n                     'carpet', 'choropleth', 'choroplethmapbox',\n                     'cone', 'contour', 'contourcarpet',\n                     'densitymapbox', 'funnel', 'funnelarea',\n                     'heatmap', 'heatmapgl', 'histogram',\n                     'histogram2d', 'histogram2dcontour', 'icicle',\n                     'image', 'indicator', 'isosurface', 'mesh3d',\n                     'ohlc', 'parcats', 'parcoords', 'pie',\n                     'pointcloud', 'sankey', 'scatter',\n                     'scatter3d', 'scattercarpet', 'scattergeo',\n                     'scattergl', 'scattermapbox', 'scatterpolar',\n                     'scatterpolargl', 'scatterternary', 'splom',\n                     'streamtube', 'sunburst', 'surface', 'table',\n                     'treemap', 'violin', 'volume', 'waterfall']\n\n        - All remaining properties are passed to the constructor of\n          the specified trace type\n\n        (e.g. [{'type': 'scatter', ...}, {'type': 'bar, ...}])",
     "output_type": "error",
     "traceback": [
      "\u001b[1;31m---------------------------------------------------------------------------\u001b[0m",
      "\u001b[1;31mValueError\u001b[0m                                Traceback (most recent call last)",
      "\u001b[1;32m~\\AppData\\Local\\Temp/ipykernel_4084/3242450032.py\u001b[0m in \u001b[0;36m<module>\u001b[1;34m\u001b[0m\n\u001b[0;32m      2\u001b[0m \u001b[1;31m# fig.append_trace(px.scatter_3d(test, x='hour', y='weekday', z='current_capacity'),\u001b[0m\u001b[1;33m\u001b[0m\u001b[1;33m\u001b[0m\u001b[1;33m\u001b[0m\u001b[0m\n\u001b[0;32m      3\u001b[0m \u001b[1;31m#                 row = 1, col = 1)\u001b[0m\u001b[1;33m\u001b[0m\u001b[1;33m\u001b[0m\u001b[1;33m\u001b[0m\u001b[0m\n\u001b[1;32m----> 4\u001b[1;33m fig.add_traces(px.scatter_3d(test, x='hour', y='weekday', z='predicted')\n\u001b[0m\u001b[0;32m      5\u001b[0m                 )\n\u001b[0;32m      6\u001b[0m \u001b[0mfig\u001b[0m\u001b[1;33m.\u001b[0m\u001b[0mshow\u001b[0m\u001b[1;33m(\u001b[0m\u001b[1;33m)\u001b[0m\u001b[1;33m\u001b[0m\u001b[1;33m\u001b[0m\u001b[0m\n",
      "\u001b[1;32mc:\\users\\sean1\\documents\\3y\\corecdir2\\corecproj\\venv\\lib\\site-packages\\plotly\\basedatatypes.py\u001b[0m in \u001b[0;36madd_traces\u001b[1;34m(self, data, rows, cols, secondary_ys, exclude_empty_subplots)\u001b[0m\n\u001b[0;32m   2181\u001b[0m \u001b[1;33m\u001b[0m\u001b[0m\n\u001b[0;32m   2182\u001b[0m         \u001b[1;31m# Validate traces\u001b[0m\u001b[1;33m\u001b[0m\u001b[1;33m\u001b[0m\u001b[1;33m\u001b[0m\u001b[0m\n\u001b[1;32m-> 2183\u001b[1;33m         \u001b[0mdata\u001b[0m \u001b[1;33m=\u001b[0m \u001b[0mself\u001b[0m\u001b[1;33m.\u001b[0m\u001b[0m_data_validator\u001b[0m\u001b[1;33m.\u001b[0m\u001b[0mvalidate_coerce\u001b[0m\u001b[1;33m(\u001b[0m\u001b[0mdata\u001b[0m\u001b[1;33m)\u001b[0m\u001b[1;33m\u001b[0m\u001b[1;33m\u001b[0m\u001b[0m\n\u001b[0m\u001b[0;32m   2184\u001b[0m \u001b[1;33m\u001b[0m\u001b[0m\n\u001b[0;32m   2185\u001b[0m         \u001b[1;31m# Set trace indexes\u001b[0m\u001b[1;33m\u001b[0m\u001b[1;33m\u001b[0m\u001b[1;33m\u001b[0m\u001b[0m\n",
      "\u001b[1;32mc:\\users\\sean1\\documents\\3y\\corecdir2\\corecproj\\venv\\lib\\site-packages\\_plotly_utils\\basevalidators.py\u001b[0m in \u001b[0;36mvalidate_coerce\u001b[1;34m(self, v, skip_invalid, _validate)\u001b[0m\n\u001b[0;32m   2692\u001b[0m \u001b[1;33m\u001b[0m\u001b[0m\n\u001b[0;32m   2693\u001b[0m             \u001b[1;32mif\u001b[0m \u001b[0minvalid_els\u001b[0m\u001b[1;33m:\u001b[0m\u001b[1;33m\u001b[0m\u001b[1;33m\u001b[0m\u001b[0m\n\u001b[1;32m-> 2694\u001b[1;33m                 \u001b[0mself\u001b[0m\u001b[1;33m.\u001b[0m\u001b[0mraise_invalid_elements\u001b[0m\u001b[1;33m(\u001b[0m\u001b[0minvalid_els\u001b[0m\u001b[1;33m)\u001b[0m\u001b[1;33m\u001b[0m\u001b[1;33m\u001b[0m\u001b[0m\n\u001b[0m\u001b[0;32m   2695\u001b[0m \u001b[1;33m\u001b[0m\u001b[0m\n\u001b[0;32m   2696\u001b[0m             \u001b[0mv\u001b[0m \u001b[1;33m=\u001b[0m \u001b[0mto_scalar_or_list\u001b[0m\u001b[1;33m(\u001b[0m\u001b[0mres\u001b[0m\u001b[1;33m)\u001b[0m\u001b[1;33m\u001b[0m\u001b[1;33m\u001b[0m\u001b[0m\n",
      "\u001b[1;32mc:\\users\\sean1\\documents\\3y\\corecdir2\\corecproj\\venv\\lib\\site-packages\\_plotly_utils\\basevalidators.py\u001b[0m in \u001b[0;36mraise_invalid_elements\u001b[1;34m(self, invalid_els)\u001b[0m\n\u001b[0;32m    303\u001b[0m     \u001b[1;32mdef\u001b[0m \u001b[0mraise_invalid_elements\u001b[0m\u001b[1;33m(\u001b[0m\u001b[0mself\u001b[0m\u001b[1;33m,\u001b[0m \u001b[0minvalid_els\u001b[0m\u001b[1;33m)\u001b[0m\u001b[1;33m:\u001b[0m\u001b[1;33m\u001b[0m\u001b[1;33m\u001b[0m\u001b[0m\n\u001b[0;32m    304\u001b[0m         \u001b[1;32mif\u001b[0m \u001b[0minvalid_els\u001b[0m\u001b[1;33m:\u001b[0m\u001b[1;33m\u001b[0m\u001b[1;33m\u001b[0m\u001b[0m\n\u001b[1;32m--> 305\u001b[1;33m             raise ValueError(\n\u001b[0m\u001b[0;32m    306\u001b[0m                 \"\"\"\n\u001b[0;32m    307\u001b[0m     \u001b[0mInvalid\u001b[0m \u001b[0melement\u001b[0m\u001b[1;33m(\u001b[0m\u001b[0ms\u001b[0m\u001b[1;33m)\u001b[0m \u001b[0mreceived\u001b[0m \u001b[1;32mfor\u001b[0m \u001b[0mthe\u001b[0m \u001b[1;34m'{name}'\u001b[0m \u001b[0mproperty\u001b[0m \u001b[0mof\u001b[0m \u001b[1;33m{\u001b[0m\u001b[0mpname\u001b[0m\u001b[1;33m}\u001b[0m\u001b[1;33m\u001b[0m\u001b[1;33m\u001b[0m\u001b[0m\n",
      "\u001b[1;31mValueError\u001b[0m: \n    Invalid element(s) received for the 'data' property of \n        Invalid elements include: [Figure({\n    'data': [{'hovertemplate': 'hour=%{x}<br>weekday=%{y}<br>predicted=%{z}<extra></extra>',\n              'legendgroup': '',\n              'marker': {'color': '#636efa', 'symbol': 'circle'},\n              'mode': 'markers',\n              'name': '',\n              'scene': 'scene',\n              'showlegend': False,\n              'type': 'scatter3d',\n              'x': array([ 7, 12, 13, 21,  5,  9, 11, 13, 14, 20,  6,  9, 12, 13, 14, 19, 20,  5,\n                          13, 14, 22,  9, 11, 16, 17, 22,  5,  6, 13, 20,  9, 13, 16,  8, 20, 21,\n                          22], dtype=int64),\n              'y': array([0, 0, 0, 0, 1, 1, 1, 1, 1, 1, 2, 2, 2, 2, 2, 2, 2, 3, 3, 3, 3, 4, 4, 4,\n                          4, 4, 5, 5, 5, 5, 6, 6, 6, 0, 0, 0, 0], dtype=int64),\n              'z': array([37.        , 39.33333333, 45.66666667, 53.33333333, 15.66666667,\n                          32.33333333, 35.33333333, 37.66666667, 37.33333333, 59.        ,\n                          21.        , 34.        , 30.33333333, 30.33333333, 44.33333333,\n                          52.66666667, 45.66666667, 29.        , 35.        , 37.66666667,\n                          31.        , 24.66666667, 31.        , 39.        , 47.66666667,\n                          27.        , 25.66666667, 18.66666667, 28.        , 25.66666667,\n                          14.66666667, 31.66666667, 34.        , 39.66666667, 63.33333333,\n                          53.33333333, 55.33333333])}],\n    'layout': {'legend': {'tracegroupgap': 0},\n               'margin': {'t': 60},\n               'scene': {'domain': {'x': [0.0, 1.0], 'y': [0.0, 1.0]},\n                         'xaxis': {'title': {'text': 'hour'}},\n                         'yaxis': {'title': {'text': 'weekday'}},\n                         'zaxis': {'title': {'text': 'predicted'}}},\n               'template': '...'}\n})]\n\n    The 'data' property is a tuple of trace instances\n    that may be specified as:\n      - A list or tuple of trace instances\n        (e.g. [Scatter(...), Bar(...)])\n      - A single trace instance\n        (e.g. Scatter(...), Bar(...), etc.)\n      - A list or tuple of dicts of string/value properties where:\n        - The 'type' property specifies the trace type\n            One of: ['bar', 'barpolar', 'box', 'candlestick',\n                     'carpet', 'choropleth', 'choroplethmapbox',\n                     'cone', 'contour', 'contourcarpet',\n                     'densitymapbox', 'funnel', 'funnelarea',\n                     'heatmap', 'heatmapgl', 'histogram',\n                     'histogram2d', 'histogram2dcontour', 'icicle',\n                     'image', 'indicator', 'isosurface', 'mesh3d',\n                     'ohlc', 'parcats', 'parcoords', 'pie',\n                     'pointcloud', 'sankey', 'scatter',\n                     'scatter3d', 'scattercarpet', 'scattergeo',\n                     'scattergl', 'scattermapbox', 'scatterpolar',\n                     'scatterpolargl', 'scatterternary', 'splom',\n                     'streamtube', 'sunburst', 'surface', 'table',\n                     'treemap', 'violin', 'volume', 'waterfall']\n\n        - All remaining properties are passed to the constructor of\n          the specified trace type\n\n        (e.g. [{'type': 'scatter', ...}, {'type': 'bar, ...}])"
     ]
    }
   ],
   "source": [
    "fig = subplots.make_subplots(rows=1, cols = 2, specs=[[{'type': 'scatter3d'}, {'type': 'scatter3d'}]])\n",
    "# fig.append_trace(px.scatter_3d(test, x='hour', y='weekday', z='current_capacity'),\n",
    "#                 row = 1, col = 1)\n",
    "fig.add_traces(px.scatter_3d(test, x='hour', y='weekday', z='predicted')\n",
    "                )\n",
    "fig.show()"
   ]
  },
  {
   "cell_type": "code",
   "execution_count": null,
   "id": "858aed06",
   "metadata": {
    "slideshow": {
     "slide_type": "subslide"
    }
   },
   "outputs": [],
   "source": [
    "import plotly.express as px\n",
    "import plotly.subplots as sp\n",
    "\n",
    "# Create figures in Express\n",
    "figure1 = px.scatter_3d(test, x='hour', y='weekday', z='predicted')\n",
    "figure2 = px.scatter_3d(test, x='hour', y='weekday', z='current_capacity')\n",
    "\n",
    "# For as many traces that exist per Express figure, get the traces from each plot and store them in an array.\n",
    "# This is essentially breaking down the Express fig into it's traces\n",
    "figure1_traces = []\n",
    "figure2_traces = []\n",
    "for trace in range(len(figure1[\"data\"])):\n",
    "    figure1_traces.append(figure1[\"data\"][trace])\n",
    "for trace in range(len(figure2[\"data\"])):\n",
    "    figure2_traces.append(figure2[\"data\"][trace])\n",
    "\n",
    "#Create a 1x2 subplot\n",
    "this_figure = sp.make_subplots(rows=1, cols=2) \n",
    "\n",
    "# Get the Express fig broken down as traces and add the traces to the proper plot within in the subplot\n",
    "for traces in figure1_traces:\n",
    "    this_figure.append_trace(traces, row=1, col=1)\n",
    "for traces in figure2_traces:\n",
    "    this_figure.append_trace(traces, row=1, col=2)\n",
    "this_figure"
   ]
  },
  {
   "cell_type": "markdown",
   "id": "bba0405b",
   "metadata": {},
   "source": [
    "## Explore new api data"
   ]
  },
  {
   "cell_type": "code",
   "execution_count": 89,
   "id": "a6cf086a",
   "metadata": {
    "scrolled": false
   },
   "outputs": [
    {
     "data": {
      "text/html": [
       "<div>\n",
       "<style scoped>\n",
       "    .dataframe tbody tr th:only-of-type {\n",
       "        vertical-align: middle;\n",
       "    }\n",
       "\n",
       "    .dataframe tbody tr th {\n",
       "        vertical-align: top;\n",
       "    }\n",
       "\n",
       "    .dataframe thead th {\n",
       "        text-align: right;\n",
       "    }\n",
       "</style>\n",
       "<table border=\"1\" class=\"dataframe\">\n",
       "  <thead>\n",
       "    <tr style=\"text-align: right;\">\n",
       "      <th></th>\n",
       "      <th>LocationId</th>\n",
       "      <th>TotalCapacity</th>\n",
       "      <th>LocationName</th>\n",
       "      <th>CountOfParticipants</th>\n",
       "      <th>PercetageCapacity</th>\n",
       "      <th>LastUpdatedDateAndTime</th>\n",
       "      <th>LastCount</th>\n",
       "      <th>MinColor</th>\n",
       "      <th>MidColor</th>\n",
       "      <th>MaxColor</th>\n",
       "      <th>MinCapacityRange</th>\n",
       "      <th>MaxCapacityRange</th>\n",
       "      <th>CountCapacityColorEnabled</th>\n",
       "      <th>FacilityId</th>\n",
       "      <th>FacilityName</th>\n",
       "      <th>IsClosed</th>\n",
       "      <th>time_retrived</th>\n",
       "    </tr>\n",
       "  </thead>\n",
       "  <tbody>\n",
       "    <tr>\n",
       "      <th>0</th>\n",
       "      <td>6129</td>\n",
       "      <td>100</td>\n",
       "      <td>Upper Track (4th Floor)</td>\n",
       "      <td>0</td>\n",
       "      <td>0</td>\n",
       "      <td>2021-11-16T18:25:48.663</td>\n",
       "      <td>1</td>\n",
       "      <td>#ffc90e</td>\n",
       "      <td>NaN</td>\n",
       "      <td>#ed1c24</td>\n",
       "      <td>60</td>\n",
       "      <td>90</td>\n",
       "      <td>True</td>\n",
       "      <td>976</td>\n",
       "      <td>Operations</td>\n",
       "      <td>False</td>\n",
       "      <td>1.637106e+09</td>\n",
       "    </tr>\n",
       "    <tr>\n",
       "      <th>1</th>\n",
       "      <td>5978</td>\n",
       "      <td>50</td>\n",
       "      <td>Faculty/Staff Workout Area</td>\n",
       "      <td>0</td>\n",
       "      <td>0</td>\n",
       "      <td>2021-11-16T18:25:49.133</td>\n",
       "      <td>0</td>\n",
       "      <td>#ffc90e</td>\n",
       "      <td>NaN</td>\n",
       "      <td>#ed1c24</td>\n",
       "      <td>60</td>\n",
       "      <td>90</td>\n",
       "      <td>True</td>\n",
       "      <td>976</td>\n",
       "      <td>Operations</td>\n",
       "      <td>False</td>\n",
       "      <td>1.637106e+09</td>\n",
       "    </tr>\n",
       "    <tr>\n",
       "      <th>2</th>\n",
       "      <td>5995</td>\n",
       "      <td>100</td>\n",
       "      <td>Upper Fitness</td>\n",
       "      <td>0</td>\n",
       "      <td>0</td>\n",
       "      <td>2021-11-16T18:25:49.57</td>\n",
       "      <td>13</td>\n",
       "      <td>#ffc90e</td>\n",
       "      <td>NaN</td>\n",
       "      <td>#ed1c24</td>\n",
       "      <td>60</td>\n",
       "      <td>90</td>\n",
       "      <td>True</td>\n",
       "      <td>976</td>\n",
       "      <td>Operations</td>\n",
       "      <td>False</td>\n",
       "      <td>1.637106e+09</td>\n",
       "    </tr>\n",
       "    <tr>\n",
       "      <th>3</th>\n",
       "      <td>5996</td>\n",
       "      <td>100</td>\n",
       "      <td>Upper Gym</td>\n",
       "      <td>0</td>\n",
       "      <td>0</td>\n",
       "      <td>2021-11-16T18:25:50.007</td>\n",
       "      <td>30</td>\n",
       "      <td>#ffc90e</td>\n",
       "      <td>NaN</td>\n",
       "      <td>#ed1c24</td>\n",
       "      <td>60</td>\n",
       "      <td>90</td>\n",
       "      <td>True</td>\n",
       "      <td>976</td>\n",
       "      <td>Operations</td>\n",
       "      <td>False</td>\n",
       "      <td>1.637106e+09</td>\n",
       "    </tr>\n",
       "    <tr>\n",
       "      <th>4</th>\n",
       "      <td>6130</td>\n",
       "      <td>100</td>\n",
       "      <td>MAC Court (Cardio)</td>\n",
       "      <td>0</td>\n",
       "      <td>0</td>\n",
       "      <td>2021-11-16T18:25:50.43</td>\n",
       "      <td>0</td>\n",
       "      <td>#ffc90e</td>\n",
       "      <td>NaN</td>\n",
       "      <td>#ed1c24</td>\n",
       "      <td>60</td>\n",
       "      <td>90</td>\n",
       "      <td>True</td>\n",
       "      <td>976</td>\n",
       "      <td>Operations</td>\n",
       "      <td>False</td>\n",
       "      <td>1.637106e+09</td>\n",
       "    </tr>\n",
       "  </tbody>\n",
       "</table>\n",
       "</div>"
      ],
      "text/plain": [
       "   LocationId  TotalCapacity                 LocationName  \\\n",
       "0        6129            100      Upper Track (4th Floor)   \n",
       "1        5978             50  Faculty/Staff Workout Area    \n",
       "2        5995            100               Upper Fitness    \n",
       "3        5996            100                    Upper Gym   \n",
       "4        6130            100           MAC Court (Cardio)   \n",
       "\n",
       "   CountOfParticipants  PercetageCapacity   LastUpdatedDateAndTime  LastCount  \\\n",
       "0                    0                  0  2021-11-16T18:25:48.663          1   \n",
       "1                    0                  0  2021-11-16T18:25:49.133          0   \n",
       "2                    0                  0   2021-11-16T18:25:49.57         13   \n",
       "3                    0                  0  2021-11-16T18:25:50.007         30   \n",
       "4                    0                  0   2021-11-16T18:25:50.43          0   \n",
       "\n",
       "  MinColor  MidColor MaxColor  MinCapacityRange  MaxCapacityRange  \\\n",
       "0  #ffc90e       NaN  #ed1c24                60                90   \n",
       "1  #ffc90e       NaN  #ed1c24                60                90   \n",
       "2  #ffc90e       NaN  #ed1c24                60                90   \n",
       "3  #ffc90e       NaN  #ed1c24                60                90   \n",
       "4  #ffc90e       NaN  #ed1c24                60                90   \n",
       "\n",
       "   CountCapacityColorEnabled  FacilityId FacilityName  IsClosed  time_retrived  \n",
       "0                       True         976   Operations     False   1.637106e+09  \n",
       "1                       True         976   Operations     False   1.637106e+09  \n",
       "2                       True         976   Operations     False   1.637106e+09  \n",
       "3                       True         976   Operations     False   1.637106e+09  \n",
       "4                       True         976   Operations     False   1.637106e+09  "
      ]
     },
     "metadata": {},
     "output_type": "display_data"
    },
    {
     "data": {
      "text/html": [
       "<div>\n",
       "<style scoped>\n",
       "    .dataframe tbody tr th:only-of-type {\n",
       "        vertical-align: middle;\n",
       "    }\n",
       "\n",
       "    .dataframe tbody tr th {\n",
       "        vertical-align: top;\n",
       "    }\n",
       "\n",
       "    .dataframe thead th {\n",
       "        text-align: right;\n",
       "    }\n",
       "</style>\n",
       "<table border=\"1\" class=\"dataframe\">\n",
       "  <thead>\n",
       "    <tr style=\"text-align: right;\">\n",
       "      <th></th>\n",
       "      <th>LocationId</th>\n",
       "      <th>LocationName</th>\n",
       "      <th>LastUpdatedDateAndTime</th>\n",
       "      <th>LastCount</th>\n",
       "      <th>IsClosed</th>\n",
       "      <th>time_retrived</th>\n",
       "    </tr>\n",
       "  </thead>\n",
       "  <tbody>\n",
       "    <tr>\n",
       "      <th>0</th>\n",
       "      <td>6129</td>\n",
       "      <td>Upper Track (4th Floor)</td>\n",
       "      <td>2021-11-16T18:25:48.663</td>\n",
       "      <td>1</td>\n",
       "      <td>False</td>\n",
       "      <td>1.637106e+09</td>\n",
       "    </tr>\n",
       "    <tr>\n",
       "      <th>1</th>\n",
       "      <td>5978</td>\n",
       "      <td>Faculty/Staff Workout Area</td>\n",
       "      <td>2021-11-16T18:25:49.133</td>\n",
       "      <td>0</td>\n",
       "      <td>False</td>\n",
       "      <td>1.637106e+09</td>\n",
       "    </tr>\n",
       "    <tr>\n",
       "      <th>2</th>\n",
       "      <td>5995</td>\n",
       "      <td>Upper Fitness</td>\n",
       "      <td>2021-11-16T18:25:49.57</td>\n",
       "      <td>13</td>\n",
       "      <td>False</td>\n",
       "      <td>1.637106e+09</td>\n",
       "    </tr>\n",
       "    <tr>\n",
       "      <th>3</th>\n",
       "      <td>5996</td>\n",
       "      <td>Upper Gym</td>\n",
       "      <td>2021-11-16T18:25:50.007</td>\n",
       "      <td>30</td>\n",
       "      <td>False</td>\n",
       "      <td>1.637106e+09</td>\n",
       "    </tr>\n",
       "    <tr>\n",
       "      <th>4</th>\n",
       "      <td>6130</td>\n",
       "      <td>MAC Court (Cardio)</td>\n",
       "      <td>2021-11-16T18:25:50.43</td>\n",
       "      <td>0</td>\n",
       "      <td>False</td>\n",
       "      <td>1.637106e+09</td>\n",
       "    </tr>\n",
       "    <tr>\n",
       "      <th>...</th>\n",
       "      <td>...</td>\n",
       "      <td>...</td>\n",
       "      <td>...</td>\n",
       "      <td>...</td>\n",
       "      <td>...</td>\n",
       "      <td>...</td>\n",
       "    </tr>\n",
       "    <tr>\n",
       "      <th>23</th>\n",
       "      <td>6131</td>\n",
       "      <td>MP3 (Strength Equipment)</td>\n",
       "      <td>2021-11-29T09:25:04.557</td>\n",
       "      <td>2</td>\n",
       "      <td>False</td>\n",
       "      <td>1.638198e+09</td>\n",
       "    </tr>\n",
       "    <tr>\n",
       "      <th>24</th>\n",
       "      <td>7291</td>\n",
       "      <td>Colby (Cardio)</td>\n",
       "      <td>2021-11-29T09:25:04.87</td>\n",
       "      <td>6</td>\n",
       "      <td>False</td>\n",
       "      <td>1.638198e+09</td>\n",
       "    </tr>\n",
       "    <tr>\n",
       "      <th>25</th>\n",
       "      <td>7290</td>\n",
       "      <td>Colby (Strength)</td>\n",
       "      <td>2021-11-29T09:25:05.227</td>\n",
       "      <td>57</td>\n",
       "      <td>False</td>\n",
       "      <td>1.638198e+09</td>\n",
       "    </tr>\n",
       "    <tr>\n",
       "      <th>26</th>\n",
       "      <td>5985</td>\n",
       "      <td>Lower Gym (Badminton &amp; Pickleball)</td>\n",
       "      <td>2021-11-29T09:25:05.557</td>\n",
       "      <td>0</td>\n",
       "      <td>False</td>\n",
       "      <td>1.638198e+09</td>\n",
       "    </tr>\n",
       "    <tr>\n",
       "      <th>27</th>\n",
       "      <td>5994</td>\n",
       "      <td>TREC</td>\n",
       "      <td>2021-11-29T06:11:43.35</td>\n",
       "      <td>0</td>\n",
       "      <td>True</td>\n",
       "      <td>1.638198e+09</td>\n",
       "    </tr>\n",
       "  </tbody>\n",
       "</table>\n",
       "<p>7056 rows × 6 columns</p>\n",
       "</div>"
      ],
      "text/plain": [
       "    LocationId                        LocationName   LastUpdatedDateAndTime  \\\n",
       "0         6129             Upper Track (4th Floor)  2021-11-16T18:25:48.663   \n",
       "1         5978         Faculty/Staff Workout Area   2021-11-16T18:25:49.133   \n",
       "2         5995                      Upper Fitness    2021-11-16T18:25:49.57   \n",
       "3         5996                           Upper Gym  2021-11-16T18:25:50.007   \n",
       "4         6130                  MAC Court (Cardio)   2021-11-16T18:25:50.43   \n",
       "..         ...                                 ...                      ...   \n",
       "23        6131            MP3 (Strength Equipment)  2021-11-29T09:25:04.557   \n",
       "24        7291                      Colby (Cardio)   2021-11-29T09:25:04.87   \n",
       "25        7290                    Colby (Strength)  2021-11-29T09:25:05.227   \n",
       "26        5985  Lower Gym (Badminton & Pickleball)  2021-11-29T09:25:05.557   \n",
       "27        5994                                TREC   2021-11-29T06:11:43.35   \n",
       "\n",
       "    LastCount  IsClosed  time_retrived  \n",
       "0           1     False   1.637106e+09  \n",
       "1           0     False   1.637106e+09  \n",
       "2          13     False   1.637106e+09  \n",
       "3          30     False   1.637106e+09  \n",
       "4           0     False   1.637106e+09  \n",
       "..        ...       ...            ...  \n",
       "23          2     False   1.638198e+09  \n",
       "24          6     False   1.638198e+09  \n",
       "25         57     False   1.638198e+09  \n",
       "26          0     False   1.638198e+09  \n",
       "27          0      True   1.638198e+09  \n",
       "\n",
       "[7056 rows x 6 columns]"
      ]
     },
     "metadata": {},
     "output_type": "display_data"
    }
   ],
   "source": [
    "from IPython.display import display, HTML\n",
    "\n",
    "full_api_df = pd.read_csv('new_api.csv', index_col=0, header=0, nrows=20)\n",
    "display(full_api_df.head())\n",
    "new_df = pd.read_csv('new_api.csv', index_col=0, header=0,usecols=[0,1,3,6,7,16,17])\n",
    "display(new_df)"
   ]
  },
  {
   "cell_type": "code",
   "execution_count": 90,
   "id": "fefff71d",
   "metadata": {
    "scrolled": false
   },
   "outputs": [
    {
     "name": "stdout",
     "output_type": "stream",
     "text": [
      "LocationId                  int64\n",
      "LocationName               object\n",
      "LastUpdatedDateAndTime     object\n",
      "LastCount                   int64\n",
      "IsClosed                     bool\n",
      "time_retrived             float64\n",
      "dtype: object\n",
      "0    18\n",
      "1    18\n",
      "2    18\n",
      "3    18\n",
      "4    18\n",
      "Name: LastUpdatedDateAndTime, dtype: int64\n"
     ]
    },
    {
     "data": {
      "text/html": [
       "<div>\n",
       "<style scoped>\n",
       "    .dataframe tbody tr th:only-of-type {\n",
       "        vertical-align: middle;\n",
       "    }\n",
       "\n",
       "    .dataframe tbody tr th {\n",
       "        vertical-align: top;\n",
       "    }\n",
       "\n",
       "    .dataframe thead th {\n",
       "        text-align: right;\n",
       "    }\n",
       "</style>\n",
       "<table border=\"1\" class=\"dataframe\">\n",
       "  <thead>\n",
       "    <tr style=\"text-align: right;\">\n",
       "      <th></th>\n",
       "      <th>LocationId</th>\n",
       "      <th>LocationName</th>\n",
       "      <th>LastUpdatedDateAndTime</th>\n",
       "      <th>LastCount</th>\n",
       "      <th>IsClosed</th>\n",
       "      <th>time_retrived</th>\n",
       "    </tr>\n",
       "  </thead>\n",
       "  <tbody>\n",
       "    <tr>\n",
       "      <th>0</th>\n",
       "      <td>6129</td>\n",
       "      <td>Upper Track (4th Floor)</td>\n",
       "      <td>2021-11-16 18:25:48.663000-05:00</td>\n",
       "      <td>1</td>\n",
       "      <td>False</td>\n",
       "      <td>1.637106e+09</td>\n",
       "    </tr>\n",
       "    <tr>\n",
       "      <th>1</th>\n",
       "      <td>5978</td>\n",
       "      <td>Faculty/Staff Workout Area</td>\n",
       "      <td>2021-11-16 18:25:49.133000-05:00</td>\n",
       "      <td>0</td>\n",
       "      <td>False</td>\n",
       "      <td>1.637106e+09</td>\n",
       "    </tr>\n",
       "    <tr>\n",
       "      <th>2</th>\n",
       "      <td>5995</td>\n",
       "      <td>Upper Fitness</td>\n",
       "      <td>2021-11-16 18:25:49.570000-05:00</td>\n",
       "      <td>13</td>\n",
       "      <td>False</td>\n",
       "      <td>1.637106e+09</td>\n",
       "    </tr>\n",
       "    <tr>\n",
       "      <th>3</th>\n",
       "      <td>5996</td>\n",
       "      <td>Upper Gym</td>\n",
       "      <td>2021-11-16 18:25:50.007000-05:00</td>\n",
       "      <td>30</td>\n",
       "      <td>False</td>\n",
       "      <td>1.637106e+09</td>\n",
       "    </tr>\n",
       "    <tr>\n",
       "      <th>4</th>\n",
       "      <td>6130</td>\n",
       "      <td>MAC Court (Cardio)</td>\n",
       "      <td>2021-11-16 18:25:50.430000-05:00</td>\n",
       "      <td>0</td>\n",
       "      <td>False</td>\n",
       "      <td>1.637106e+09</td>\n",
       "    </tr>\n",
       "  </tbody>\n",
       "</table>\n",
       "</div>"
      ],
      "text/plain": [
       "   LocationId                 LocationName           LastUpdatedDateAndTime  \\\n",
       "0        6129      Upper Track (4th Floor) 2021-11-16 18:25:48.663000-05:00   \n",
       "1        5978  Faculty/Staff Workout Area  2021-11-16 18:25:49.133000-05:00   \n",
       "2        5995               Upper Fitness  2021-11-16 18:25:49.570000-05:00   \n",
       "3        5996                    Upper Gym 2021-11-16 18:25:50.007000-05:00   \n",
       "4        6130           MAC Court (Cardio) 2021-11-16 18:25:50.430000-05:00   \n",
       "\n",
       "   LastCount  IsClosed  time_retrived  \n",
       "0          1     False   1.637106e+09  \n",
       "1          0     False   1.637106e+09  \n",
       "2         13     False   1.637106e+09  \n",
       "3         30     False   1.637106e+09  \n",
       "4          0     False   1.637106e+09  "
      ]
     },
     "execution_count": 90,
     "metadata": {},
     "output_type": "execute_result"
    }
   ],
   "source": [
    "print(new_df.dtypes)\n",
    "new_df.loc[:,'LastUpdatedDateAndTime'] = pd.to_datetime(new_df.loc[:,'LastUpdatedDateAndTime']) \\\n",
    "                                        .dt.tz_localize('EST') # already in EST, but let the dt objects know that\n",
    "print(new_df.LastUpdatedDateAndTime.dt.hour.head())\n",
    "new_df.head()"
   ]
  },
  {
   "cell_type": "code",
   "execution_count": 91,
   "id": "ab98f48d",
   "metadata": {},
   "outputs": [
    {
     "data": {
      "text/html": [
       "<div>\n",
       "<style scoped>\n",
       "    .dataframe tbody tr th:only-of-type {\n",
       "        vertical-align: middle;\n",
       "    }\n",
       "\n",
       "    .dataframe tbody tr th {\n",
       "        vertical-align: top;\n",
       "    }\n",
       "\n",
       "    .dataframe thead th {\n",
       "        text-align: right;\n",
       "    }\n",
       "</style>\n",
       "<table border=\"1\" class=\"dataframe\">\n",
       "  <thead>\n",
       "    <tr style=\"text-align: right;\">\n",
       "      <th></th>\n",
       "      <th>LocationId</th>\n",
       "      <th>LastCount</th>\n",
       "      <th>time_retrived</th>\n",
       "    </tr>\n",
       "  </thead>\n",
       "  <tbody>\n",
       "    <tr>\n",
       "      <th>count</th>\n",
       "      <td>7056.000000</td>\n",
       "      <td>7056.000000</td>\n",
       "      <td>7.056000e+03</td>\n",
       "    </tr>\n",
       "    <tr>\n",
       "      <th>mean</th>\n",
       "      <td>6249.428571</td>\n",
       "      <td>6.533305</td>\n",
       "      <td>1.637653e+09</td>\n",
       "    </tr>\n",
       "    <tr>\n",
       "      <th>std</th>\n",
       "      <td>489.816180</td>\n",
       "      <td>13.064406</td>\n",
       "      <td>3.144147e+05</td>\n",
       "    </tr>\n",
       "    <tr>\n",
       "      <th>min</th>\n",
       "      <td>5960.000000</td>\n",
       "      <td>0.000000</td>\n",
       "      <td>1.637106e+09</td>\n",
       "    </tr>\n",
       "    <tr>\n",
       "      <th>25%</th>\n",
       "      <td>5980.500000</td>\n",
       "      <td>0.000000</td>\n",
       "      <td>1.637377e+09</td>\n",
       "    </tr>\n",
       "    <tr>\n",
       "      <th>50%</th>\n",
       "      <td>5993.500000</td>\n",
       "      <td>1.000000</td>\n",
       "      <td>1.637653e+09</td>\n",
       "    </tr>\n",
       "    <tr>\n",
       "      <th>75%</th>\n",
       "      <td>6138.250000</td>\n",
       "      <td>7.000000</td>\n",
       "      <td>1.637929e+09</td>\n",
       "    </tr>\n",
       "    <tr>\n",
       "      <th>max</th>\n",
       "      <td>7293.000000</td>\n",
       "      <td>125.000000</td>\n",
       "      <td>1.638198e+09</td>\n",
       "    </tr>\n",
       "  </tbody>\n",
       "</table>\n",
       "</div>"
      ],
      "text/plain": [
       "        LocationId    LastCount  time_retrived\n",
       "count  7056.000000  7056.000000   7.056000e+03\n",
       "mean   6249.428571     6.533305   1.637653e+09\n",
       "std     489.816180    13.064406   3.144147e+05\n",
       "min    5960.000000     0.000000   1.637106e+09\n",
       "25%    5980.500000     0.000000   1.637377e+09\n",
       "50%    5993.500000     1.000000   1.637653e+09\n",
       "75%    6138.250000     7.000000   1.637929e+09\n",
       "max    7293.000000   125.000000   1.638198e+09"
      ]
     },
     "execution_count": 91,
     "metadata": {},
     "output_type": "execute_result"
    }
   ],
   "source": [
    "# find the latest update:\n",
    "new_df.describe()"
   ]
  },
  {
   "cell_type": "code",
   "execution_count": 92,
   "id": "c8f39b97",
   "metadata": {},
   "outputs": [
    {
     "ename": "SyntaxError",
     "evalue": "positional argument follows keyword argument (Temp/ipykernel_4084/1821099968.py, line 3)",
     "output_type": "error",
     "traceback": [
      "\u001b[1;36m  File \u001b[1;32m\"C:\\Users\\sean1\\AppData\\Local\\Temp/ipykernel_4084/1821099968.py\"\u001b[1;36m, line \u001b[1;32m3\u001b[0m\n\u001b[1;33m    new_east.iplot(kind='line', x='LastUpdatedDateAndTime', y='LastCount',color)\u001b[0m\n\u001b[1;37m                                                                               ^\u001b[0m\n\u001b[1;31mSyntaxError\u001b[0m\u001b[1;31m:\u001b[0m positional argument follows keyword argument\n"
     ]
    }
   ],
   "source": [
    "new_east = new_df.loc[new_df['LocationName']=='East Fitness (Strength Equipment)',:].copy()\n",
    "display(new_east)\n",
    "new_east.iplot(kind='line', x='LastUpdatedDateAndTime', y='LastCount')"
   ]
  },
  {
   "cell_type": "code",
   "execution_count": 93,
   "id": "28a2b007",
   "metadata": {},
   "outputs": [
    {
     "data": {
      "application/vnd.plotly.v1+json": {
       "config": {
        "linkText": "Export to plot.ly",
        "plotlyServerURL": "https://plot.ly",
        "showLink": true
       },
       "data": [
        {
         "line": {
          "color": "rgba(226, 74, 51, 1.0)",
          "dash": "solid",
          "shape": "linear",
          "width": 1.3
         },
         "marker": {
          "size": 12,
          "symbol": "circle"
         },
         "mode": "markers+lines",
         "name": "LastCount",
         "text": "",
         "type": "scatter",
         "x": [
          "06:04:11.163000",
          "06:04:27.623000",
          "06:04:27.623000",
          "06:11:40.363000",
          "06:11:59.950000",
          "06:13:27.153000",
          "06:14:19.553000",
          "06:22:28.177000",
          "07:03:23.547000",
          "07:09:55.650000",
          "07:12:46.927000",
          "07:13:51.537000",
          "07:14:14.173000",
          "07:15:24.650000",
          "07:16:11.080000",
          "08:00:25.517000",
          "08:04:46.060000",
          "08:18:13.417000",
          "08:20:25.933000",
          "08:52:33.837000",
          "08:54:47.947000",
          "08:59:51",
          "09:00:34.400000",
          "09:00:34.400000",
          "09:03:33.730000",
          "09:03:33.730000",
          "09:04:17",
          "09:25:03.150000",
          "09:37:27.383000",
          "09:42:34.367000",
          "09:58:57.407000",
          "09:58:57.407000",
          "10:04:09.600000",
          "10:04:09.600000",
          "10:04:50.480000",
          "10:06:01.720000",
          "10:12:12",
          "10:39:12.053000",
          "10:40:04.360000",
          "10:49:46.833000",
          "11:02:48.830000",
          "11:02:48.830000",
          "11:02:48.830000",
          "11:05:11.170000",
          "11:12:28.693000",
          "11:19:47.637000",
          "11:22:32.983000",
          "11:26:35.127000",
          "11:33:41.193000",
          "11:44:11.753000",
          "11:44:11.753000",
          "11:49:29.553000",
          "12:08:28.557000",
          "12:11:18.200000",
          "12:12:21.920000",
          "12:21:37.427000",
          "12:24:56.143000",
          "12:30:16.937000",
          "12:34:58.383000",
          "13:10:23.213000",
          "13:12:01.200000",
          "13:12:01.200000",
          "13:12:01.200000",
          "13:12:57.210000",
          "13:14:50.263000",
          "13:22:29",
          "13:27:01.130000",
          "13:31:03.023000",
          "13:40:39.467000",
          "13:44:37.523000",
          "14:09:39.517000",
          "14:17:11.100000",
          "14:23:34.533000",
          "14:25:32.360000",
          "14:26:39.887000",
          "14:35:38.333000",
          "14:46:44.520000",
          "14:47:12.917000",
          "15:08:53.750000",
          "15:14:13.007000",
          "15:16:44.697000",
          "15:17:29",
          "15:20:02.707000",
          "15:26:56.397000",
          "15:32:20.480000",
          "15:32:20.480000",
          "15:44:48.083000",
          "16:06:27.913000",
          "16:11:51.653000",
          "16:13:24.037000",
          "16:18:07.637000",
          "16:19:20.040000",
          "16:21:25.127000",
          "16:31:55.347000",
          "16:48:08.310000",
          "16:48:08.310000",
          "17:05:49.800000",
          "17:07:39.900000",
          "17:07:39.900000",
          "17:07:39.900000",
          "17:07:39.900000",
          "17:07:39.900000",
          "17:07:39.900000",
          "17:07:39.900000",
          "17:07:39.900000",
          "17:14:30.367000",
          "17:14:30.367000",
          "17:21:12.917000",
          "17:33:47.890000",
          "17:36:03.530000",
          "17:36:40.337000",
          "17:39:51.140000",
          "18:06:56.833000",
          "18:25:57.337000",
          "18:34:41.130000",
          "18:34:41.130000",
          "18:36:01.023000",
          "18:40:13.863000",
          "18:40:13.863000",
          "18:40:13.863000",
          "18:40:13.863000",
          "18:40:13.863000",
          "18:40:13.863000",
          "18:40:13.863000",
          "18:40:13.863000",
          "18:40:13.863000",
          "18:40:13.863000",
          "18:40:13.863000",
          "18:40:13.863000",
          "18:40:13.863000",
          "18:40:13.863000",
          "18:40:13.863000",
          "18:40:13.863000",
          "18:40:13.863000",
          "18:40:13.863000",
          "18:40:13.863000",
          "18:40:13.863000",
          "18:40:13.863000",
          "18:40:13.863000",
          "18:40:13.863000",
          "18:40:13.863000",
          "18:40:13.863000",
          "18:40:13.863000",
          "18:40:13.863000",
          "18:40:13.863000",
          "18:40:13.863000",
          "18:40:13.863000",
          "18:40:13.863000",
          "18:40:13.863000",
          "18:40:13.863000",
          "18:40:13.863000",
          "18:40:13.863000",
          "18:40:13.863000",
          "18:40:13.863000",
          "18:40:13.863000",
          "18:40:13.863000",
          "18:40:13.863000",
          "18:40:13.863000",
          "18:40:13.863000",
          "18:40:13.863000",
          "18:40:13.863000",
          "18:40:13.863000",
          "18:40:13.863000",
          "18:40:13.863000",
          "18:40:13.863000",
          "18:40:13.863000",
          "18:40:13.863000",
          "18:40:13.863000",
          "18:40:13.863000",
          "18:40:13.863000",
          "18:40:13.863000",
          "18:40:13.863000",
          "18:40:13.863000",
          "18:40:13.863000",
          "18:40:13.863000",
          "18:40:13.863000",
          "18:40:13.863000",
          "18:40:13.863000",
          "18:40:13.863000",
          "18:40:13.863000",
          "18:40:13.863000",
          "18:40:13.863000",
          "18:40:13.863000",
          "18:40:13.863000",
          "18:40:13.863000",
          "18:40:13.863000",
          "18:40:13.863000",
          "18:40:13.863000",
          "18:40:13.863000",
          "18:41:37.433000",
          "18:41:37.743000",
          "18:41:37.743000",
          "18:51:39.503000",
          "19:09:40.260000",
          "19:29:05.650000",
          "19:29:20.593000",
          "19:30:51.933000",
          "19:34:47",
          "19:34:47",
          "19:36:52.897000",
          "19:51:37.077000",
          "20:08:19.737000",
          "20:13:47.303000",
          "20:20:49.583000",
          "20:26:44.587000",
          "20:26:44.587000",
          "20:27:42.410000",
          "20:40:13.700000",
          "20:40:31.177000",
          "21:13:29.893000",
          "21:24:21",
          "21:27:25.757000",
          "21:32:01.920000",
          "21:33:39.110000",
          "21:36:58.030000",
          "22:06:14.123000",
          "22:06:14.123000",
          "22:06:14.123000",
          "22:06:14.123000",
          "22:06:14.123000",
          "22:06:14.123000",
          "22:06:14.123000",
          "22:06:14.123000",
          "22:06:14.123000",
          "22:16:34.250000",
          "22:20:05.817000",
          "22:20:05.817000",
          "22:20:05.817000",
          "22:20:05.817000",
          "22:20:17.140000",
          "22:20:17.140000",
          "22:20:17.140000",
          "22:20:17.140000",
          "22:23:30.977000",
          "22:23:30.977000",
          "22:23:30.977000",
          "22:23:30.977000",
          "22:32:27.623000",
          "23:02:18.377000",
          "23:02:18.377000",
          "23:02:18.377000",
          "23:02:56.963000",
          "23:02:56.963000",
          "23:02:56.963000",
          "23:02:56.963000",
          "23:18:57.043000",
          "23:18:57.043000",
          "23:18:57.043000",
          "23:18:57.043000",
          "23:20:09.833000",
          "23:20:09.833000",
          "23:20:09.833000"
         ],
         "y": [
          12,
          5,
          5,
          25,
          14,
          11,
          29,
          15,
          35,
          33,
          7,
          40,
          21,
          23,
          39,
          26,
          0,
          33,
          31,
          8,
          43,
          20,
          14,
          14,
          31,
          31,
          24,
          29,
          26,
          8,
          34,
          34,
          25,
          25,
          16,
          25,
          18,
          20,
          10,
          22,
          28,
          28,
          28,
          38,
          30,
          24,
          43,
          43,
          21,
          9,
          9,
          20,
          33,
          34,
          13,
          31,
          24,
          15,
          39,
          25,
          46,
          46,
          46,
          25,
          24,
          26,
          13,
          27,
          26,
          25,
          23,
          35,
          39,
          27,
          22,
          50,
          21,
          28,
          31,
          20,
          55,
          39,
          59,
          35,
          27,
          27,
          28,
          77,
          54,
          40,
          35,
          39,
          51,
          33,
          48,
          48,
          29,
          37,
          37,
          37,
          37,
          37,
          37,
          37,
          37,
          55,
          55,
          32,
          66,
          44,
          54,
          40,
          24,
          57,
          32,
          32,
          48,
          0,
          0,
          0,
          0,
          0,
          0,
          0,
          0,
          0,
          0,
          0,
          0,
          0,
          0,
          0,
          0,
          0,
          0,
          0,
          0,
          0,
          0,
          0,
          0,
          0,
          0,
          0,
          0,
          0,
          0,
          0,
          0,
          0,
          0,
          0,
          0,
          0,
          0,
          0,
          0,
          0,
          0,
          0,
          0,
          0,
          0,
          0,
          0,
          0,
          0,
          0,
          0,
          0,
          0,
          0,
          0,
          0,
          0,
          0,
          0,
          0,
          0,
          0,
          0,
          0,
          0,
          0,
          0,
          0,
          0,
          0,
          0,
          67,
          47,
          47,
          49,
          56,
          53,
          23,
          52,
          41,
          41,
          24,
          66,
          47,
          26,
          68,
          45,
          45,
          44,
          21,
          28,
          20,
          40,
          29,
          23,
          69,
          24,
          28,
          28,
          28,
          28,
          28,
          28,
          28,
          28,
          28,
          38,
          25,
          25,
          25,
          25,
          50,
          50,
          50,
          50,
          33,
          33,
          33,
          33,
          46,
          52,
          52,
          52,
          17,
          17,
          17,
          17,
          26,
          26,
          26,
          26,
          55,
          55,
          55
         ]
        }
       ],
       "layout": {
        "legend": {
         "bgcolor": "#FFFFFF",
         "font": {
          "color": "#666666"
         }
        },
        "paper_bgcolor": "#FFFFFF",
        "plot_bgcolor": "#E5E5E5",
        "template": {
         "data": {
          "bar": [
           {
            "error_x": {
             "color": "#2a3f5f"
            },
            "error_y": {
             "color": "#2a3f5f"
            },
            "marker": {
             "line": {
              "color": "#E5ECF6",
              "width": 0.5
             },
             "pattern": {
              "fillmode": "overlay",
              "size": 10,
              "solidity": 0.2
             }
            },
            "type": "bar"
           }
          ],
          "barpolar": [
           {
            "marker": {
             "line": {
              "color": "#E5ECF6",
              "width": 0.5
             },
             "pattern": {
              "fillmode": "overlay",
              "size": 10,
              "solidity": 0.2
             }
            },
            "type": "barpolar"
           }
          ],
          "carpet": [
           {
            "aaxis": {
             "endlinecolor": "#2a3f5f",
             "gridcolor": "white",
             "linecolor": "white",
             "minorgridcolor": "white",
             "startlinecolor": "#2a3f5f"
            },
            "baxis": {
             "endlinecolor": "#2a3f5f",
             "gridcolor": "white",
             "linecolor": "white",
             "minorgridcolor": "white",
             "startlinecolor": "#2a3f5f"
            },
            "type": "carpet"
           }
          ],
          "choropleth": [
           {
            "colorbar": {
             "outlinewidth": 0,
             "ticks": ""
            },
            "type": "choropleth"
           }
          ],
          "contour": [
           {
            "colorbar": {
             "outlinewidth": 0,
             "ticks": ""
            },
            "colorscale": [
             [
              0,
              "#0d0887"
             ],
             [
              0.1111111111111111,
              "#46039f"
             ],
             [
              0.2222222222222222,
              "#7201a8"
             ],
             [
              0.3333333333333333,
              "#9c179e"
             ],
             [
              0.4444444444444444,
              "#bd3786"
             ],
             [
              0.5555555555555556,
              "#d8576b"
             ],
             [
              0.6666666666666666,
              "#ed7953"
             ],
             [
              0.7777777777777778,
              "#fb9f3a"
             ],
             [
              0.8888888888888888,
              "#fdca26"
             ],
             [
              1,
              "#f0f921"
             ]
            ],
            "type": "contour"
           }
          ],
          "contourcarpet": [
           {
            "colorbar": {
             "outlinewidth": 0,
             "ticks": ""
            },
            "type": "contourcarpet"
           }
          ],
          "heatmap": [
           {
            "colorbar": {
             "outlinewidth": 0,
             "ticks": ""
            },
            "colorscale": [
             [
              0,
              "#0d0887"
             ],
             [
              0.1111111111111111,
              "#46039f"
             ],
             [
              0.2222222222222222,
              "#7201a8"
             ],
             [
              0.3333333333333333,
              "#9c179e"
             ],
             [
              0.4444444444444444,
              "#bd3786"
             ],
             [
              0.5555555555555556,
              "#d8576b"
             ],
             [
              0.6666666666666666,
              "#ed7953"
             ],
             [
              0.7777777777777778,
              "#fb9f3a"
             ],
             [
              0.8888888888888888,
              "#fdca26"
             ],
             [
              1,
              "#f0f921"
             ]
            ],
            "type": "heatmap"
           }
          ],
          "heatmapgl": [
           {
            "colorbar": {
             "outlinewidth": 0,
             "ticks": ""
            },
            "colorscale": [
             [
              0,
              "#0d0887"
             ],
             [
              0.1111111111111111,
              "#46039f"
             ],
             [
              0.2222222222222222,
              "#7201a8"
             ],
             [
              0.3333333333333333,
              "#9c179e"
             ],
             [
              0.4444444444444444,
              "#bd3786"
             ],
             [
              0.5555555555555556,
              "#d8576b"
             ],
             [
              0.6666666666666666,
              "#ed7953"
             ],
             [
              0.7777777777777778,
              "#fb9f3a"
             ],
             [
              0.8888888888888888,
              "#fdca26"
             ],
             [
              1,
              "#f0f921"
             ]
            ],
            "type": "heatmapgl"
           }
          ],
          "histogram": [
           {
            "marker": {
             "pattern": {
              "fillmode": "overlay",
              "size": 10,
              "solidity": 0.2
             }
            },
            "type": "histogram"
           }
          ],
          "histogram2d": [
           {
            "colorbar": {
             "outlinewidth": 0,
             "ticks": ""
            },
            "colorscale": [
             [
              0,
              "#0d0887"
             ],
             [
              0.1111111111111111,
              "#46039f"
             ],
             [
              0.2222222222222222,
              "#7201a8"
             ],
             [
              0.3333333333333333,
              "#9c179e"
             ],
             [
              0.4444444444444444,
              "#bd3786"
             ],
             [
              0.5555555555555556,
              "#d8576b"
             ],
             [
              0.6666666666666666,
              "#ed7953"
             ],
             [
              0.7777777777777778,
              "#fb9f3a"
             ],
             [
              0.8888888888888888,
              "#fdca26"
             ],
             [
              1,
              "#f0f921"
             ]
            ],
            "type": "histogram2d"
           }
          ],
          "histogram2dcontour": [
           {
            "colorbar": {
             "outlinewidth": 0,
             "ticks": ""
            },
            "colorscale": [
             [
              0,
              "#0d0887"
             ],
             [
              0.1111111111111111,
              "#46039f"
             ],
             [
              0.2222222222222222,
              "#7201a8"
             ],
             [
              0.3333333333333333,
              "#9c179e"
             ],
             [
              0.4444444444444444,
              "#bd3786"
             ],
             [
              0.5555555555555556,
              "#d8576b"
             ],
             [
              0.6666666666666666,
              "#ed7953"
             ],
             [
              0.7777777777777778,
              "#fb9f3a"
             ],
             [
              0.8888888888888888,
              "#fdca26"
             ],
             [
              1,
              "#f0f921"
             ]
            ],
            "type": "histogram2dcontour"
           }
          ],
          "mesh3d": [
           {
            "colorbar": {
             "outlinewidth": 0,
             "ticks": ""
            },
            "type": "mesh3d"
           }
          ],
          "parcoords": [
           {
            "line": {
             "colorbar": {
              "outlinewidth": 0,
              "ticks": ""
             }
            },
            "type": "parcoords"
           }
          ],
          "pie": [
           {
            "automargin": true,
            "type": "pie"
           }
          ],
          "scatter": [
           {
            "marker": {
             "colorbar": {
              "outlinewidth": 0,
              "ticks": ""
             }
            },
            "type": "scatter"
           }
          ],
          "scatter3d": [
           {
            "line": {
             "colorbar": {
              "outlinewidth": 0,
              "ticks": ""
             }
            },
            "marker": {
             "colorbar": {
              "outlinewidth": 0,
              "ticks": ""
             }
            },
            "type": "scatter3d"
           }
          ],
          "scattercarpet": [
           {
            "marker": {
             "colorbar": {
              "outlinewidth": 0,
              "ticks": ""
             }
            },
            "type": "scattercarpet"
           }
          ],
          "scattergeo": [
           {
            "marker": {
             "colorbar": {
              "outlinewidth": 0,
              "ticks": ""
             }
            },
            "type": "scattergeo"
           }
          ],
          "scattergl": [
           {
            "marker": {
             "colorbar": {
              "outlinewidth": 0,
              "ticks": ""
             }
            },
            "type": "scattergl"
           }
          ],
          "scattermapbox": [
           {
            "marker": {
             "colorbar": {
              "outlinewidth": 0,
              "ticks": ""
             }
            },
            "type": "scattermapbox"
           }
          ],
          "scatterpolar": [
           {
            "marker": {
             "colorbar": {
              "outlinewidth": 0,
              "ticks": ""
             }
            },
            "type": "scatterpolar"
           }
          ],
          "scatterpolargl": [
           {
            "marker": {
             "colorbar": {
              "outlinewidth": 0,
              "ticks": ""
             }
            },
            "type": "scatterpolargl"
           }
          ],
          "scatterternary": [
           {
            "marker": {
             "colorbar": {
              "outlinewidth": 0,
              "ticks": ""
             }
            },
            "type": "scatterternary"
           }
          ],
          "surface": [
           {
            "colorbar": {
             "outlinewidth": 0,
             "ticks": ""
            },
            "colorscale": [
             [
              0,
              "#0d0887"
             ],
             [
              0.1111111111111111,
              "#46039f"
             ],
             [
              0.2222222222222222,
              "#7201a8"
             ],
             [
              0.3333333333333333,
              "#9c179e"
             ],
             [
              0.4444444444444444,
              "#bd3786"
             ],
             [
              0.5555555555555556,
              "#d8576b"
             ],
             [
              0.6666666666666666,
              "#ed7953"
             ],
             [
              0.7777777777777778,
              "#fb9f3a"
             ],
             [
              0.8888888888888888,
              "#fdca26"
             ],
             [
              1,
              "#f0f921"
             ]
            ],
            "type": "surface"
           }
          ],
          "table": [
           {
            "cells": {
             "fill": {
              "color": "#EBF0F8"
             },
             "line": {
              "color": "white"
             }
            },
            "header": {
             "fill": {
              "color": "#C8D4E3"
             },
             "line": {
              "color": "white"
             }
            },
            "type": "table"
           }
          ]
         },
         "layout": {
          "annotationdefaults": {
           "arrowcolor": "#2a3f5f",
           "arrowhead": 0,
           "arrowwidth": 1
          },
          "autotypenumbers": "strict",
          "coloraxis": {
           "colorbar": {
            "outlinewidth": 0,
            "ticks": ""
           }
          },
          "colorscale": {
           "diverging": [
            [
             0,
             "#8e0152"
            ],
            [
             0.1,
             "#c51b7d"
            ],
            [
             0.2,
             "#de77ae"
            ],
            [
             0.3,
             "#f1b6da"
            ],
            [
             0.4,
             "#fde0ef"
            ],
            [
             0.5,
             "#f7f7f7"
            ],
            [
             0.6,
             "#e6f5d0"
            ],
            [
             0.7,
             "#b8e186"
            ],
            [
             0.8,
             "#7fbc41"
            ],
            [
             0.9,
             "#4d9221"
            ],
            [
             1,
             "#276419"
            ]
           ],
           "sequential": [
            [
             0,
             "#0d0887"
            ],
            [
             0.1111111111111111,
             "#46039f"
            ],
            [
             0.2222222222222222,
             "#7201a8"
            ],
            [
             0.3333333333333333,
             "#9c179e"
            ],
            [
             0.4444444444444444,
             "#bd3786"
            ],
            [
             0.5555555555555556,
             "#d8576b"
            ],
            [
             0.6666666666666666,
             "#ed7953"
            ],
            [
             0.7777777777777778,
             "#fb9f3a"
            ],
            [
             0.8888888888888888,
             "#fdca26"
            ],
            [
             1,
             "#f0f921"
            ]
           ],
           "sequentialminus": [
            [
             0,
             "#0d0887"
            ],
            [
             0.1111111111111111,
             "#46039f"
            ],
            [
             0.2222222222222222,
             "#7201a8"
            ],
            [
             0.3333333333333333,
             "#9c179e"
            ],
            [
             0.4444444444444444,
             "#bd3786"
            ],
            [
             0.5555555555555556,
             "#d8576b"
            ],
            [
             0.6666666666666666,
             "#ed7953"
            ],
            [
             0.7777777777777778,
             "#fb9f3a"
            ],
            [
             0.8888888888888888,
             "#fdca26"
            ],
            [
             1,
             "#f0f921"
            ]
           ]
          },
          "colorway": [
           "#636efa",
           "#EF553B",
           "#00cc96",
           "#ab63fa",
           "#FFA15A",
           "#19d3f3",
           "#FF6692",
           "#B6E880",
           "#FF97FF",
           "#FECB52"
          ],
          "font": {
           "color": "#2a3f5f"
          },
          "geo": {
           "bgcolor": "white",
           "lakecolor": "white",
           "landcolor": "#E5ECF6",
           "showlakes": true,
           "showland": true,
           "subunitcolor": "white"
          },
          "hoverlabel": {
           "align": "left"
          },
          "hovermode": "closest",
          "mapbox": {
           "style": "light"
          },
          "paper_bgcolor": "white",
          "plot_bgcolor": "#E5ECF6",
          "polar": {
           "angularaxis": {
            "gridcolor": "white",
            "linecolor": "white",
            "ticks": ""
           },
           "bgcolor": "#E5ECF6",
           "radialaxis": {
            "gridcolor": "white",
            "linecolor": "white",
            "ticks": ""
           }
          },
          "scene": {
           "xaxis": {
            "backgroundcolor": "#E5ECF6",
            "gridcolor": "white",
            "gridwidth": 2,
            "linecolor": "white",
            "showbackground": true,
            "ticks": "",
            "zerolinecolor": "white"
           },
           "yaxis": {
            "backgroundcolor": "#E5ECF6",
            "gridcolor": "white",
            "gridwidth": 2,
            "linecolor": "white",
            "showbackground": true,
            "ticks": "",
            "zerolinecolor": "white"
           },
           "zaxis": {
            "backgroundcolor": "#E5ECF6",
            "gridcolor": "white",
            "gridwidth": 2,
            "linecolor": "white",
            "showbackground": true,
            "ticks": "",
            "zerolinecolor": "white"
           }
          },
          "shapedefaults": {
           "line": {
            "color": "#2a3f5f"
           }
          },
          "ternary": {
           "aaxis": {
            "gridcolor": "white",
            "linecolor": "white",
            "ticks": ""
           },
           "baxis": {
            "gridcolor": "white",
            "linecolor": "white",
            "ticks": ""
           },
           "bgcolor": "#E5ECF6",
           "caxis": {
            "gridcolor": "white",
            "linecolor": "white",
            "ticks": ""
           }
          },
          "title": {
           "x": 0.05
          },
          "xaxis": {
           "automargin": true,
           "gridcolor": "white",
           "linecolor": "white",
           "ticks": "",
           "title": {
            "standoff": 15
           },
           "zerolinecolor": "white",
           "zerolinewidth": 2
          },
          "yaxis": {
           "automargin": true,
           "gridcolor": "white",
           "linecolor": "white",
           "ticks": "",
           "title": {
            "standoff": 15
           },
           "zerolinecolor": "white",
           "zerolinewidth": 2
          }
         }
        },
        "title": {
         "font": {
          "color": "#151516"
         }
        },
        "xaxis": {
         "gridcolor": "#F6F6F6",
         "showgrid": true,
         "tickfont": {
          "color": "#666666"
         },
         "title": {
          "font": {
           "color": "#666666"
          },
          "text": ""
         },
         "zerolinecolor": "#F6F6F6"
        },
        "yaxis": {
         "gridcolor": "#F6F6F6",
         "showgrid": true,
         "tickfont": {
          "color": "#666666"
         },
         "title": {
          "font": {
           "color": "#666666"
          },
          "text": ""
         },
         "zerolinecolor": "#F6F6F6"
        }
       }
      },
      "text/html": [
       "<div>                            <div id=\"cb082f74-71e2-4f78-86ae-dc3d5149cd0c\" class=\"plotly-graph-div\" style=\"height:525px; width:100%;\"></div>            <script type=\"text/javascript\">                require([\"plotly\"], function(Plotly) {                    window.PLOTLYENV=window.PLOTLYENV || {};\n",
       "                    window.PLOTLYENV.BASE_URL='https://plot.ly';                                    if (document.getElementById(\"cb082f74-71e2-4f78-86ae-dc3d5149cd0c\")) {                    Plotly.newPlot(                        \"cb082f74-71e2-4f78-86ae-dc3d5149cd0c\",                        [{\"line\":{\"color\":\"rgba(226, 74, 51, 1.0)\",\"dash\":\"solid\",\"shape\":\"linear\",\"width\":1.3},\"marker\":{\"size\":12,\"symbol\":\"circle\"},\"mode\":\"markers+lines\",\"name\":\"LastCount\",\"text\":\"\",\"type\":\"scatter\",\"x\":[\"06:04:11.163000\",\"06:04:27.623000\",\"06:04:27.623000\",\"06:11:40.363000\",\"06:11:59.950000\",\"06:13:27.153000\",\"06:14:19.553000\",\"06:22:28.177000\",\"07:03:23.547000\",\"07:09:55.650000\",\"07:12:46.927000\",\"07:13:51.537000\",\"07:14:14.173000\",\"07:15:24.650000\",\"07:16:11.080000\",\"08:00:25.517000\",\"08:04:46.060000\",\"08:18:13.417000\",\"08:20:25.933000\",\"08:52:33.837000\",\"08:54:47.947000\",\"08:59:51\",\"09:00:34.400000\",\"09:00:34.400000\",\"09:03:33.730000\",\"09:03:33.730000\",\"09:04:17\",\"09:25:03.150000\",\"09:37:27.383000\",\"09:42:34.367000\",\"09:58:57.407000\",\"09:58:57.407000\",\"10:04:09.600000\",\"10:04:09.600000\",\"10:04:50.480000\",\"10:06:01.720000\",\"10:12:12\",\"10:39:12.053000\",\"10:40:04.360000\",\"10:49:46.833000\",\"11:02:48.830000\",\"11:02:48.830000\",\"11:02:48.830000\",\"11:05:11.170000\",\"11:12:28.693000\",\"11:19:47.637000\",\"11:22:32.983000\",\"11:26:35.127000\",\"11:33:41.193000\",\"11:44:11.753000\",\"11:44:11.753000\",\"11:49:29.553000\",\"12:08:28.557000\",\"12:11:18.200000\",\"12:12:21.920000\",\"12:21:37.427000\",\"12:24:56.143000\",\"12:30:16.937000\",\"12:34:58.383000\",\"13:10:23.213000\",\"13:12:01.200000\",\"13:12:01.200000\",\"13:12:01.200000\",\"13:12:57.210000\",\"13:14:50.263000\",\"13:22:29\",\"13:27:01.130000\",\"13:31:03.023000\",\"13:40:39.467000\",\"13:44:37.523000\",\"14:09:39.517000\",\"14:17:11.100000\",\"14:23:34.533000\",\"14:25:32.360000\",\"14:26:39.887000\",\"14:35:38.333000\",\"14:46:44.520000\",\"14:47:12.917000\",\"15:08:53.750000\",\"15:14:13.007000\",\"15:16:44.697000\",\"15:17:29\",\"15:20:02.707000\",\"15:26:56.397000\",\"15:32:20.480000\",\"15:32:20.480000\",\"15:44:48.083000\",\"16:06:27.913000\",\"16:11:51.653000\",\"16:13:24.037000\",\"16:18:07.637000\",\"16:19:20.040000\",\"16:21:25.127000\",\"16:31:55.347000\",\"16:48:08.310000\",\"16:48:08.310000\",\"17:05:49.800000\",\"17:07:39.900000\",\"17:07:39.900000\",\"17:07:39.900000\",\"17:07:39.900000\",\"17:07:39.900000\",\"17:07:39.900000\",\"17:07:39.900000\",\"17:07:39.900000\",\"17:14:30.367000\",\"17:14:30.367000\",\"17:21:12.917000\",\"17:33:47.890000\",\"17:36:03.530000\",\"17:36:40.337000\",\"17:39:51.140000\",\"18:06:56.833000\",\"18:25:57.337000\",\"18:34:41.130000\",\"18:34:41.130000\",\"18:36:01.023000\",\"18:40:13.863000\",\"18:40:13.863000\",\"18:40:13.863000\",\"18:40:13.863000\",\"18:40:13.863000\",\"18:40:13.863000\",\"18:40:13.863000\",\"18:40:13.863000\",\"18:40:13.863000\",\"18:40:13.863000\",\"18:40:13.863000\",\"18:40:13.863000\",\"18:40:13.863000\",\"18:40:13.863000\",\"18:40:13.863000\",\"18:40:13.863000\",\"18:40:13.863000\",\"18:40:13.863000\",\"18:40:13.863000\",\"18:40:13.863000\",\"18:40:13.863000\",\"18:40:13.863000\",\"18:40:13.863000\",\"18:40:13.863000\",\"18:40:13.863000\",\"18:40:13.863000\",\"18:40:13.863000\",\"18:40:13.863000\",\"18:40:13.863000\",\"18:40:13.863000\",\"18:40:13.863000\",\"18:40:13.863000\",\"18:40:13.863000\",\"18:40:13.863000\",\"18:40:13.863000\",\"18:40:13.863000\",\"18:40:13.863000\",\"18:40:13.863000\",\"18:40:13.863000\",\"18:40:13.863000\",\"18:40:13.863000\",\"18:40:13.863000\",\"18:40:13.863000\",\"18:40:13.863000\",\"18:40:13.863000\",\"18:40:13.863000\",\"18:40:13.863000\",\"18:40:13.863000\",\"18:40:13.863000\",\"18:40:13.863000\",\"18:40:13.863000\",\"18:40:13.863000\",\"18:40:13.863000\",\"18:40:13.863000\",\"18:40:13.863000\",\"18:40:13.863000\",\"18:40:13.863000\",\"18:40:13.863000\",\"18:40:13.863000\",\"18:40:13.863000\",\"18:40:13.863000\",\"18:40:13.863000\",\"18:40:13.863000\",\"18:40:13.863000\",\"18:40:13.863000\",\"18:40:13.863000\",\"18:40:13.863000\",\"18:40:13.863000\",\"18:40:13.863000\",\"18:40:13.863000\",\"18:40:13.863000\",\"18:40:13.863000\",\"18:41:37.433000\",\"18:41:37.743000\",\"18:41:37.743000\",\"18:51:39.503000\",\"19:09:40.260000\",\"19:29:05.650000\",\"19:29:20.593000\",\"19:30:51.933000\",\"19:34:47\",\"19:34:47\",\"19:36:52.897000\",\"19:51:37.077000\",\"20:08:19.737000\",\"20:13:47.303000\",\"20:20:49.583000\",\"20:26:44.587000\",\"20:26:44.587000\",\"20:27:42.410000\",\"20:40:13.700000\",\"20:40:31.177000\",\"21:13:29.893000\",\"21:24:21\",\"21:27:25.757000\",\"21:32:01.920000\",\"21:33:39.110000\",\"21:36:58.030000\",\"22:06:14.123000\",\"22:06:14.123000\",\"22:06:14.123000\",\"22:06:14.123000\",\"22:06:14.123000\",\"22:06:14.123000\",\"22:06:14.123000\",\"22:06:14.123000\",\"22:06:14.123000\",\"22:16:34.250000\",\"22:20:05.817000\",\"22:20:05.817000\",\"22:20:05.817000\",\"22:20:05.817000\",\"22:20:17.140000\",\"22:20:17.140000\",\"22:20:17.140000\",\"22:20:17.140000\",\"22:23:30.977000\",\"22:23:30.977000\",\"22:23:30.977000\",\"22:23:30.977000\",\"22:32:27.623000\",\"23:02:18.377000\",\"23:02:18.377000\",\"23:02:18.377000\",\"23:02:56.963000\",\"23:02:56.963000\",\"23:02:56.963000\",\"23:02:56.963000\",\"23:18:57.043000\",\"23:18:57.043000\",\"23:18:57.043000\",\"23:18:57.043000\",\"23:20:09.833000\",\"23:20:09.833000\",\"23:20:09.833000\"],\"y\":[12,5,5,25,14,11,29,15,35,33,7,40,21,23,39,26,0,33,31,8,43,20,14,14,31,31,24,29,26,8,34,34,25,25,16,25,18,20,10,22,28,28,28,38,30,24,43,43,21,9,9,20,33,34,13,31,24,15,39,25,46,46,46,25,24,26,13,27,26,25,23,35,39,27,22,50,21,28,31,20,55,39,59,35,27,27,28,77,54,40,35,39,51,33,48,48,29,37,37,37,37,37,37,37,37,55,55,32,66,44,54,40,24,57,32,32,48,0,0,0,0,0,0,0,0,0,0,0,0,0,0,0,0,0,0,0,0,0,0,0,0,0,0,0,0,0,0,0,0,0,0,0,0,0,0,0,0,0,0,0,0,0,0,0,0,0,0,0,0,0,0,0,0,0,0,0,0,0,0,0,0,0,0,0,0,0,0,0,0,67,47,47,49,56,53,23,52,41,41,24,66,47,26,68,45,45,44,21,28,20,40,29,23,69,24,28,28,28,28,28,28,28,28,28,38,25,25,25,25,50,50,50,50,33,33,33,33,46,52,52,52,17,17,17,17,26,26,26,26,55,55,55]}],                        {\"legend\":{\"bgcolor\":\"#FFFFFF\",\"font\":{\"color\":\"#666666\"}},\"paper_bgcolor\":\"#FFFFFF\",\"plot_bgcolor\":\"#E5E5E5\",\"template\":{\"data\":{\"bar\":[{\"error_x\":{\"color\":\"#2a3f5f\"},\"error_y\":{\"color\":\"#2a3f5f\"},\"marker\":{\"line\":{\"color\":\"#E5ECF6\",\"width\":0.5},\"pattern\":{\"fillmode\":\"overlay\",\"size\":10,\"solidity\":0.2}},\"type\":\"bar\"}],\"barpolar\":[{\"marker\":{\"line\":{\"color\":\"#E5ECF6\",\"width\":0.5},\"pattern\":{\"fillmode\":\"overlay\",\"size\":10,\"solidity\":0.2}},\"type\":\"barpolar\"}],\"carpet\":[{\"aaxis\":{\"endlinecolor\":\"#2a3f5f\",\"gridcolor\":\"white\",\"linecolor\":\"white\",\"minorgridcolor\":\"white\",\"startlinecolor\":\"#2a3f5f\"},\"baxis\":{\"endlinecolor\":\"#2a3f5f\",\"gridcolor\":\"white\",\"linecolor\":\"white\",\"minorgridcolor\":\"white\",\"startlinecolor\":\"#2a3f5f\"},\"type\":\"carpet\"}],\"choropleth\":[{\"colorbar\":{\"outlinewidth\":0,\"ticks\":\"\"},\"type\":\"choropleth\"}],\"contour\":[{\"colorbar\":{\"outlinewidth\":0,\"ticks\":\"\"},\"colorscale\":[[0.0,\"#0d0887\"],[0.1111111111111111,\"#46039f\"],[0.2222222222222222,\"#7201a8\"],[0.3333333333333333,\"#9c179e\"],[0.4444444444444444,\"#bd3786\"],[0.5555555555555556,\"#d8576b\"],[0.6666666666666666,\"#ed7953\"],[0.7777777777777778,\"#fb9f3a\"],[0.8888888888888888,\"#fdca26\"],[1.0,\"#f0f921\"]],\"type\":\"contour\"}],\"contourcarpet\":[{\"colorbar\":{\"outlinewidth\":0,\"ticks\":\"\"},\"type\":\"contourcarpet\"}],\"heatmap\":[{\"colorbar\":{\"outlinewidth\":0,\"ticks\":\"\"},\"colorscale\":[[0.0,\"#0d0887\"],[0.1111111111111111,\"#46039f\"],[0.2222222222222222,\"#7201a8\"],[0.3333333333333333,\"#9c179e\"],[0.4444444444444444,\"#bd3786\"],[0.5555555555555556,\"#d8576b\"],[0.6666666666666666,\"#ed7953\"],[0.7777777777777778,\"#fb9f3a\"],[0.8888888888888888,\"#fdca26\"],[1.0,\"#f0f921\"]],\"type\":\"heatmap\"}],\"heatmapgl\":[{\"colorbar\":{\"outlinewidth\":0,\"ticks\":\"\"},\"colorscale\":[[0.0,\"#0d0887\"],[0.1111111111111111,\"#46039f\"],[0.2222222222222222,\"#7201a8\"],[0.3333333333333333,\"#9c179e\"],[0.4444444444444444,\"#bd3786\"],[0.5555555555555556,\"#d8576b\"],[0.6666666666666666,\"#ed7953\"],[0.7777777777777778,\"#fb9f3a\"],[0.8888888888888888,\"#fdca26\"],[1.0,\"#f0f921\"]],\"type\":\"heatmapgl\"}],\"histogram\":[{\"marker\":{\"pattern\":{\"fillmode\":\"overlay\",\"size\":10,\"solidity\":0.2}},\"type\":\"histogram\"}],\"histogram2d\":[{\"colorbar\":{\"outlinewidth\":0,\"ticks\":\"\"},\"colorscale\":[[0.0,\"#0d0887\"],[0.1111111111111111,\"#46039f\"],[0.2222222222222222,\"#7201a8\"],[0.3333333333333333,\"#9c179e\"],[0.4444444444444444,\"#bd3786\"],[0.5555555555555556,\"#d8576b\"],[0.6666666666666666,\"#ed7953\"],[0.7777777777777778,\"#fb9f3a\"],[0.8888888888888888,\"#fdca26\"],[1.0,\"#f0f921\"]],\"type\":\"histogram2d\"}],\"histogram2dcontour\":[{\"colorbar\":{\"outlinewidth\":0,\"ticks\":\"\"},\"colorscale\":[[0.0,\"#0d0887\"],[0.1111111111111111,\"#46039f\"],[0.2222222222222222,\"#7201a8\"],[0.3333333333333333,\"#9c179e\"],[0.4444444444444444,\"#bd3786\"],[0.5555555555555556,\"#d8576b\"],[0.6666666666666666,\"#ed7953\"],[0.7777777777777778,\"#fb9f3a\"],[0.8888888888888888,\"#fdca26\"],[1.0,\"#f0f921\"]],\"type\":\"histogram2dcontour\"}],\"mesh3d\":[{\"colorbar\":{\"outlinewidth\":0,\"ticks\":\"\"},\"type\":\"mesh3d\"}],\"parcoords\":[{\"line\":{\"colorbar\":{\"outlinewidth\":0,\"ticks\":\"\"}},\"type\":\"parcoords\"}],\"pie\":[{\"automargin\":true,\"type\":\"pie\"}],\"scatter\":[{\"marker\":{\"colorbar\":{\"outlinewidth\":0,\"ticks\":\"\"}},\"type\":\"scatter\"}],\"scatter3d\":[{\"line\":{\"colorbar\":{\"outlinewidth\":0,\"ticks\":\"\"}},\"marker\":{\"colorbar\":{\"outlinewidth\":0,\"ticks\":\"\"}},\"type\":\"scatter3d\"}],\"scattercarpet\":[{\"marker\":{\"colorbar\":{\"outlinewidth\":0,\"ticks\":\"\"}},\"type\":\"scattercarpet\"}],\"scattergeo\":[{\"marker\":{\"colorbar\":{\"outlinewidth\":0,\"ticks\":\"\"}},\"type\":\"scattergeo\"}],\"scattergl\":[{\"marker\":{\"colorbar\":{\"outlinewidth\":0,\"ticks\":\"\"}},\"type\":\"scattergl\"}],\"scattermapbox\":[{\"marker\":{\"colorbar\":{\"outlinewidth\":0,\"ticks\":\"\"}},\"type\":\"scattermapbox\"}],\"scatterpolar\":[{\"marker\":{\"colorbar\":{\"outlinewidth\":0,\"ticks\":\"\"}},\"type\":\"scatterpolar\"}],\"scatterpolargl\":[{\"marker\":{\"colorbar\":{\"outlinewidth\":0,\"ticks\":\"\"}},\"type\":\"scatterpolargl\"}],\"scatterternary\":[{\"marker\":{\"colorbar\":{\"outlinewidth\":0,\"ticks\":\"\"}},\"type\":\"scatterternary\"}],\"surface\":[{\"colorbar\":{\"outlinewidth\":0,\"ticks\":\"\"},\"colorscale\":[[0.0,\"#0d0887\"],[0.1111111111111111,\"#46039f\"],[0.2222222222222222,\"#7201a8\"],[0.3333333333333333,\"#9c179e\"],[0.4444444444444444,\"#bd3786\"],[0.5555555555555556,\"#d8576b\"],[0.6666666666666666,\"#ed7953\"],[0.7777777777777778,\"#fb9f3a\"],[0.8888888888888888,\"#fdca26\"],[1.0,\"#f0f921\"]],\"type\":\"surface\"}],\"table\":[{\"cells\":{\"fill\":{\"color\":\"#EBF0F8\"},\"line\":{\"color\":\"white\"}},\"header\":{\"fill\":{\"color\":\"#C8D4E3\"},\"line\":{\"color\":\"white\"}},\"type\":\"table\"}]},\"layout\":{\"annotationdefaults\":{\"arrowcolor\":\"#2a3f5f\",\"arrowhead\":0,\"arrowwidth\":1},\"autotypenumbers\":\"strict\",\"coloraxis\":{\"colorbar\":{\"outlinewidth\":0,\"ticks\":\"\"}},\"colorscale\":{\"diverging\":[[0,\"#8e0152\"],[0.1,\"#c51b7d\"],[0.2,\"#de77ae\"],[0.3,\"#f1b6da\"],[0.4,\"#fde0ef\"],[0.5,\"#f7f7f7\"],[0.6,\"#e6f5d0\"],[0.7,\"#b8e186\"],[0.8,\"#7fbc41\"],[0.9,\"#4d9221\"],[1,\"#276419\"]],\"sequential\":[[0.0,\"#0d0887\"],[0.1111111111111111,\"#46039f\"],[0.2222222222222222,\"#7201a8\"],[0.3333333333333333,\"#9c179e\"],[0.4444444444444444,\"#bd3786\"],[0.5555555555555556,\"#d8576b\"],[0.6666666666666666,\"#ed7953\"],[0.7777777777777778,\"#fb9f3a\"],[0.8888888888888888,\"#fdca26\"],[1.0,\"#f0f921\"]],\"sequentialminus\":[[0.0,\"#0d0887\"],[0.1111111111111111,\"#46039f\"],[0.2222222222222222,\"#7201a8\"],[0.3333333333333333,\"#9c179e\"],[0.4444444444444444,\"#bd3786\"],[0.5555555555555556,\"#d8576b\"],[0.6666666666666666,\"#ed7953\"],[0.7777777777777778,\"#fb9f3a\"],[0.8888888888888888,\"#fdca26\"],[1.0,\"#f0f921\"]]},\"colorway\":[\"#636efa\",\"#EF553B\",\"#00cc96\",\"#ab63fa\",\"#FFA15A\",\"#19d3f3\",\"#FF6692\",\"#B6E880\",\"#FF97FF\",\"#FECB52\"],\"font\":{\"color\":\"#2a3f5f\"},\"geo\":{\"bgcolor\":\"white\",\"lakecolor\":\"white\",\"landcolor\":\"#E5ECF6\",\"showlakes\":true,\"showland\":true,\"subunitcolor\":\"white\"},\"hoverlabel\":{\"align\":\"left\"},\"hovermode\":\"closest\",\"mapbox\":{\"style\":\"light\"},\"paper_bgcolor\":\"white\",\"plot_bgcolor\":\"#E5ECF6\",\"polar\":{\"angularaxis\":{\"gridcolor\":\"white\",\"linecolor\":\"white\",\"ticks\":\"\"},\"bgcolor\":\"#E5ECF6\",\"radialaxis\":{\"gridcolor\":\"white\",\"linecolor\":\"white\",\"ticks\":\"\"}},\"scene\":{\"xaxis\":{\"backgroundcolor\":\"#E5ECF6\",\"gridcolor\":\"white\",\"gridwidth\":2,\"linecolor\":\"white\",\"showbackground\":true,\"ticks\":\"\",\"zerolinecolor\":\"white\"},\"yaxis\":{\"backgroundcolor\":\"#E5ECF6\",\"gridcolor\":\"white\",\"gridwidth\":2,\"linecolor\":\"white\",\"showbackground\":true,\"ticks\":\"\",\"zerolinecolor\":\"white\"},\"zaxis\":{\"backgroundcolor\":\"#E5ECF6\",\"gridcolor\":\"white\",\"gridwidth\":2,\"linecolor\":\"white\",\"showbackground\":true,\"ticks\":\"\",\"zerolinecolor\":\"white\"}},\"shapedefaults\":{\"line\":{\"color\":\"#2a3f5f\"}},\"ternary\":{\"aaxis\":{\"gridcolor\":\"white\",\"linecolor\":\"white\",\"ticks\":\"\"},\"baxis\":{\"gridcolor\":\"white\",\"linecolor\":\"white\",\"ticks\":\"\"},\"bgcolor\":\"#E5ECF6\",\"caxis\":{\"gridcolor\":\"white\",\"linecolor\":\"white\",\"ticks\":\"\"}},\"title\":{\"x\":0.05},\"xaxis\":{\"automargin\":true,\"gridcolor\":\"white\",\"linecolor\":\"white\",\"ticks\":\"\",\"title\":{\"standoff\":15},\"zerolinecolor\":\"white\",\"zerolinewidth\":2},\"yaxis\":{\"automargin\":true,\"gridcolor\":\"white\",\"linecolor\":\"white\",\"ticks\":\"\",\"title\":{\"standoff\":15},\"zerolinecolor\":\"white\",\"zerolinewidth\":2}}},\"title\":{\"font\":{\"color\":\"#151516\"}},\"xaxis\":{\"gridcolor\":\"#F6F6F6\",\"showgrid\":true,\"tickfont\":{\"color\":\"#666666\"},\"title\":{\"font\":{\"color\":\"#666666\"},\"text\":\"\"},\"zerolinecolor\":\"#F6F6F6\"},\"yaxis\":{\"gridcolor\":\"#F6F6F6\",\"showgrid\":true,\"tickfont\":{\"color\":\"#666666\"},\"title\":{\"font\":{\"color\":\"#666666\"},\"text\":\"\"},\"zerolinecolor\":\"#F6F6F6\"}},                        {\"showLink\": true, \"linkText\": \"Export to plot.ly\", \"plotlyServerURL\": \"https://plot.ly\", \"responsive\": true}                    ).then(function(){\n",
       "                            \n",
       "var gd = document.getElementById('cb082f74-71e2-4f78-86ae-dc3d5149cd0c');\n",
       "var x = new MutationObserver(function (mutations, observer) {{\n",
       "        var display = window.getComputedStyle(gd).display;\n",
       "        if (!display || display === 'none') {{\n",
       "            console.log([gd, 'removed!']);\n",
       "            Plotly.purge(gd);\n",
       "            observer.disconnect();\n",
       "        }}\n",
       "}});\n",
       "\n",
       "// Listen for the removal of the full notebook cells\n",
       "var notebookContainer = gd.closest('#notebook-container');\n",
       "if (notebookContainer) {{\n",
       "    x.observe(notebookContainer, {childList: true});\n",
       "}}\n",
       "\n",
       "// Listen for the clearing of the current output cell\n",
       "var outputEl = gd.closest('.output');\n",
       "if (outputEl) {{\n",
       "    x.observe(outputEl, {childList: true});\n",
       "}}\n",
       "\n",
       "                        })                };                });            </script>        </div>"
      ]
     },
     "metadata": {},
     "output_type": "display_data"
    }
   ],
   "source": [
    "new_east['time'] = new_east.loc[:,'LastUpdatedDateAndTime'].dt.time\n",
    "new_east.iplot(kind = 'scatter', x='time', y= 'LastCount',mode = 'markers+lines')"
   ]
  },
  {
   "cell_type": "code",
   "execution_count": 94,
   "id": "0019d588",
   "metadata": {},
   "outputs": [
    {
     "data": {
      "text/html": [
       "<div>\n",
       "<style scoped>\n",
       "    .dataframe tbody tr th:only-of-type {\n",
       "        vertical-align: middle;\n",
       "    }\n",
       "\n",
       "    .dataframe tbody tr th {\n",
       "        vertical-align: top;\n",
       "    }\n",
       "\n",
       "    .dataframe thead th {\n",
       "        text-align: right;\n",
       "    }\n",
       "</style>\n",
       "<table border=\"1\" class=\"dataframe\">\n",
       "  <thead>\n",
       "    <tr style=\"text-align: right;\">\n",
       "      <th></th>\n",
       "      <th>LocationId</th>\n",
       "      <th>LocationName</th>\n",
       "      <th>LastUpdatedDateAndTime</th>\n",
       "      <th>LastCount</th>\n",
       "      <th>IsClosed</th>\n",
       "      <th>time_retrived</th>\n",
       "      <th>hour</th>\n",
       "      <th>weekday</th>\n",
       "      <th>time</th>\n",
       "    </tr>\n",
       "  </thead>\n",
       "  <tbody>\n",
       "    <tr>\n",
       "      <th>20</th>\n",
       "      <td>5976</td>\n",
       "      <td>East Fitness (Strength Equipment)</td>\n",
       "      <td>2021-11-17 06:04:11.163000-05:00</td>\n",
       "      <td>12</td>\n",
       "      <td>False</td>\n",
       "      <td>1.637147e+09</td>\n",
       "      <td>06:04:11.163000</td>\n",
       "      <td>Wednesday</td>\n",
       "      <td>06:04:11.163000</td>\n",
       "    </tr>\n",
       "    <tr>\n",
       "      <th>20</th>\n",
       "      <td>5976</td>\n",
       "      <td>East Fitness (Strength Equipment)</td>\n",
       "      <td>2021-11-24 06:04:27.623000-05:00</td>\n",
       "      <td>5</td>\n",
       "      <td>False</td>\n",
       "      <td>1.637752e+09</td>\n",
       "      <td>06:04:27.623000</td>\n",
       "      <td>Wednesday</td>\n",
       "      <td>06:04:27.623000</td>\n",
       "    </tr>\n",
       "    <tr>\n",
       "      <th>20</th>\n",
       "      <td>5976</td>\n",
       "      <td>East Fitness (Strength Equipment)</td>\n",
       "      <td>2021-11-24 06:04:27.623000-05:00</td>\n",
       "      <td>5</td>\n",
       "      <td>False</td>\n",
       "      <td>1.637756e+09</td>\n",
       "      <td>06:04:27.623000</td>\n",
       "      <td>Wednesday</td>\n",
       "      <td>06:04:27.623000</td>\n",
       "    </tr>\n",
       "    <tr>\n",
       "      <th>20</th>\n",
       "      <td>5976</td>\n",
       "      <td>East Fitness (Strength Equipment)</td>\n",
       "      <td>2021-11-29 06:11:40.363000-05:00</td>\n",
       "      <td>25</td>\n",
       "      <td>False</td>\n",
       "      <td>1.638188e+09</td>\n",
       "      <td>06:11:40.363000</td>\n",
       "      <td>Monday</td>\n",
       "      <td>06:11:40.363000</td>\n",
       "    </tr>\n",
       "    <tr>\n",
       "      <th>20</th>\n",
       "      <td>5976</td>\n",
       "      <td>East Fitness (Strength Equipment)</td>\n",
       "      <td>2021-11-22 06:11:59.950000-05:00</td>\n",
       "      <td>14</td>\n",
       "      <td>False</td>\n",
       "      <td>1.637583e+09</td>\n",
       "      <td>06:11:59.950000</td>\n",
       "      <td>Monday</td>\n",
       "      <td>06:11:59.950000</td>\n",
       "    </tr>\n",
       "    <tr>\n",
       "      <th>20</th>\n",
       "      <td>5976</td>\n",
       "      <td>East Fitness (Strength Equipment)</td>\n",
       "      <td>2021-11-19 06:13:27.153000-05:00</td>\n",
       "      <td>11</td>\n",
       "      <td>False</td>\n",
       "      <td>1.637324e+09</td>\n",
       "      <td>06:13:27.153000</td>\n",
       "      <td>Friday</td>\n",
       "      <td>06:13:27.153000</td>\n",
       "    </tr>\n",
       "    <tr>\n",
       "      <th>20</th>\n",
       "      <td>5976</td>\n",
       "      <td>East Fitness (Strength Equipment)</td>\n",
       "      <td>2021-11-18 06:14:19.553000-05:00</td>\n",
       "      <td>29</td>\n",
       "      <td>False</td>\n",
       "      <td>1.637237e+09</td>\n",
       "      <td>06:14:19.553000</td>\n",
       "      <td>Thursday</td>\n",
       "      <td>06:14:19.553000</td>\n",
       "    </tr>\n",
       "    <tr>\n",
       "      <th>20</th>\n",
       "      <td>5976</td>\n",
       "      <td>East Fitness (Strength Equipment)</td>\n",
       "      <td>2021-11-23 06:22:28.177000-05:00</td>\n",
       "      <td>15</td>\n",
       "      <td>False</td>\n",
       "      <td>1.637669e+09</td>\n",
       "      <td>06:22:28.177000</td>\n",
       "      <td>Tuesday</td>\n",
       "      <td>06:22:28.177000</td>\n",
       "    </tr>\n",
       "    <tr>\n",
       "      <th>20</th>\n",
       "      <td>5976</td>\n",
       "      <td>East Fitness (Strength Equipment)</td>\n",
       "      <td>2021-11-17 07:03:23.547000-05:00</td>\n",
       "      <td>35</td>\n",
       "      <td>False</td>\n",
       "      <td>1.637151e+09</td>\n",
       "      <td>07:03:23.547000</td>\n",
       "      <td>Wednesday</td>\n",
       "      <td>07:03:23.547000</td>\n",
       "    </tr>\n",
       "    <tr>\n",
       "      <th>20</th>\n",
       "      <td>5976</td>\n",
       "      <td>East Fitness (Strength Equipment)</td>\n",
       "      <td>2021-11-19 07:09:55.650000-05:00</td>\n",
       "      <td>33</td>\n",
       "      <td>False</td>\n",
       "      <td>1.637327e+09</td>\n",
       "      <td>07:09:55.650000</td>\n",
       "      <td>Friday</td>\n",
       "      <td>07:09:55.650000</td>\n",
       "    </tr>\n",
       "    <tr>\n",
       "      <th>20</th>\n",
       "      <td>5976</td>\n",
       "      <td>East Fitness (Strength Equipment)</td>\n",
       "      <td>2021-11-24 07:12:46.927000-05:00</td>\n",
       "      <td>7</td>\n",
       "      <td>False</td>\n",
       "      <td>1.637759e+09</td>\n",
       "      <td>07:12:46.927000</td>\n",
       "      <td>Wednesday</td>\n",
       "      <td>07:12:46.927000</td>\n",
       "    </tr>\n",
       "    <tr>\n",
       "      <th>20</th>\n",
       "      <td>5976</td>\n",
       "      <td>East Fitness (Strength Equipment)</td>\n",
       "      <td>2021-11-18 07:13:51.537000-05:00</td>\n",
       "      <td>40</td>\n",
       "      <td>False</td>\n",
       "      <td>1.637241e+09</td>\n",
       "      <td>07:13:51.537000</td>\n",
       "      <td>Thursday</td>\n",
       "      <td>07:13:51.537000</td>\n",
       "    </tr>\n",
       "    <tr>\n",
       "      <th>20</th>\n",
       "      <td>5976</td>\n",
       "      <td>East Fitness (Strength Equipment)</td>\n",
       "      <td>2021-11-23 07:14:14.173000-05:00</td>\n",
       "      <td>21</td>\n",
       "      <td>False</td>\n",
       "      <td>1.637673e+09</td>\n",
       "      <td>07:14:14.173000</td>\n",
       "      <td>Tuesday</td>\n",
       "      <td>07:14:14.173000</td>\n",
       "    </tr>\n",
       "    <tr>\n",
       "      <th>20</th>\n",
       "      <td>5976</td>\n",
       "      <td>East Fitness (Strength Equipment)</td>\n",
       "      <td>2021-11-22 07:15:24.650000-05:00</td>\n",
       "      <td>23</td>\n",
       "      <td>False</td>\n",
       "      <td>1.637586e+09</td>\n",
       "      <td>07:15:24.650000</td>\n",
       "      <td>Monday</td>\n",
       "      <td>07:15:24.650000</td>\n",
       "    </tr>\n",
       "    <tr>\n",
       "      <th>20</th>\n",
       "      <td>5976</td>\n",
       "      <td>East Fitness (Strength Equipment)</td>\n",
       "      <td>2021-11-29 07:16:11.080000-05:00</td>\n",
       "      <td>39</td>\n",
       "      <td>False</td>\n",
       "      <td>1.638191e+09</td>\n",
       "      <td>07:16:11.080000</td>\n",
       "      <td>Monday</td>\n",
       "      <td>07:16:11.080000</td>\n",
       "    </tr>\n",
       "    <tr>\n",
       "      <th>20</th>\n",
       "      <td>5976</td>\n",
       "      <td>East Fitness (Strength Equipment)</td>\n",
       "      <td>2021-11-17 08:00:25.517000-05:00</td>\n",
       "      <td>26</td>\n",
       "      <td>False</td>\n",
       "      <td>1.637154e+09</td>\n",
       "      <td>08:00:25.517000</td>\n",
       "      <td>Wednesday</td>\n",
       "      <td>08:00:25.517000</td>\n",
       "    </tr>\n",
       "    <tr>\n",
       "      <th>20</th>\n",
       "      <td>5976</td>\n",
       "      <td>East Fitness (Strength Equipment)</td>\n",
       "      <td>2021-11-20 08:04:46.060000-05:00</td>\n",
       "      <td>0</td>\n",
       "      <td>False</td>\n",
       "      <td>1.637414e+09</td>\n",
       "      <td>08:04:46.060000</td>\n",
       "      <td>Saturday</td>\n",
       "      <td>08:04:46.060000</td>\n",
       "    </tr>\n",
       "    <tr>\n",
       "      <th>20</th>\n",
       "      <td>5976</td>\n",
       "      <td>East Fitness (Strength Equipment)</td>\n",
       "      <td>2021-11-18 08:18:13.417000-05:00</td>\n",
       "      <td>33</td>\n",
       "      <td>False</td>\n",
       "      <td>1.637244e+09</td>\n",
       "      <td>08:18:13.417000</td>\n",
       "      <td>Thursday</td>\n",
       "      <td>08:18:13.417000</td>\n",
       "    </tr>\n",
       "    <tr>\n",
       "      <th>20</th>\n",
       "      <td>5976</td>\n",
       "      <td>East Fitness (Strength Equipment)</td>\n",
       "      <td>2021-11-29 08:20:25.933000-05:00</td>\n",
       "      <td>31</td>\n",
       "      <td>False</td>\n",
       "      <td>1.638195e+09</td>\n",
       "      <td>08:20:25.933000</td>\n",
       "      <td>Monday</td>\n",
       "      <td>08:20:25.933000</td>\n",
       "    </tr>\n",
       "    <tr>\n",
       "      <th>20</th>\n",
       "      <td>5976</td>\n",
       "      <td>East Fitness (Strength Equipment)</td>\n",
       "      <td>2021-11-24 08:52:33.837000-05:00</td>\n",
       "      <td>8</td>\n",
       "      <td>False</td>\n",
       "      <td>1.637763e+09</td>\n",
       "      <td>08:52:33.837000</td>\n",
       "      <td>Wednesday</td>\n",
       "      <td>08:52:33.837000</td>\n",
       "    </tr>\n",
       "  </tbody>\n",
       "</table>\n",
       "</div>"
      ],
      "text/plain": [
       "    LocationId                       LocationName  \\\n",
       "20        5976  East Fitness (Strength Equipment)   \n",
       "20        5976  East Fitness (Strength Equipment)   \n",
       "20        5976  East Fitness (Strength Equipment)   \n",
       "20        5976  East Fitness (Strength Equipment)   \n",
       "20        5976  East Fitness (Strength Equipment)   \n",
       "20        5976  East Fitness (Strength Equipment)   \n",
       "20        5976  East Fitness (Strength Equipment)   \n",
       "20        5976  East Fitness (Strength Equipment)   \n",
       "20        5976  East Fitness (Strength Equipment)   \n",
       "20        5976  East Fitness (Strength Equipment)   \n",
       "20        5976  East Fitness (Strength Equipment)   \n",
       "20        5976  East Fitness (Strength Equipment)   \n",
       "20        5976  East Fitness (Strength Equipment)   \n",
       "20        5976  East Fitness (Strength Equipment)   \n",
       "20        5976  East Fitness (Strength Equipment)   \n",
       "20        5976  East Fitness (Strength Equipment)   \n",
       "20        5976  East Fitness (Strength Equipment)   \n",
       "20        5976  East Fitness (Strength Equipment)   \n",
       "20        5976  East Fitness (Strength Equipment)   \n",
       "20        5976  East Fitness (Strength Equipment)   \n",
       "\n",
       "             LastUpdatedDateAndTime  LastCount  IsClosed  time_retrived  \\\n",
       "20 2021-11-17 06:04:11.163000-05:00         12     False   1.637147e+09   \n",
       "20 2021-11-24 06:04:27.623000-05:00          5     False   1.637752e+09   \n",
       "20 2021-11-24 06:04:27.623000-05:00          5     False   1.637756e+09   \n",
       "20 2021-11-29 06:11:40.363000-05:00         25     False   1.638188e+09   \n",
       "20 2021-11-22 06:11:59.950000-05:00         14     False   1.637583e+09   \n",
       "20 2021-11-19 06:13:27.153000-05:00         11     False   1.637324e+09   \n",
       "20 2021-11-18 06:14:19.553000-05:00         29     False   1.637237e+09   \n",
       "20 2021-11-23 06:22:28.177000-05:00         15     False   1.637669e+09   \n",
       "20 2021-11-17 07:03:23.547000-05:00         35     False   1.637151e+09   \n",
       "20 2021-11-19 07:09:55.650000-05:00         33     False   1.637327e+09   \n",
       "20 2021-11-24 07:12:46.927000-05:00          7     False   1.637759e+09   \n",
       "20 2021-11-18 07:13:51.537000-05:00         40     False   1.637241e+09   \n",
       "20 2021-11-23 07:14:14.173000-05:00         21     False   1.637673e+09   \n",
       "20 2021-11-22 07:15:24.650000-05:00         23     False   1.637586e+09   \n",
       "20 2021-11-29 07:16:11.080000-05:00         39     False   1.638191e+09   \n",
       "20 2021-11-17 08:00:25.517000-05:00         26     False   1.637154e+09   \n",
       "20 2021-11-20 08:04:46.060000-05:00          0     False   1.637414e+09   \n",
       "20 2021-11-18 08:18:13.417000-05:00         33     False   1.637244e+09   \n",
       "20 2021-11-29 08:20:25.933000-05:00         31     False   1.638195e+09   \n",
       "20 2021-11-24 08:52:33.837000-05:00          8     False   1.637763e+09   \n",
       "\n",
       "               hour    weekday             time  \n",
       "20  06:04:11.163000  Wednesday  06:04:11.163000  \n",
       "20  06:04:27.623000  Wednesday  06:04:27.623000  \n",
       "20  06:04:27.623000  Wednesday  06:04:27.623000  \n",
       "20  06:11:40.363000     Monday  06:11:40.363000  \n",
       "20  06:11:59.950000     Monday  06:11:59.950000  \n",
       "20  06:13:27.153000     Friday  06:13:27.153000  \n",
       "20  06:14:19.553000   Thursday  06:14:19.553000  \n",
       "20  06:22:28.177000    Tuesday  06:22:28.177000  \n",
       "20  07:03:23.547000  Wednesday  07:03:23.547000  \n",
       "20  07:09:55.650000     Friday  07:09:55.650000  \n",
       "20  07:12:46.927000  Wednesday  07:12:46.927000  \n",
       "20  07:13:51.537000   Thursday  07:13:51.537000  \n",
       "20  07:14:14.173000    Tuesday  07:14:14.173000  \n",
       "20  07:15:24.650000     Monday  07:15:24.650000  \n",
       "20  07:16:11.080000     Monday  07:16:11.080000  \n",
       "20  08:00:25.517000  Wednesday  08:00:25.517000  \n",
       "20  08:04:46.060000   Saturday  08:04:46.060000  \n",
       "20  08:18:13.417000   Thursday  08:18:13.417000  \n",
       "20  08:20:25.933000     Monday  08:20:25.933000  \n",
       "20  08:52:33.837000  Wednesday  08:52:33.837000  "
      ]
     },
     "execution_count": 94,
     "metadata": {},
     "output_type": "execute_result"
    }
   ],
   "source": [
    "new_east['weekday'] = new_east.LastUpdatedDateAndTime.dt.day_name()\n",
    "\n",
    "time_sorted = new_east.sort_values(by='time')\n",
    "time_sorted.head(n=20)"
   ]
  },
  {
   "cell_type": "code",
   "execution_count": 95,
   "id": "e9e35f49",
   "metadata": {},
   "outputs": [
    {
     "data": {
      "application/vnd.plotly.v1+json": {
       "config": {
        "plotlyServerURL": "https://plot.ly"
       },
       "data": [
        {
         "hovertemplate": "weekday=Wednesday<br>LastUpdatedDateAndTime=%{x}<br>LastCount=%{y}<extra></extra>",
         "legendgroup": "Wednesday",
         "marker": {
          "color": "#636efa",
          "symbol": "circle"
         },
         "mode": "markers",
         "name": "Wednesday",
         "orientation": "v",
         "showlegend": true,
         "type": "scatter",
         "x": [
          "2021-11-17T06:04:11.163000-05:00",
          "2021-11-24T06:04:27.623000-05:00",
          "2021-11-24T06:04:27.623000-05:00",
          "2021-11-17T07:03:23.547000-05:00",
          "2021-11-24T07:12:46.927000-05:00",
          "2021-11-17T08:00:25.517000-05:00",
          "2021-11-24T08:52:33.837000-05:00",
          "2021-11-17T08:54:47.947000-05:00",
          "2021-11-24T09:42:34.367000-05:00",
          "2021-11-17T09:58:57.407000-05:00",
          "2021-11-17T09:58:57.407000-05:00",
          "2021-11-24T10:40:04.360000-05:00",
          "2021-11-17T11:05:11.170000-05:00",
          "2021-11-24T11:44:11.753000-05:00",
          "2021-11-24T11:44:11.753000-05:00",
          "2021-11-17T12:08:28.557000-05:00",
          "2021-11-17T13:10:23.213000-05:00",
          "2021-11-24T13:27:01.130000-05:00",
          "2021-11-24T14:26:39.887000-05:00",
          "2021-11-17T14:35:38.333000-05:00",
          "2021-11-17T15:16:44.697000-05:00",
          "2021-11-24T15:32:20.480000-05:00",
          "2021-11-24T15:32:20.480000-05:00",
          "2021-11-17T16:06:27.913000-05:00",
          "2021-11-24T17:05:49.800000-05:00",
          "2021-11-17T17:33:47.890000-05:00",
          "2021-11-24T18:40:13.863000-05:00",
          "2021-11-24T18:40:13.863000-05:00",
          "2021-11-24T18:40:13.863000-05:00",
          "2021-11-24T18:40:13.863000-05:00",
          "2021-11-24T18:40:13.863000-05:00",
          "2021-11-24T18:40:13.863000-05:00",
          "2021-11-24T18:40:13.863000-05:00",
          "2021-11-24T18:40:13.863000-05:00",
          "2021-11-24T18:40:13.863000-05:00",
          "2021-11-24T18:40:13.863000-05:00",
          "2021-11-24T18:40:13.863000-05:00",
          "2021-11-24T18:40:13.863000-05:00",
          "2021-11-24T18:40:13.863000-05:00",
          "2021-11-24T18:40:13.863000-05:00",
          "2021-11-24T18:40:13.863000-05:00",
          "2021-11-24T18:40:13.863000-05:00",
          "2021-11-24T18:40:13.863000-05:00",
          "2021-11-24T18:40:13.863000-05:00",
          "2021-11-24T18:40:13.863000-05:00",
          "2021-11-24T18:40:13.863000-05:00",
          "2021-11-24T18:40:13.863000-05:00",
          "2021-11-24T18:40:13.863000-05:00",
          "2021-11-24T18:40:13.863000-05:00",
          "2021-11-24T18:40:13.863000-05:00",
          "2021-11-24T18:40:13.863000-05:00",
          "2021-11-24T18:40:13.863000-05:00",
          "2021-11-24T18:40:13.863000-05:00",
          "2021-11-24T18:40:13.863000-05:00",
          "2021-11-24T18:40:13.863000-05:00",
          "2021-11-24T18:40:13.863000-05:00",
          "2021-11-24T18:40:13.863000-05:00",
          "2021-11-24T18:40:13.863000-05:00",
          "2021-11-24T18:40:13.863000-05:00",
          "2021-11-24T18:40:13.863000-05:00",
          "2021-11-24T18:40:13.863000-05:00",
          "2021-11-24T18:40:13.863000-05:00",
          "2021-11-24T18:40:13.863000-05:00",
          "2021-11-24T18:40:13.863000-05:00",
          "2021-11-24T18:40:13.863000-05:00",
          "2021-11-24T18:40:13.863000-05:00",
          "2021-11-24T18:40:13.863000-05:00",
          "2021-11-24T18:40:13.863000-05:00",
          "2021-11-24T18:40:13.863000-05:00",
          "2021-11-24T18:40:13.863000-05:00",
          "2021-11-24T18:40:13.863000-05:00",
          "2021-11-24T18:40:13.863000-05:00",
          "2021-11-24T18:40:13.863000-05:00",
          "2021-11-24T18:40:13.863000-05:00",
          "2021-11-24T18:40:13.863000-05:00",
          "2021-11-24T18:40:13.863000-05:00",
          "2021-11-24T18:40:13.863000-05:00",
          "2021-11-24T18:40:13.863000-05:00",
          "2021-11-24T18:40:13.863000-05:00",
          "2021-11-24T18:40:13.863000-05:00",
          "2021-11-24T18:40:13.863000-05:00",
          "2021-11-24T18:40:13.863000-05:00",
          "2021-11-24T18:40:13.863000-05:00",
          "2021-11-24T18:40:13.863000-05:00",
          "2021-11-24T18:40:13.863000-05:00",
          "2021-11-24T18:40:13.863000-05:00",
          "2021-11-24T18:40:13.863000-05:00",
          "2021-11-24T18:40:13.863000-05:00",
          "2021-11-24T18:40:13.863000-05:00",
          "2021-11-24T18:40:13.863000-05:00",
          "2021-11-24T18:40:13.863000-05:00",
          "2021-11-24T18:40:13.863000-05:00",
          "2021-11-24T18:40:13.863000-05:00",
          "2021-11-24T18:40:13.863000-05:00",
          "2021-11-24T18:40:13.863000-05:00",
          "2021-11-24T18:40:13.863000-05:00",
          "2021-11-24T18:40:13.863000-05:00",
          "2021-11-24T18:40:13.863000-05:00",
          "2021-11-17T18:41:37.433000-05:00",
          "2021-11-17T19:51:37.077000-05:00",
          "2021-11-17T20:20:49.583000-05:00",
          "2021-11-17T21:33:39.110000-05:00",
          "2021-11-17T22:32:27.623000-05:00",
          "2021-11-17T23:20:09.833000-05:00",
          "2021-11-17T23:20:09.833000-05:00",
          "2021-11-17T23:20:09.833000-05:00"
         ],
         "xaxis": "x",
         "y": [
          12,
          5,
          5,
          35,
          7,
          26,
          8,
          43,
          8,
          34,
          34,
          10,
          38,
          9,
          9,
          33,
          25,
          13,
          22,
          50,
          55,
          27,
          27,
          77,
          29,
          66,
          0,
          0,
          0,
          0,
          0,
          0,
          0,
          0,
          0,
          0,
          0,
          0,
          0,
          0,
          0,
          0,
          0,
          0,
          0,
          0,
          0,
          0,
          0,
          0,
          0,
          0,
          0,
          0,
          0,
          0,
          0,
          0,
          0,
          0,
          0,
          0,
          0,
          0,
          0,
          0,
          0,
          0,
          0,
          0,
          0,
          0,
          0,
          0,
          0,
          0,
          0,
          0,
          0,
          0,
          0,
          0,
          0,
          0,
          0,
          0,
          0,
          0,
          0,
          0,
          0,
          0,
          0,
          0,
          0,
          0,
          0,
          0,
          67,
          66,
          68,
          69,
          46,
          55,
          55,
          55
         ],
         "yaxis": "y"
        },
        {
         "hovertemplate": "weekday=Monday<br>LastUpdatedDateAndTime=%{x}<br>LastCount=%{y}<extra></extra>",
         "legendgroup": "Monday",
         "marker": {
          "color": "#EF553B",
          "symbol": "circle"
         },
         "mode": "markers",
         "name": "Monday",
         "orientation": "v",
         "showlegend": true,
         "type": "scatter",
         "x": [
          "2021-11-29T06:11:40.363000-05:00",
          "2021-11-22T06:11:59.950000-05:00",
          "2021-11-22T07:15:24.650000-05:00",
          "2021-11-29T07:16:11.080000-05:00",
          "2021-11-29T08:20:25.933000-05:00",
          "2021-11-22T08:59:51-05:00",
          "2021-11-29T09:25:03.150000-05:00",
          "2021-11-22T10:04:09.600000-05:00",
          "2021-11-22T10:04:09.600000-05:00",
          "2021-11-22T11:12:28.693000-05:00",
          "2021-11-22T12:11:18.200000-05:00",
          "2021-11-22T13:40:39.467000-05:00",
          "2021-11-22T14:17:11.100000-05:00",
          "2021-11-22T15:26:56.397000-05:00",
          "2021-11-22T16:19:20.040000-05:00",
          "2021-11-22T17:36:03.530000-05:00",
          "2021-11-22T18:51:39.503000-05:00",
          "2021-11-22T19:36:52.897000-05:00",
          "2021-11-22T20:40:31.177000-05:00",
          "2021-11-22T21:32:01.920000-05:00",
          "2021-11-22T23:02:56.963000-05:00",
          "2021-11-22T23:02:56.963000-05:00",
          "2021-11-22T23:02:56.963000-05:00",
          "2021-11-22T23:02:56.963000-05:00"
         ],
         "xaxis": "x",
         "y": [
          25,
          14,
          23,
          39,
          31,
          20,
          29,
          25,
          25,
          30,
          34,
          26,
          35,
          35,
          39,
          44,
          49,
          24,
          28,
          23,
          17,
          17,
          17,
          17
         ],
         "yaxis": "y"
        },
        {
         "hovertemplate": "weekday=Friday<br>LastUpdatedDateAndTime=%{x}<br>LastCount=%{y}<extra></extra>",
         "legendgroup": "Friday",
         "marker": {
          "color": "#00cc96",
          "symbol": "circle"
         },
         "mode": "markers",
         "name": "Friday",
         "orientation": "v",
         "showlegend": true,
         "type": "scatter",
         "x": [
          "2021-11-19T06:13:27.153000-05:00",
          "2021-11-19T07:09:55.650000-05:00",
          "2021-11-19T09:03:33.730000-05:00",
          "2021-11-19T09:03:33.730000-05:00",
          "2021-11-19T10:06:01.720000-05:00",
          "2021-11-19T11:26:35.127000-05:00",
          "2021-11-19T12:34:58.383000-05:00",
          "2021-11-19T13:12:01.200000-05:00",
          "2021-11-19T13:12:01.200000-05:00",
          "2021-11-19T13:12:01.200000-05:00",
          "2021-11-19T16:11:51.653000-05:00",
          "2021-11-19T17:36:40.337000-05:00",
          "2021-11-19T18:41:37.743000-05:00",
          "2021-11-19T18:41:37.743000-05:00",
          "2021-11-19T20:27:42.410000-05:00",
          "2021-11-19T21:24:21-05:00",
          "2021-11-19T22:16:34.250000-05:00",
          "2021-11-19T23:18:57.043000-05:00",
          "2021-11-19T23:18:57.043000-05:00",
          "2021-11-19T23:18:57.043000-05:00",
          "2021-11-19T23:18:57.043000-05:00"
         ],
         "xaxis": "x",
         "y": [
          11,
          33,
          31,
          31,
          25,
          43,
          39,
          46,
          46,
          46,
          54,
          54,
          47,
          47,
          44,
          40,
          38,
          26,
          26,
          26,
          26
         ],
         "yaxis": "y"
        },
        {
         "hovertemplate": "weekday=Thursday<br>LastUpdatedDateAndTime=%{x}<br>LastCount=%{y}<extra></extra>",
         "legendgroup": "Thursday",
         "marker": {
          "color": "#ab63fa",
          "symbol": "circle"
         },
         "mode": "markers",
         "name": "Thursday",
         "orientation": "v",
         "showlegend": true,
         "type": "scatter",
         "x": [
          "2021-11-18T06:14:19.553000-05:00",
          "2021-11-18T07:13:51.537000-05:00",
          "2021-11-18T08:18:13.417000-05:00",
          "2021-11-18T09:37:27.383000-05:00",
          "2021-11-18T10:39:12.053000-05:00",
          "2021-11-18T11:22:32.983000-05:00",
          "2021-11-18T12:21:37.427000-05:00",
          "2021-11-18T13:12:57.210000-05:00",
          "2021-11-18T14:23:34.533000-05:00",
          "2021-11-18T15:20:02.707000-05:00",
          "2021-11-18T16:21:25.127000-05:00",
          "2021-11-18T17:14:30.367000-05:00",
          "2021-11-18T17:14:30.367000-05:00",
          "2021-11-18T19:09:40.260000-05:00",
          "2021-11-18T20:26:44.587000-05:00",
          "2021-11-18T20:26:44.587000-05:00",
          "2021-11-18T22:20:17.140000-05:00",
          "2021-11-18T22:20:17.140000-05:00",
          "2021-11-18T22:20:17.140000-05:00",
          "2021-11-18T22:20:17.140000-05:00"
         ],
         "xaxis": "x",
         "y": [
          29,
          40,
          33,
          26,
          20,
          43,
          31,
          25,
          39,
          59,
          51,
          55,
          55,
          56,
          45,
          45,
          50,
          50,
          50,
          50
         ],
         "yaxis": "y"
        },
        {
         "hovertemplate": "weekday=Tuesday<br>LastUpdatedDateAndTime=%{x}<br>LastCount=%{y}<extra></extra>",
         "legendgroup": "Tuesday",
         "marker": {
          "color": "#FFA15A",
          "symbol": "circle"
         },
         "mode": "markers",
         "name": "Tuesday",
         "orientation": "v",
         "showlegend": true,
         "type": "scatter",
         "x": [
          "2021-11-23T06:22:28.177000-05:00",
          "2021-11-23T07:14:14.173000-05:00",
          "2021-11-23T09:00:34.400000-05:00",
          "2021-11-23T09:00:34.400000-05:00",
          "2021-11-23T10:12:12-05:00",
          "2021-11-23T11:19:47.637000-05:00",
          "2021-11-23T12:12:21.920000-05:00",
          "2021-11-23T13:14:50.263000-05:00",
          "2021-11-23T14:09:39.517000-05:00",
          "2021-11-23T15:14:13.007000-05:00",
          "2021-11-23T16:13:24.037000-05:00",
          "2021-11-23T17:07:39.900000-05:00",
          "2021-11-23T17:07:39.900000-05:00",
          "2021-11-23T17:07:39.900000-05:00",
          "2021-11-23T17:07:39.900000-05:00",
          "2021-11-23T17:07:39.900000-05:00",
          "2021-11-23T17:07:39.900000-05:00",
          "2021-11-23T17:07:39.900000-05:00",
          "2021-11-23T17:07:39.900000-05:00",
          "2021-11-16T18:25:57.337000-05:00",
          "2021-11-16T19:29:05.650000-05:00",
          "2021-11-16T20:08:19.737000-05:00",
          "2021-11-16T21:27:25.757000-05:00",
          "2021-11-16T23:02:18.377000-05:00",
          "2021-11-16T23:02:18.377000-05:00",
          "2021-11-16T23:02:18.377000-05:00"
         ],
         "xaxis": "x",
         "y": [
          15,
          21,
          14,
          14,
          18,
          24,
          13,
          24,
          23,
          20,
          40,
          37,
          37,
          37,
          37,
          37,
          37,
          37,
          37,
          57,
          53,
          47,
          29,
          52,
          52,
          52
         ],
         "yaxis": "y"
        },
        {
         "hovertemplate": "weekday=Saturday<br>LastUpdatedDateAndTime=%{x}<br>LastCount=%{y}<extra></extra>",
         "legendgroup": "Saturday",
         "marker": {
          "color": "#19d3f3",
          "symbol": "circle"
         },
         "mode": "markers",
         "name": "Saturday",
         "orientation": "v",
         "showlegend": true,
         "type": "scatter",
         "x": [
          "2021-11-20T08:04:46.060000-05:00",
          "2021-11-20T09:04:17-05:00",
          "2021-11-20T10:04:50.480000-05:00",
          "2021-11-20T11:02:48.830000-05:00",
          "2021-11-20T11:02:48.830000-05:00",
          "2021-11-20T11:02:48.830000-05:00",
          "2021-11-20T13:31:03.023000-05:00",
          "2021-11-20T14:25:32.360000-05:00",
          "2021-11-20T15:17:29-05:00",
          "2021-11-20T16:18:07.637000-05:00",
          "2021-11-20T17:39:51.140000-05:00",
          "2021-11-20T18:06:56.833000-05:00",
          "2021-11-20T19:29:20.593000-05:00",
          "2021-11-20T20:13:47.303000-05:00",
          "2021-11-20T21:13:29.893000-05:00",
          "2021-11-20T22:06:14.123000-05:00",
          "2021-11-20T22:06:14.123000-05:00",
          "2021-11-20T22:06:14.123000-05:00",
          "2021-11-20T22:06:14.123000-05:00",
          "2021-11-20T22:06:14.123000-05:00",
          "2021-11-20T22:06:14.123000-05:00",
          "2021-11-20T22:06:14.123000-05:00",
          "2021-11-20T22:06:14.123000-05:00",
          "2021-11-20T22:06:14.123000-05:00"
         ],
         "xaxis": "x",
         "y": [
          0,
          24,
          16,
          28,
          28,
          28,
          27,
          27,
          39,
          35,
          40,
          24,
          23,
          26,
          20,
          28,
          28,
          28,
          28,
          28,
          28,
          28,
          28,
          28
         ],
         "yaxis": "y"
        },
        {
         "hovertemplate": "weekday=Sunday<br>LastUpdatedDateAndTime=%{x}<br>LastCount=%{y}<extra></extra>",
         "legendgroup": "Sunday",
         "marker": {
          "color": "#FF6692",
          "symbol": "circle"
         },
         "mode": "markers",
         "name": "Sunday",
         "orientation": "v",
         "showlegend": true,
         "type": "scatter",
         "x": [
          "2021-11-28T10:49:46.833000-05:00",
          "2021-11-21T11:33:41.193000-05:00",
          "2021-11-28T11:49:29.553000-05:00",
          "2021-11-28T12:24:56.143000-05:00",
          "2021-11-21T12:30:16.937000-05:00",
          "2021-11-21T13:22:29-05:00",
          "2021-11-28T13:44:37.523000-05:00",
          "2021-11-21T14:46:44.520000-05:00",
          "2021-11-28T14:47:12.917000-05:00",
          "2021-11-28T15:08:53.750000-05:00",
          "2021-11-21T15:44:48.083000-05:00",
          "2021-11-28T16:31:55.347000-05:00",
          "2021-11-21T16:48:08.310000-05:00",
          "2021-11-21T16:48:08.310000-05:00",
          "2021-11-28T17:21:12.917000-05:00",
          "2021-11-21T18:34:41.130000-05:00",
          "2021-11-21T18:34:41.130000-05:00",
          "2021-11-28T18:36:01.023000-05:00",
          "2021-11-28T19:30:51.933000-05:00",
          "2021-11-21T19:34:47-05:00",
          "2021-11-21T19:34:47-05:00",
          "2021-11-28T20:40:13.700000-05:00",
          "2021-11-28T21:36:58.030000-05:00",
          "2021-11-21T22:20:05.817000-05:00",
          "2021-11-21T22:20:05.817000-05:00",
          "2021-11-21T22:20:05.817000-05:00",
          "2021-11-21T22:20:05.817000-05:00",
          "2021-11-28T22:23:30.977000-05:00",
          "2021-11-28T22:23:30.977000-05:00",
          "2021-11-28T22:23:30.977000-05:00",
          "2021-11-28T22:23:30.977000-05:00"
         ],
         "xaxis": "x",
         "y": [
          22,
          21,
          20,
          24,
          15,
          26,
          25,
          21,
          28,
          31,
          28,
          33,
          48,
          48,
          32,
          32,
          32,
          48,
          52,
          41,
          41,
          21,
          24,
          25,
          25,
          25,
          25,
          33,
          33,
          33,
          33
         ],
         "yaxis": "y"
        }
       ],
       "layout": {
        "legend": {
         "title": {
          "text": "weekday"
         },
         "tracegroupgap": 0
        },
        "margin": {
         "t": 60
        },
        "template": {
         "data": {
          "bar": [
           {
            "error_x": {
             "color": "#2a3f5f"
            },
            "error_y": {
             "color": "#2a3f5f"
            },
            "marker": {
             "line": {
              "color": "#E5ECF6",
              "width": 0.5
             },
             "pattern": {
              "fillmode": "overlay",
              "size": 10,
              "solidity": 0.2
             }
            },
            "type": "bar"
           }
          ],
          "barpolar": [
           {
            "marker": {
             "line": {
              "color": "#E5ECF6",
              "width": 0.5
             },
             "pattern": {
              "fillmode": "overlay",
              "size": 10,
              "solidity": 0.2
             }
            },
            "type": "barpolar"
           }
          ],
          "carpet": [
           {
            "aaxis": {
             "endlinecolor": "#2a3f5f",
             "gridcolor": "white",
             "linecolor": "white",
             "minorgridcolor": "white",
             "startlinecolor": "#2a3f5f"
            },
            "baxis": {
             "endlinecolor": "#2a3f5f",
             "gridcolor": "white",
             "linecolor": "white",
             "minorgridcolor": "white",
             "startlinecolor": "#2a3f5f"
            },
            "type": "carpet"
           }
          ],
          "choropleth": [
           {
            "colorbar": {
             "outlinewidth": 0,
             "ticks": ""
            },
            "type": "choropleth"
           }
          ],
          "contour": [
           {
            "colorbar": {
             "outlinewidth": 0,
             "ticks": ""
            },
            "colorscale": [
             [
              0,
              "#0d0887"
             ],
             [
              0.1111111111111111,
              "#46039f"
             ],
             [
              0.2222222222222222,
              "#7201a8"
             ],
             [
              0.3333333333333333,
              "#9c179e"
             ],
             [
              0.4444444444444444,
              "#bd3786"
             ],
             [
              0.5555555555555556,
              "#d8576b"
             ],
             [
              0.6666666666666666,
              "#ed7953"
             ],
             [
              0.7777777777777778,
              "#fb9f3a"
             ],
             [
              0.8888888888888888,
              "#fdca26"
             ],
             [
              1,
              "#f0f921"
             ]
            ],
            "type": "contour"
           }
          ],
          "contourcarpet": [
           {
            "colorbar": {
             "outlinewidth": 0,
             "ticks": ""
            },
            "type": "contourcarpet"
           }
          ],
          "heatmap": [
           {
            "colorbar": {
             "outlinewidth": 0,
             "ticks": ""
            },
            "colorscale": [
             [
              0,
              "#0d0887"
             ],
             [
              0.1111111111111111,
              "#46039f"
             ],
             [
              0.2222222222222222,
              "#7201a8"
             ],
             [
              0.3333333333333333,
              "#9c179e"
             ],
             [
              0.4444444444444444,
              "#bd3786"
             ],
             [
              0.5555555555555556,
              "#d8576b"
             ],
             [
              0.6666666666666666,
              "#ed7953"
             ],
             [
              0.7777777777777778,
              "#fb9f3a"
             ],
             [
              0.8888888888888888,
              "#fdca26"
             ],
             [
              1,
              "#f0f921"
             ]
            ],
            "type": "heatmap"
           }
          ],
          "heatmapgl": [
           {
            "colorbar": {
             "outlinewidth": 0,
             "ticks": ""
            },
            "colorscale": [
             [
              0,
              "#0d0887"
             ],
             [
              0.1111111111111111,
              "#46039f"
             ],
             [
              0.2222222222222222,
              "#7201a8"
             ],
             [
              0.3333333333333333,
              "#9c179e"
             ],
             [
              0.4444444444444444,
              "#bd3786"
             ],
             [
              0.5555555555555556,
              "#d8576b"
             ],
             [
              0.6666666666666666,
              "#ed7953"
             ],
             [
              0.7777777777777778,
              "#fb9f3a"
             ],
             [
              0.8888888888888888,
              "#fdca26"
             ],
             [
              1,
              "#f0f921"
             ]
            ],
            "type": "heatmapgl"
           }
          ],
          "histogram": [
           {
            "marker": {
             "pattern": {
              "fillmode": "overlay",
              "size": 10,
              "solidity": 0.2
             }
            },
            "type": "histogram"
           }
          ],
          "histogram2d": [
           {
            "colorbar": {
             "outlinewidth": 0,
             "ticks": ""
            },
            "colorscale": [
             [
              0,
              "#0d0887"
             ],
             [
              0.1111111111111111,
              "#46039f"
             ],
             [
              0.2222222222222222,
              "#7201a8"
             ],
             [
              0.3333333333333333,
              "#9c179e"
             ],
             [
              0.4444444444444444,
              "#bd3786"
             ],
             [
              0.5555555555555556,
              "#d8576b"
             ],
             [
              0.6666666666666666,
              "#ed7953"
             ],
             [
              0.7777777777777778,
              "#fb9f3a"
             ],
             [
              0.8888888888888888,
              "#fdca26"
             ],
             [
              1,
              "#f0f921"
             ]
            ],
            "type": "histogram2d"
           }
          ],
          "histogram2dcontour": [
           {
            "colorbar": {
             "outlinewidth": 0,
             "ticks": ""
            },
            "colorscale": [
             [
              0,
              "#0d0887"
             ],
             [
              0.1111111111111111,
              "#46039f"
             ],
             [
              0.2222222222222222,
              "#7201a8"
             ],
             [
              0.3333333333333333,
              "#9c179e"
             ],
             [
              0.4444444444444444,
              "#bd3786"
             ],
             [
              0.5555555555555556,
              "#d8576b"
             ],
             [
              0.6666666666666666,
              "#ed7953"
             ],
             [
              0.7777777777777778,
              "#fb9f3a"
             ],
             [
              0.8888888888888888,
              "#fdca26"
             ],
             [
              1,
              "#f0f921"
             ]
            ],
            "type": "histogram2dcontour"
           }
          ],
          "mesh3d": [
           {
            "colorbar": {
             "outlinewidth": 0,
             "ticks": ""
            },
            "type": "mesh3d"
           }
          ],
          "parcoords": [
           {
            "line": {
             "colorbar": {
              "outlinewidth": 0,
              "ticks": ""
             }
            },
            "type": "parcoords"
           }
          ],
          "pie": [
           {
            "automargin": true,
            "type": "pie"
           }
          ],
          "scatter": [
           {
            "marker": {
             "colorbar": {
              "outlinewidth": 0,
              "ticks": ""
             }
            },
            "type": "scatter"
           }
          ],
          "scatter3d": [
           {
            "line": {
             "colorbar": {
              "outlinewidth": 0,
              "ticks": ""
             }
            },
            "marker": {
             "colorbar": {
              "outlinewidth": 0,
              "ticks": ""
             }
            },
            "type": "scatter3d"
           }
          ],
          "scattercarpet": [
           {
            "marker": {
             "colorbar": {
              "outlinewidth": 0,
              "ticks": ""
             }
            },
            "type": "scattercarpet"
           }
          ],
          "scattergeo": [
           {
            "marker": {
             "colorbar": {
              "outlinewidth": 0,
              "ticks": ""
             }
            },
            "type": "scattergeo"
           }
          ],
          "scattergl": [
           {
            "marker": {
             "colorbar": {
              "outlinewidth": 0,
              "ticks": ""
             }
            },
            "type": "scattergl"
           }
          ],
          "scattermapbox": [
           {
            "marker": {
             "colorbar": {
              "outlinewidth": 0,
              "ticks": ""
             }
            },
            "type": "scattermapbox"
           }
          ],
          "scatterpolar": [
           {
            "marker": {
             "colorbar": {
              "outlinewidth": 0,
              "ticks": ""
             }
            },
            "type": "scatterpolar"
           }
          ],
          "scatterpolargl": [
           {
            "marker": {
             "colorbar": {
              "outlinewidth": 0,
              "ticks": ""
             }
            },
            "type": "scatterpolargl"
           }
          ],
          "scatterternary": [
           {
            "marker": {
             "colorbar": {
              "outlinewidth": 0,
              "ticks": ""
             }
            },
            "type": "scatterternary"
           }
          ],
          "surface": [
           {
            "colorbar": {
             "outlinewidth": 0,
             "ticks": ""
            },
            "colorscale": [
             [
              0,
              "#0d0887"
             ],
             [
              0.1111111111111111,
              "#46039f"
             ],
             [
              0.2222222222222222,
              "#7201a8"
             ],
             [
              0.3333333333333333,
              "#9c179e"
             ],
             [
              0.4444444444444444,
              "#bd3786"
             ],
             [
              0.5555555555555556,
              "#d8576b"
             ],
             [
              0.6666666666666666,
              "#ed7953"
             ],
             [
              0.7777777777777778,
              "#fb9f3a"
             ],
             [
              0.8888888888888888,
              "#fdca26"
             ],
             [
              1,
              "#f0f921"
             ]
            ],
            "type": "surface"
           }
          ],
          "table": [
           {
            "cells": {
             "fill": {
              "color": "#EBF0F8"
             },
             "line": {
              "color": "white"
             }
            },
            "header": {
             "fill": {
              "color": "#C8D4E3"
             },
             "line": {
              "color": "white"
             }
            },
            "type": "table"
           }
          ]
         },
         "layout": {
          "annotationdefaults": {
           "arrowcolor": "#2a3f5f",
           "arrowhead": 0,
           "arrowwidth": 1
          },
          "autotypenumbers": "strict",
          "coloraxis": {
           "colorbar": {
            "outlinewidth": 0,
            "ticks": ""
           }
          },
          "colorscale": {
           "diverging": [
            [
             0,
             "#8e0152"
            ],
            [
             0.1,
             "#c51b7d"
            ],
            [
             0.2,
             "#de77ae"
            ],
            [
             0.3,
             "#f1b6da"
            ],
            [
             0.4,
             "#fde0ef"
            ],
            [
             0.5,
             "#f7f7f7"
            ],
            [
             0.6,
             "#e6f5d0"
            ],
            [
             0.7,
             "#b8e186"
            ],
            [
             0.8,
             "#7fbc41"
            ],
            [
             0.9,
             "#4d9221"
            ],
            [
             1,
             "#276419"
            ]
           ],
           "sequential": [
            [
             0,
             "#0d0887"
            ],
            [
             0.1111111111111111,
             "#46039f"
            ],
            [
             0.2222222222222222,
             "#7201a8"
            ],
            [
             0.3333333333333333,
             "#9c179e"
            ],
            [
             0.4444444444444444,
             "#bd3786"
            ],
            [
             0.5555555555555556,
             "#d8576b"
            ],
            [
             0.6666666666666666,
             "#ed7953"
            ],
            [
             0.7777777777777778,
             "#fb9f3a"
            ],
            [
             0.8888888888888888,
             "#fdca26"
            ],
            [
             1,
             "#f0f921"
            ]
           ],
           "sequentialminus": [
            [
             0,
             "#0d0887"
            ],
            [
             0.1111111111111111,
             "#46039f"
            ],
            [
             0.2222222222222222,
             "#7201a8"
            ],
            [
             0.3333333333333333,
             "#9c179e"
            ],
            [
             0.4444444444444444,
             "#bd3786"
            ],
            [
             0.5555555555555556,
             "#d8576b"
            ],
            [
             0.6666666666666666,
             "#ed7953"
            ],
            [
             0.7777777777777778,
             "#fb9f3a"
            ],
            [
             0.8888888888888888,
             "#fdca26"
            ],
            [
             1,
             "#f0f921"
            ]
           ]
          },
          "colorway": [
           "#636efa",
           "#EF553B",
           "#00cc96",
           "#ab63fa",
           "#FFA15A",
           "#19d3f3",
           "#FF6692",
           "#B6E880",
           "#FF97FF",
           "#FECB52"
          ],
          "font": {
           "color": "#2a3f5f"
          },
          "geo": {
           "bgcolor": "white",
           "lakecolor": "white",
           "landcolor": "#E5ECF6",
           "showlakes": true,
           "showland": true,
           "subunitcolor": "white"
          },
          "hoverlabel": {
           "align": "left"
          },
          "hovermode": "closest",
          "mapbox": {
           "style": "light"
          },
          "paper_bgcolor": "white",
          "plot_bgcolor": "#E5ECF6",
          "polar": {
           "angularaxis": {
            "gridcolor": "white",
            "linecolor": "white",
            "ticks": ""
           },
           "bgcolor": "#E5ECF6",
           "radialaxis": {
            "gridcolor": "white",
            "linecolor": "white",
            "ticks": ""
           }
          },
          "scene": {
           "xaxis": {
            "backgroundcolor": "#E5ECF6",
            "gridcolor": "white",
            "gridwidth": 2,
            "linecolor": "white",
            "showbackground": true,
            "ticks": "",
            "zerolinecolor": "white"
           },
           "yaxis": {
            "backgroundcolor": "#E5ECF6",
            "gridcolor": "white",
            "gridwidth": 2,
            "linecolor": "white",
            "showbackground": true,
            "ticks": "",
            "zerolinecolor": "white"
           },
           "zaxis": {
            "backgroundcolor": "#E5ECF6",
            "gridcolor": "white",
            "gridwidth": 2,
            "linecolor": "white",
            "showbackground": true,
            "ticks": "",
            "zerolinecolor": "white"
           }
          },
          "shapedefaults": {
           "line": {
            "color": "#2a3f5f"
           }
          },
          "ternary": {
           "aaxis": {
            "gridcolor": "white",
            "linecolor": "white",
            "ticks": ""
           },
           "baxis": {
            "gridcolor": "white",
            "linecolor": "white",
            "ticks": ""
           },
           "bgcolor": "#E5ECF6",
           "caxis": {
            "gridcolor": "white",
            "linecolor": "white",
            "ticks": ""
           }
          },
          "title": {
           "x": 0.05
          },
          "xaxis": {
           "automargin": true,
           "gridcolor": "white",
           "linecolor": "white",
           "ticks": "",
           "title": {
            "standoff": 15
           },
           "zerolinecolor": "white",
           "zerolinewidth": 2
          },
          "yaxis": {
           "automargin": true,
           "gridcolor": "white",
           "linecolor": "white",
           "ticks": "",
           "title": {
            "standoff": 15
           },
           "zerolinecolor": "white",
           "zerolinewidth": 2
          }
         }
        },
        "xaxis": {
         "anchor": "y",
         "categoryorder": "category ascending",
         "domain": [
          0,
          1
         ],
         "title": {
          "text": "LastUpdatedDateAndTime"
         },
         "type": "category"
        },
        "yaxis": {
         "anchor": "x",
         "domain": [
          0,
          1
         ],
         "title": {
          "text": "LastCount"
         }
        }
       }
      },
      "text/html": [
       "<div>                            <div id=\"e9fbc0ab-9647-457f-87d1-dcfe1356bacd\" class=\"plotly-graph-div\" style=\"height:525px; width:100%;\"></div>            <script type=\"text/javascript\">                require([\"plotly\"], function(Plotly) {                    window.PLOTLYENV=window.PLOTLYENV || {};                                    if (document.getElementById(\"e9fbc0ab-9647-457f-87d1-dcfe1356bacd\")) {                    Plotly.newPlot(                        \"e9fbc0ab-9647-457f-87d1-dcfe1356bacd\",                        [{\"hovertemplate\":\"weekday=Wednesday<br>LastUpdatedDateAndTime=%{x}<br>LastCount=%{y}<extra></extra>\",\"legendgroup\":\"Wednesday\",\"marker\":{\"color\":\"#636efa\",\"symbol\":\"circle\"},\"mode\":\"markers\",\"name\":\"Wednesday\",\"orientation\":\"v\",\"showlegend\":true,\"type\":\"scatter\",\"x\":[\"2021-11-17T06:04:11.163000-05:00\",\"2021-11-24T06:04:27.623000-05:00\",\"2021-11-24T06:04:27.623000-05:00\",\"2021-11-17T07:03:23.547000-05:00\",\"2021-11-24T07:12:46.927000-05:00\",\"2021-11-17T08:00:25.517000-05:00\",\"2021-11-24T08:52:33.837000-05:00\",\"2021-11-17T08:54:47.947000-05:00\",\"2021-11-24T09:42:34.367000-05:00\",\"2021-11-17T09:58:57.407000-05:00\",\"2021-11-17T09:58:57.407000-05:00\",\"2021-11-24T10:40:04.360000-05:00\",\"2021-11-17T11:05:11.170000-05:00\",\"2021-11-24T11:44:11.753000-05:00\",\"2021-11-24T11:44:11.753000-05:00\",\"2021-11-17T12:08:28.557000-05:00\",\"2021-11-17T13:10:23.213000-05:00\",\"2021-11-24T13:27:01.130000-05:00\",\"2021-11-24T14:26:39.887000-05:00\",\"2021-11-17T14:35:38.333000-05:00\",\"2021-11-17T15:16:44.697000-05:00\",\"2021-11-24T15:32:20.480000-05:00\",\"2021-11-24T15:32:20.480000-05:00\",\"2021-11-17T16:06:27.913000-05:00\",\"2021-11-24T17:05:49.800000-05:00\",\"2021-11-17T17:33:47.890000-05:00\",\"2021-11-24T18:40:13.863000-05:00\",\"2021-11-24T18:40:13.863000-05:00\",\"2021-11-24T18:40:13.863000-05:00\",\"2021-11-24T18:40:13.863000-05:00\",\"2021-11-24T18:40:13.863000-05:00\",\"2021-11-24T18:40:13.863000-05:00\",\"2021-11-24T18:40:13.863000-05:00\",\"2021-11-24T18:40:13.863000-05:00\",\"2021-11-24T18:40:13.863000-05:00\",\"2021-11-24T18:40:13.863000-05:00\",\"2021-11-24T18:40:13.863000-05:00\",\"2021-11-24T18:40:13.863000-05:00\",\"2021-11-24T18:40:13.863000-05:00\",\"2021-11-24T18:40:13.863000-05:00\",\"2021-11-24T18:40:13.863000-05:00\",\"2021-11-24T18:40:13.863000-05:00\",\"2021-11-24T18:40:13.863000-05:00\",\"2021-11-24T18:40:13.863000-05:00\",\"2021-11-24T18:40:13.863000-05:00\",\"2021-11-24T18:40:13.863000-05:00\",\"2021-11-24T18:40:13.863000-05:00\",\"2021-11-24T18:40:13.863000-05:00\",\"2021-11-24T18:40:13.863000-05:00\",\"2021-11-24T18:40:13.863000-05:00\",\"2021-11-24T18:40:13.863000-05:00\",\"2021-11-24T18:40:13.863000-05:00\",\"2021-11-24T18:40:13.863000-05:00\",\"2021-11-24T18:40:13.863000-05:00\",\"2021-11-24T18:40:13.863000-05:00\",\"2021-11-24T18:40:13.863000-05:00\",\"2021-11-24T18:40:13.863000-05:00\",\"2021-11-24T18:40:13.863000-05:00\",\"2021-11-24T18:40:13.863000-05:00\",\"2021-11-24T18:40:13.863000-05:00\",\"2021-11-24T18:40:13.863000-05:00\",\"2021-11-24T18:40:13.863000-05:00\",\"2021-11-24T18:40:13.863000-05:00\",\"2021-11-24T18:40:13.863000-05:00\",\"2021-11-24T18:40:13.863000-05:00\",\"2021-11-24T18:40:13.863000-05:00\",\"2021-11-24T18:40:13.863000-05:00\",\"2021-11-24T18:40:13.863000-05:00\",\"2021-11-24T18:40:13.863000-05:00\",\"2021-11-24T18:40:13.863000-05:00\",\"2021-11-24T18:40:13.863000-05:00\",\"2021-11-24T18:40:13.863000-05:00\",\"2021-11-24T18:40:13.863000-05:00\",\"2021-11-24T18:40:13.863000-05:00\",\"2021-11-24T18:40:13.863000-05:00\",\"2021-11-24T18:40:13.863000-05:00\",\"2021-11-24T18:40:13.863000-05:00\",\"2021-11-24T18:40:13.863000-05:00\",\"2021-11-24T18:40:13.863000-05:00\",\"2021-11-24T18:40:13.863000-05:00\",\"2021-11-24T18:40:13.863000-05:00\",\"2021-11-24T18:40:13.863000-05:00\",\"2021-11-24T18:40:13.863000-05:00\",\"2021-11-24T18:40:13.863000-05:00\",\"2021-11-24T18:40:13.863000-05:00\",\"2021-11-24T18:40:13.863000-05:00\",\"2021-11-24T18:40:13.863000-05:00\",\"2021-11-24T18:40:13.863000-05:00\",\"2021-11-24T18:40:13.863000-05:00\",\"2021-11-24T18:40:13.863000-05:00\",\"2021-11-24T18:40:13.863000-05:00\",\"2021-11-24T18:40:13.863000-05:00\",\"2021-11-24T18:40:13.863000-05:00\",\"2021-11-24T18:40:13.863000-05:00\",\"2021-11-24T18:40:13.863000-05:00\",\"2021-11-24T18:40:13.863000-05:00\",\"2021-11-24T18:40:13.863000-05:00\",\"2021-11-24T18:40:13.863000-05:00\",\"2021-11-17T18:41:37.433000-05:00\",\"2021-11-17T19:51:37.077000-05:00\",\"2021-11-17T20:20:49.583000-05:00\",\"2021-11-17T21:33:39.110000-05:00\",\"2021-11-17T22:32:27.623000-05:00\",\"2021-11-17T23:20:09.833000-05:00\",\"2021-11-17T23:20:09.833000-05:00\",\"2021-11-17T23:20:09.833000-05:00\"],\"xaxis\":\"x\",\"y\":[12,5,5,35,7,26,8,43,8,34,34,10,38,9,9,33,25,13,22,50,55,27,27,77,29,66,0,0,0,0,0,0,0,0,0,0,0,0,0,0,0,0,0,0,0,0,0,0,0,0,0,0,0,0,0,0,0,0,0,0,0,0,0,0,0,0,0,0,0,0,0,0,0,0,0,0,0,0,0,0,0,0,0,0,0,0,0,0,0,0,0,0,0,0,0,0,0,0,67,66,68,69,46,55,55,55],\"yaxis\":\"y\"},{\"hovertemplate\":\"weekday=Monday<br>LastUpdatedDateAndTime=%{x}<br>LastCount=%{y}<extra></extra>\",\"legendgroup\":\"Monday\",\"marker\":{\"color\":\"#EF553B\",\"symbol\":\"circle\"},\"mode\":\"markers\",\"name\":\"Monday\",\"orientation\":\"v\",\"showlegend\":true,\"type\":\"scatter\",\"x\":[\"2021-11-29T06:11:40.363000-05:00\",\"2021-11-22T06:11:59.950000-05:00\",\"2021-11-22T07:15:24.650000-05:00\",\"2021-11-29T07:16:11.080000-05:00\",\"2021-11-29T08:20:25.933000-05:00\",\"2021-11-22T08:59:51-05:00\",\"2021-11-29T09:25:03.150000-05:00\",\"2021-11-22T10:04:09.600000-05:00\",\"2021-11-22T10:04:09.600000-05:00\",\"2021-11-22T11:12:28.693000-05:00\",\"2021-11-22T12:11:18.200000-05:00\",\"2021-11-22T13:40:39.467000-05:00\",\"2021-11-22T14:17:11.100000-05:00\",\"2021-11-22T15:26:56.397000-05:00\",\"2021-11-22T16:19:20.040000-05:00\",\"2021-11-22T17:36:03.530000-05:00\",\"2021-11-22T18:51:39.503000-05:00\",\"2021-11-22T19:36:52.897000-05:00\",\"2021-11-22T20:40:31.177000-05:00\",\"2021-11-22T21:32:01.920000-05:00\",\"2021-11-22T23:02:56.963000-05:00\",\"2021-11-22T23:02:56.963000-05:00\",\"2021-11-22T23:02:56.963000-05:00\",\"2021-11-22T23:02:56.963000-05:00\"],\"xaxis\":\"x\",\"y\":[25,14,23,39,31,20,29,25,25,30,34,26,35,35,39,44,49,24,28,23,17,17,17,17],\"yaxis\":\"y\"},{\"hovertemplate\":\"weekday=Friday<br>LastUpdatedDateAndTime=%{x}<br>LastCount=%{y}<extra></extra>\",\"legendgroup\":\"Friday\",\"marker\":{\"color\":\"#00cc96\",\"symbol\":\"circle\"},\"mode\":\"markers\",\"name\":\"Friday\",\"orientation\":\"v\",\"showlegend\":true,\"type\":\"scatter\",\"x\":[\"2021-11-19T06:13:27.153000-05:00\",\"2021-11-19T07:09:55.650000-05:00\",\"2021-11-19T09:03:33.730000-05:00\",\"2021-11-19T09:03:33.730000-05:00\",\"2021-11-19T10:06:01.720000-05:00\",\"2021-11-19T11:26:35.127000-05:00\",\"2021-11-19T12:34:58.383000-05:00\",\"2021-11-19T13:12:01.200000-05:00\",\"2021-11-19T13:12:01.200000-05:00\",\"2021-11-19T13:12:01.200000-05:00\",\"2021-11-19T16:11:51.653000-05:00\",\"2021-11-19T17:36:40.337000-05:00\",\"2021-11-19T18:41:37.743000-05:00\",\"2021-11-19T18:41:37.743000-05:00\",\"2021-11-19T20:27:42.410000-05:00\",\"2021-11-19T21:24:21-05:00\",\"2021-11-19T22:16:34.250000-05:00\",\"2021-11-19T23:18:57.043000-05:00\",\"2021-11-19T23:18:57.043000-05:00\",\"2021-11-19T23:18:57.043000-05:00\",\"2021-11-19T23:18:57.043000-05:00\"],\"xaxis\":\"x\",\"y\":[11,33,31,31,25,43,39,46,46,46,54,54,47,47,44,40,38,26,26,26,26],\"yaxis\":\"y\"},{\"hovertemplate\":\"weekday=Thursday<br>LastUpdatedDateAndTime=%{x}<br>LastCount=%{y}<extra></extra>\",\"legendgroup\":\"Thursday\",\"marker\":{\"color\":\"#ab63fa\",\"symbol\":\"circle\"},\"mode\":\"markers\",\"name\":\"Thursday\",\"orientation\":\"v\",\"showlegend\":true,\"type\":\"scatter\",\"x\":[\"2021-11-18T06:14:19.553000-05:00\",\"2021-11-18T07:13:51.537000-05:00\",\"2021-11-18T08:18:13.417000-05:00\",\"2021-11-18T09:37:27.383000-05:00\",\"2021-11-18T10:39:12.053000-05:00\",\"2021-11-18T11:22:32.983000-05:00\",\"2021-11-18T12:21:37.427000-05:00\",\"2021-11-18T13:12:57.210000-05:00\",\"2021-11-18T14:23:34.533000-05:00\",\"2021-11-18T15:20:02.707000-05:00\",\"2021-11-18T16:21:25.127000-05:00\",\"2021-11-18T17:14:30.367000-05:00\",\"2021-11-18T17:14:30.367000-05:00\",\"2021-11-18T19:09:40.260000-05:00\",\"2021-11-18T20:26:44.587000-05:00\",\"2021-11-18T20:26:44.587000-05:00\",\"2021-11-18T22:20:17.140000-05:00\",\"2021-11-18T22:20:17.140000-05:00\",\"2021-11-18T22:20:17.140000-05:00\",\"2021-11-18T22:20:17.140000-05:00\"],\"xaxis\":\"x\",\"y\":[29,40,33,26,20,43,31,25,39,59,51,55,55,56,45,45,50,50,50,50],\"yaxis\":\"y\"},{\"hovertemplate\":\"weekday=Tuesday<br>LastUpdatedDateAndTime=%{x}<br>LastCount=%{y}<extra></extra>\",\"legendgroup\":\"Tuesday\",\"marker\":{\"color\":\"#FFA15A\",\"symbol\":\"circle\"},\"mode\":\"markers\",\"name\":\"Tuesday\",\"orientation\":\"v\",\"showlegend\":true,\"type\":\"scatter\",\"x\":[\"2021-11-23T06:22:28.177000-05:00\",\"2021-11-23T07:14:14.173000-05:00\",\"2021-11-23T09:00:34.400000-05:00\",\"2021-11-23T09:00:34.400000-05:00\",\"2021-11-23T10:12:12-05:00\",\"2021-11-23T11:19:47.637000-05:00\",\"2021-11-23T12:12:21.920000-05:00\",\"2021-11-23T13:14:50.263000-05:00\",\"2021-11-23T14:09:39.517000-05:00\",\"2021-11-23T15:14:13.007000-05:00\",\"2021-11-23T16:13:24.037000-05:00\",\"2021-11-23T17:07:39.900000-05:00\",\"2021-11-23T17:07:39.900000-05:00\",\"2021-11-23T17:07:39.900000-05:00\",\"2021-11-23T17:07:39.900000-05:00\",\"2021-11-23T17:07:39.900000-05:00\",\"2021-11-23T17:07:39.900000-05:00\",\"2021-11-23T17:07:39.900000-05:00\",\"2021-11-23T17:07:39.900000-05:00\",\"2021-11-16T18:25:57.337000-05:00\",\"2021-11-16T19:29:05.650000-05:00\",\"2021-11-16T20:08:19.737000-05:00\",\"2021-11-16T21:27:25.757000-05:00\",\"2021-11-16T23:02:18.377000-05:00\",\"2021-11-16T23:02:18.377000-05:00\",\"2021-11-16T23:02:18.377000-05:00\"],\"xaxis\":\"x\",\"y\":[15,21,14,14,18,24,13,24,23,20,40,37,37,37,37,37,37,37,37,57,53,47,29,52,52,52],\"yaxis\":\"y\"},{\"hovertemplate\":\"weekday=Saturday<br>LastUpdatedDateAndTime=%{x}<br>LastCount=%{y}<extra></extra>\",\"legendgroup\":\"Saturday\",\"marker\":{\"color\":\"#19d3f3\",\"symbol\":\"circle\"},\"mode\":\"markers\",\"name\":\"Saturday\",\"orientation\":\"v\",\"showlegend\":true,\"type\":\"scatter\",\"x\":[\"2021-11-20T08:04:46.060000-05:00\",\"2021-11-20T09:04:17-05:00\",\"2021-11-20T10:04:50.480000-05:00\",\"2021-11-20T11:02:48.830000-05:00\",\"2021-11-20T11:02:48.830000-05:00\",\"2021-11-20T11:02:48.830000-05:00\",\"2021-11-20T13:31:03.023000-05:00\",\"2021-11-20T14:25:32.360000-05:00\",\"2021-11-20T15:17:29-05:00\",\"2021-11-20T16:18:07.637000-05:00\",\"2021-11-20T17:39:51.140000-05:00\",\"2021-11-20T18:06:56.833000-05:00\",\"2021-11-20T19:29:20.593000-05:00\",\"2021-11-20T20:13:47.303000-05:00\",\"2021-11-20T21:13:29.893000-05:00\",\"2021-11-20T22:06:14.123000-05:00\",\"2021-11-20T22:06:14.123000-05:00\",\"2021-11-20T22:06:14.123000-05:00\",\"2021-11-20T22:06:14.123000-05:00\",\"2021-11-20T22:06:14.123000-05:00\",\"2021-11-20T22:06:14.123000-05:00\",\"2021-11-20T22:06:14.123000-05:00\",\"2021-11-20T22:06:14.123000-05:00\",\"2021-11-20T22:06:14.123000-05:00\"],\"xaxis\":\"x\",\"y\":[0,24,16,28,28,28,27,27,39,35,40,24,23,26,20,28,28,28,28,28,28,28,28,28],\"yaxis\":\"y\"},{\"hovertemplate\":\"weekday=Sunday<br>LastUpdatedDateAndTime=%{x}<br>LastCount=%{y}<extra></extra>\",\"legendgroup\":\"Sunday\",\"marker\":{\"color\":\"#FF6692\",\"symbol\":\"circle\"},\"mode\":\"markers\",\"name\":\"Sunday\",\"orientation\":\"v\",\"showlegend\":true,\"type\":\"scatter\",\"x\":[\"2021-11-28T10:49:46.833000-05:00\",\"2021-11-21T11:33:41.193000-05:00\",\"2021-11-28T11:49:29.553000-05:00\",\"2021-11-28T12:24:56.143000-05:00\",\"2021-11-21T12:30:16.937000-05:00\",\"2021-11-21T13:22:29-05:00\",\"2021-11-28T13:44:37.523000-05:00\",\"2021-11-21T14:46:44.520000-05:00\",\"2021-11-28T14:47:12.917000-05:00\",\"2021-11-28T15:08:53.750000-05:00\",\"2021-11-21T15:44:48.083000-05:00\",\"2021-11-28T16:31:55.347000-05:00\",\"2021-11-21T16:48:08.310000-05:00\",\"2021-11-21T16:48:08.310000-05:00\",\"2021-11-28T17:21:12.917000-05:00\",\"2021-11-21T18:34:41.130000-05:00\",\"2021-11-21T18:34:41.130000-05:00\",\"2021-11-28T18:36:01.023000-05:00\",\"2021-11-28T19:30:51.933000-05:00\",\"2021-11-21T19:34:47-05:00\",\"2021-11-21T19:34:47-05:00\",\"2021-11-28T20:40:13.700000-05:00\",\"2021-11-28T21:36:58.030000-05:00\",\"2021-11-21T22:20:05.817000-05:00\",\"2021-11-21T22:20:05.817000-05:00\",\"2021-11-21T22:20:05.817000-05:00\",\"2021-11-21T22:20:05.817000-05:00\",\"2021-11-28T22:23:30.977000-05:00\",\"2021-11-28T22:23:30.977000-05:00\",\"2021-11-28T22:23:30.977000-05:00\",\"2021-11-28T22:23:30.977000-05:00\"],\"xaxis\":\"x\",\"y\":[22,21,20,24,15,26,25,21,28,31,28,33,48,48,32,32,32,48,52,41,41,21,24,25,25,25,25,33,33,33,33],\"yaxis\":\"y\"}],                        {\"legend\":{\"title\":{\"text\":\"weekday\"},\"tracegroupgap\":0},\"margin\":{\"t\":60},\"template\":{\"data\":{\"bar\":[{\"error_x\":{\"color\":\"#2a3f5f\"},\"error_y\":{\"color\":\"#2a3f5f\"},\"marker\":{\"line\":{\"color\":\"#E5ECF6\",\"width\":0.5},\"pattern\":{\"fillmode\":\"overlay\",\"size\":10,\"solidity\":0.2}},\"type\":\"bar\"}],\"barpolar\":[{\"marker\":{\"line\":{\"color\":\"#E5ECF6\",\"width\":0.5},\"pattern\":{\"fillmode\":\"overlay\",\"size\":10,\"solidity\":0.2}},\"type\":\"barpolar\"}],\"carpet\":[{\"aaxis\":{\"endlinecolor\":\"#2a3f5f\",\"gridcolor\":\"white\",\"linecolor\":\"white\",\"minorgridcolor\":\"white\",\"startlinecolor\":\"#2a3f5f\"},\"baxis\":{\"endlinecolor\":\"#2a3f5f\",\"gridcolor\":\"white\",\"linecolor\":\"white\",\"minorgridcolor\":\"white\",\"startlinecolor\":\"#2a3f5f\"},\"type\":\"carpet\"}],\"choropleth\":[{\"colorbar\":{\"outlinewidth\":0,\"ticks\":\"\"},\"type\":\"choropleth\"}],\"contour\":[{\"colorbar\":{\"outlinewidth\":0,\"ticks\":\"\"},\"colorscale\":[[0.0,\"#0d0887\"],[0.1111111111111111,\"#46039f\"],[0.2222222222222222,\"#7201a8\"],[0.3333333333333333,\"#9c179e\"],[0.4444444444444444,\"#bd3786\"],[0.5555555555555556,\"#d8576b\"],[0.6666666666666666,\"#ed7953\"],[0.7777777777777778,\"#fb9f3a\"],[0.8888888888888888,\"#fdca26\"],[1.0,\"#f0f921\"]],\"type\":\"contour\"}],\"contourcarpet\":[{\"colorbar\":{\"outlinewidth\":0,\"ticks\":\"\"},\"type\":\"contourcarpet\"}],\"heatmap\":[{\"colorbar\":{\"outlinewidth\":0,\"ticks\":\"\"},\"colorscale\":[[0.0,\"#0d0887\"],[0.1111111111111111,\"#46039f\"],[0.2222222222222222,\"#7201a8\"],[0.3333333333333333,\"#9c179e\"],[0.4444444444444444,\"#bd3786\"],[0.5555555555555556,\"#d8576b\"],[0.6666666666666666,\"#ed7953\"],[0.7777777777777778,\"#fb9f3a\"],[0.8888888888888888,\"#fdca26\"],[1.0,\"#f0f921\"]],\"type\":\"heatmap\"}],\"heatmapgl\":[{\"colorbar\":{\"outlinewidth\":0,\"ticks\":\"\"},\"colorscale\":[[0.0,\"#0d0887\"],[0.1111111111111111,\"#46039f\"],[0.2222222222222222,\"#7201a8\"],[0.3333333333333333,\"#9c179e\"],[0.4444444444444444,\"#bd3786\"],[0.5555555555555556,\"#d8576b\"],[0.6666666666666666,\"#ed7953\"],[0.7777777777777778,\"#fb9f3a\"],[0.8888888888888888,\"#fdca26\"],[1.0,\"#f0f921\"]],\"type\":\"heatmapgl\"}],\"histogram\":[{\"marker\":{\"pattern\":{\"fillmode\":\"overlay\",\"size\":10,\"solidity\":0.2}},\"type\":\"histogram\"}],\"histogram2d\":[{\"colorbar\":{\"outlinewidth\":0,\"ticks\":\"\"},\"colorscale\":[[0.0,\"#0d0887\"],[0.1111111111111111,\"#46039f\"],[0.2222222222222222,\"#7201a8\"],[0.3333333333333333,\"#9c179e\"],[0.4444444444444444,\"#bd3786\"],[0.5555555555555556,\"#d8576b\"],[0.6666666666666666,\"#ed7953\"],[0.7777777777777778,\"#fb9f3a\"],[0.8888888888888888,\"#fdca26\"],[1.0,\"#f0f921\"]],\"type\":\"histogram2d\"}],\"histogram2dcontour\":[{\"colorbar\":{\"outlinewidth\":0,\"ticks\":\"\"},\"colorscale\":[[0.0,\"#0d0887\"],[0.1111111111111111,\"#46039f\"],[0.2222222222222222,\"#7201a8\"],[0.3333333333333333,\"#9c179e\"],[0.4444444444444444,\"#bd3786\"],[0.5555555555555556,\"#d8576b\"],[0.6666666666666666,\"#ed7953\"],[0.7777777777777778,\"#fb9f3a\"],[0.8888888888888888,\"#fdca26\"],[1.0,\"#f0f921\"]],\"type\":\"histogram2dcontour\"}],\"mesh3d\":[{\"colorbar\":{\"outlinewidth\":0,\"ticks\":\"\"},\"type\":\"mesh3d\"}],\"parcoords\":[{\"line\":{\"colorbar\":{\"outlinewidth\":0,\"ticks\":\"\"}},\"type\":\"parcoords\"}],\"pie\":[{\"automargin\":true,\"type\":\"pie\"}],\"scatter\":[{\"marker\":{\"colorbar\":{\"outlinewidth\":0,\"ticks\":\"\"}},\"type\":\"scatter\"}],\"scatter3d\":[{\"line\":{\"colorbar\":{\"outlinewidth\":0,\"ticks\":\"\"}},\"marker\":{\"colorbar\":{\"outlinewidth\":0,\"ticks\":\"\"}},\"type\":\"scatter3d\"}],\"scattercarpet\":[{\"marker\":{\"colorbar\":{\"outlinewidth\":0,\"ticks\":\"\"}},\"type\":\"scattercarpet\"}],\"scattergeo\":[{\"marker\":{\"colorbar\":{\"outlinewidth\":0,\"ticks\":\"\"}},\"type\":\"scattergeo\"}],\"scattergl\":[{\"marker\":{\"colorbar\":{\"outlinewidth\":0,\"ticks\":\"\"}},\"type\":\"scattergl\"}],\"scattermapbox\":[{\"marker\":{\"colorbar\":{\"outlinewidth\":0,\"ticks\":\"\"}},\"type\":\"scattermapbox\"}],\"scatterpolar\":[{\"marker\":{\"colorbar\":{\"outlinewidth\":0,\"ticks\":\"\"}},\"type\":\"scatterpolar\"}],\"scatterpolargl\":[{\"marker\":{\"colorbar\":{\"outlinewidth\":0,\"ticks\":\"\"}},\"type\":\"scatterpolargl\"}],\"scatterternary\":[{\"marker\":{\"colorbar\":{\"outlinewidth\":0,\"ticks\":\"\"}},\"type\":\"scatterternary\"}],\"surface\":[{\"colorbar\":{\"outlinewidth\":0,\"ticks\":\"\"},\"colorscale\":[[0.0,\"#0d0887\"],[0.1111111111111111,\"#46039f\"],[0.2222222222222222,\"#7201a8\"],[0.3333333333333333,\"#9c179e\"],[0.4444444444444444,\"#bd3786\"],[0.5555555555555556,\"#d8576b\"],[0.6666666666666666,\"#ed7953\"],[0.7777777777777778,\"#fb9f3a\"],[0.8888888888888888,\"#fdca26\"],[1.0,\"#f0f921\"]],\"type\":\"surface\"}],\"table\":[{\"cells\":{\"fill\":{\"color\":\"#EBF0F8\"},\"line\":{\"color\":\"white\"}},\"header\":{\"fill\":{\"color\":\"#C8D4E3\"},\"line\":{\"color\":\"white\"}},\"type\":\"table\"}]},\"layout\":{\"annotationdefaults\":{\"arrowcolor\":\"#2a3f5f\",\"arrowhead\":0,\"arrowwidth\":1},\"autotypenumbers\":\"strict\",\"coloraxis\":{\"colorbar\":{\"outlinewidth\":0,\"ticks\":\"\"}},\"colorscale\":{\"diverging\":[[0,\"#8e0152\"],[0.1,\"#c51b7d\"],[0.2,\"#de77ae\"],[0.3,\"#f1b6da\"],[0.4,\"#fde0ef\"],[0.5,\"#f7f7f7\"],[0.6,\"#e6f5d0\"],[0.7,\"#b8e186\"],[0.8,\"#7fbc41\"],[0.9,\"#4d9221\"],[1,\"#276419\"]],\"sequential\":[[0.0,\"#0d0887\"],[0.1111111111111111,\"#46039f\"],[0.2222222222222222,\"#7201a8\"],[0.3333333333333333,\"#9c179e\"],[0.4444444444444444,\"#bd3786\"],[0.5555555555555556,\"#d8576b\"],[0.6666666666666666,\"#ed7953\"],[0.7777777777777778,\"#fb9f3a\"],[0.8888888888888888,\"#fdca26\"],[1.0,\"#f0f921\"]],\"sequentialminus\":[[0.0,\"#0d0887\"],[0.1111111111111111,\"#46039f\"],[0.2222222222222222,\"#7201a8\"],[0.3333333333333333,\"#9c179e\"],[0.4444444444444444,\"#bd3786\"],[0.5555555555555556,\"#d8576b\"],[0.6666666666666666,\"#ed7953\"],[0.7777777777777778,\"#fb9f3a\"],[0.8888888888888888,\"#fdca26\"],[1.0,\"#f0f921\"]]},\"colorway\":[\"#636efa\",\"#EF553B\",\"#00cc96\",\"#ab63fa\",\"#FFA15A\",\"#19d3f3\",\"#FF6692\",\"#B6E880\",\"#FF97FF\",\"#FECB52\"],\"font\":{\"color\":\"#2a3f5f\"},\"geo\":{\"bgcolor\":\"white\",\"lakecolor\":\"white\",\"landcolor\":\"#E5ECF6\",\"showlakes\":true,\"showland\":true,\"subunitcolor\":\"white\"},\"hoverlabel\":{\"align\":\"left\"},\"hovermode\":\"closest\",\"mapbox\":{\"style\":\"light\"},\"paper_bgcolor\":\"white\",\"plot_bgcolor\":\"#E5ECF6\",\"polar\":{\"angularaxis\":{\"gridcolor\":\"white\",\"linecolor\":\"white\",\"ticks\":\"\"},\"bgcolor\":\"#E5ECF6\",\"radialaxis\":{\"gridcolor\":\"white\",\"linecolor\":\"white\",\"ticks\":\"\"}},\"scene\":{\"xaxis\":{\"backgroundcolor\":\"#E5ECF6\",\"gridcolor\":\"white\",\"gridwidth\":2,\"linecolor\":\"white\",\"showbackground\":true,\"ticks\":\"\",\"zerolinecolor\":\"white\"},\"yaxis\":{\"backgroundcolor\":\"#E5ECF6\",\"gridcolor\":\"white\",\"gridwidth\":2,\"linecolor\":\"white\",\"showbackground\":true,\"ticks\":\"\",\"zerolinecolor\":\"white\"},\"zaxis\":{\"backgroundcolor\":\"#E5ECF6\",\"gridcolor\":\"white\",\"gridwidth\":2,\"linecolor\":\"white\",\"showbackground\":true,\"ticks\":\"\",\"zerolinecolor\":\"white\"}},\"shapedefaults\":{\"line\":{\"color\":\"#2a3f5f\"}},\"ternary\":{\"aaxis\":{\"gridcolor\":\"white\",\"linecolor\":\"white\",\"ticks\":\"\"},\"baxis\":{\"gridcolor\":\"white\",\"linecolor\":\"white\",\"ticks\":\"\"},\"bgcolor\":\"#E5ECF6\",\"caxis\":{\"gridcolor\":\"white\",\"linecolor\":\"white\",\"ticks\":\"\"}},\"title\":{\"x\":0.05},\"xaxis\":{\"automargin\":true,\"gridcolor\":\"white\",\"linecolor\":\"white\",\"ticks\":\"\",\"title\":{\"standoff\":15},\"zerolinecolor\":\"white\",\"zerolinewidth\":2},\"yaxis\":{\"automargin\":true,\"gridcolor\":\"white\",\"linecolor\":\"white\",\"ticks\":\"\",\"title\":{\"standoff\":15},\"zerolinecolor\":\"white\",\"zerolinewidth\":2}}},\"xaxis\":{\"anchor\":\"y\",\"categoryorder\":\"category ascending\",\"domain\":[0.0,1.0],\"title\":{\"text\":\"LastUpdatedDateAndTime\"},\"type\":\"category\"},\"yaxis\":{\"anchor\":\"x\",\"domain\":[0.0,1.0],\"title\":{\"text\":\"LastCount\"}}},                        {\"responsive\": true}                    ).then(function(){\n",
       "                            \n",
       "var gd = document.getElementById('e9fbc0ab-9647-457f-87d1-dcfe1356bacd');\n",
       "var x = new MutationObserver(function (mutations, observer) {{\n",
       "        var display = window.getComputedStyle(gd).display;\n",
       "        if (!display || display === 'none') {{\n",
       "            console.log([gd, 'removed!']);\n",
       "            Plotly.purge(gd);\n",
       "            observer.disconnect();\n",
       "        }}\n",
       "}});\n",
       "\n",
       "// Listen for the removal of the full notebook cells\n",
       "var notebookContainer = gd.closest('#notebook-container');\n",
       "if (notebookContainer) {{\n",
       "    x.observe(notebookContainer, {childList: true});\n",
       "}}\n",
       "\n",
       "// Listen for the clearing of the current output cell\n",
       "var outputEl = gd.closest('.output');\n",
       "if (outputEl) {{\n",
       "    x.observe(outputEl, {childList: true});\n",
       "}}\n",
       "\n",
       "                        })                };                });            </script>        </div>"
      ]
     },
     "metadata": {},
     "output_type": "display_data"
    }
   ],
   "source": [
    "# new_east['time_of_day_sec'] = new_east.time.apply\n",
    "# fig = px.scatter(new_east, x='time',y='LastCount',color='weekday',trendline='rolling', trendline_options=dict(window=5))\n",
    "fig = px.scatter(new_east, x='LastUpdatedDateAndTime',y='LastCount',color='weekday')\n",
    "fig.update_layout(xaxis=dict(type='category',categoryorder='category ascending'))\n",
    "fig.show()"
   ]
  },
  {
   "cell_type": "code",
   "execution_count": 78,
   "id": "ee6a0920",
   "metadata": {},
   "outputs": [
    {
     "data": {
      "text/plain": [
       "datetime.time(6, 4, 11, 163000)"
      ]
     },
     "execution_count": 78,
     "metadata": {},
     "output_type": "execute_result"
    }
   ],
   "source": [
    "new_east.time.to_list()[0]"
   ]
  }
 ],
 "metadata": {
  "kernelspec": {
   "display_name": "Python 3 (ipykernel)",
   "language": "python",
   "name": "python3"
  },
  "language_info": {
   "codemirror_mode": {
    "name": "ipython",
    "version": 3
   },
   "file_extension": ".py",
   "mimetype": "text/x-python",
   "name": "python",
   "nbconvert_exporter": "python",
   "pygments_lexer": "ipython3",
   "version": "3.9.5"
  }
 },
 "nbformat": 4,
 "nbformat_minor": 5
}
