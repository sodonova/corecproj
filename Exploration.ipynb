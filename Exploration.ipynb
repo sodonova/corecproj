{
 "cells": [
  {
   "cell_type": "markdown",
   "id": "496fa872",
   "metadata": {},
   "source": [
    "# Average East Fitness Usage"
   ]
  },
  {
   "cell_type": "code",
   "execution_count": 194,
   "id": "a5aedddc",
   "metadata": {},
   "outputs": [
    {
     "name": "stdout",
     "output_type": "stream",
     "text": [
      "11/12/2021  12:28 PM            25,200 usage_data.csv\n",
      "11/12/2021  12:28 PM            48,067 usage_data_20.csv\n",
      "11/12/2021  12:28 PM           234,891 usage_data_week_11_1.csv\n"
     ]
    }
   ],
   "source": [
    "# on windows\n",
    "!dir | find \"data\""
   ]
  },
  {
   "cell_type": "code",
   "execution_count": null,
   "id": "453f9731",
   "metadata": {},
   "outputs": [],
   "source": [
    "# on linux\n",
    "!ls | grep \"data\""
   ]
  },
  {
   "cell_type": "code",
   "execution_count": 200,
   "id": "11ec88cf",
   "metadata": {
    "scrolled": true
   },
   "outputs": [
    {
     "data": {
      "text/html": [
       "<div>\n",
       "<style scoped>\n",
       "    .dataframe tbody tr th:only-of-type {\n",
       "        vertical-align: middle;\n",
       "    }\n",
       "\n",
       "    .dataframe tbody tr th {\n",
       "        vertical-align: top;\n",
       "    }\n",
       "\n",
       "    .dataframe thead th {\n",
       "        text-align: right;\n",
       "    }\n",
       "</style>\n",
       "<table border=\"1\" class=\"dataframe\">\n",
       "  <thead>\n",
       "    <tr style=\"text-align: right;\">\n",
       "      <th></th>\n",
       "      <th>name</th>\n",
       "      <th>current_capacity</th>\n",
       "      <th>total_capacity</th>\n",
       "      <th>percent_capacity</th>\n",
       "      <th>date_time</th>\n",
       "    </tr>\n",
       "  </thead>\n",
       "  <tbody>\n",
       "    <tr>\n",
       "      <th>0</th>\n",
       "      <td>Upper Track (4th Floor)</td>\n",
       "      <td>0.0</td>\n",
       "      <td>100.0</td>\n",
       "      <td>0.0</td>\n",
       "      <td>1.635758e+09</td>\n",
       "    </tr>\n",
       "    <tr>\n",
       "      <th>1</th>\n",
       "      <td>Faculty/Staff Workout Area</td>\n",
       "      <td>0.0</td>\n",
       "      <td>50.0</td>\n",
       "      <td>0.0</td>\n",
       "      <td>1.635758e+09</td>\n",
       "    </tr>\n",
       "    <tr>\n",
       "      <th>2</th>\n",
       "      <td>Upper Fitness</td>\n",
       "      <td>1.0</td>\n",
       "      <td>100.0</td>\n",
       "      <td>1.0</td>\n",
       "      <td>1.635758e+09</td>\n",
       "    </tr>\n",
       "    <tr>\n",
       "      <th>3</th>\n",
       "      <td>Upper Gym</td>\n",
       "      <td>29.0</td>\n",
       "      <td>100.0</td>\n",
       "      <td>29.0</td>\n",
       "      <td>1.635758e+09</td>\n",
       "    </tr>\n",
       "    <tr>\n",
       "      <th>4</th>\n",
       "      <td>MAC Court (Cardio)</td>\n",
       "      <td>1.0</td>\n",
       "      <td>100.0</td>\n",
       "      <td>1.0</td>\n",
       "      <td>1.635758e+09</td>\n",
       "    </tr>\n",
       "  </tbody>\n",
       "</table>\n",
       "</div>"
      ],
      "text/plain": [
       "                          name  current_capacity  total_capacity  \\\n",
       "0      Upper Track (4th Floor)               0.0           100.0   \n",
       "1  Faculty/Staff Workout Area                0.0            50.0   \n",
       "2               Upper Fitness                1.0           100.0   \n",
       "3                    Upper Gym              29.0           100.0   \n",
       "4           MAC Court (Cardio)               1.0           100.0   \n",
       "\n",
       "   percent_capacity     date_time  \n",
       "0               0.0  1.635758e+09  \n",
       "1               0.0  1.635758e+09  \n",
       "2               1.0  1.635758e+09  \n",
       "3              29.0  1.635758e+09  \n",
       "4               1.0  1.635758e+09  "
      ]
     },
     "execution_count": 200,
     "metadata": {},
     "output_type": "execute_result"
    }
   ],
   "source": [
    "import pandas as pd\n",
    "import plotly\n",
    "import numpy as np\n",
    "import matplotlib.pyplot as plt\n",
    "\n",
    "df = pd.read_csv(\"usage_data_week_11_1.csv\", index_col=0)\n",
    "df.head()"
   ]
  },
  {
   "cell_type": "code",
   "execution_count": 185,
   "id": "a756939d",
   "metadata": {
    "scrolled": false
   },
   "outputs": [
    {
     "data": {
      "text/html": [
       "<div>\n",
       "<style scoped>\n",
       "    .dataframe tbody tr th:only-of-type {\n",
       "        vertical-align: middle;\n",
       "    }\n",
       "\n",
       "    .dataframe tbody tr th {\n",
       "        vertical-align: top;\n",
       "    }\n",
       "\n",
       "    .dataframe thead th {\n",
       "        text-align: right;\n",
       "    }\n",
       "</style>\n",
       "<table border=\"1\" class=\"dataframe\">\n",
       "  <thead>\n",
       "    <tr style=\"text-align: right;\">\n",
       "      <th></th>\n",
       "      <th>name</th>\n",
       "      <th>current_capacity</th>\n",
       "      <th>total_capacity</th>\n",
       "      <th>percent_capacity</th>\n",
       "      <th>date_time</th>\n",
       "    </tr>\n",
       "  </thead>\n",
       "  <tbody>\n",
       "    <tr>\n",
       "      <th>3</th>\n",
       "      <td>Upper Gym</td>\n",
       "      <td>0.0</td>\n",
       "      <td>100.0</td>\n",
       "      <td>29.0</td>\n",
       "      <td>2021-11-01 04:05:07.539876608-05:00</td>\n",
       "    </tr>\n",
       "    <tr>\n",
       "      <th>31</th>\n",
       "      <td>Upper Gym</td>\n",
       "      <td>29.0</td>\n",
       "      <td>100.0</td>\n",
       "      <td>29.0</td>\n",
       "      <td>2021-11-01 05:05:07.283586816-05:00</td>\n",
       "    </tr>\n",
       "    <tr>\n",
       "      <th>59</th>\n",
       "      <td>Upper Gym</td>\n",
       "      <td>0.0</td>\n",
       "      <td>100.0</td>\n",
       "      <td>0.0</td>\n",
       "      <td>2021-11-01 06:05:07.473886464-05:00</td>\n",
       "    </tr>\n",
       "    <tr>\n",
       "      <th>87</th>\n",
       "      <td>Upper Gym</td>\n",
       "      <td>1.0</td>\n",
       "      <td>100.0</td>\n",
       "      <td>1.0</td>\n",
       "      <td>2021-11-01 07:05:10.592350464-05:00</td>\n",
       "    </tr>\n",
       "    <tr>\n",
       "      <th>115</th>\n",
       "      <td>Upper Gym</td>\n",
       "      <td>0.0</td>\n",
       "      <td>100.0</td>\n",
       "      <td>0.0</td>\n",
       "      <td>2021-11-01 08:05:07.798438144-05:00</td>\n",
       "    </tr>\n",
       "    <tr>\n",
       "      <th>...</th>\n",
       "      <td>...</td>\n",
       "      <td>...</td>\n",
       "      <td>...</td>\n",
       "      <td>...</td>\n",
       "      <td>...</td>\n",
       "    </tr>\n",
       "    <tr>\n",
       "      <th>4119</th>\n",
       "      <td>Upper Gym</td>\n",
       "      <td>42.0</td>\n",
       "      <td>100.0</td>\n",
       "      <td>42.0</td>\n",
       "      <td>2021-11-08 19:05:08.199793152-05:00</td>\n",
       "    </tr>\n",
       "    <tr>\n",
       "      <th>4147</th>\n",
       "      <td>Upper Gym</td>\n",
       "      <td>51.0</td>\n",
       "      <td>100.0</td>\n",
       "      <td>51.0</td>\n",
       "      <td>2021-11-08 20:05:10.278596608-05:00</td>\n",
       "    </tr>\n",
       "    <tr>\n",
       "      <th>4175</th>\n",
       "      <td>Upper Gym</td>\n",
       "      <td>56.0</td>\n",
       "      <td>100.0</td>\n",
       "      <td>57.0</td>\n",
       "      <td>2021-11-08 21:05:07.871051520-05:00</td>\n",
       "    </tr>\n",
       "    <tr>\n",
       "      <th>4203</th>\n",
       "      <td>Upper Gym</td>\n",
       "      <td>42.0</td>\n",
       "      <td>100.0</td>\n",
       "      <td>42.0</td>\n",
       "      <td>2021-11-08 22:05:07.597391360-05:00</td>\n",
       "    </tr>\n",
       "    <tr>\n",
       "      <th>4231</th>\n",
       "      <td>Upper Gym</td>\n",
       "      <td>39.0</td>\n",
       "      <td>100.0</td>\n",
       "      <td>39.0</td>\n",
       "      <td>2021-11-08 23:05:07.785157376-05:00</td>\n",
       "    </tr>\n",
       "  </tbody>\n",
       "</table>\n",
       "<p>152 rows × 5 columns</p>\n",
       "</div>"
      ],
      "text/plain": [
       "           name  current_capacity  total_capacity  percent_capacity  \\\n",
       "3     Upper Gym               0.0           100.0              29.0   \n",
       "31    Upper Gym              29.0           100.0              29.0   \n",
       "59    Upper Gym               0.0           100.0               0.0   \n",
       "87    Upper Gym               1.0           100.0               1.0   \n",
       "115   Upper Gym               0.0           100.0               0.0   \n",
       "...         ...               ...             ...               ...   \n",
       "4119  Upper Gym              42.0           100.0              42.0   \n",
       "4147  Upper Gym              51.0           100.0              51.0   \n",
       "4175  Upper Gym              56.0           100.0              57.0   \n",
       "4203  Upper Gym              42.0           100.0              42.0   \n",
       "4231  Upper Gym              39.0           100.0              39.0   \n",
       "\n",
       "                               date_time  \n",
       "3    2021-11-01 04:05:07.539876608-05:00  \n",
       "31   2021-11-01 05:05:07.283586816-05:00  \n",
       "59   2021-11-01 06:05:07.473886464-05:00  \n",
       "87   2021-11-01 07:05:10.592350464-05:00  \n",
       "115  2021-11-01 08:05:07.798438144-05:00  \n",
       "...                                  ...  \n",
       "4119 2021-11-08 19:05:08.199793152-05:00  \n",
       "4147 2021-11-08 20:05:10.278596608-05:00  \n",
       "4175 2021-11-08 21:05:07.871051520-05:00  \n",
       "4203 2021-11-08 22:05:07.597391360-05:00  \n",
       "4231 2021-11-08 23:05:07.785157376-05:00  \n",
       "\n",
       "[152 rows x 5 columns]"
      ]
     },
     "execution_count": 185,
     "metadata": {},
     "output_type": "execute_result"
    }
   ],
   "source": [
    "# Initialize pandas datetime object from UTC epoch seconds recorded\n",
    "df.loc[:, 'date_time'] = pd.to_datetime(df.loc[:,'date_time'],unit=\"s\",utc=True)\n",
    "df.loc[:, 'date_time'] = df.date_time.dt.tz_convert('EST')\n",
    "\n",
    "# corec isn't open at 4, same data as the previous day\n",
    "df.loc[df.date_time.dt.hour == 4, 'current_capacity'] = 0  \n",
    "# encoded wrong\n",
    "df = df.reset_index(drop=True)\n",
    "\n",
    "df.loc[(df.name == 'Upper Gym'),:]"
   ]
  },
  {
   "cell_type": "code",
   "execution_count": 196,
   "id": "5236ca4e",
   "metadata": {},
   "outputs": [
    {
     "data": {
      "text/html": [
       "<div>\n",
       "<style scoped>\n",
       "    .dataframe tbody tr th:only-of-type {\n",
       "        vertical-align: middle;\n",
       "    }\n",
       "\n",
       "    .dataframe tbody tr th {\n",
       "        vertical-align: top;\n",
       "    }\n",
       "\n",
       "    .dataframe thead th {\n",
       "        text-align: right;\n",
       "    }\n",
       "</style>\n",
       "<table border=\"1\" class=\"dataframe\">\n",
       "  <thead>\n",
       "    <tr style=\"text-align: right;\">\n",
       "      <th></th>\n",
       "      <th>name</th>\n",
       "      <th>current_capacity</th>\n",
       "      <th>total_capacity</th>\n",
       "      <th>percent_capacity</th>\n",
       "      <th>date_time</th>\n",
       "      <th>hour</th>\n",
       "      <th>day</th>\n",
       "      <th>weekday</th>\n",
       "      <th>weekday_name</th>\n",
       "    </tr>\n",
       "  </thead>\n",
       "  <tbody>\n",
       "    <tr>\n",
       "      <th>20</th>\n",
       "      <td>East Fitness (Strength Equipment)</td>\n",
       "      <td>0.0</td>\n",
       "      <td>300.0</td>\n",
       "      <td>3.0</td>\n",
       "      <td>2021-11-01 04:05:07.539876608-05:00</td>\n",
       "      <td>4</td>\n",
       "      <td>1</td>\n",
       "      <td>0</td>\n",
       "      <td>Monday</td>\n",
       "    </tr>\n",
       "    <tr>\n",
       "      <th>48</th>\n",
       "      <td>East Fitness (Strength Equipment)</td>\n",
       "      <td>9.0</td>\n",
       "      <td>300.0</td>\n",
       "      <td>3.0</td>\n",
       "      <td>2021-11-01 05:05:07.283586816-05:00</td>\n",
       "      <td>5</td>\n",
       "      <td>1</td>\n",
       "      <td>0</td>\n",
       "      <td>Monday</td>\n",
       "    </tr>\n",
       "    <tr>\n",
       "      <th>76</th>\n",
       "      <td>East Fitness (Strength Equipment)</td>\n",
       "      <td>37.0</td>\n",
       "      <td>300.0</td>\n",
       "      <td>13.0</td>\n",
       "      <td>2021-11-01 06:05:07.473886464-05:00</td>\n",
       "      <td>6</td>\n",
       "      <td>1</td>\n",
       "      <td>0</td>\n",
       "      <td>Monday</td>\n",
       "    </tr>\n",
       "    <tr>\n",
       "      <th>104</th>\n",
       "      <td>East Fitness (Strength Equipment)</td>\n",
       "      <td>40.0</td>\n",
       "      <td>300.0</td>\n",
       "      <td>14.0</td>\n",
       "      <td>2021-11-01 07:05:10.592350464-05:00</td>\n",
       "      <td>7</td>\n",
       "      <td>1</td>\n",
       "      <td>0</td>\n",
       "      <td>Monday</td>\n",
       "    </tr>\n",
       "    <tr>\n",
       "      <th>132</th>\n",
       "      <td>East Fitness (Strength Equipment)</td>\n",
       "      <td>49.0</td>\n",
       "      <td>300.0</td>\n",
       "      <td>17.0</td>\n",
       "      <td>2021-11-01 08:05:07.798438144-05:00</td>\n",
       "      <td>8</td>\n",
       "      <td>1</td>\n",
       "      <td>0</td>\n",
       "      <td>Monday</td>\n",
       "    </tr>\n",
       "  </tbody>\n",
       "</table>\n",
       "</div>"
      ],
      "text/plain": [
       "                                  name  current_capacity  total_capacity  \\\n",
       "20   East Fitness (Strength Equipment)               0.0           300.0   \n",
       "48   East Fitness (Strength Equipment)               9.0           300.0   \n",
       "76   East Fitness (Strength Equipment)              37.0           300.0   \n",
       "104  East Fitness (Strength Equipment)              40.0           300.0   \n",
       "132  East Fitness (Strength Equipment)              49.0           300.0   \n",
       "\n",
       "     percent_capacity                           date_time  hour  day  weekday  \\\n",
       "20                3.0 2021-11-01 04:05:07.539876608-05:00     4    1        0   \n",
       "48                3.0 2021-11-01 05:05:07.283586816-05:00     5    1        0   \n",
       "76               13.0 2021-11-01 06:05:07.473886464-05:00     6    1        0   \n",
       "104              14.0 2021-11-01 07:05:10.592350464-05:00     7    1        0   \n",
       "132              17.0 2021-11-01 08:05:07.798438144-05:00     8    1        0   \n",
       "\n",
       "    weekday_name  \n",
       "20        Monday  \n",
       "48        Monday  \n",
       "76        Monday  \n",
       "104       Monday  \n",
       "132       Monday  "
      ]
     },
     "execution_count": 196,
     "metadata": {},
     "output_type": "execute_result"
    }
   ],
   "source": [
    "eastdf = df.loc[df[\"name\"] == 'East Fitness (Strength Equipment)'].copy()\n",
    "eastdf.loc[:,'hour'] = eastdf.date_time.dt.hour\n",
    "eastdf.loc[:,'day'] = eastdf.date_time.dt.day\n",
    "eastdf.loc[:,'weekday'] = eastdf.date_time.dt.weekday\n",
    "eastdf.loc[:,'weekday_name'] = eastdf.date_time.dt.day_name()\n",
    "\n",
    "\n",
    "eastdf.head()"
   ]
  },
  {
   "cell_type": "code",
   "execution_count": 187,
   "id": "5ed74235",
   "metadata": {},
   "outputs": [
    {
     "data": {
      "text/plain": [
       "<AxesSubplot:xlabel='weekday'>"
      ]
     },
     "execution_count": 187,
     "metadata": {},
     "output_type": "execute_result"
    },
    {
     "data": {
      "image/png": "[encoded data removed]",
      "text/plain": [
       "<Figure size 432x288 with 1 Axes>"
      ]
     },
     "metadata": {
      "needs_background": "light"
     },
     "output_type": "display_data"
    }
   ],
   "source": [
    "weekday = eastdf.groupby('weekday').median().reset_index()\n",
    "weekday.plot(x='weekday', y='current_capacity')"
   ]
  },
  {
   "cell_type": "code",
   "execution_count": 210,
   "id": "f3cb5760",
   "metadata": {
    "scrolled": true
   },
   "outputs": [
    {
     "data": {
      "image/png": "[encoded data removed]",
      "text/plain": [
       "<Figure size 432x288 with 1 Axes>"
      ]
     },
     "metadata": {
      "needs_background": "light"
     },
     "output_type": "display_data"
    }
   ],
   "source": [
    "plot = eastdf.boxplot('current_capacity',by='weekday')\n",
    "plot = plot.set_xticklabels([\"Mon\",\"Tue\",\"Wed\",\"Thr\",\"Fri\",\"Sat\",\"Sun\"])"
   ]
  },
  {
   "cell_type": "code",
   "execution_count": 188,
   "id": "5bcc4919",
   "metadata": {},
   "outputs": [
    {
     "data": {
      "text/plain": [
       "<AxesSubplot:title={'center':'current_capacity'}, xlabel='hour'>"
      ]
     },
     "execution_count": 188,
     "metadata": {},
     "output_type": "execute_result"
    },
    {
     "data": {
      "image/png": "[encoded data removed]",
      "text/plain": [
       "<Figure size 432x288 with 1 Axes>"
      ]
     },
     "metadata": {
      "needs_background": "light"
     },
     "output_type": "display_data"
    }
   ],
   "source": [
    "# hour = eastdf.groupby('hour')\n",
    "# hour.plot(x='hour', y='current_capacity')\n",
    "eastdf.boxplot('current_capacity',by='hour')"
   ]
  }
 ],
 "metadata": {
  "kernelspec": {
   "display_name": "Python 3 (ipykernel)",
   "language": "python",
   "name": "python3"
  },
  "language_info": {
   "codemirror_mode": {
    "name": "ipython",
    "version": 3
   },
   "file_extension": ".py",
   "mimetype": "text/x-python",
   "name": "python",
   "nbconvert_exporter": "python",
   "pygments_lexer": "ipython3",
   "version": "3.9.5"
  }
 },
 "nbformat": 4,
 "nbformat_minor": 5
}
